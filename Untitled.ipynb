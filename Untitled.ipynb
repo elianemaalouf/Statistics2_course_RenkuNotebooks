{
 "cells": [
  {
   "cell_type": "code",
   "execution_count": 5,
   "id": "937c515d",
   "metadata": {
    "hide_input": true,
    "init_cell": true,
    "scrolled": false
   },
   "outputs": [],
   "source": [
    "import ipywidgets as widgets\n"
   ]
  },
  {
   "cell_type": "markdown",
   "id": "406519bc",
   "metadata": {
    "hide_input": true
   },
   "source": [
    "Pour chacun des exercices ci-dessous vous pouvez directement donner votre réponse et valider si elle est correct ou vous pouvez procéder à résoudre les questions étape par étape pour décortiquer l'intuition qui se cache derrière la solution. "
   ]
  },
  {
   "cell_type": "markdown",
   "id": "569abade",
   "metadata": {
    "hide_input": true
   },
   "source": [
    "# Exercice 1  \n",
    "De combien de façons peut-on répondre à un QCM composé de 10 questions s’il y a 5 suggestions à chaque question et qu’il n’est possible d’en choisir qu’une seule par question ?"
   ]
  },
  {
   "cell_type": "code",
   "execution_count": null,
   "id": "ec5c8945",
   "metadata": {},
   "outputs": [],
   "source": []
  },
  {
   "cell_type": "code",
   "execution_count": null,
   "id": "122a09aa",
   "metadata": {
    "scrolled": true,
    "solution": "hidden"
   },
   "outputs": [],
   "source": [
    "print('Solution')"
   ]
  },
  {
   "cell_type": "markdown",
   "id": "7f66d12a",
   "metadata": {},
   "source": [
    "# Exercice 2  \n",
    "Un marchand de glaces propose à ses clients une palette de 10 arômes différents et la possibilité de choisir une glace selon un agencement à une, deux ou trois boules placées verticalement. Combien de glaces différentes le marchand propose-t-il si une glace ne peut pas comporter deux boules du même arôme ?"
   ]
  },
  {
   "cell_type": "markdown",
   "id": "9288ef76",
   "metadata": {},
   "source": [
    "# Exercice 3"
   ]
  },
  {
   "cell_type": "code",
   "execution_count": null,
   "id": "0a5610e2-0f2b-4892-b1fd-1e8ea4ec39fe",
   "metadata": {
    "tags": []
   },
   "outputs": [],
   "source": [
    "import ipywidgets as widgets\n",
    "\n",
    "slider = widgets.FloatSlider(description='$x$')\n",
    "text = widgets.FloatText(disabled=True, description='$x^2$')\n",
    "\n",
    "def compute(*ignore):\n",
    "    text.value = str(slider.value ** 2)\n",
    "\n",
    "slider.observe(compute, 'value')\n",
    "\n",
    "slider.value = 4\n",
    "\n",
    "widgets.VBox([slider, text])"
   ]
  }
 ],
 "metadata": {
  "kernelspec": {
   "display_name": "Python 3 (ipykernel)",
   "language": "python",
   "name": "python3"
  },
  "language_info": {
   "codemirror_mode": {
    "name": "ipython",
    "version": 3
   },
   "file_extension": ".py",
   "mimetype": "text/x-python",
   "name": "python",
   "nbconvert_exporter": "python",
   "pygments_lexer": "ipython3",
   "version": "3.9.6"
  },
  "toc": {
   "base_numbering": 1,
   "nav_menu": {},
   "number_sections": true,
   "sideBar": true,
   "skip_h1_title": false,
   "title_cell": "Table of Contents",
   "title_sidebar": "Contents",
   "toc_cell": false,
   "toc_position": {
    "height": "calc(100% - 180px)",
    "left": "10px",
    "top": "150px",
    "width": "220px"
   },
   "toc_section_display": true,
   "toc_window_display": true
  }
 },
 "nbformat": 4,
 "nbformat_minor": 5
}
