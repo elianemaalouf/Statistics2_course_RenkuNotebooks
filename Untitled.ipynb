{
 "cells": [
  {
   "cell_type": "code",
   "execution_count": 2,
   "id": "4c94cda9",
   "metadata": {},
   "outputs": [],
   "source": [
    "import ipywidgets as widgets"
   ]
  },
  {
   "cell_type": "markdown",
   "id": "569abade",
   "metadata": {},
   "source": [
    "# Exercice 1"
   ]
  },
  {
   "cell_type": "markdown",
   "id": "4027399d",
   "metadata": {},
   "source": [
    "```{toggle}\n",
    "De combien de façons peut-on répondre à un QCM composé de 10 questions s’il y a 5 suggestions à chaque question et qu’il n’est possible d’en choisir qu’une seule par question ?\n",
    "```"
   ]
  },
  {
   "cell_type": "code",
   "execution_count": 7,
   "id": "eb290bc6",
   "metadata": {},
   "outputs": [
    {
     "data": {
      "application/vnd.jupyter.widget-view+json": {
       "model_id": "3679969f5bfa42d8872b4fef4b0a4f66",
       "version_major": 2,
       "version_minor": 0
      },
      "text/plain": [
       "Accordion(children=(Text(value='De combien de façons peut-on répondre à un QCM composé de 10 questions s’il y …"
      ]
     },
     "metadata": {},
     "output_type": "display_data"
    }
   ],
   "source": [
    "ex1_text = widgets.Text()\n",
    "ex1_text.value = \"De combien de façons peut-on répondre à un QCM composé de 10 questions s’il y a 5 suggestions à chaque question et qu’il n’est possible d’en choisir qu’une seule par question ?\"\n",
    "accordion = widgets.Accordion(children=[ex1_text], titles=(''))\n",
    "display(accordion)"
   ]
  },
  {
   "cell_type": "code",
   "execution_count": 30,
   "id": "0a5610e2-0f2b-4892-b1fd-1e8ea4ec39fe",
   "metadata": {
    "tags": []
   },
   "outputs": [
    {
     "data": {
      "application/vnd.jupyter.widget-view+json": {
       "model_id": "3c769cf013b845c2938040e0fc59734c",
       "version_major": 2,
       "version_minor": 0
      },
      "text/plain": [
       "VBox(children=(FloatSlider(value=4.0, description='$x$'), FloatText(value=16.0, description='$x^2$', disabled=…"
      ]
     },
     "metadata": {},
     "output_type": "display_data"
    }
   ],
   "source": [
    "import ipywidgets as widgets\n",
    "\n",
    "slider = widgets.FloatSlider(description='$x$')\n",
    "text = widgets.FloatText(disabled=True, description='$x^2$')\n",
    "\n",
    "def compute(*ignore):\n",
    "    text.value = str(slider.value ** 2)\n",
    "\n",
    "slider.observe(compute, 'value')\n",
    "\n",
    "slider.value = 4\n",
    "\n",
    "widgets.VBox([slider, text])"
   ]
  },
  {
   "cell_type": "markdown",
   "id": "be244ef0-1de6-4e4f-a3a3-e1f01fe7d7b1",
   "metadata": {},
   "source": [
    "# WAW "
   ]
  },
  {
   "cell_type": "code",
   "execution_count": null,
   "id": "b68c79df-857d-48a5-9cea-5ae8ca688270",
   "metadata": {
    "tags": []
   },
   "outputs": [],
   "source": [
    "a = widgets.IntSlider(description='a')\n",
    "b = widgets.IntSlider(description='b')\n",
    "c = widgets.IntSlider(description='c')\n",
    "def f(a, b, c):\n",
    "    print('{}*{}*{}={}'.format(a, b, c, a*b*c))\n",
    "\n",
    "out = widgets.interactive_output(f, {'a': a, 'b': b, 'c': c})\n",
    "\n",
    "widgets.HBox([widgets.VBox([a, b, c]), out])"
   ]
  },
  {
   "cell_type": "markdown",
   "id": "b2eb733b-7118-44d7-bf26-0ce53c71ac87",
   "metadata": {},
   "source": [
    "# Exercice 1 "
   ]
  },
  {
   "cell_type": "markdown",
   "id": "e999d77b-47d4-4f78-bce2-a3dac238847d",
   "metadata": {
    "tags": [
     "toggle"
    ]
   },
   "source": [
    "De combien de façons peut-on répondre à un QCM composé de 10 questions s’il y a 5 suggestions à chaque question et qu’il n’est possible d’en choisir qu’une seule par question ?"
   ]
  },
  {
   "cell_type": "code",
   "execution_count": 23,
   "id": "80ddc2e0-6f65-413a-8ca7-f38b99539e25",
   "metadata": {
    "tags": []
   },
   "outputs": [
    {
     "name": "stdout",
     "output_type": "stream",
     "text": [
      "test\n"
     ]
    }
   ],
   "source": [
    "print(\"test\")"
   ]
  },
  {
   "cell_type": "code",
   "execution_count": null,
   "id": "374bb3ef-6c4b-40de-b667-f9833b89c6f3",
   "metadata": {
    "tags": [
     "hide-output"
    ]
   },
   "outputs": [],
   "source": []
  }
 ],
 "metadata": {
  "kernelspec": {
   "display_name": "Python 3 (ipykernel)",
   "language": "python",
   "name": "python3"
  },
  "language_info": {
   "codemirror_mode": {
    "name": "ipython",
    "version": 3
   },
   "file_extension": ".py",
   "mimetype": "text/x-python",
   "name": "python",
   "nbconvert_exporter": "python",
   "pygments_lexer": "ipython3",
   "version": "3.9.6"
  }
 },
 "nbformat": 4,
 "nbformat_minor": 5
}
