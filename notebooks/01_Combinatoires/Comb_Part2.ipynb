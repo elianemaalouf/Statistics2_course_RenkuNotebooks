{
 "cells": [
  {
   "cell_type": "code",
   "execution_count": 851,
   "id": "937c515d",
   "metadata": {
    "hide_input": false,
    "init_cell": true,
    "scrolled": false
   },
   "outputs": [],
   "source": [
    "import ipywidgets as widgets\n",
    "import fn as fn \n",
    "from IPython.display import display, clear_output, Image, Latex\n",
    "import asyncio\n"
   ]
  },
  {
   "cell_type": "markdown",
   "id": "406519bc",
   "metadata": {
    "hide_input": true
   },
   "source": [
    "Pour chacun des exercices ci-dessous vous pouvez directement donner votre réponse et valider si elle est correcte ou vous pouvez procéder à résoudre les questions étape par étape pour décortiquer l'intuition qui se cache derrière la solution. "
   ]
  },
  {
   "cell_type": "markdown",
   "id": "7f66d12a",
   "metadata": {
    "hide_input": true
   },
   "source": [
    "# Exercice 6  \n",
    "Dans chacune des situations suivantes il faudra, en premier, identifier le type de disposition en question et par la suite en dénombrer les possibilités. "
   ]
  },
  {
   "cell_type": "markdown",
   "id": "3f3e242a",
   "metadata": {},
   "source": [
    "## Combien de mots différents peut-on former avec les lettres du mot COMBINATOIRE ?"
   ]
  },
  {
   "cell_type": "code",
   "execution_count": 852,
   "id": "3fa215e8",
   "metadata": {
    "init_cell": true,
    "scrolled": true
   },
   "outputs": [
    {
     "name": "stdout",
     "output_type": "stream",
     "text": [
      "De quelle type de disposition s'agit-il?\n"
     ]
    },
    {
     "data": {
      "application/vnd.jupyter.widget-view+json": {
       "model_id": "7e32c7fa932241408110e3763044da64",
       "version_major": 2,
       "version_minor": 0
      },
      "text/plain": [
       "Dropdown(description='Réponse:', index=6, options=('Permutation sans répétitions', 'Permutation avec répétitio…"
      ]
     },
     "metadata": {},
     "output_type": "display_data"
    }
   ],
   "source": [
    "print(\"De quelle type de disposition s'agit-il?\")\n",
    "\n",
    "user_type_1_ex6 = widgets.Dropdown(\n",
    "    options=['Permutation sans répétitions', 'Permutation avec répétitions', 'Arrangement sans répétition', 'Arrangement avec répétition', 'Combinaison sans répétitions', 'Combinaison avec répétitions', 'aucune'],\n",
    "    value='aucune',\n",
    "    description='Réponse:',\n",
    "    disabled=False,\n",
    ")\n",
    "\n",
    "def on_change_1_ex6(change):\n",
    "    global n_choice\n",
    "    if change['new'] == 'Permutation avec répétitions':\n",
    "        print(\"----------------------------------\")\n",
    "        print(\"Votre réponse '{}' est correcte!\".format(change['new']))\n",
    "    else:\n",
    "        print(\"----------------------------------\")\n",
    "        print(\"Votre réponse '{}' n'est pas correcte!! \\n \\\n",
    "         hint: est-ce que la taille de notre disposition est la même que l'ensemble d'où on tire les éléments? \\n \\\n",
    "         Est-ce que l'ensembe contient des éléments qui se répètent? \\n\\\n",
    "         Est-ce que l'ordre des éléments dans notre disposition est important?\".format(change['new']))\n",
    "    \n",
    "display(user_type_1_ex6)\n",
    "user_type_1_ex6.observe(on_change_1_ex6, names = 'value')"
   ]
  },
  {
   "cell_type": "code",
   "execution_count": 853,
   "id": "bcca18ca",
   "metadata": {
    "init_cell": true,
    "scrolled": true,
    "solution2": "hidden",
    "solution2_first": true
   },
   "outputs": [
    {
     "name": "stdout",
     "output_type": "stream",
     "text": [
      "Combien de disposition de ce type pourrons-nous former?\n"
     ]
    },
    {
     "data": {
      "application/vnd.jupyter.widget-view+json": {
       "model_id": "ea8ed6f02a2d486796a42e92c6162902",
       "version_major": 2,
       "version_minor": 0
      },
      "text/plain": [
       "HBox(children=(IntText(value=0, description='Réponse:'), Button(description='Soumettre', icon='check', style=B…"
      ]
     },
     "metadata": {},
     "output_type": "display_data"
    }
   ],
   "source": [
    "print(\"Combien de disposition de ce type pourrons-nous former?\")\n",
    "\n",
    "n_ex6_1 = 12 \n",
    "reps_n_ex6_1 = [2, 2]\n",
    "counter_1_ex6 = 0\n",
    "\n",
    "ex6_q1_answer = widgets.IntText(\n",
    "    value= 0,\n",
    "    description='Réponse:',\n",
    "    disabled=False\n",
    ")\n",
    "\n",
    "button = widgets.Button(\n",
    "    description='Soumettre',\n",
    "    disabled=False,\n",
    "    button_style='',\n",
    "    tooltip='Click me',\n",
    "    icon='check' \n",
    ")\n",
    "\n",
    "\n",
    "def test_1_ex6(change):\n",
    "    global counter_1_ex6 \n",
    "    counter_1_ex6 = counter_1_ex6 + 1\n",
    "    value = ex6_q1_answer.value\n",
    "    correct_value = fn.verify_ex6_1(n_ex6_1, reps_n_ex6_1)\n",
    "    if value == correct_value:\n",
    "        print(\"----------------------------------\")\n",
    "        print(\"Tetantive {}: Bravo! votre réponse est correcte :)\".format(counter_1_ex6))\n",
    "    else:\n",
    "        print(\"----------------------------------\")\n",
    "        print(\"Tetantive {}:Malheureusement, la réponse soumise n'est pas correcte. \\n \\\n",
    "       Cliquez sur 'Show solution' pour quelques indices\".format(counter_1_ex6))\n",
    "\n",
    "\n",
    "display(widgets.HBox([ex6_q1_answer, button]))\n",
    "\n",
    "button.on_click(test_1_ex6)"
   ]
  },
  {
   "cell_type": "code",
   "execution_count": 854,
   "id": "e29b1f1a",
   "metadata": {
    "hide_input": true,
    "init_cell": true,
    "scrolled": false,
    "solution2": "hidden"
   },
   "outputs": [
    {
     "name": "stdout",
     "output_type": "stream",
     "text": [
      "Comme il s'agit d'une permutations avec répétitions on doit procéder en deux étapes. \n",
      "\n",
      "1. Combien de permutations SANS répétitions pourrons-nous former avec les 12 lettres du mot COMBINATOIRE? \n",
      " Imaginez ici que toutes les lettres étaient différentes et on veut dénombrer le nombre de mots qu'on peut former \n",
      " en permuttant ces 12 lettres.\n"
     ]
    },
    {
     "data": {
      "application/vnd.jupyter.widget-view+json": {
       "model_id": "518abef4bda2482982113926eaefaccb",
       "version_major": 2,
       "version_minor": 0
      },
      "text/plain": [
       "HBox(children=(IntText(value=0, description='Réponse:'), Button(description='Soumettre', icon='check', style=B…"
      ]
     },
     "metadata": {},
     "output_type": "display_data"
    }
   ],
   "source": [
    "print(\"Comme il s'agit d'une permutations avec répétitions on doit procéder en deux étapes. \\n\")\n",
    "\n",
    "print(\"1. Combien de permutations SANS répétitions pourrons-nous former avec les 12 lettres du mot COMBINATOIRE? \\n \\\n",
    "Imaginez ici que toutes les lettres étaient différentes et on veut dénombrer le nombre de mots qu'on peut former \\n \\\n",
    "en permuttant ces 12 lettres.\")\n",
    "\n",
    "\n",
    "ex6_q1_1_answer = widgets.IntText(\n",
    "    value= 0,\n",
    "    description='Réponse:',\n",
    "    disabled=False\n",
    ")\n",
    "\n",
    "button = widgets.Button(\n",
    "    description='Soumettre',\n",
    "    disabled=False,\n",
    "    button_style='',\n",
    "    tooltip='Click me',\n",
    "    icon='check' \n",
    ")\n",
    "\n",
    "counter_1_1_ex6 = 0\n",
    "def test_1_1_ex6(change):\n",
    "    global counter_1_1_ex6 \n",
    "    counter_1_1_ex6 = counter_1_1_ex6 + 1\n",
    "    value = ex6_q1_1_answer.value\n",
    "    correct_value = fn.permutationNoRep(n)\n",
    "    if value == correct_value:\n",
    "        print(\"----------------------------------\")\n",
    "        print(\"Tetantive {}: Bravo! votre réponse est correcte :)\".format(counter_1_1_ex6))\n",
    "    else:\n",
    "        print(\"----------------------------------\")\n",
    "        print(\"Tetantive {}:Malheureusement, la réponse soumise n'est pas correcte. \\n \\\n",
    "       hint: il y a 12 possibilités pour la 1ere lettre ET 11 pour la 2eme lettre ET 10 pour la 3eme, etc. \".format(counter_1_1_ex6))\n",
    "\n",
    "\n",
    "display(widgets.HBox([ex6_q1_1_answer, button]))\n",
    "\n",
    "button.on_click(test_1_1_ex6)"
   ]
  },
  {
   "cell_type": "code",
   "execution_count": 855,
   "id": "52356b1c",
   "metadata": {
    "hide_input": true,
    "init_cell": true,
    "scrolled": true,
    "solution2": "hidden"
   },
   "outputs": [
    {
     "name": "stdout",
     "output_type": "stream",
     "text": [
      "2. Les lettres O et I se répètent chacune 2 fois dans le mot COMBINATOIRE. \n",
      " On doit prendre cela en compte pour ne pas compter à double. Si on permutte les deux O entre elle ou les deux I entre elles, \n",
      " on ne change pas le mot qui en sort. \n",
      "\n",
      "Quelle est le nombre total de permutations de O ET de I que nous devrons prendre en compte?\n"
     ]
    },
    {
     "data": {
      "application/vnd.jupyter.widget-view+json": {
       "model_id": "03ddc82e214b4e77a7c518215748f9e4",
       "version_major": 2,
       "version_minor": 0
      },
      "text/plain": [
       "HBox(children=(IntText(value=0, description='Réponse:'), Button(description='Soumettre', icon='check', style=B…"
      ]
     },
     "metadata": {},
     "output_type": "display_data"
    }
   ],
   "source": [
    "print(\"2. Les lettres O et I se répètent chacune 2 fois dans le mot COMBINATOIRE. \\n \\\n",
    "On doit prendre cela en compte pour ne pas compter à double. Si on permutte les deux O entre elle ou les deux I entre elles, \\n \\\n",
    "on ne change pas le mot qui en sort. \\n\")\n",
    "\n",
    "print(\"Quelle est le nombre total de permutations de O ET de I que nous devrons prendre en compte?\")\n",
    "\n",
    "\n",
    "ex6_q1_2_answer = widgets.IntText(\n",
    "    value= 0,\n",
    "    description='Réponse:',\n",
    "    disabled=False\n",
    ")\n",
    "\n",
    "button = widgets.Button(\n",
    "    description='Soumettre',\n",
    "    disabled=False,\n",
    "    button_style='',\n",
    "    tooltip='Click me',\n",
    "    icon='check' \n",
    ")\n",
    "\n",
    "counter_1_2_ex6 = 0\n",
    "def test_1_2_ex6(change):\n",
    "    global counter_1_2_ex6 \n",
    "    counter_1_2_ex6 = counter_1_2_ex6 + 1\n",
    "    value = ex6_q1_2_answer.value\n",
    "    correct_value = 4\n",
    "    if value == correct_value:\n",
    "        print(\"----------------------------------\")\n",
    "        print(\"Tetantive {}: Bravo! votre réponse est correcte :)\".format(counter_1_2_ex6))\n",
    "    else:\n",
    "        print(\"----------------------------------\")\n",
    "        print(\"Tetantive {}:Malheureusement, la réponse soumise n'est pas correcte. \\n \\\n",
    "       hint: de combien de permutations des O pourrons-nous faire ET combien de permutations des I pourrons-nous faire? \".format(counter_1_1_ex6))\n",
    "\n",
    "\n",
    "display(widgets.HBox([ex6_q1_2_answer, button]))\n",
    "\n",
    "button.on_click(test_1_2_ex6)"
   ]
  },
  {
   "cell_type": "code",
   "execution_count": 856,
   "id": "56e9c4e9",
   "metadata": {
    "hide_input": true,
    "init_cell": true,
    "solution2": "hidden"
   },
   "outputs": [
    {
     "name": "stdout",
     "output_type": "stream",
     "text": [
      "Comment on enlève depuis le nombre total des permutations SANS répétitions, les permutations des O et des I?\n"
     ]
    },
    {
     "data": {
      "application/vnd.jupyter.widget-view+json": {
       "model_id": "65777a727eba46969bc94d8604858acb",
       "version_major": 2,
       "version_minor": 0
      },
      "text/plain": [
       "Dropdown(description='Réponse:', index=4, options=('Soustraction', 'Division', 'Addition', 'Multiplication', '…"
      ]
     },
     "metadata": {},
     "output_type": "display_data"
    }
   ],
   "source": [
    "print(\"Comment on enlève depuis le nombre total des permutations SANS répétitions, les permutations des O et des I?\")\n",
    "\n",
    "user_6_1_3_ex5 = widgets.Dropdown(\n",
    "    options=['Soustraction', 'Division', 'Addition', 'Multiplication', 'aucune'],\n",
    "    value='aucune',\n",
    "    description='Réponse:',\n",
    "    disabled=False,\n",
    ")\n",
    "\n",
    "def on_change_6_1_3_ex5(change):\n",
    "    global n_choice\n",
    "    if change['new'] == 'Division':\n",
    "        print(\"----------------------------------\")\n",
    "        print(\"Votre réponse '{}' est correcte! Une illustration d'un exemple détaillé est à votre disposition ci-dessous.\".format(change['new']))\n",
    "    else:\n",
    "        print(\"----------------------------------\")\n",
    "        print(\"Votre réponse '{}' n'est pas correcte!! \\n \\\n",
    "         hint: Jetez un coup d'oeil sur l'illustration ci-dessous pour un exemple détaillé.\".format(change['new']))\n",
    "    \n",
    "display(user_6_1_3_ex5)\n",
    "user_6_1_3_ex5.observe(on_change_6_1_3_ex5, names = 'value')"
   ]
  },
  {
   "cell_type": "code",
   "execution_count": 857,
   "id": "2a7123fc",
   "metadata": {
    "hide_input": true,
    "init_cell": true,
    "scrolled": false,
    "solution2": "hidden"
   },
   "outputs": [
    {
     "data": {
      "application/vnd.jupyter.widget-view+json": {
       "model_id": "c3c094e27f964222beb6e24a02c29492",
       "version_major": 2,
       "version_minor": 0
      },
      "text/plain": [
       "Button(description='Illustration', icon='check', style=ButtonStyle(), tooltip=\"Clicker pour afficher le reste …"
      ]
     },
     "metadata": {},
     "output_type": "display_data"
    }
   ],
   "source": [
    "show_more_button_1_ex6 = widgets.Button(\n",
    "    value=False,\n",
    "    description=\"Illustration\",\n",
    "    disabled=False,\n",
    "    button_style='',\n",
    "    tooltip=\"Clicker pour afficher le reste de l'explication\",\n",
    "    icon='check' \n",
    ")\n",
    "\n",
    "\n",
    "def show_more_button_onclick_1_ex6(change):\n",
    "     \n",
    "    display(Image(\"./img/ex6.png\"))\n",
    "\n",
    "    \n",
    "\n",
    "display(show_more_button_1_ex6)\n",
    "show_more_button_1_ex6.on_click(show_more_button_onclick_1_ex6)\n"
   ]
  },
  {
   "cell_type": "code",
   "execution_count": 858,
   "id": "1417c288",
   "metadata": {
    "init_cell": true,
    "solution2": "hidden"
   },
   "outputs": [
    {
     "name": "stdout",
     "output_type": "stream",
     "text": [
      "Revenez au début de la question pour ressoumettre votre réponse!\n"
     ]
    }
   ],
   "source": [
    "print(\"Revenez au début de la question pour ressoumettre votre réponse!\")"
   ]
  },
  {
   "cell_type": "markdown",
   "id": "ff3a2992",
   "metadata": {},
   "source": [
    "## On dispose d’autant de lettres que l’on veut parmi A, C, E, I, N, S, T. Combien de mots de 5 lettres peut-on alors écrire ?"
   ]
  },
  {
   "cell_type": "code",
   "execution_count": 859,
   "id": "9d7f0b06",
   "metadata": {
    "init_cell": true,
    "scrolled": true
   },
   "outputs": [
    {
     "name": "stdout",
     "output_type": "stream",
     "text": [
      "De quelle type de disposition s'agit-il?\n"
     ]
    },
    {
     "data": {
      "application/vnd.jupyter.widget-view+json": {
       "model_id": "4ee156c2cf844243a7a91c469a400d54",
       "version_major": 2,
       "version_minor": 0
      },
      "text/plain": [
       "Dropdown(description='Réponse:', index=6, options=('Permutation sans répétitions', 'Permutation avec répétitio…"
      ]
     },
     "metadata": {},
     "output_type": "display_data"
    }
   ],
   "source": [
    "print(\"De quelle type de disposition s'agit-il?\")\n",
    "\n",
    "user_type_2_ex6= widgets.Dropdown(\n",
    "    options=['Permutation sans répétitions', 'Permutation avec répétitions', 'Arrangement sans répétition', 'Arrangement avec répétition', 'Combinaison sans répétitions', 'Combinaison avec répétitions', 'aucune'],\n",
    "    value='aucune',\n",
    "    description='Réponse:',\n",
    "    disabled=False,\n",
    ")\n",
    "\n",
    "def on_change_2_ex6(change):\n",
    "    if change['new'] == 'Arrangement avec répétition':\n",
    "        print(\"----------------------------------\")\n",
    "        print(\"Votre réponse '{}' est correcte!\".format(change['new']))\n",
    "    else:\n",
    "        print(\"----------------------------------\")\n",
    "        print(\"Votre réponse '{}' n'est pas correcte!! \\n \\\n",
    "         hint: est-ce que la taille de notre disposition est la même que l'ensemble d'où on tire les éléments? \\n \\\n",
    "         Est-ce que l'ensembe contient des éléments qui se répètent? \\n\\\n",
    "         Est-ce que l'ordre des éléments dans notre disposition est important?\".format(change['new']))\n",
    "        \n",
    "display(user_type_2_ex6)\n",
    "user_type_2_ex6.observe(on_change_2_ex6, names = 'value')"
   ]
  },
  {
   "cell_type": "code",
   "execution_count": 860,
   "id": "56da9fd9",
   "metadata": {
    "init_cell": true,
    "scrolled": true,
    "solution2": "hidden",
    "solution2_first": true
   },
   "outputs": [
    {
     "name": "stdout",
     "output_type": "stream",
     "text": [
      "Combien de disposition de ce type pourrons-nous former?\n"
     ]
    },
    {
     "data": {
      "application/vnd.jupyter.widget-view+json": {
       "model_id": "1af10f996bc04f74bb23e073303057fd",
       "version_major": 2,
       "version_minor": 0
      },
      "text/plain": [
       "HBox(children=(IntText(value=0, description='Réponse:'), Button(description='Soumettre', icon='check', style=B…"
      ]
     },
     "metadata": {},
     "output_type": "display_data"
    }
   ],
   "source": [
    "print(\"Combien de disposition de ce type pourrons-nous former?\")\n",
    "\n",
    "n_ex6_2 = 7 \n",
    "k_ex6_2 = 5\n",
    "\n",
    "counter_2_ex6 = 0\n",
    "\n",
    "ex6_q2_answer = widgets.IntText(\n",
    "    value= 0,\n",
    "    description='Réponse:',\n",
    "    disabled=False\n",
    ")\n",
    "\n",
    "button = widgets.Button(\n",
    "    description='Soumettre',\n",
    "    disabled=False,\n",
    "    button_style='',\n",
    "    tooltip='Click me',\n",
    "    icon='check' \n",
    ")\n",
    "\n",
    "\n",
    "def test_2_ex6(change):\n",
    "    global counter_2_ex6 \n",
    "    counter_2_ex6 = counter_2_ex6 + 1\n",
    "    value = ex6_q2_answer.value\n",
    "    correct_value = fn.arrangementRep(n_ex6_2, k_ex6_2)\n",
    "    if value == correct_value:\n",
    "        print(\"----------------------------------\")\n",
    "        print(\"Tetantive {}: Bravo! votre réponse est correcte :)\".format(counter_2_ex6))\n",
    "    else:\n",
    "        print(\"----------------------------------\")\n",
    "        print(\"Tetantive {}:Malheureusement, la réponse soumise n'est pas correcte. \\n \\\n",
    "       Cliquez sur 'Show solution' pour quelques indices\".format(counter_2_ex6))\n",
    "\n",
    "\n",
    "display(widgets.HBox([ex6_q2_answer, button]))\n",
    "\n",
    "button.on_click(test_2_ex6)"
   ]
  },
  {
   "cell_type": "code",
   "execution_count": 861,
   "id": "bcadd5e7",
   "metadata": {
    "init_cell": true,
    "scrolled": false,
    "solution2": "hidden"
   },
   "outputs": [
    {
     "name": "stdout",
     "output_type": "stream",
     "text": [
      "Quelle est la taille, k, de notre disposition?\n",
      "Quelle est la taille, n, de l'ensemble depuis lequel on tire les éléments?\n"
     ]
    },
    {
     "data": {
      "application/vnd.jupyter.widget-view+json": {
       "model_id": "e0b86648fa534df484804658baad8ee3",
       "version_major": 2,
       "version_minor": 0
      },
      "text/plain": [
       "HBox(children=(IntText(value=0, description='k:'), IntText(value=0, description='n:'), Button(description='Sou…"
      ]
     },
     "metadata": {},
     "output_type": "display_data"
    }
   ],
   "source": [
    "print(\"Quelle est la taille, k, de notre disposition?\")\n",
    "print(\"Quelle est la taille, n, de l'ensemble depuis lequel on tire les éléments?\")\n",
    "\n",
    "user_k_q2_answer = widgets.IntText(\n",
    "    value= 0,\n",
    "    description='k:',\n",
    "    disabled=False\n",
    ")\n",
    "\n",
    "user_n_q2_answer = widgets.IntText(\n",
    "    value= 0,\n",
    "    description='n:',\n",
    "    disabled=False\n",
    ")\n",
    "\n",
    "button = widgets.Button(\n",
    "    description='Soumettre',\n",
    "    disabled=False,\n",
    "    button_style='',\n",
    "    tooltip='Click me',\n",
    "    icon='check' \n",
    ")\n",
    "\n",
    "counter_2_1_ex6 = 0\n",
    "\n",
    "flag_k = False \n",
    "flag_n = False    \n",
    "    \n",
    "def test_2_1_ex6(change):\n",
    "    global counter_2_1_ex6 \n",
    "    global flag_k\n",
    "    global flag_n\n",
    "    counter_2_1_ex6 = counter_2_1_ex6 + 1\n",
    "    value_k = user_k_q2_answer.value\n",
    "    value_n = user_n_q2_answer.value\n",
    "\n",
    "    if value_k == k_ex6_2 : \n",
    "        flag_k = True\n",
    "    else:\n",
    "        flag_k = False\n",
    "        \n",
    "    if value_n == n_ex6_2 :\n",
    "        flag_n = True \n",
    "    else:\n",
    "        flag_n = False\n",
    "        \n",
    "    if flag_k and flag_n:\n",
    "        print(\"----------------------------------\")\n",
    "        print(\"Tetantive {}: Bravo! vos réponses sont correctes :) \\n \\\n",
    "        On voit que k est plus petit que n, donc il ne peut pas s'agir de permutations.\".format(counter_2_ex6))\n",
    "    else:\n",
    "        print(\"----------------------------------\")\n",
    "        print(\"Tetantive {}:Malheureusement, une ou plusieurs réponses soumises ne sont pas correctes. \\n \\\n",
    "       hint: k est la taille de la disposition, la taille des mots que nous voulons former, \\n \\\n",
    "       n est la taille de l'ensemble des lettres depuis lequel on sélectionne les lettres pour former les mots.\".format(counter_2_ex6))\n",
    "\n",
    "\n",
    "display(widgets.HBox([user_k_q2_answer, user_n_q2_answer, button]))\n",
    "\n",
    "button.on_click(test_2_1_ex6)\n",
    "\n"
   ]
  },
  {
   "cell_type": "code",
   "execution_count": 862,
   "id": "0a68659a",
   "metadata": {
    "init_cell": true,
    "scrolled": true,
    "solution2": "hidden"
   },
   "outputs": [
    {
     "name": "stdout",
     "output_type": "stream",
     "text": [
      "Est-ce que l'ordre est important?\n"
     ]
    },
    {
     "data": {
      "application/vnd.jupyter.widget-view+json": {
       "model_id": "bd46d5707af84c57a82ca64e8e980046",
       "version_major": 2,
       "version_minor": 0
      },
      "text/plain": [
       "Dropdown(description='Réponse:', index=2, options=('Ordre pas important', 'Ordre important', 'aucune'), value=…"
      ]
     },
     "metadata": {},
     "output_type": "display_data"
    }
   ],
   "source": [
    "print(\"Est-ce que l'ordre est important?\")\n",
    "\n",
    "user_ordre_2_2_ex6= widgets.Dropdown(\n",
    "    options=['Ordre pas important', 'Ordre important', 'aucune'],\n",
    "    value='aucune',\n",
    "    description='Réponse:',\n",
    "    disabled=False,\n",
    ")\n",
    "\n",
    "def on_change_2_2_ex6(change):\n",
    "    if change['new'] == 'Ordre important':\n",
    "        print(\"----------------------------------\")\n",
    "        print(\"Votre réponse '{}' est correcte! \\n \\\n",
    "        L'ordre des lettres est important, donc il ne peut pas s'agir de combinaisons.\".format(change['new']))\n",
    "    else:\n",
    "        print(\"----------------------------------\")\n",
    "        print(\"Votre réponse '{}' n'est pas correcte!! \\n \\\n",
    "         hint: est ce que si on change l'ordre des éléments dans cette disposition, on tombe sur une nouvelle disposition? \\n \\\n",
    "         Dans notre cas, les dispositions sont des mots. Si on fixe les lettres, est-ce que si on change l'ordre des lettres,  \\n \\\n",
    "               on tombe sur un nouveau mot?\".format(change['new']))\n",
    "        \n",
    "display(user_ordre_2_2_ex6)\n",
    "user_ordre_2_2_ex6.observe(on_change_2_2_ex6, names = 'value')\n"
   ]
  },
  {
   "cell_type": "code",
   "execution_count": 863,
   "id": "1afa55e8",
   "metadata": {
    "init_cell": true,
    "scrolled": false,
    "solution2": "hidden"
   },
   "outputs": [
    {
     "name": "stdout",
     "output_type": "stream",
     "text": [
      "Est-ce qu'on peut avoir des répétitions? Est ce qu'on peut répéter les lettres au sein d'um même mot?\n"
     ]
    },
    {
     "data": {
      "application/vnd.jupyter.widget-view+json": {
       "model_id": "e69b02fe4d2045d2889b4805c7920fbb",
       "version_major": 2,
       "version_minor": 0
      },
      "text/plain": [
       "Dropdown(description='Réponse:', index=2, options=('Avec répétitions', 'Sans répétitions', 'aucune'), value='a…"
      ]
     },
     "metadata": {},
     "output_type": "display_data"
    }
   ],
   "source": [
    "print(\"Est-ce qu'on peut avoir des répétitions? Est ce qu'on peut répéter les lettres au sein d'um même mot?\")\n",
    "\n",
    "user_ordre_2_3_ex6= widgets.Dropdown(\n",
    "    options=['Avec répétitions', 'Sans répétitions', 'aucune'],\n",
    "    value='aucune',\n",
    "    description='Réponse:',\n",
    "    disabled=False,\n",
    ")\n",
    "\n",
    "def on_change_2_3_ex6(change):\n",
    "    if change['new'] == 'Avec répétitions':\n",
    "        print(\"----------------------------------\")\n",
    "        print(\"Votre réponse '{}' est correcte! \\n \\\n",
    "        Donc il ne peut s'agir que d'arrangement avec répétitions!\".format(change['new']))\n",
    "    else:\n",
    "        print(\"----------------------------------\")\n",
    "        print(\"Votre réponse '{}' n'est pas correcte!! \\n \\\n",
    "         hint: la question nous dit qu' 'On dispose d’autant de lettres que l’on veut parmi A, C, E, I, N, S, T.\".format(change['new']))\n",
    "        \n",
    "display(user_ordre_2_3_ex6)\n",
    "user_ordre_2_3_ex6.observe(on_change_2_3_ex6, names = 'value')"
   ]
  },
  {
   "cell_type": "code",
   "execution_count": 864,
   "id": "7f950095",
   "metadata": {
    "init_cell": true,
    "solution2": "hidden"
   },
   "outputs": [
    {
     "name": "stdout",
     "output_type": "stream",
     "text": [
      "Pour conclure, de combien de manières différentes pourrons-nous choisir la 1ere lettre?\n",
      " ET de combien de manières différentes pourrons-nous choisir la 2eme lettre? ET la 3eme? etc. \n",
      " Comment on combine les possibilités de toutes les lettres? \n",
      "\n",
      "Revenez au début de la question pour resoumettre votre réponse.\n"
     ]
    }
   ],
   "source": [
    "print(\"Pour conclure, de combien de manières différentes pourrons-nous choisir la 1ere lettre?\\n \\\n",
    "ET de combien de manières différentes pourrons-nous choisir la 2eme lettre? ET la 3eme? etc. \\n \\\n",
    "Comment on combine les possibilités de toutes les lettres? \\n\")\n",
    "print(\"Revenez au début de la question pour resoumettre votre réponse.\")"
   ]
  },
  {
   "cell_type": "markdown",
   "id": "7d615445",
   "metadata": {},
   "source": [
    "## Au début d’une partie de baseball, le gérant d’une équipe doit présenter à l’arbitre l’ordre selon lequel ses 9 joueurs se présenteront à la batte. Combien de listes différentes le gérant peut-il remettre à l’arbitre ?"
   ]
  },
  {
   "cell_type": "code",
   "execution_count": 865,
   "id": "032035f8",
   "metadata": {
    "init_cell": true,
    "scrolled": true
   },
   "outputs": [
    {
     "name": "stdout",
     "output_type": "stream",
     "text": [
      "De quelle type de disposition s'agit-il?\n"
     ]
    },
    {
     "data": {
      "application/vnd.jupyter.widget-view+json": {
       "model_id": "2dac0579dd864cf68d058d638e43fb51",
       "version_major": 2,
       "version_minor": 0
      },
      "text/plain": [
       "Dropdown(description='Réponse:', index=6, options=('Permutation sans répétitions', 'Permutation avec répétitio…"
      ]
     },
     "metadata": {},
     "output_type": "display_data"
    }
   ],
   "source": [
    "print(\"De quelle type de disposition s'agit-il?\")\n",
    "\n",
    "user_type_3_ex6= widgets.Dropdown(\n",
    "    options=['Permutation sans répétitions', 'Permutation avec répétitions', 'Arrangement sans répétition', 'Arrangement avec répétition', 'Combinaison sans répétitions', 'Combinaison avec répétitions', 'aucune'],\n",
    "    value='aucune',\n",
    "    description='Réponse:',\n",
    "    disabled=False,\n",
    ")\n",
    "\n",
    "def on_change_3_ex6(change):\n",
    "    if change['new'] == 'Permutation sans répétitions':\n",
    "        print(\"----------------------------------\")\n",
    "        print(\"Votre réponse '{}' est correcte!\".format(change['new']))\n",
    "    else:\n",
    "        print(\"----------------------------------\")\n",
    "        print(\"Votre réponse '{}' n'est pas correcte!! \\n \\\n",
    "         hint: est-ce que la taille de notre disposition est la même que l'ensemble d'où on tire les éléments? \\n \\\n",
    "         Est-ce que l'ensembe contient des éléments qui se répètent? \\n\\\n",
    "         Est-ce que l'ordre des éléments dans notre disposition est important?\".format(change['new']))\n",
    "        \n",
    "display(user_type_3_ex6)\n",
    "user_type_3_ex6.observe(on_change_3_ex6, names = 'value')"
   ]
  },
  {
   "cell_type": "code",
   "execution_count": 866,
   "id": "084748f5",
   "metadata": {
    "init_cell": true,
    "solution2": "hidden",
    "solution2_first": true
   },
   "outputs": [
    {
     "name": "stdout",
     "output_type": "stream",
     "text": [
      "Combien de disposition de ce type pourrons-nous former?\n"
     ]
    },
    {
     "data": {
      "application/vnd.jupyter.widget-view+json": {
       "model_id": "00da05123fbf45e48c7b45c43cbd1d42",
       "version_major": 2,
       "version_minor": 0
      },
      "text/plain": [
       "HBox(children=(IntText(value=0, description='Réponse:'), Button(description='Soumettre', icon='check', style=B…"
      ]
     },
     "metadata": {},
     "output_type": "display_data"
    }
   ],
   "source": [
    "print(\"Combien de disposition de ce type pourrons-nous former?\")\n",
    "\n",
    "n_ex6_3 = 9 \n",
    "k_ex6_3 = 9\n",
    "\n",
    "\n",
    "counter_3_ex6 = 0\n",
    "\n",
    "ex6_q3_answer = widgets.IntText(\n",
    "    value= 0,\n",
    "    description='Réponse:',\n",
    "    disabled=False\n",
    ")\n",
    "\n",
    "button = widgets.Button(\n",
    "    description='Soumettre',\n",
    "    disabled=False,\n",
    "    button_style='',\n",
    "    tooltip='Click me',\n",
    "    icon='check' \n",
    ")\n",
    "\n",
    "\n",
    "def test_3_ex6(change):\n",
    "    global counter_3_ex6 \n",
    "    counter_3_ex6 = counter_3_ex6 + 1\n",
    "    value = ex6_q3_answer.value\n",
    "    correct_value = fn.permutationNoRep(n_ex6_3)\n",
    "    if value == correct_value:\n",
    "        print(\"----------------------------------\")\n",
    "        print(\"Tetantive {}: Bravo! votre réponse est correcte :)\".format(counter_2_ex6))\n",
    "    else:\n",
    "        print(\"----------------------------------\")\n",
    "        print(\"Tetantive {}:Malheureusement, la réponse soumise n'est pas correcte. \\n \\\n",
    "       Cliquez sur 'Show solution' pour quelques indices\".format(counter_2_ex6))\n",
    "\n",
    "\n",
    "display(widgets.HBox([ex6_q3_answer, button]))\n",
    "\n",
    "button.on_click(test_3_ex6)"
   ]
  },
  {
   "cell_type": "code",
   "execution_count": 867,
   "id": "453508b7",
   "metadata": {
    "init_cell": true,
    "solution2": "hidden"
   },
   "outputs": [
    {
     "name": "stdout",
     "output_type": "stream",
     "text": [
      "Nous avons 9 joueurs, tous distincts, pour lesquels nous voulons spécifier en ordre. \n",
      "\n",
      "Quelle est la taille, k, de notre disposition?\n",
      "Quelle est la taille, n, de l'ensemble depuis lequel on tire les éléments?\n"
     ]
    },
    {
     "data": {
      "application/vnd.jupyter.widget-view+json": {
       "model_id": "3b1ffe3dbea64f11bbaac0656d9cb87a",
       "version_major": 2,
       "version_minor": 0
      },
      "text/plain": [
       "HBox(children=(IntText(value=0, description='k:'), IntText(value=0, description='n:'), Button(description='Sou…"
      ]
     },
     "metadata": {},
     "output_type": "display_data"
    }
   ],
   "source": [
    "print(\"Nous avons 9 joueurs, tous distincts, pour lesquels nous voulons spécifier en ordre. \\n\")\n",
    "\n",
    "print(\"Quelle est la taille, k, de notre disposition?\")\n",
    "print(\"Quelle est la taille, n, de l'ensemble depuis lequel on tire les éléments?\")\n",
    "\n",
    "user_k_q3_answer = widgets.IntText(\n",
    "    value= 0,\n",
    "    description='k:',\n",
    "    disabled=False\n",
    ")\n",
    "\n",
    "user_n_q3_answer = widgets.IntText(\n",
    "    value= 0,\n",
    "    description='n:',\n",
    "    disabled=False\n",
    ")\n",
    "\n",
    "button = widgets.Button(\n",
    "    description='Soumettre',\n",
    "    disabled=False,\n",
    "    button_style='',\n",
    "    tooltip='Click me',\n",
    "    icon='check' \n",
    ")\n",
    "\n",
    "counter_3_1_ex6 = 0\n",
    "\n",
    "flag_k_3_1_ex6 = False \n",
    "flag_n_3_1_ex6 = False    \n",
    "    \n",
    "def test_3_1_ex6(change):\n",
    "    global counter_3_1_ex6 \n",
    "    global flag_k_3_1_ex6\n",
    "    global flag_n_3_1_ex6\n",
    "    counter_3_1_ex6 = counter_3_1_ex6 + 1\n",
    "    value_k = user_k_q3_answer.value\n",
    "    value_n = user_n_q3_answer.value\n",
    "\n",
    "    if value_k == k_ex6_3 : \n",
    "        flag_k = True\n",
    "    else:\n",
    "        flag_k = False\n",
    "        \n",
    "    if value_n == n_ex6_3 :\n",
    "        flag_n = True \n",
    "    else:\n",
    "        flag_n = False\n",
    "        \n",
    "    if flag_k and flag_n:\n",
    "        print(\"----------------------------------\")\n",
    "        print(\"Tetantive {}: Bravo! vos réponses sont correctes :) \\n \\\n",
    "        On voit que k est egale à n, donc il s'agit de permutations.\".format(counter_2_ex6))\n",
    "    else:\n",
    "        print(\"----------------------------------\")\n",
    "        print(\"Tetantive {}:Malheureusement, une ou plusieurs réponses soumises ne sont pas correctes. \\n \\\n",
    "       hint: k est la taille de la disposition, la taille du groupement de joueurs à proposer, \\n \\\n",
    "       n est la taille de l'ensemble des joueurs depuis lequel on sélectionne les individus pour composer les groupements.\".format(counter_2_ex6))\n",
    "\n",
    "\n",
    "display(widgets.HBox([user_k_q3_answer, user_n_q3_answer, button]))\n",
    "\n",
    "button.on_click(test_3_1_ex6)\n",
    "\n"
   ]
  },
  {
   "cell_type": "code",
   "execution_count": 868,
   "id": "3d5056c7",
   "metadata": {
    "init_cell": true,
    "solution2": "hidden"
   },
   "outputs": [
    {
     "name": "stdout",
     "output_type": "stream",
     "text": [
      "Est-ce qu'on peut avoir des répétitions? \n",
      " Est-ce qu'on peut proposer le même joueur plusieurs fois au sein de la même formation?\n"
     ]
    },
    {
     "data": {
      "application/vnd.jupyter.widget-view+json": {
       "model_id": "fb83e6c3a35a4596b798a96f0846fde1",
       "version_major": 2,
       "version_minor": 0
      },
      "text/plain": [
       "Dropdown(description='Réponse:', index=2, options=('Avec répétitions', 'Sans répétitions', 'aucune'), value='a…"
      ]
     },
     "metadata": {},
     "output_type": "display_data"
    }
   ],
   "source": [
    "print(\"Est-ce qu'on peut avoir des répétitions? \\n \\\n",
    "Est-ce qu'on peut proposer le même joueur plusieurs fois au sein de la même formation?\")\n",
    "\n",
    "user_ordre_3_3_ex6= widgets.Dropdown(\n",
    "    options=['Avec répétitions', 'Sans répétitions', 'aucune'],\n",
    "    value='aucune',\n",
    "    description='Réponse:',\n",
    "    disabled=False,\n",
    ")\n",
    "\n",
    "def on_change_3_3_ex6(change):\n",
    "    if change['new'] == 'Sans répétitions':\n",
    "        print(\"----------------------------------\")\n",
    "        print(\"Votre réponse '{}' est correcte! \\n \\\n",
    "        Donc il s'agit bien de permutation sans répétitions!\".format(change['new']))\n",
    "    else:\n",
    "        print(\"----------------------------------\")\n",
    "        print(\"Votre réponse '{}' n'est pas correcte!! \\n \\\n",
    "         hint: chaque joueur est unique et ne peut battre qu'une seule fois dans le jeu.\".format(change['new']))\n",
    "        \n",
    "display(user_ordre_3_3_ex6)\n",
    "user_ordre_3_3_ex6.observe(on_change_3_3_ex6, names = 'value')"
   ]
  },
  {
   "cell_type": "code",
   "execution_count": 869,
   "id": "472ce8bb",
   "metadata": {
    "init_cell": true,
    "solution2": "hidden"
   },
   "outputs": [
    {
     "name": "stdout",
     "output_type": "stream",
     "text": [
      "Pour conclure, de combien de manières différentes pourrons-nous choisir le 1er joueur?\n",
      " ET de combien de manières différentes pourrons-nous choisir le 2eme joueur? ET le 3eme? etc. \n",
      " Comment on combine les possibilités de tous les joueurs? \n",
      "\n",
      "Revenez au début de la question pour resoumettre votre réponse.\n"
     ]
    }
   ],
   "source": [
    "print(\"Pour conclure, de combien de manières différentes pourrons-nous choisir le 1er joueur?\\n \\\n",
    "ET de combien de manières différentes pourrons-nous choisir le 2eme joueur? ET le 3eme? etc. \\n \\\n",
    "Comment on combine les possibilités de tous les joueurs? \\n\")\n",
    "\n",
    "print(\"Revenez au début de la question pour resoumettre votre réponse.\")"
   ]
  },
  {
   "cell_type": "markdown",
   "id": "324dd77d",
   "metadata": {},
   "source": [
    "## Une équipe de basketball est composée de 14 joueurs. De combien de manières différentes l’entraîneur peut-il choisir les 5 joueurs commençant la partie s’il ne tient pas compte de leur position ?"
   ]
  },
  {
   "cell_type": "code",
   "execution_count": 870,
   "id": "8d06c364",
   "metadata": {
    "init_cell": true,
    "scrolled": true
   },
   "outputs": [
    {
     "name": "stdout",
     "output_type": "stream",
     "text": [
      "De quelle type de disposition s'agit-il?\n"
     ]
    },
    {
     "data": {
      "application/vnd.jupyter.widget-view+json": {
       "model_id": "0c17be2666e34d5699fe02d2c64592e9",
       "version_major": 2,
       "version_minor": 0
      },
      "text/plain": [
       "Dropdown(description='Réponse:', index=6, options=('Permutation sans répétitions', 'Permutation avec répétitio…"
      ]
     },
     "metadata": {},
     "output_type": "display_data"
    }
   ],
   "source": [
    "print(\"De quelle type de disposition s'agit-il?\")\n",
    "\n",
    "user_type_4_ex6= widgets.Dropdown(\n",
    "    options=['Permutation sans répétitions', 'Permutation avec répétitions', 'Arrangement sans répétition', 'Arrangement avec répétition', 'Combinaison sans répétitions', 'Combinaison avec répétitions', 'aucune'],\n",
    "    value='aucune',\n",
    "    description='Réponse:',\n",
    "    disabled=False,\n",
    ")\n",
    "\n",
    "def on_change_4_ex6(change):\n",
    "    if change['new'] == 'Combinaison sans répétitions':\n",
    "        print(\"----------------------------------\")\n",
    "        print(\"Votre réponse '{}' est correcte!\".format(change['new']))\n",
    "    else:\n",
    "        print(\"----------------------------------\")\n",
    "        print(\"Votre réponse '{}' n'est pas correcte!! \\n \\\n",
    "         hint: est-ce que la taille de notre disposition est la même que l'ensemble d'où on tire les éléments? \\n \\\n",
    "         Est-ce que l'ensembe contient des éléments qui se répètent? \\n\\\n",
    "         Est-ce que l'ordre des éléments dans notre disposition est important?\".format(change['new']))\n",
    "        \n",
    "display(user_type_4_ex6)\n",
    "user_type_4_ex6.observe(on_change_4_ex6, names = 'value')"
   ]
  },
  {
   "cell_type": "code",
   "execution_count": 871,
   "id": "decf5906",
   "metadata": {
    "init_cell": true,
    "scrolled": true,
    "solution2": "hidden",
    "solution2_first": true
   },
   "outputs": [
    {
     "name": "stdout",
     "output_type": "stream",
     "text": [
      "Combien de disposition de ce type pourrons-nous former?\n"
     ]
    },
    {
     "data": {
      "application/vnd.jupyter.widget-view+json": {
       "model_id": "9c7345d98abf4bd2b0d5031137ca8537",
       "version_major": 2,
       "version_minor": 0
      },
      "text/plain": [
       "HBox(children=(IntText(value=0, description='Réponse:'), Button(description='Soumettre', icon='check', style=B…"
      ]
     },
     "metadata": {},
     "output_type": "display_data"
    }
   ],
   "source": [
    "print(\"Combien de disposition de ce type pourrons-nous former?\")\n",
    "\n",
    "n_ex6_4= 14 \n",
    "k_ex6_4 = 5\n",
    "\n",
    "\n",
    "counter_4_ex6 = 0\n",
    "\n",
    "ex6_q4_answer = widgets.IntText(\n",
    "    value= 0,\n",
    "    description='Réponse:',\n",
    "    disabled=False\n",
    ")\n",
    "\n",
    "button = widgets.Button(\n",
    "    description='Soumettre',\n",
    "    disabled=False,\n",
    "    button_style='',\n",
    "    tooltip='Click me',\n",
    "    icon='check' \n",
    ")\n",
    "\n",
    "\n",
    "def test_4_ex6(change):\n",
    "    global counter_4_ex6 \n",
    "    counter_4_ex6 = counter_4_ex6 + 1\n",
    "    value = ex6_q4_answer.value\n",
    "    correct_value = fn.nCr(n_ex6_4, k_ex6_4)\n",
    "    if value == correct_value:\n",
    "        print(\"----------------------------------\")\n",
    "        print(\"Tetantive {}: Bravo! votre réponse est correcte :)\".format(counter_2_ex6))\n",
    "    else:\n",
    "        print(\"----------------------------------\")\n",
    "        print(\"Tetantive {}:Malheureusement, la réponse soumise n'est pas correcte. \\n \\\n",
    "       Cliquez sur 'Show solution' pour quelques indices\".format(counter_2_ex6))\n",
    "\n",
    "\n",
    "display(widgets.HBox([ex6_q4_answer, button]))\n",
    "\n",
    "button.on_click(test_4_ex6)"
   ]
  },
  {
   "cell_type": "code",
   "execution_count": 872,
   "id": "7bc649ea",
   "metadata": {
    "init_cell": true,
    "solution2": "hidden"
   },
   "outputs": [
    {
     "name": "stdout",
     "output_type": "stream",
     "text": [
      "Nous avons 14 joueurs, tous distincts, depuis lesquels nous voulons sélectionner 5. \n",
      "\n",
      "Quelle est la taille, k, de notre disposition?\n",
      "Quelle est la taille, n, de l'ensemble depuis lequel on tire les éléments?\n"
     ]
    },
    {
     "data": {
      "application/vnd.jupyter.widget-view+json": {
       "model_id": "2cf3ff18924f4b259d9b44a4dfc830db",
       "version_major": 2,
       "version_minor": 0
      },
      "text/plain": [
       "HBox(children=(IntText(value=0, description='k:'), IntText(value=0, description='n:'), Button(description='Sou…"
      ]
     },
     "metadata": {},
     "output_type": "display_data"
    }
   ],
   "source": [
    "print(\"Nous avons 14 joueurs, tous distincts, depuis lesquels nous voulons sélectionner 5. \\n\")\n",
    "\n",
    "print(\"Quelle est la taille, k, de notre disposition?\")\n",
    "print(\"Quelle est la taille, n, de l'ensemble depuis lequel on tire les éléments?\")\n",
    "\n",
    "user_k_q4_answer = widgets.IntText(\n",
    "    value= 0,\n",
    "    description='k:',\n",
    "    disabled=False\n",
    ")\n",
    "\n",
    "user_n_q4_answer = widgets.IntText(\n",
    "    value= 0,\n",
    "    description='n:',\n",
    "    disabled=False\n",
    ")\n",
    "\n",
    "button = widgets.Button(\n",
    "    description='Soumettre',\n",
    "    disabled=False,\n",
    "    button_style='',\n",
    "    tooltip='Click me',\n",
    "    icon='check' \n",
    ")\n",
    "\n",
    "counter_4_1_ex6 = 0\n",
    "\n",
    "flag_k_4_1_ex6 = False \n",
    "flag_n_4_1_ex6 = False    \n",
    "    \n",
    "def test_4_1_ex6(change):\n",
    "    global counter_4_1_ex6 \n",
    "    global flag_k_4_1_ex6\n",
    "    global flag_n_4_1_ex6\n",
    "    counter_4_1_ex6 = counter_4_1_ex6 + 1\n",
    "    value_k = user_k_q4_answer.value\n",
    "    value_n = user_n_q4_answer.value\n",
    "\n",
    "    if value_k == k_ex6_4 : \n",
    "        flag_k = True\n",
    "    else:\n",
    "        flag_k = False\n",
    "        \n",
    "    if value_n == n_ex6_4 :\n",
    "        flag_n = True \n",
    "    else:\n",
    "        flag_n = False\n",
    "        \n",
    "    if flag_k and flag_n:\n",
    "        print(\"----------------------------------\")\n",
    "        print(\"Tetantive {}: Bravo! vos réponses sont correctes :) \\n \\\n",
    "        On voit que k est plus petit que n, donc il ne peut pas s'agir de permutations.\".format(counter_2_ex6))\n",
    "    else:\n",
    "        print(\"----------------------------------\")\n",
    "        print(\"Tetantive {}:Malheureusement, une ou plusieurs réponses soumises ne sont pas correctes. \\n \\\n",
    "       hint: k est la taille de la disposition, la taille du groupement de joueurs à proposer, \\n \\\n",
    "       n est la taille de l'ensemble des joueurs depuis lequel on sélectionne les individus pour composer les groupements.\".format(counter_2_ex6))\n",
    "\n",
    "\n",
    "display(widgets.HBox([user_k_q4_answer, user_n_q4_answer, button]))\n",
    "\n",
    "button.on_click(test_4_1_ex6)\n",
    "\n"
   ]
  },
  {
   "cell_type": "code",
   "execution_count": 873,
   "id": "2b7f069b",
   "metadata": {
    "init_cell": true,
    "solution2": "hidden"
   },
   "outputs": [
    {
     "name": "stdout",
     "output_type": "stream",
     "text": [
      "Est-ce que l'ordre est important?\n"
     ]
    },
    {
     "data": {
      "application/vnd.jupyter.widget-view+json": {
       "model_id": "c9dadc8a839348fb913cd8021b6961e1",
       "version_major": 2,
       "version_minor": 0
      },
      "text/plain": [
       "Dropdown(description='Réponse:', index=2, options=('Ordre pas important', 'Ordre important', 'aucune'), value=…"
      ]
     },
     "metadata": {},
     "output_type": "display_data"
    }
   ],
   "source": [
    "print(\"Est-ce que l'ordre est important?\")\n",
    "\n",
    "user_ordre_4_2_ex6= widgets.Dropdown(\n",
    "    options=['Ordre pas important', 'Ordre important', 'aucune'],\n",
    "    value='aucune',\n",
    "    description='Réponse:',\n",
    "    disabled=False,\n",
    ")\n",
    "\n",
    "def on_change_4_2_ex6(change):\n",
    "    if change['new'] == 'Ordre pas important':\n",
    "        print(\"----------------------------------\")\n",
    "        print(\"Votre réponse '{}' est correcte! \\n \\\n",
    "        L'ordre des joueurs n'est pas important, donc il ne peut pas s'agir d'arangements.\".format(change['new']))\n",
    "    else:\n",
    "        print(\"----------------------------------\")\n",
    "        print(\"Votre réponse '{}' n'est pas correcte!! \\n \\\n",
    "         hint: la question mentionne le suivant 'ne tient pas compte de leur position'\".format(change['new']))\n",
    "        \n",
    "display(user_ordre_4_2_ex6)\n",
    "user_ordre_4_2_ex6.observe(on_change_4_2_ex6, names = 'value')\n"
   ]
  },
  {
   "cell_type": "code",
   "execution_count": 874,
   "id": "d9aa40f6",
   "metadata": {
    "init_cell": true,
    "solution2": "hidden"
   },
   "outputs": [
    {
     "name": "stdout",
     "output_type": "stream",
     "text": [
      "Est-ce qu'on peut avoir des répétitions? Est ce qu'on peut répéter le même joueur plusieurs fois dans la formation à proposer?\n"
     ]
    },
    {
     "data": {
      "application/vnd.jupyter.widget-view+json": {
       "model_id": "cc21370c4da9423cbd723c8ec4a1b525",
       "version_major": 2,
       "version_minor": 0
      },
      "text/plain": [
       "Dropdown(description='Réponse:', index=2, options=('Avec répétitions', 'Sans répétitions', 'aucune'), value='a…"
      ]
     },
     "metadata": {},
     "output_type": "display_data"
    }
   ],
   "source": [
    "print(\"Est-ce qu'on peut avoir des répétitions? Est ce qu'on peut répéter le même joueur plusieurs fois dans la formation à proposer?\")\n",
    "\n",
    "user_ordre_2_4_ex6= widgets.Dropdown(\n",
    "    options=['Avec répétitions', 'Sans répétitions', 'aucune'],\n",
    "    value='aucune',\n",
    "    description='Réponse:',\n",
    "    disabled=False,\n",
    ")\n",
    "\n",
    "def on_change_2_4_ex6(change):\n",
    "    if change['new'] == 'Sans répétitions':\n",
    "        print(\"----------------------------------\")\n",
    "        print(\"Votre réponse '{}' est correcte! \\n \\\n",
    "        Donc il ne peut s'agir que de coombinaisons sans répétitions!\".format(change['new']))\n",
    "    else:\n",
    "        print(\"----------------------------------\")\n",
    "        print(\"Votre réponse '{}' n'est pas correcte!! \\n \\\n",
    "         hint: chaque joueur est distinct et si on le séléctionne il ne peut qu'occuper qu'une seule place dans \\n \\\n",
    "         la formation de 5 joueurs.\".format(change['new']))\n",
    "        \n",
    "display(user_ordre_2_4_ex6)\n",
    "user_ordre_2_4_ex6.observe(on_change_2_4_ex6, names = 'value')"
   ]
  },
  {
   "cell_type": "code",
   "execution_count": 875,
   "id": "48f3f036",
   "metadata": {
    "init_cell": true,
    "scrolled": false,
    "solution2": "hidden"
   },
   "outputs": [
    {
     "name": "stdout",
     "output_type": "stream",
     "text": [
      "Vous pouvez maintenant retrouver la bonne formule à appliquer et resoumettre votre réponse au début de la question. \n",
      "\n",
      "Vous pouvez aussi continuer pour voir comment retrouver la formule à appliquer en passant par les permutations! \n",
      "\n"
     ]
    },
    {
     "data": {
      "application/vnd.jupyter.widget-view+json": {
       "model_id": "f305db9bc8874562a7c9be3cb5831cec",
       "version_major": 2,
       "version_minor": 0
      },
      "text/plain": [
       "Button(description=\"Afficher le reste de l'explication\", icon='check', style=ButtonStyle(), tooltip=\"Clicker p…"
      ]
     },
     "metadata": {},
     "output_type": "display_data"
    }
   ],
   "source": [
    "print(\"Vous pouvez maintenant retrouver la bonne formule à appliquer et resoumettre votre réponse au début de la question. \\n\")\n",
    "\n",
    "print(\"Vous pouvez aussi continuer pour voir comment retrouver la formule à appliquer en passant par les permutations! \\n\")\n",
    "\n",
    "show_more_button = widgets.Button(\n",
    "    value=False,\n",
    "    description=\"Afficher le reste de l'explication\",\n",
    "    disabled=False,\n",
    "    button_style='',\n",
    "    tooltip=\"Clicker pour afficher le reste de l'explication\",\n",
    "    icon='check' \n",
    ")\n",
    "\n",
    "\n",
    "def show_more_button_onclick(change):\n",
    "    print(\"Nous pourrons en premier dénombrer toutes les permutations (sans répétitions) possibles des 14 joueurs. \\n \")\n",
    "    print(\"Par la suite, on regarde uniquement les premiers 5 joueurs de chaque permutation, l'ordre des (14-5) joueurs suivants \\n \\\n",
    "ne nous intéresse pas parce que les 9 joueurs suivants ne feront pas partie de l'équipe. \\n \\\n",
    "Donc cela fait qu'il y a des permutations similaires des 5 premiers joueurs qui se répètent, qu'on ne doit pas compter plusieurs fois!\" )\n",
    "    print(\"Les deux étapes précédentes génèrent le dénombrement des arangements, sans répétitions, de taille 5 depuis un ensemble à 14! \\n\")\n",
    "    print(\"Pour arriver au dénombrement des combinaisons sans répétitions, on remarque que l'ordre des 5 premiers joueurs n'est pas important. \\n \\\n",
    "      Donc toutes les permutations des mêmes 5 premiers joueurs donnent la même équipe, donc on doit aussi éviter de compter ces permutations plus qu'une fois. \\n\")\n",
    "    print(\"Une illustration détaillée d'un exemple plus simple est mise à disposition ci-dessous.\")\n",
    "    \n",
    "    display(Image(\"./img/ex6_4.png\"))\n",
    "\n",
    "    \n",
    "\n",
    "display(show_more_button)\n",
    "show_more_button.on_click(show_more_button_onclick)\n",
    "\n",
    "\n"
   ]
  },
  {
   "cell_type": "markdown",
   "id": "9e8b98a3",
   "metadata": {},
   "source": [
    "## 18 pilotes participent à un grand prix de formule 1. De combien de manières peut se constituer le podium ?"
   ]
  },
  {
   "cell_type": "code",
   "execution_count": 876,
   "id": "ee432840",
   "metadata": {
    "init_cell": true
   },
   "outputs": [
    {
     "name": "stdout",
     "output_type": "stream",
     "text": [
      "De quelle type de disposition s'agit-il?\n"
     ]
    },
    {
     "data": {
      "application/vnd.jupyter.widget-view+json": {
       "model_id": "9f8650e9d1b342dfb316021c49b91df6",
       "version_major": 2,
       "version_minor": 0
      },
      "text/plain": [
       "Dropdown(description='Réponse:', index=6, options=('Permutation sans répétitions', 'Permutation avec répétitio…"
      ]
     },
     "metadata": {},
     "output_type": "display_data"
    }
   ],
   "source": [
    "print(\"De quelle type de disposition s'agit-il?\")\n",
    "\n",
    "user_type_5_ex6= widgets.Dropdown(\n",
    "    options=['Permutation sans répétitions', 'Permutation avec répétitions', 'Arrangement sans répétition', 'Arrangement avec répétition', 'Combinaison sans répétitions', 'Combinaison avec répétitions', 'aucune'],\n",
    "    value='aucune',\n",
    "    description='Réponse:',\n",
    "    disabled=False,\n",
    ")\n",
    "\n",
    "def on_change_5_ex6(change):\n",
    "    if change['new'] == 'Arrangement sans répétition':\n",
    "        print(\"----------------------------------\")\n",
    "        print(\"Votre réponse '{}' est correcte!\".format(change['new']))\n",
    "    else:\n",
    "        print(\"----------------------------------\")\n",
    "        print(\"Votre réponse '{}' n'est pas correcte!! \\n \\\n",
    "         hint: est-ce que la taille de notre disposition est la même que l'ensemble d'où on tire les éléments? \\n \\\n",
    "         Est-ce que l'ensembe contient des éléments qui se répètent? \\n\\\n",
    "         Est-ce que l'ordre des éléments dans notre disposition est important?\".format(change['new']))\n",
    "        \n",
    "display(user_type_5_ex6)\n",
    "user_type_5_ex6.observe(on_change_5_ex6, names = 'value')"
   ]
  },
  {
   "cell_type": "code",
   "execution_count": 877,
   "id": "6f0185c7",
   "metadata": {
    "init_cell": true,
    "scrolled": false,
    "solution2": "hidden",
    "solution2_first": true
   },
   "outputs": [
    {
     "name": "stdout",
     "output_type": "stream",
     "text": [
      "Combien de disposition de ce type pourrons-nous former?\n"
     ]
    },
    {
     "data": {
      "application/vnd.jupyter.widget-view+json": {
       "model_id": "2136ff6aaf994919a0c2ce84d46df900",
       "version_major": 2,
       "version_minor": 0
      },
      "text/plain": [
       "HBox(children=(IntText(value=0, description='Réponse:'), Button(description='Soumettre', icon='check', style=B…"
      ]
     },
     "metadata": {},
     "output_type": "display_data"
    }
   ],
   "source": [
    "print(\"Combien de disposition de ce type pourrons-nous former?\")\n",
    "\n",
    "n_ex6_5= 18\n",
    "k_ex6_5 = 3\n",
    "\n",
    "\n",
    "counter_5_ex6 = 0\n",
    "\n",
    "ex6_q5_answer = widgets.IntText(\n",
    "    value= 0,\n",
    "    description='Réponse:',\n",
    "    disabled=False\n",
    ")\n",
    "\n",
    "button = widgets.Button(\n",
    "    description='Soumettre',\n",
    "    disabled=False,\n",
    "    button_style='',\n",
    "    tooltip='Click me',\n",
    "    icon='check' \n",
    ")\n",
    "\n",
    "\n",
    "def test_5_ex6(change):\n",
    "    global counter_5_ex6 \n",
    "    counter_5_ex6 = counter_5_ex6 + 1\n",
    "    value = ex6_q5_answer.value\n",
    "    correct_value = int(fn.sequenceNoRep(n_ex6_5, k_ex6_5))\n",
    "    if value == correct_value:\n",
    "        print(\"----------------------------------\")\n",
    "        print(\"Tetantive {}: Bravo! votre réponse est correcte :)\".format(counter_5_ex6))\n",
    "    else:\n",
    "        print(\"----------------------------------\")\n",
    "        print(\"Tetantive {}:Malheureusement, la réponse soumise n'est pas correcte. \\n \\\n",
    "       Cliquez sur 'Show solution' pour quelques indices\".format(counter_5_ex6))\n",
    "\n",
    "\n",
    "display(widgets.HBox([ex6_q5_answer, button]))\n",
    "\n",
    "button.on_click(test_5_ex6)"
   ]
  },
  {
   "cell_type": "code",
   "execution_count": 878,
   "id": "99cd9de4",
   "metadata": {
    "init_cell": true,
    "solution2": "hidden"
   },
   "outputs": [
    {
     "name": "stdout",
     "output_type": "stream",
     "text": [
      "Nous avons 18 compétiteurs, tous distincts, depuis lesquels nous voulons sélectonner 3. \n",
      "\n",
      "Quelle est la taille, k, de notre disposition?\n",
      "Quelle est la taille, n, de l'ensemble depuis lequel on tire les éléments?\n"
     ]
    },
    {
     "data": {
      "application/vnd.jupyter.widget-view+json": {
       "model_id": "f7e6d9245c3d4a8da30c26b8c040f585",
       "version_major": 2,
       "version_minor": 0
      },
      "text/plain": [
       "HBox(children=(IntText(value=0, description='k:'), IntText(value=0, description='n:'), Button(description='Sou…"
      ]
     },
     "metadata": {},
     "output_type": "display_data"
    }
   ],
   "source": [
    "print(\"Nous avons 18 compétiteurs, tous distincts, depuis lesquels nous voulons sélectonner 3. \\n\")\n",
    "\n",
    "print(\"Quelle est la taille, k, de notre disposition?\")\n",
    "print(\"Quelle est la taille, n, de l'ensemble depuis lequel on tire les éléments?\")\n",
    "\n",
    "user_k_q5_answer = widgets.IntText(\n",
    "    value= 0,\n",
    "    description='k:',\n",
    "    disabled=False\n",
    ")\n",
    "\n",
    "user_n_q5_answer = widgets.IntText(\n",
    "    value= 0,\n",
    "    description='n:',\n",
    "    disabled=False\n",
    ")\n",
    "\n",
    "button = widgets.Button(\n",
    "    description='Soumettre',\n",
    "    disabled=False,\n",
    "    button_style='',\n",
    "    tooltip='Click me',\n",
    "    icon='check' \n",
    ")\n",
    "\n",
    "counter_5_1_ex6 = 0\n",
    "\n",
    "flag_k_5_1_ex6 = False \n",
    "flag_n_5_1_ex6 = False    \n",
    "    \n",
    "def test_5_1_ex6(change):\n",
    "    global counter_5_1_ex6 \n",
    "    global flag_k_5_1_ex6\n",
    "    global flag_n_5_1_ex6\n",
    "    counter_5_1_ex6 = counter_5_1_ex6 + 1\n",
    "    value_k = user_k_q5_answer.value\n",
    "    value_n = user_n_q5_answer.value\n",
    "\n",
    "    if value_k == k_ex6_5 : \n",
    "        flag_k = True\n",
    "    else:\n",
    "        flag_k = False\n",
    "        \n",
    "    if value_n == n_ex6_5 :\n",
    "        flag_n = True \n",
    "    else:\n",
    "        flag_n = False\n",
    "        \n",
    "    if flag_k and flag_n:\n",
    "        print(\"----------------------------------\")\n",
    "        print(\"Tetantive {}: Bravo! vos réponses sont correctes :) \\n \\\n",
    "        On voit que k est plus petit que n, donc il ne peut pas s'agir de permutations.\".format(counter_5_1_ex6))\n",
    "    else:\n",
    "        print(\"----------------------------------\")\n",
    "        print(\"Tetantive {}:Malheureusement, une ou plusieurs réponses soumises ne sont pas correctes. \\n \\\n",
    "       hint: k est la taille de la disposition, la taille du groupement de joueurs à proposer, \\n \\\n",
    "       n est la taille de l'ensemble des joueurs depuis lequel on sélectionne les individus pour composer les groupements.\".format(counter_5_1_ex6))\n",
    "\n",
    "\n",
    "display(widgets.HBox([user_k_q5_answer, user_n_q5_answer, button]))\n",
    "\n",
    "button.on_click(test_5_1_ex6)\n",
    "\n"
   ]
  },
  {
   "cell_type": "code",
   "execution_count": 879,
   "id": "afc863b5",
   "metadata": {
    "init_cell": true,
    "scrolled": true,
    "solution2": "hidden"
   },
   "outputs": [
    {
     "name": "stdout",
     "output_type": "stream",
     "text": [
      "Est-ce que l'ordre est important?\n"
     ]
    },
    {
     "data": {
      "application/vnd.jupyter.widget-view+json": {
       "model_id": "719e48bf0fd34c1cad82bd30bece9383",
       "version_major": 2,
       "version_minor": 0
      },
      "text/plain": [
       "Dropdown(description='Réponse:', index=2, options=('Ordre pas important', 'Ordre important', 'aucune'), value=…"
      ]
     },
     "metadata": {},
     "output_type": "display_data"
    }
   ],
   "source": [
    "print(\"Est-ce que l'ordre est important?\")\n",
    "\n",
    "user_ordre_5_2_ex6= widgets.Dropdown(\n",
    "    options=['Ordre pas important', 'Ordre important', 'aucune'],\n",
    "    value='aucune',\n",
    "    description='Réponse:',\n",
    "    disabled=False,\n",
    ")\n",
    "\n",
    "def on_change_5_2_ex6(change):\n",
    "    if change['new'] == 'Ordre important':\n",
    "        print(\"----------------------------------\")\n",
    "        print(\"Votre réponse '{}' est correcte! \\n \\\n",
    "        L'ordre sur le podium est important, donc il ne peut pas s'agir de combinaison.\".format(change['new']))\n",
    "    else:\n",
    "        print(\"----------------------------------\")\n",
    "        print(\"Votre réponse '{}' n'est pas correcte!! \\n \\\n",
    "         hint: un podium comporte une 1ere place, une 2eme place et une 3eme place.\".format(change['new']))\n",
    "        \n",
    "display(user_ordre_5_2_ex6)\n",
    "user_ordre_5_2_ex6.observe(on_change_5_2_ex6, names = 'value')\n"
   ]
  },
  {
   "cell_type": "code",
   "execution_count": 880,
   "id": "7d666418",
   "metadata": {
    "init_cell": true,
    "solution2": "hidden"
   },
   "outputs": [
    {
     "name": "stdout",
     "output_type": "stream",
     "text": [
      "Est-ce qu'on peut avoir des répétitions? Est-ce que le même competiteur peut occuper plusieurs place dans le podium?\n"
     ]
    },
    {
     "data": {
      "application/vnd.jupyter.widget-view+json": {
       "model_id": "7b26ad9cfbb74de49ce23f451bce92e8",
       "version_major": 2,
       "version_minor": 0
      },
      "text/plain": [
       "Dropdown(description='Réponse:', index=2, options=('Avec répétitions', 'Sans répétitions', 'aucune'), value='a…"
      ]
     },
     "metadata": {},
     "output_type": "display_data"
    }
   ],
   "source": [
    "print(\"Est-ce qu'on peut avoir des répétitions? Est-ce que le même competiteur peut occuper plusieurs place dans le podium?\")\n",
    "\n",
    "user_ordre_2_5_ex6= widgets.Dropdown(\n",
    "    options=['Avec répétitions', 'Sans répétitions', 'aucune'],\n",
    "    value='aucune',\n",
    "    description='Réponse:',\n",
    "    disabled=False,\n",
    ")\n",
    "\n",
    "def on_change_2_5_ex6(change):\n",
    "    if change['new'] == 'Sans répétitions':\n",
    "        print(\"----------------------------------\")\n",
    "        print(\"Votre réponse '{}' est correcte! \\n \\\n",
    "        Donc il ne peut s'agir que d'arangement sans répétitions!\".format(change['new']))\n",
    "    else:\n",
    "        print(\"----------------------------------\")\n",
    "        print(\"Votre réponse '{}' n'est pas correcte!! \\n \\\n",
    "         hint: chaque competiteur est distinct et si on le séléctionne il ne peut qu'occuper qu'une seule place dans \\n \\\n",
    "         le podium.\".format(change['new']))\n",
    "        \n",
    "display(user_ordre_2_5_ex6)\n",
    "user_ordre_2_5_ex6.observe(on_change_2_5_ex6, names = 'value')"
   ]
  },
  {
   "cell_type": "code",
   "execution_count": 881,
   "id": "3b39d130",
   "metadata": {
    "init_cell": true,
    "solution2": "hidden"
   },
   "outputs": [
    {
     "name": "stdout",
     "output_type": "stream",
     "text": [
      "Vous pouvez maintenant retrouver la bonne formule à appliquer et resoumettre votre réponse au début de la question. \n",
      "\n",
      "Vous pouvez aussi continuer pour voir comment retrouver la formule à appliquer en passant par les permutations! \n",
      "\n"
     ]
    },
    {
     "data": {
      "application/vnd.jupyter.widget-view+json": {
       "model_id": "7ade2607fad74be9b89fc70a7482fc13",
       "version_major": 2,
       "version_minor": 0
      },
      "text/plain": [
       "Button(description=\"Afficher le reste de l'explication\", icon='check', style=ButtonStyle(), tooltip=\"Clicker p…"
      ]
     },
     "metadata": {},
     "output_type": "display_data"
    }
   ],
   "source": [
    "print(\"Vous pouvez maintenant retrouver la bonne formule à appliquer et resoumettre votre réponse au début de la question. \\n\")\n",
    "print(\"Vous pouvez aussi continuer pour voir comment retrouver la formule à appliquer en passant par les permutations! \\n\")\n",
    "\n",
    "show_more_button_5_ex6 = widgets.Button(\n",
    "    value=False,\n",
    "    description=\"Afficher le reste de l'explication\",\n",
    "    disabled=False,\n",
    "    button_style='',\n",
    "    tooltip=\"Clicker pour afficher le reste de l'explication\",\n",
    "    icon='check' \n",
    ")\n",
    "\n",
    "\n",
    "def show_more_button_5_ex6_onclick(change):\n",
    "    print(\"Nous pourrons en premier dénombrer toutes les permutations (sans répétitions) possibles des 18 compétiteurs. \\n \")\n",
    "    print(\"Par la suite, on regarde uniquement les premiers 3 compétiteurs de chaque permutation, l'ordre des (18-3) joueurs suivants \\n \\\n",
    "ne nous intéresse pas parce que les 15 joueurs suivants ne feront pas partie de l'équipe. \\n \\\n",
    "Donc cela fait qu'il y a des permutations similaires des 3 premiers compétiteurs qui se répètent, qu'on ne doit pas compter plusieurs fois!\" )\n",
    "    print(\"Les deux étapes précédentes génèrent le dénombrement des arangements, sans répétitions, de taille 3 depuis un ensemble à 18! \\n\")\n",
    "    print(\"Une illustration détaillée d'un exemple plus simple est mise à disposition ci-dessous.\")\n",
    "    \n",
    "    display(Image(\"./img/ex6_5.png\"))\n",
    "\n",
    "    \n",
    "\n",
    "display(show_more_button_5_ex6)\n",
    "show_more_button_5_ex6.on_click(show_more_button_5_ex6_onclick)\n",
    "\n",
    "\n"
   ]
  },
  {
   "cell_type": "markdown",
   "id": "73b0f83d",
   "metadata": {},
   "source": [
    "## Combien de mains de 5 cartes peut-on obtenir en choisissant 5 cartes dans un jeu de 52 cartes ?"
   ]
  },
  {
   "cell_type": "code",
   "execution_count": 882,
   "id": "917296d0",
   "metadata": {
    "init_cell": true,
    "scrolled": true
   },
   "outputs": [
    {
     "name": "stdout",
     "output_type": "stream",
     "text": [
      "De quelle type de disposition s'agit-il?\n"
     ]
    },
    {
     "data": {
      "application/vnd.jupyter.widget-view+json": {
       "model_id": "68b9625270ad4aa387c5d563fd8222cb",
       "version_major": 2,
       "version_minor": 0
      },
      "text/plain": [
       "Dropdown(description='Réponse:', index=6, options=('Permutation sans répétitions', 'Permutation avec répétitio…"
      ]
     },
     "metadata": {},
     "output_type": "display_data"
    }
   ],
   "source": [
    "print(\"De quelle type de disposition s'agit-il?\")\n",
    "\n",
    "user_type_6_ex6= widgets.Dropdown(\n",
    "    options=['Permutation sans répétitions', 'Permutation avec répétitions', 'Arrangement sans répétition', 'Arrangement avec répétition', 'Combinaison sans répétitions', 'Combinaison avec répétitions', 'aucune'],\n",
    "    value='aucune',\n",
    "    description='Réponse:',\n",
    "    disabled=False,\n",
    ")\n",
    "\n",
    "def on_change_5_ex6(change):\n",
    "    if change['new'] == 'Combinaison sans répétitions':\n",
    "        print(\"----------------------------------\")\n",
    "        print(\"Votre réponse '{}' est correcte!\".format(change['new']))\n",
    "    else:\n",
    "        print(\"----------------------------------\")\n",
    "        print(\"Votre réponse '{}' n'est pas correcte!! \\n \\\n",
    "         hint: est-ce que la taille de notre disposition est la même que l'ensemble d'où on tire les éléments? \\n \\\n",
    "         Est-ce que l'ensembe contient des éléments qui se répètent? \\n\\\n",
    "         Est-ce que l'ordre des éléments dans notre disposition est important?\".format(change['new']))\n",
    "        \n",
    "display(user_type_6_ex6)\n",
    "user_type_6_ex6.observe(on_change_5_ex6, names = 'value')"
   ]
  },
  {
   "cell_type": "code",
   "execution_count": 883,
   "id": "4a6e2545",
   "metadata": {
    "init_cell": true,
    "scrolled": true,
    "solution2": "hidden",
    "solution2_first": true
   },
   "outputs": [
    {
     "name": "stdout",
     "output_type": "stream",
     "text": [
      "Combien de disposition de ce type pourrons-nous former?\n"
     ]
    },
    {
     "data": {
      "application/vnd.jupyter.widget-view+json": {
       "model_id": "8ad75598b90e447fa027fe5734fd339f",
       "version_major": 2,
       "version_minor": 0
      },
      "text/plain": [
       "HBox(children=(IntText(value=0, description='Réponse:'), Button(description='Soumettre', icon='check', style=B…"
      ]
     },
     "metadata": {},
     "output_type": "display_data"
    }
   ],
   "source": [
    "print(\"Combien de disposition de ce type pourrons-nous former?\")\n",
    "\n",
    "n_ex6_6= 52\n",
    "k_ex6_6 = 5\n",
    "\n",
    "\n",
    "counter_6_ex6 = 0\n",
    "\n",
    "ex6_q6_answer = widgets.IntText(\n",
    "    value= 0,\n",
    "    description='Réponse:',\n",
    "    disabled=False\n",
    ")\n",
    "\n",
    "button = widgets.Button(\n",
    "    description='Soumettre',\n",
    "    disabled=False,\n",
    "    button_style='',\n",
    "    tooltip='Click me',\n",
    "    icon='check' \n",
    ")\n",
    "\n",
    "\n",
    "def test_6_ex6(change):\n",
    "    global counter_6_ex6 \n",
    "    counter_6_ex6 = counter_6_ex6 + 1\n",
    "    value = ex6_q6_answer.value\n",
    "    correct_value = int(fn.nCr(n_ex6_6, k_ex6_6))\n",
    "    if value == correct_value:\n",
    "        print(\"----------------------------------\")\n",
    "        print(\"Tetantive {}: Bravo! votre réponse est correcte :)\".format(counter_5_ex6))\n",
    "    else:\n",
    "        print(\"----------------------------------\")\n",
    "        print(\"Tetantive {}:Malheureusement, la réponse soumise n'est pas correcte. \\n \\\n",
    "       Cliquez sur 'Show solution' pour quelques indices\".format(counter_5_ex6))\n",
    "\n",
    "\n",
    "display(widgets.HBox([ex6_q6_answer, button]))\n",
    "\n",
    "button.on_click(test_6_ex6)"
   ]
  },
  {
   "cell_type": "code",
   "execution_count": 884,
   "id": "c10fc15a",
   "metadata": {
    "init_cell": true,
    "solution2": "hidden"
   },
   "outputs": [
    {
     "name": "stdout",
     "output_type": "stream",
     "text": [
      "Nous avons 52 cartes, toutes distinctes, depuis lesquelles nous voulons sélectonner 5. \n",
      "\n",
      "Quelle est la taille, k, de notre disposition?\n",
      "Quelle est la taille, n, de l'ensemble depuis lequel on tire les éléments?\n"
     ]
    },
    {
     "data": {
      "application/vnd.jupyter.widget-view+json": {
       "model_id": "07ab7ed8496543a28c6c1b3299b6d71a",
       "version_major": 2,
       "version_minor": 0
      },
      "text/plain": [
       "HBox(children=(IntText(value=0, description='k:'), IntText(value=0, description='n:'), Button(description='Sou…"
      ]
     },
     "metadata": {},
     "output_type": "display_data"
    }
   ],
   "source": [
    "print(\"Nous avons 52 cartes, toutes distinctes, depuis lesquelles nous voulons sélectonner 5. \\n\")\n",
    "\n",
    "print(\"Quelle est la taille, k, de notre disposition?\")\n",
    "print(\"Quelle est la taille, n, de l'ensemble depuis lequel on tire les éléments?\")\n",
    "\n",
    "user_k_q6_answer = widgets.IntText(\n",
    "    value= 0,\n",
    "    description='k:',\n",
    "    disabled=False\n",
    ")\n",
    "\n",
    "user_n_q6_answer = widgets.IntText(\n",
    "    value= 0,\n",
    "    description='n:',\n",
    "    disabled=False\n",
    ")\n",
    "\n",
    "button = widgets.Button(\n",
    "    description='Soumettre',\n",
    "    disabled=False,\n",
    "    button_style='',\n",
    "    tooltip='Click me',\n",
    "    icon='check' \n",
    ")\n",
    "\n",
    "counter_6_1_ex6 = 0\n",
    "\n",
    "flag_k_6_1_ex6 = False \n",
    "flag_n_6_1_ex6 = False    \n",
    "    \n",
    "def test_6_1_ex6(change):\n",
    "    global counter_6_1_ex6 \n",
    "    global flag_k_6_1_ex6\n",
    "    global flag_n_6_1_ex6\n",
    "    counter_6_1_ex6 = counter_6_1_ex6 + 1\n",
    "    value_k = user_k_q6_answer.value\n",
    "    value_n = user_n_q6_answer.value\n",
    "\n",
    "    if value_k == k_ex6_6 : \n",
    "        flag_k = True\n",
    "    else:\n",
    "        flag_k = False\n",
    "        \n",
    "    if value_n == n_ex6_6 :\n",
    "        flag_n = True \n",
    "    else:\n",
    "        flag_n = False\n",
    "        \n",
    "    if flag_k and flag_n:\n",
    "        print(\"----------------------------------\")\n",
    "        print(\"Tetantive {}: Bravo! vos réponses sont correctes :) \\n \\\n",
    "        On voit que k est plus petit que n, donc il ne peut pas s'agir de permutations.\".format(counter_6_1_ex6))\n",
    "    else:\n",
    "        print(\"----------------------------------\")\n",
    "        print(\"Tetantive {}:Malheureusement, une ou plusieurs réponses soumises ne sont pas correctes. \\n \\\n",
    "       hint: k est la taille de la disposition, le nombre de cartes dans une main, \\n \\\n",
    "       n est la taille de l'ensemble de toutes les cartes depuis lequel on sélectionne les k cartes pour composer une main.\".format(counter_6_1_ex6))\n",
    "\n",
    "\n",
    "display(widgets.HBox([user_k_q6_answer, user_n_q6_answer, button]))\n",
    "\n",
    "button.on_click(test_6_1_ex6)\n",
    "\n"
   ]
  },
  {
   "cell_type": "code",
   "execution_count": 885,
   "id": "7850a9a1",
   "metadata": {
    "init_cell": true,
    "solution2": "hidden"
   },
   "outputs": [
    {
     "name": "stdout",
     "output_type": "stream",
     "text": [
      "Est-ce que l'ordre est important?\n"
     ]
    },
    {
     "data": {
      "application/vnd.jupyter.widget-view+json": {
       "model_id": "ad1eaa05e69744c4bd19a087e2b79aff",
       "version_major": 2,
       "version_minor": 0
      },
      "text/plain": [
       "Dropdown(description='Réponse:', index=2, options=('Ordre pas important', 'Ordre important', 'aucune'), value=…"
      ]
     },
     "metadata": {},
     "output_type": "display_data"
    }
   ],
   "source": [
    "print(\"Est-ce que l'ordre est important?\")\n",
    "\n",
    "user_ordre_6_2_ex6= widgets.Dropdown(\n",
    "    options=['Ordre pas important', 'Ordre important', 'aucune'],\n",
    "    value='aucune',\n",
    "    description='Réponse:',\n",
    "    disabled=False,\n",
    ")\n",
    "\n",
    "def on_change_6_2_ex6(change):\n",
    "    if change['new'] == 'Ordre pas important':\n",
    "        print(\"----------------------------------\")\n",
    "        print(\"Votre réponse '{}' est correcte! \\n \\\n",
    "        L'ordre n'est pas important, donc il ne peut pas s'agir d'arangement.\".format(change['new']))\n",
    "    else:\n",
    "        print(\"----------------------------------\")\n",
    "        print(\"Votre réponse '{}' n'est pas correcte!! \\n \\\n",
    "         hint: si on change l'ordre des cartes dans une main on ne change pas la main.\".format(change['new']))\n",
    "        \n",
    "display(user_ordre_6_2_ex6)\n",
    "user_ordre_6_2_ex6.observe(on_change_6_2_ex6, names = 'value')\n"
   ]
  },
  {
   "cell_type": "code",
   "execution_count": 886,
   "id": "7cb31cdd",
   "metadata": {
    "init_cell": true,
    "solution2": "hidden"
   },
   "outputs": [
    {
     "name": "stdout",
     "output_type": "stream",
     "text": [
      "Est-ce qu'on peut avoir des répétitions? Est-ce que la même carte pourra être tirée plusieurs fois?\n"
     ]
    },
    {
     "data": {
      "application/vnd.jupyter.widget-view+json": {
       "model_id": "eee153940fac488695a8e3a09633ea07",
       "version_major": 2,
       "version_minor": 0
      },
      "text/plain": [
       "Dropdown(description='Réponse:', index=2, options=('Avec répétitions', 'Sans répétitions', 'aucune'), value='a…"
      ]
     },
     "metadata": {},
     "output_type": "display_data"
    }
   ],
   "source": [
    "print(\"Est-ce qu'on peut avoir des répétitions? Est-ce que la même carte pourra être tirée plusieurs fois?\")\n",
    "\n",
    "user_ordre_2_6_ex6= widgets.Dropdown(\n",
    "    options=['Avec répétitions', 'Sans répétitions', 'aucune'],\n",
    "    value='aucune',\n",
    "    description='Réponse:',\n",
    "    disabled=False,\n",
    ")\n",
    "\n",
    "def on_change_2_6_ex6(change):\n",
    "    if change['new'] == 'Sans répétitions':\n",
    "        print(\"----------------------------------\")\n",
    "        print(\"Votre réponse '{}' est correcte! \\n \\\n",
    "        Donc il ne peut s'agir que de combinaison sans répétitions!\".format(change['new']))\n",
    "    else:\n",
    "        print(\"----------------------------------\")\n",
    "        print(\"Votre réponse '{}' n'est pas correcte!! \\n \\\n",
    "         hint: Chaque carte est unique, si elle fait partie d'une main, elle ne peut qu'être tirée \\n \\\n",
    "         qu'une seule fois dans cette main.\".format(change['new']))\n",
    "        \n",
    "display(user_ordre_2_6_ex6)\n",
    "user_ordre_2_6_ex6.observe(on_change_2_6_ex6, names = 'value')"
   ]
  },
  {
   "cell_type": "code",
   "execution_count": 887,
   "id": "589deee1",
   "metadata": {
    "init_cell": true,
    "solution2": "hidden"
   },
   "outputs": [
    {
     "name": "stdout",
     "output_type": "stream",
     "text": [
      "Vous pouvez maintenant retrouver la bonne formule à appliquer et resoumettre votre réponse au début de la question. \n",
      "\n",
      "Pour retrouver la formule à appliquer en passant par les permutations vous pouvez revenir à la question 1.4 précédente! \n",
      "\n"
     ]
    }
   ],
   "source": [
    "print(\"Vous pouvez maintenant retrouver la bonne formule à appliquer et resoumettre votre réponse au début de la question. \\n\")\n",
    "\n",
    "print(\"Pour retrouver la formule à appliquer en passant par les permutations vous pouvez revenir à la question 1.4 précédente! \\n\")\n"
   ]
  },
  {
   "cell_type": "markdown",
   "id": "20220c16",
   "metadata": {},
   "source": [
    "## De combien de manières peut-on ranger 6 livres distincts sur une étagère ?"
   ]
  },
  {
   "cell_type": "code",
   "execution_count": 888,
   "id": "0fcd53da",
   "metadata": {
    "init_cell": true,
    "scrolled": true
   },
   "outputs": [
    {
     "name": "stdout",
     "output_type": "stream",
     "text": [
      "De quelle type de disposition s'agit-il?\n"
     ]
    },
    {
     "data": {
      "application/vnd.jupyter.widget-view+json": {
       "model_id": "9268630543ce46b29d2856fb19011422",
       "version_major": 2,
       "version_minor": 0
      },
      "text/plain": [
       "Dropdown(description='Réponse:', index=6, options=('Permutation sans répétitions', 'Permutation avec répétitio…"
      ]
     },
     "metadata": {},
     "output_type": "display_data"
    }
   ],
   "source": [
    "print(\"De quelle type de disposition s'agit-il?\")\n",
    "\n",
    "user_type_7_ex6= widgets.Dropdown(\n",
    "    options=['Permutation sans répétitions', 'Permutation avec répétitions', 'Arrangement sans répétition', 'Arrangement avec répétition', 'Combinaison sans répétitions', 'Combinaison avec répétitions', 'aucune'],\n",
    "    value='aucune',\n",
    "    description='Réponse:',\n",
    "    disabled=False,\n",
    ")\n",
    "\n",
    "def on_change_7_ex6(change):\n",
    "    if change['new'] == 'Permutation sans répétitions':\n",
    "        print(\"----------------------------------\")\n",
    "        print(\"Votre réponse '{}' est correcte!\".format(change['new']))\n",
    "    else:\n",
    "        print(\"----------------------------------\")\n",
    "        print(\"Votre réponse '{}' n'est pas correcte!! \\n \\\n",
    "         hint: est-ce que la taille de notre disposition est la même que l'ensemble d'où on tire les éléments? \\n \\\n",
    "         Est-ce que l'ensembe contient des éléments qui se répètent? \\n\\\n",
    "         Est-ce que l'ordre des éléments dans notre disposition est important?\".format(change['new']))\n",
    "        \n",
    "display(user_type_7_ex6)\n",
    "user_type_7_ex6.observe(on_change_7_ex6, names = 'value')"
   ]
  },
  {
   "cell_type": "code",
   "execution_count": 889,
   "id": "c15fc77d",
   "metadata": {
    "init_cell": true,
    "scrolled": true,
    "solution2": "hidden",
    "solution2_first": true
   },
   "outputs": [
    {
     "name": "stdout",
     "output_type": "stream",
     "text": [
      "Combien de disposition de ce type pourrons-nous former?\n"
     ]
    },
    {
     "data": {
      "application/vnd.jupyter.widget-view+json": {
       "model_id": "8327362a538c451da89711c22cf0f6a7",
       "version_major": 2,
       "version_minor": 0
      },
      "text/plain": [
       "HBox(children=(IntText(value=0, description='Réponse:'), Button(description='Soumettre', icon='check', style=B…"
      ]
     },
     "metadata": {},
     "output_type": "display_data"
    }
   ],
   "source": [
    "print(\"Combien de disposition de ce type pourrons-nous former?\")\n",
    "\n",
    "n_ex6_7= 6\n",
    "k_ex6_7 = 6\n",
    "\n",
    "\n",
    "counter_7_ex6 = 0\n",
    "\n",
    "ex6_q7_answer = widgets.IntText(\n",
    "    value= 0,\n",
    "    description='Réponse:',\n",
    "    disabled=False\n",
    ")\n",
    "\n",
    "button = widgets.Button(\n",
    "    description='Soumettre',\n",
    "    disabled=False,\n",
    "    button_style='',\n",
    "    tooltip='Click me',\n",
    "    icon='check' \n",
    ")\n",
    "\n",
    "\n",
    "def test_7_ex6(change):\n",
    "    global counter_7_ex6 \n",
    "    counter_7_ex6 = counter_7_ex6 + 1\n",
    "    value = ex6_q7_answer.value\n",
    "    correct_value = int(fn.permutationNoRep(n_ex6_7))\n",
    "    if value == correct_value:\n",
    "        print(\"----------------------------------\")\n",
    "        print(\"Tetantive {}: Bravo! votre réponse est correcte :)\".format(counter_7_ex6))\n",
    "    else:\n",
    "        print(\"----------------------------------\")\n",
    "        print(\"Tetantive {}:Malheureusement, la réponse soumise n'est pas correcte. \\n \\\n",
    "       Cliquez sur 'Show solution' pour quelques indices\".format(counter_7_ex6))\n",
    "\n",
    "\n",
    "display(widgets.HBox([ex6_q7_answer, button]))\n",
    "\n",
    "button.on_click(test_7_ex6)"
   ]
  },
  {
   "cell_type": "code",
   "execution_count": 890,
   "id": "c6cf97f2",
   "metadata": {
    "init_cell": true,
    "solution2": "hidden"
   },
   "outputs": [
    {
     "name": "stdout",
     "output_type": "stream",
     "text": [
      "Cette question resemble beaucoup à la question 1.3 précédente, en remplaçant les 9 joueurs de baseball par les 6 livres. \n",
      "Vous pouvez y retourner pour suivre la même résolution.\n"
     ]
    }
   ],
   "source": [
    "print(\"Cette question resemble beaucoup à la question 1.3 précédente, en remplaçant les 9 joueurs de baseball par les 6 livres. \\n\\\n",
    "Vous pouvez y retourner pour suivre la même résolution.\")\n"
   ]
  },
  {
   "cell_type": "markdown",
   "id": "c7f9ad15",
   "metadata": {},
   "source": [
    "## Dans un pays, un numéro de téléphone est composé de 6 chiffres. Quelle est la capacité du réseau ?"
   ]
  },
  {
   "cell_type": "code",
   "execution_count": 891,
   "id": "decdb062",
   "metadata": {
    "init_cell": true,
    "scrolled": true
   },
   "outputs": [
    {
     "name": "stdout",
     "output_type": "stream",
     "text": [
      "De quelle type de disposition s'agit-il?\n"
     ]
    },
    {
     "data": {
      "application/vnd.jupyter.widget-view+json": {
       "model_id": "99bd7e86f0be430fac57a54d7ac89064",
       "version_major": 2,
       "version_minor": 0
      },
      "text/plain": [
       "Dropdown(description='Réponse:', index=6, options=('Permutation sans répétitions', 'Permutation avec répétitio…"
      ]
     },
     "metadata": {},
     "output_type": "display_data"
    }
   ],
   "source": [
    "print(\"De quelle type de disposition s'agit-il?\")\n",
    "\n",
    "user_type_8_ex6= widgets.Dropdown(\n",
    "    options=['Permutation sans répétitions', 'Permutation avec répétitions', 'Arrangement sans répétition', 'Arrangement avec répétition', 'Combinaison sans répétitions', 'Combinaison avec répétitions', 'aucune'],\n",
    "    value='aucune',\n",
    "    description='Réponse:',\n",
    "    disabled=False,\n",
    ")\n",
    "\n",
    "def on_change_8_ex6(change):\n",
    "    if change['new'] == 'Arrangement avec répétition':\n",
    "        print(\"----------------------------------\")\n",
    "        print(\"Votre réponse '{}' est correcte!\".format(change['new']))\n",
    "    else:\n",
    "        print(\"----------------------------------\")\n",
    "        print(\"Votre réponse '{}' n'est pas correcte!! \\n \\\n",
    "         hint: est-ce que la taille de notre disposition est la même que l'ensemble d'où on tire les éléments? \\n \\\n",
    "         Est-ce que l'ensembe contient des éléments qui se répètent? \\n\\\n",
    "         Est-ce que l'ordre des éléments dans notre disposition est important?\".format(change['new']))\n",
    "        \n",
    "display(user_type_8_ex6)\n",
    "user_type_8_ex6.observe(on_change_8_ex6, names = 'value')"
   ]
  },
  {
   "cell_type": "code",
   "execution_count": 892,
   "id": "2c9813b1",
   "metadata": {
    "init_cell": true,
    "scrolled": true,
    "solution2": "hidden",
    "solution2_first": true
   },
   "outputs": [
    {
     "name": "stdout",
     "output_type": "stream",
     "text": [
      "Combien de disposition de ce type pourrons-nous former?\n"
     ]
    },
    {
     "data": {
      "application/vnd.jupyter.widget-view+json": {
       "model_id": "a076b0eb621b468e8ecb54bb72b7a5a9",
       "version_major": 2,
       "version_minor": 0
      },
      "text/plain": [
       "HBox(children=(IntText(value=0, description='Réponse:'), Button(description='Soumettre', icon='check', style=B…"
      ]
     },
     "metadata": {},
     "output_type": "display_data"
    }
   ],
   "source": [
    "print(\"Combien de disposition de ce type pourrons-nous former?\")\n",
    "\n",
    "n_ex6_8= 10\n",
    "k_ex6_8 = 6\n",
    "\n",
    "\n",
    "counter_8_ex6 = 0\n",
    "\n",
    "ex6_q8_answer = widgets.IntText(\n",
    "    value= 0,\n",
    "    description='Réponse:',\n",
    "    disabled=False\n",
    ")\n",
    "\n",
    "button = widgets.Button(\n",
    "    description='Soumettre',\n",
    "    disabled=False,\n",
    "    button_style='',\n",
    "    tooltip='Click me',\n",
    "    icon='check' \n",
    ")\n",
    "\n",
    "\n",
    "def test_8_ex6(change):\n",
    "    global counter_8_ex6 \n",
    "    counter_8_ex6 = counter_8_ex6 + 1\n",
    "    value = ex6_q8_answer.value\n",
    "    correct_value = int(fn.arrangementRep(n_ex6_8,k_ex6_8))\n",
    "    if value == correct_value:\n",
    "        print(\"----------------------------------\")\n",
    "        print(\"Tetantive {}: Bravo! votre réponse est correcte :)\".format(counter_8_ex6))\n",
    "    else:\n",
    "        print(\"----------------------------------\")\n",
    "        print(\"Tetantive {}:Malheureusement, la réponse soumise n'est pas correcte. \\n \\\n",
    "       Cliquez sur 'Show solution' pour quelques indices\".format(counter_8_ex6))\n",
    "\n",
    "\n",
    "display(widgets.HBox([ex6_q8_answer, button]))\n",
    "\n",
    "button.on_click(test_8_ex6)"
   ]
  },
  {
   "cell_type": "code",
   "execution_count": 893,
   "id": "fb9746a6",
   "metadata": {
    "init_cell": true,
    "solution2": "hidden"
   },
   "outputs": [
    {
     "name": "stdout",
     "output_type": "stream",
     "text": [
      "Quelle est la taille, k, de notre disposition?\n",
      "Quelle est la taille, n, de l'ensemble depuis lequel on tire les éléments?\n"
     ]
    },
    {
     "data": {
      "application/vnd.jupyter.widget-view+json": {
       "model_id": "67d11992aa5b469ea8d92c2e1a50dea9",
       "version_major": 2,
       "version_minor": 0
      },
      "text/plain": [
       "HBox(children=(IntText(value=0, description='k:'), IntText(value=0, description='n:'), Button(description='Sou…"
      ]
     },
     "metadata": {},
     "output_type": "display_data"
    }
   ],
   "source": [
    "print(\"Quelle est la taille, k, de notre disposition?\")\n",
    "print(\"Quelle est la taille, n, de l'ensemble depuis lequel on tire les éléments?\")\n",
    "\n",
    "user_k_q8_answer = widgets.IntText(\n",
    "    value= 0,\n",
    "    description='k:',\n",
    "    disabled=False\n",
    ")\n",
    "\n",
    "user_n_q8_answer = widgets.IntText(\n",
    "    value= 0,\n",
    "    description='n:',\n",
    "    disabled=False\n",
    ")\n",
    "\n",
    "button = widgets.Button(\n",
    "    description='Soumettre',\n",
    "    disabled=False,\n",
    "    button_style='',\n",
    "    tooltip='Click me',\n",
    "    icon='check' \n",
    ")\n",
    "\n",
    "counter_8_1_ex6 = 0\n",
    "\n",
    "flag_k_8_1_ex6 = False \n",
    "flag_n_8_1_ex6 = False    \n",
    "    \n",
    "def test_8_1_ex6(change):\n",
    "    global counter_8_1_ex6 \n",
    "    global flag_k_8_1_ex6\n",
    "    global flag_n_8_1_ex6\n",
    "    counter_8_1_ex6 = counter_8_1_ex6 + 1\n",
    "    value_k = user_k_q8_answer.value\n",
    "    value_n = user_n_q8_answer.value\n",
    "\n",
    "    if value_k == k_ex6_8 : \n",
    "        flag_k = True\n",
    "    else:\n",
    "        flag_k = False\n",
    "        \n",
    "    if value_n == n_ex6_8 :\n",
    "        flag_n = True \n",
    "    else:\n",
    "        flag_n = False\n",
    "        \n",
    "    if flag_k and flag_n:\n",
    "        print(\"----------------------------------\")\n",
    "        print(\"Tetantive {}: Bravo! vos réponses sont correctes :) \\n \\\n",
    "        On voit que k est plus petit que n, donc il ne peut pas s'agir de permutations.\".format(counter_8_1_ex6))\n",
    "    else:\n",
    "        print(\"----------------------------------\")\n",
    "        print(\"Tetantive {}:Malheureusement, une ou plusieurs réponses soumises ne sont pas correctes. \\n \\\n",
    "       hint: k est la taille du numéro de téléphone, le nombre de chiffres qui composerait un numéro de téléphone unique, \\n \\\n",
    "       n est la taille de l'ensemble de toutes les chiffres depuis lequel on sélectionne les k chiffres pour composer un numéro.\".format(counter_8_1_ex6))\n",
    "\n",
    "\n",
    "display(widgets.HBox([user_k_q8_answer, user_n_q8_answer, button]))\n",
    "\n",
    "button.on_click(test_8_1_ex6)\n",
    "\n"
   ]
  },
  {
   "cell_type": "code",
   "execution_count": 894,
   "id": "7140285c",
   "metadata": {
    "init_cell": true,
    "solution2": "hidden"
   },
   "outputs": [
    {
     "name": "stdout",
     "output_type": "stream",
     "text": [
      "Est-ce que l'ordre des chiffres dans le numéro composé est important? \n",
      "\n",
      "Est-ce que le même chiffre pourra se répéter au sein du même numéro? \n",
      "\n",
      "Cette question est très similaire à la question 1.2 précédente, \n",
      " en remplaçant les lettres par les chiffres et les mots de 5 lettres par des numéro de 6 chiffres! \n",
      " Au besoin revenez à la question 1.2 pour une résolution détaillée.\n"
     ]
    }
   ],
   "source": [
    "print(\"Est-ce que l'ordre des chiffres dans le numéro composé est important? \\n\")\n",
    "print(\"Est-ce que le même chiffre pourra se répéter au sein du même numéro? \\n\")\n",
    "print(\"Cette question est très similaire à la question 1.2 précédente, \\n \\\n",
    "en remplaçant les lettres par les chiffres et les mots de 5 lettres par des numéro de 6 chiffres! \\n \\\n",
    "Au besoin revenez à la question 1.2 pour une résolution détaillée.\")"
   ]
  },
  {
   "cell_type": "markdown",
   "id": "aa6ac73c",
   "metadata": {},
   "source": [
    "## Un étudiant doit répondre à 7 des 10 questions d’un examen. De combien de manières peut-il les choisir ?"
   ]
  },
  {
   "cell_type": "code",
   "execution_count": 895,
   "id": "ca6f4637",
   "metadata": {
    "init_cell": true,
    "scrolled": false
   },
   "outputs": [
    {
     "name": "stdout",
     "output_type": "stream",
     "text": [
      "De quelle type de disposition s'agit-il?\n"
     ]
    },
    {
     "data": {
      "application/vnd.jupyter.widget-view+json": {
       "model_id": "aafe28bbfa2c47cfac54872e581c99c3",
       "version_major": 2,
       "version_minor": 0
      },
      "text/plain": [
       "Dropdown(description='Réponse:', index=6, options=('Permutation sans répétitions', 'Permutation avec répétitio…"
      ]
     },
     "metadata": {},
     "output_type": "display_data"
    }
   ],
   "source": [
    "print(\"De quelle type de disposition s'agit-il?\")\n",
    "\n",
    "user_type_9_ex6= widgets.Dropdown(\n",
    "    options=['Permutation sans répétitions', 'Permutation avec répétitions', 'Arrangement sans répétition', 'Arrangement avec répétition', 'Combinaison sans répétitions', 'Combinaison avec répétitions', 'aucune'],\n",
    "    value='aucune',\n",
    "    description='Réponse:',\n",
    "    disabled=False,\n",
    ")\n",
    "\n",
    "def on_change_9_ex6(change):\n",
    "    if change['new'] == 'Combinaison sans répétitions':\n",
    "        print(\"----------------------------------\")\n",
    "        print(\"Votre réponse '{}' est correcte!\".format(change['new']))\n",
    "    else:\n",
    "        print(\"----------------------------------\")\n",
    "        print(\"Votre réponse '{}' n'est pas correcte!! \\n \\\n",
    "         hint: est-ce que la taille de notre disposition est la même que l'ensemble d'où on tire les éléments? \\n \\\n",
    "         Est-ce que l'ensembe contient des éléments qui se répètent? \\n\\\n",
    "         Est-ce que l'ordre des éléments dans notre disposition est important?\".format(change['new']))\n",
    "        \n",
    "display(user_type_9_ex6)\n",
    "user_type_9_ex6.observe(on_change_9_ex6, names = 'value')"
   ]
  },
  {
   "cell_type": "code",
   "execution_count": 896,
   "id": "c6140f4a",
   "metadata": {
    "init_cell": true,
    "scrolled": false,
    "solution2": "hidden",
    "solution2_first": true
   },
   "outputs": [
    {
     "name": "stdout",
     "output_type": "stream",
     "text": [
      "Combien de disposition de ce type pourrons-nous former?\n"
     ]
    },
    {
     "data": {
      "application/vnd.jupyter.widget-view+json": {
       "model_id": "a252326a9aee465c8b5df501643caa86",
       "version_major": 2,
       "version_minor": 0
      },
      "text/plain": [
       "HBox(children=(IntText(value=0, description='Réponse:'), Button(description='Soumettre', icon='check', style=B…"
      ]
     },
     "metadata": {},
     "output_type": "display_data"
    }
   ],
   "source": [
    "print(\"Combien de disposition de ce type pourrons-nous former?\")\n",
    "\n",
    "n_ex6_9= 10\n",
    "k_ex6_9 = 7\n",
    "\n",
    "\n",
    "counter_9_ex6 = 0\n",
    "\n",
    "ex6_q9_answer = widgets.IntText(\n",
    "    value= 0,\n",
    "    description='Réponse:',\n",
    "    disabled=False\n",
    ")\n",
    "\n",
    "button = widgets.Button(\n",
    "    description='Soumettre',\n",
    "    disabled=False,\n",
    "    button_style='',\n",
    "    tooltip='Click me',\n",
    "    icon='check' \n",
    ")\n",
    "\n",
    "\n",
    "def test_9_ex6(change):\n",
    "    global counter_9_ex6 \n",
    "    counter_9_ex6 = counter_9_ex6 + 1\n",
    "    value = ex6_q9_answer.value\n",
    "    correct_value = int(fn.nCr(n_ex6_9,k_ex6_9))\n",
    "    if value == correct_value:\n",
    "        print(\"----------------------------------\")\n",
    "        print(\"Tetantive {}: Bravo! votre réponse est correcte :)\".format(counter_9_ex6))\n",
    "    else:\n",
    "        print(\"----------------------------------\")\n",
    "        print(\"Tetantive {}:Malheureusement, la réponse soumise n'est pas correcte. \\n \\\n",
    "       Cliquez sur 'Show solution' pour quelques indices\".format(counter_9_ex6))\n",
    "\n",
    "\n",
    "display(widgets.HBox([ex6_q9_answer, button]))\n",
    "\n",
    "button.on_click(test_9_ex6)"
   ]
  },
  {
   "cell_type": "code",
   "execution_count": 897,
   "id": "0e99e474",
   "metadata": {
    "init_cell": true,
    "solution2": "hidden"
   },
   "outputs": [
    {
     "name": "stdout",
     "output_type": "stream",
     "text": [
      "Quelle est la taille, k, de notre disposition?\n",
      "Quelle est la taille, n, de l'ensemble depuis lequel on tire les éléments?\n"
     ]
    },
    {
     "data": {
      "application/vnd.jupyter.widget-view+json": {
       "model_id": "4696e47ae46147b49c9cf394d46f901f",
       "version_major": 2,
       "version_minor": 0
      },
      "text/plain": [
       "HBox(children=(IntText(value=0, description='k:'), IntText(value=0, description='n:'), Button(description='Sou…"
      ]
     },
     "metadata": {},
     "output_type": "display_data"
    }
   ],
   "source": [
    "print(\"Quelle est la taille, k, de notre disposition?\")\n",
    "print(\"Quelle est la taille, n, de l'ensemble depuis lequel on tire les éléments?\")\n",
    "\n",
    "user_k_q9_answer = widgets.IntText(\n",
    "    value= 0,\n",
    "    description='k:',\n",
    "    disabled=False\n",
    ")\n",
    "\n",
    "user_n_q9_answer = widgets.IntText(\n",
    "    value= 0,\n",
    "    description='n:',\n",
    "    disabled=False\n",
    ")\n",
    "\n",
    "button = widgets.Button(\n",
    "    description='Soumettre',\n",
    "    disabled=False,\n",
    "    button_style='',\n",
    "    tooltip='Click me',\n",
    "    icon='check' \n",
    ")\n",
    "\n",
    "counter_9_1_ex6 = 0\n",
    "\n",
    "flag_k_9_1_ex6 = False \n",
    "flag_n_9_1_ex6 = False    \n",
    "    \n",
    "def test_9_1_ex6(change):\n",
    "    global counter_9_1_ex6 \n",
    "    global flag_k_9_1_ex6\n",
    "    global flag_n_9_1_ex6\n",
    "    counter_9_1_ex6 = counter_9_1_ex6 + 1\n",
    "    value_k = user_k_q9_answer.value\n",
    "    value_n = user_n_q9_answer.value\n",
    "\n",
    "    if value_k == k_ex6_9 : \n",
    "        flag_k = True\n",
    "    else:\n",
    "        flag_k = False\n",
    "        \n",
    "    if value_n == n_ex6_9 :\n",
    "        flag_n = True \n",
    "    else:\n",
    "        flag_n = False\n",
    "        \n",
    "    if flag_k and flag_n:\n",
    "        print(\"----------------------------------\")\n",
    "        print(\"Tetantive {}: Bravo! vos réponses sont correctes :) \\n \\\n",
    "        On voit que k est plus petit que n, donc il ne peut pas s'agir de permutations.\".format(counter_9_1_ex6))\n",
    "    else:\n",
    "        print(\"----------------------------------\")\n",
    "        print(\"Tetantive {}:Malheureusement, une ou plusieurs réponses soumises ne sont pas correctes. \\n \\\n",
    "       hint: k est la taille du groupe de questions à répondre, \\n \\\n",
    "       n est la taille de l'ensemble de toutes les questions depuis lequel on sélectionne les k questions à répondre.\".format(counter_9_1_ex6))\n",
    "\n",
    "\n",
    "display(widgets.HBox([user_k_q9_answer, user_n_q9_answer, button]))\n",
    "\n",
    "button.on_click(test_9_1_ex6)\n",
    "\n"
   ]
  },
  {
   "cell_type": "code",
   "execution_count": 898,
   "id": "e5136755",
   "metadata": {
    "init_cell": true,
    "scrolled": true,
    "solution2": "hidden"
   },
   "outputs": [
    {
     "name": "stdout",
     "output_type": "stream",
     "text": [
      "Est-ce que l'ordre avec lequel l'étudiant répond aux questions choisies est important? \n",
      "\n",
      "Est-ce que l'étudiant pourra donner plusieurs réponse à la même question? \n",
      "\n",
      "Cette question est très similaire à la question 1.4 précédente, \n",
      " en remplaçant les joueurs par les questions et l'équipe de joueurs de 5 par des groupes de 7 questions! \n",
      " Au besoin revenez à la question 1.4 pour une résolution détaillée.\n"
     ]
    }
   ],
   "source": [
    "print(\"Est-ce que l'ordre avec lequel l'étudiant répond aux questions choisies est important? \\n\")\n",
    "print(\"Est-ce que l'étudiant pourra donner plusieurs réponse à la même question? \\n\")\n",
    "print(\"Cette question est très similaire à la question 1.4 précédente, \\n \\\n",
    "en remplaçant les joueurs par les questions et l'équipe de joueurs de 5 par des groupes de 7 questions! \\n \\\n",
    "Au besoin revenez à la question 1.4 pour une résolution détaillée.\")"
   ]
  },
  {
   "cell_type": "markdown",
   "id": "d2ec0e5a",
   "metadata": {},
   "source": [
    "## Un QCM comporte 10 questions. Pour chacune des questions, 3 réponses sont proposées et une seule doit être cochée. De combien de manières peut-on remplir ce QCM ?"
   ]
  },
  {
   "cell_type": "code",
   "execution_count": 899,
   "id": "f7d15ecf",
   "metadata": {
    "init_cell": true,
    "scrolled": false
   },
   "outputs": [
    {
     "name": "stdout",
     "output_type": "stream",
     "text": [
      "De quelle type de disposition s'agit-il?\n"
     ]
    },
    {
     "data": {
      "application/vnd.jupyter.widget-view+json": {
       "model_id": "b63e7bc5099944fab6558a8d3495397c",
       "version_major": 2,
       "version_minor": 0
      },
      "text/plain": [
       "Dropdown(description='Réponse:', index=6, options=('Permutation sans répétitions', 'Permutation avec répétitio…"
      ]
     },
     "metadata": {},
     "output_type": "display_data"
    }
   ],
   "source": [
    "print(\"De quelle type de disposition s'agit-il?\")\n",
    "\n",
    "user_type_10_ex6= widgets.Dropdown(\n",
    "    options=['Permutation sans répétitions', 'Permutation avec répétitions', 'Arrangement sans répétition', 'Arrangement avec répétition', 'Combinaison sans répétitions', 'Combinaison avec répétitions', 'aucune'],\n",
    "    value='aucune',\n",
    "    description='Réponse:',\n",
    "    disabled=False,\n",
    ")\n",
    "\n",
    "def on_change_10_ex6(change):\n",
    "    if change['new'] == 'Arrangement avec répétition':\n",
    "        print(\"----------------------------------\")\n",
    "        print(\"Votre réponse '{}' est correcte!\".format(change['new']))\n",
    "    else:\n",
    "        print(\"----------------------------------\")\n",
    "        print(\"Votre réponse '{}' n'est pas correcte!! \\n \\\n",
    "         hint: est-ce que la taille de notre disposition est la même que l'ensemble d'où on tire les éléments? \\n \\\n",
    "         Est-ce que l'ensembe contient des éléments qui se répètent? \\n\\\n",
    "         Est-ce que l'ordre des éléments dans notre disposition est important?\".format(change['new']))\n",
    "        \n",
    "display(user_type_10_ex6)\n",
    "user_type_10_ex6.observe(on_change_10_ex6, names = 'value')"
   ]
  },
  {
   "cell_type": "code",
   "execution_count": 900,
   "id": "7f8f2138",
   "metadata": {
    "init_cell": true,
    "scrolled": false,
    "solution2": "hidden",
    "solution2_first": true
   },
   "outputs": [
    {
     "name": "stdout",
     "output_type": "stream",
     "text": [
      "Combien de disposition de ce type pourrons-nous former?\n"
     ]
    },
    {
     "data": {
      "application/vnd.jupyter.widget-view+json": {
       "model_id": "0c53a50ef9b747c48be229eefb734f64",
       "version_major": 2,
       "version_minor": 0
      },
      "text/plain": [
       "HBox(children=(IntText(value=0, description='Réponse:'), Button(description='Soumettre', icon='check', style=B…"
      ]
     },
     "metadata": {},
     "output_type": "display_data"
    }
   ],
   "source": [
    "print(\"Combien de disposition de ce type pourrons-nous former?\")\n",
    "\n",
    "n_ex6_10 = 3\n",
    "k_ex6_10 = 10\n",
    "\n",
    "\n",
    "counter_10_ex6 = 0\n",
    "\n",
    "ex6_q10_answer = widgets.IntText(\n",
    "    value= 0,\n",
    "    description='Réponse:',\n",
    "    disabled=False\n",
    ")\n",
    "\n",
    "button = widgets.Button(\n",
    "    description='Soumettre',\n",
    "    disabled=False,\n",
    "    button_style='',\n",
    "    tooltip='Click me',\n",
    "    icon='check' \n",
    ")\n",
    "\n",
    "\n",
    "def test_10_ex6(change):\n",
    "    global counter_10_ex6 \n",
    "    counter_10_ex6 = counter_10_ex6 + 1\n",
    "    value = ex6_q10_answer.value\n",
    "    correct_value = int(fn.arrangementRep(n_ex6_10,k_ex6_10))\n",
    "    if value == correct_value:\n",
    "        print(\"----------------------------------\")\n",
    "        print(\"Tetantive {}: Bravo! votre réponse est correcte :)\".format(counter_10_ex6))\n",
    "    else:\n",
    "        print(\"----------------------------------\")\n",
    "        print(\"Tetantive {}:Malheureusement, la réponse soumise n'est pas correcte. \\n \\\n",
    "       Cliquez sur 'Show solution' pour quelques indices\".format(counter_10_ex6))\n",
    "\n",
    "\n",
    "display(widgets.HBox([ex6_q10_answer, button]))\n",
    "\n",
    "button.on_click(test_10_ex6)"
   ]
  },
  {
   "cell_type": "code",
   "execution_count": 901,
   "id": "c4fcf16d",
   "metadata": {
    "init_cell": true,
    "solution2": "hidden"
   },
   "outputs": [
    {
     "name": "stdout",
     "output_type": "stream",
     "text": [
      "Quelle est la taille, k, de notre disposition?\n",
      "Quelle est la taille, n, de l'ensemble depuis lequel on tire les éléments?\n"
     ]
    },
    {
     "data": {
      "application/vnd.jupyter.widget-view+json": {
       "model_id": "5f9a049c7f9a476a8980b24fc176f0fa",
       "version_major": 2,
       "version_minor": 0
      },
      "text/plain": [
       "HBox(children=(IntText(value=0, description='k:'), IntText(value=0, description='n:'), Button(description='Sou…"
      ]
     },
     "metadata": {},
     "output_type": "display_data"
    }
   ],
   "source": [
    "print(\"Quelle est la taille, k, de notre disposition?\")\n",
    "print(\"Quelle est la taille, n, de l'ensemble depuis lequel on tire les éléments?\")\n",
    "\n",
    "user_k_q10_answer = widgets.IntText(\n",
    "    value= 0,\n",
    "    description='k:',\n",
    "    disabled=False\n",
    ")\n",
    "\n",
    "user_n_q10_answer = widgets.IntText(\n",
    "    value= 0,\n",
    "    description='n:',\n",
    "    disabled=False\n",
    ")\n",
    "\n",
    "button = widgets.Button(\n",
    "    description='Soumettre',\n",
    "    disabled=False,\n",
    "    button_style='',\n",
    "    tooltip='Click me',\n",
    "    icon='check' \n",
    ")\n",
    "\n",
    "counter_10_1_ex6 = 0\n",
    "\n",
    "flag_k_10_1_ex6 = False \n",
    "flag_n_10_1_ex6 = False    \n",
    "    \n",
    "def test_10_1_ex6(change):\n",
    "    global counter_10_1_ex6 \n",
    "    global flag_k_10_1_ex6\n",
    "    global flag_n_10_1_ex6\n",
    "    counter_10_1_ex6 = counter_10_1_ex6 + 1\n",
    "    value_k = user_k_q10_answer.value\n",
    "    value_n = user_n_q10_answer.value\n",
    "\n",
    "    if value_k == k_ex6_10 : \n",
    "        flag_k = True\n",
    "    else:\n",
    "        flag_k = False\n",
    "        \n",
    "    if value_n == n_ex6_10 :\n",
    "        flag_n = True \n",
    "    else:\n",
    "        flag_n = False\n",
    "        \n",
    "    if flag_k and flag_n:\n",
    "        print(\"----------------------------------\")\n",
    "        print(\"Tetantive {}: Bravo! vos réponses sont correctes :) \\n \\\n",
    "        On voit que k est plus grand que n, donc il ne peut pas s'agir de permutations.\".format(counter_10_1_ex6))\n",
    "    else:\n",
    "        print(\"----------------------------------\")\n",
    "        print(\"Tetantive {}:Malheureusement, une ou plusieurs réponses soumises ne sont pas correctes. \\n \\\n",
    "       hint: k est la taille du groupe de questions à répondre, \\n \\\n",
    "       n est la taille de l'ensemble de réponses possible.\".format(counter_10_1_ex6))\n",
    "\n",
    "\n",
    "display(widgets.HBox([user_k_q10_answer, user_n_q10_answer, button]))\n",
    "\n",
    "button.on_click(test_10_1_ex6)\n",
    "\n"
   ]
  },
  {
   "cell_type": "code",
   "execution_count": 902,
   "id": "cbc46f4d",
   "metadata": {
    "init_cell": true,
    "solution2": "hidden"
   },
   "outputs": [
    {
     "name": "stdout",
     "output_type": "stream",
     "text": [
      "Ce probème peut être vu de deux manières: \n",
      "\n",
      "1. Comme un problème de compter des aragements avec répétitions possible de taille 10 et un ensemble de 3. \n",
      " Pour chaque question, c'est la réponse 1, ou 2 ou 3 qui peut être choisi et le numéro de réponse choisi dans une question \n",
      " n'empêche pas qu'elle peut être rechoisi dans les questions suivantes, donc c'est un problème avec répéition. \n",
      " L'ordre est bien évidement important.\n",
      "\n",
      "2. On peut voir ce problème comme étant une succession de 10 opérations: \n",
      " chaque opération, question, correspond à sélectionner une réponse parmi 3 pour chaque question. Chaque opération correspond \n",
      " donc à une dispositin de type combinaison avec k = 1 et n = 3. \n",
      " Avec le principe de la multiplication, on peut combiner les possibilités pour toutes les questions. n La deuxième manière nous permet aussi de généraliser plus facilement au cas où on peut choisir plusieurs réponses par question.\n"
     ]
    }
   ],
   "source": [
    "print('Ce probème peut être vu de deux manières: \\n')\n",
    "print(\"1. Comme un problème de compter des aragements avec répétitions possible de taille 10 et un ensemble de 3. \\n \\\n",
    "Pour chaque question, c'est la réponse 1, ou 2 ou 3 qui peut être choisi et le numéro de réponse choisi dans une question \\n \\\n",
    "n'empêche pas qu'elle peut être rechoisi dans les questions suivantes, donc c'est un problème avec répéition. \\n \\\n",
    "L'ordre est bien évidement important.\\n\")\n",
    "print(\"2. On peut voir ce problème comme étant une succession de 10 opérations: \\n \\\n",
    "chaque opération, question, correspond à sélectionner une réponse parmi 3 pour chaque question. Chaque opération correspond \\n \\\n",
    "donc à une dispositin de type combinaison avec k = 1 et n = 3. \\n \\\n",
    "Avec le principe de la multiplication, on peut combiner les possibilités pour toutes les questions. n \\\n",
    "La deuxième manière nous permet aussi de généraliser plus facilement au cas où on peut choisir plusieurs réponses par question.\")"
   ]
  },
  {
   "cell_type": "markdown",
   "id": "71d63c8a",
   "metadata": {},
   "source": [
    "# Exercice 7"
   ]
  },
  {
   "cell_type": "markdown",
   "id": "5cf64510",
   "metadata": {},
   "source": [
    "Combien peut-on constituer d mots de 8 lettres avec le mot AVENTURE si …"
   ]
  },
  {
   "cell_type": "markdown",
   "id": "1b3e0e75",
   "metadata": {},
   "source": [
    "## .… il n’y a aucune restriction ?"
   ]
  },
  {
   "cell_type": "code",
   "execution_count": 903,
   "id": "219179df",
   "metadata": {
    "init_cell": true
   },
   "outputs": [
    {
     "name": "stdout",
     "output_type": "stream",
     "text": [
      "De quelle type de disposition s'agit-il?\n"
     ]
    },
    {
     "data": {
      "application/vnd.jupyter.widget-view+json": {
       "model_id": "d0546d69ad6b45468a86ac776cb0cf0f",
       "version_major": 2,
       "version_minor": 0
      },
      "text/plain": [
       "Dropdown(description='Réponse:', index=6, options=('Permutation sans répétitions', 'Permutation avec répétitio…"
      ]
     },
     "metadata": {},
     "output_type": "display_data"
    }
   ],
   "source": [
    "print(\"De quelle type de disposition s'agit-il?\")\n",
    "\n",
    "user_type_1_ex7= widgets.Dropdown(\n",
    "    options=['Permutation sans répétitions', 'Permutation avec répétitions', 'Arrangement sans répétition', 'Arrangement avec répétition', 'Combinaison sans répétitions', 'Combinaison avec répétitions', 'aucune'],\n",
    "    value='aucune',\n",
    "    description='Réponse:',\n",
    "    disabled=False,\n",
    ")\n",
    "\n",
    "def on_change_1_ex7(change):\n",
    "    if change['new'] == 'Permutation avec répétitions':\n",
    "        print(\"----------------------------------\")\n",
    "        print(\"Votre réponse '{}' est correcte!\".format(change['new']))\n",
    "    else:\n",
    "        print(\"----------------------------------\")\n",
    "        print(\"Votre réponse '{}' n'est pas correcte!! \\n \\\n",
    "         hint: est-ce que la taille de notre disposition est la même que l'ensemble d'où on tire les éléments? \\n \\\n",
    "         Est-ce que l'ensembe contient des éléments qui se répètent? \\n\\\n",
    "         Est-ce que l'ordre des éléments dans notre disposition est important?\".format(change['new']))\n",
    "        \n",
    "display(user_type_1_ex7)\n",
    "user_type_1_ex7.observe(user_type_1_ex7, names = 'value')"
   ]
  },
  {
   "cell_type": "code",
   "execution_count": 904,
   "id": "60ea74a1",
   "metadata": {
    "init_cell": true,
    "scrolled": true,
    "solution2": "hidden",
    "solution2_first": true
   },
   "outputs": [
    {
     "name": "stdout",
     "output_type": "stream",
     "text": [
      "Combien de mots de ce type pourrons-nous former?\n"
     ]
    },
    {
     "data": {
      "application/vnd.jupyter.widget-view+json": {
       "model_id": "c60127ebc2f34f69ad1154813ec61f2a",
       "version_major": 2,
       "version_minor": 0
      },
      "text/plain": [
       "HBox(children=(IntText(value=0, description='Réponse:'), Button(description='Soumettre', icon='check', style=B…"
      ]
     },
     "metadata": {},
     "output_type": "display_data"
    }
   ],
   "source": [
    "print(\"Combien de mots de ce type pourrons-nous former?\")\n",
    "\n",
    "n_ex7_1 = 8\n",
    "reps_n_ex7_1 = [2]\n",
    "counter_1_ex7 = 0\n",
    "\n",
    "ex7_q1_answer = widgets.IntText(\n",
    "    value= 0,\n",
    "    description='Réponse:',\n",
    "    disabled=False\n",
    ")\n",
    "\n",
    "button = widgets.Button(\n",
    "    description='Soumettre',\n",
    "    disabled=False,\n",
    "    button_style='',\n",
    "    tooltip='Click me',\n",
    "    icon='check' \n",
    ")\n",
    "\n",
    "\n",
    "def test_1_ex7(change):\n",
    "    global counter_1_ex7 \n",
    "    counter_1_ex7 = counter_1_ex7 + 1\n",
    "    value = ex7_q1_answer.value\n",
    "    correct_value = fn.verify_ex6_1(n_ex7_1, reps_n_ex7_1)\n",
    "    if value == correct_value:\n",
    "        print(\"----------------------------------\")\n",
    "        print(\"Tetantive {}: Bravo! votre réponse est correcte :)\".format(counter_1_ex7))\n",
    "    else:\n",
    "        print(\"----------------------------------\")\n",
    "        print(\"Tetantive {}:Malheureusement, la réponse soumise n'est pas correcte. \\n \\\n",
    "       Cette question est très similaire à la question 1.1 de l'exercice précédent. Revenez-y pour plus de détail. \\n \\\n",
    "       Cliquez sur 'Show Solution' pour une autre méthode de résolution\".format(counter_1_ex7))\n",
    "\n",
    "\n",
    "display(widgets.HBox([ex7_q1_answer, button]))\n",
    "\n",
    "button.on_click(test_1_ex7)"
   ]
  },
  {
   "cell_type": "code",
   "execution_count": 905,
   "id": "8534c0ef",
   "metadata": {
    "init_cell": true,
    "solution2": "hidden"
   },
   "outputs": [
    {
     "name": "stdout",
     "output_type": "stream",
     "text": [
      "Nous pourrons aussi résoudre cette question différement. \n",
      "\n",
      "S'il n'y avait pas de répétitions de la lettre E, le problème aurait été un problème de répétition simple.\n",
      " Mais du fait que E se répètent deux fois cela nous impose d'éviter les répétitions qui sont dues au différentes combinaisons \n",
      " possible des lettre E. Donc on essaie de diviser la problème en 2 sous-problèmes : \n",
      "\n",
      "1. De combien de manières pourrons-nous placer les 2 lettres E dans un mot de taille 8? \n",
      " Le problème de placer les 2 E dans le mot de 8 lettre est equivalent au problème de sélectionner 2 positions parmi 8. \n",
      " De quelle type de disposition s'agira-t-il? \n",
      "De quelle type de disposition s'agit-il?\n"
     ]
    },
    {
     "data": {
      "application/vnd.jupyter.widget-view+json": {
       "model_id": "3d81e4057f494791aa913bfd68f17eae",
       "version_major": 2,
       "version_minor": 0
      },
      "text/plain": [
       "Dropdown(description='Réponse:', index=6, options=('Permutation sans répétitions', 'Permutation avec répétitio…"
      ]
     },
     "metadata": {},
     "output_type": "display_data"
    }
   ],
   "source": [
    "print(\"Nous pourrons aussi résoudre cette question différement. \\n\")\n",
    "\n",
    "print(\"S'il n'y avait pas de répétitions de la lettre E, le problème aurait été un problème de répétition simple.\\n \\\n",
    "Mais du fait que E se répètent deux fois cela nous impose d'éviter les répétitions qui sont dues au différentes combinaisons \\n \\\n",
    "possible des lettre E. Donc on essaie de diviser la problème en 2 sous-problèmes : \\n\")\n",
    "\n",
    "print(\"1. De combien de manières pourrons-nous placer les 2 lettres E dans un mot de taille 8? \\n \\\n",
    "Le problème de placer les 2 E dans le mot de 8 lettre est equivalent au problème de sélectionner 2 positions parmi 8. \\n \\\n",
    "De quelle type de disposition s'agira-t-il? \")\n",
    "\n",
    "print(\"De quelle type de disposition s'agit-il?\")\n",
    "\n",
    "user_type_1_1_ex7= widgets.Dropdown(\n",
    "    options=['Permutation sans répétitions', 'Permutation avec répétitions', 'Arrangement sans répétition', 'Arrangement avec répétition', 'Combinaison sans répétitions', 'Combinaison avec répétitions', 'aucune'],\n",
    "    value='aucune',\n",
    "    description='Réponse:',\n",
    "    disabled=False,\n",
    ")\n",
    "\n",
    "def on_change_1_1_ex7(change):\n",
    "    if change['new'] == 'Combinaison sans répétitions':\n",
    "        print(\"----------------------------------\")\n",
    "        print(\"Votre réponse '{}' est correcte!\".format(change['new']))\n",
    "    else:\n",
    "        print(\"----------------------------------\")\n",
    "        print(\"Votre réponse '{}' n'est pas correcte!! \\n \\\n",
    "         hint: on veut choisir 2 positions parmi 8, l'ordre n'est en effet pas important.\".format(change['new']))\n",
    "        \n",
    "display(user_type_1_1_ex7)\n",
    "user_type_1_1_ex7.observe(on_change_1_1_ex7, names = 'value')\n"
   ]
  },
  {
   "cell_type": "code",
   "execution_count": 906,
   "id": "af5d22b9",
   "metadata": {
    "init_cell": true,
    "solution2": "hidden"
   },
   "outputs": [
    {
     "name": "stdout",
     "output_type": "stream",
     "text": [
      "2. On connait maintenant de combien de manière on peut placer les 2 lettres E. Il reste à savoir comment placer les \n",
      " les 6 autres lettres A V N T U R dans les 6 positions qui restent. \n",
      "\n",
      "De quelle type de disposition s'agit-il?\n"
     ]
    },
    {
     "data": {
      "application/vnd.jupyter.widget-view+json": {
       "model_id": "954673753cd5482e86b8c036498e2e38",
       "version_major": 2,
       "version_minor": 0
      },
      "text/plain": [
       "Dropdown(description='Réponse:', index=6, options=('Permutation sans répétitions', 'Permutation avec répétitio…"
      ]
     },
     "metadata": {},
     "output_type": "display_data"
    }
   ],
   "source": [
    "print(\"2. On connait maintenant de combien de manière on peut placer les 2 lettres E. Il reste à savoir comment placer les \\n \\\n",
    "les 6 autres lettres A V N T U R dans les 6 positions qui restent. \\n\")\n",
    "\n",
    "print(\"De quelle type de disposition s'agit-il?\")\n",
    "\n",
    "user_type_1_2_ex7= widgets.Dropdown(\n",
    "    options=['Permutation sans répétitions', 'Permutation avec répétitions', 'Arrangement sans répétition', 'Arrangement avec répétition', 'Combinaison sans répétitions', 'Combinaison avec répétitions', 'aucune'],\n",
    "    value='aucune',\n",
    "    description='Réponse:',\n",
    "    disabled=False,\n",
    ")\n",
    "\n",
    "def on_change_1_2_ex7(change):\n",
    "    if change['new'] == 'Permutation sans répétitions':\n",
    "        print(\"----------------------------------\")\n",
    "        print(\"Votre réponse '{}' est correcte!\".format(change['new']))\n",
    "    else:\n",
    "        print(\"----------------------------------\")\n",
    "        print(\"Votre réponse '{}' n'est pas correcte!! \\n \\\n",
    "         hint: on veut choisir 6 positions parmi 6 et les lettres sont toutes différentes.\".format(change['new']))\n",
    "        \n",
    "display(user_type_1_2_ex7)\n",
    "user_type_1_2_ex7.observe(on_change_1_2_ex7, names = 'value')"
   ]
  },
  {
   "cell_type": "code",
   "execution_count": 907,
   "id": "624323b4",
   "metadata": {
    "init_cell": true,
    "solution2": "hidden"
   },
   "outputs": [
    {
     "name": "stdout",
     "output_type": "stream",
     "text": [
      "3. On se rappelle aussi que nous devons combinez les résultats des points 1 et 2 précédent. On peut se dire que \n",
      " constituer un mot de 8 lettres avec les lettres A V E N T U R et E est équivalent à deux opérations: choisir les positions des \n",
      " E ET choisir les positions des 6 lettres restantes. \n",
      " \n"
     ]
    },
    {
     "data": {
      "application/vnd.jupyter.widget-view+json": {
       "model_id": "4fc604b97c8848afa34828ff073cd48e",
       "version_major": 2,
       "version_minor": 0
      },
      "text/plain": [
       "Dropdown(description='Réponse:', index=4, options=('Soustraction', 'Division', 'Addition', 'Multiplication', '…"
      ]
     },
     "metadata": {},
     "output_type": "display_data"
    }
   ],
   "source": [
    "print(\"3. On se rappelle aussi que nous devons combinez les résultats des points 1 et 2 précédent. On peut se dire que \\n \\\n",
    "constituer un mot de 8 lettres avec les lettres A V E N T U R et E est équivalent à deux opérations: choisir les positions des \\n \\\n",
    "E ET choisir les positions des 6 lettres restantes. \\n \")\n",
    "\n",
    "user_1_1_3_ex7 = widgets.Dropdown(\n",
    "    options=['Soustraction', 'Division', 'Addition', 'Multiplication', 'aucune'],\n",
    "    value='aucune',\n",
    "    description='Réponse:',\n",
    "    disabled=False,\n",
    ")\n",
    "\n",
    "def on_change_1_1_3_ex7(change):\n",
    "    if change['new'] == 'Multiplication':\n",
    "        print(\"----------------------------------\")\n",
    "        print(\"Votre réponse '{}' est correcte!\".format(change['new']))\n",
    "    else:\n",
    "        print(\"----------------------------------\")\n",
    "        print(\"Votre réponse '{}' n'est pas correcte!! \\n \\\n",
    "         hint: les deux oprations doivent se réaliser pour constituer le mot, elles ne sont pas mutuellement exclusives!\".format(change['new']))\n",
    "    \n",
    "display(user_1_1_3_ex7)\n",
    "user_1_1_3_ex7.observe(on_change_1_1_3_ex7, names = 'value')\n"
   ]
  },
  {
   "cell_type": "code",
   "execution_count": 908,
   "id": "4aec970c",
   "metadata": {
    "init_cell": true,
    "scrolled": true,
    "solution2": "hidden"
   },
   "outputs": [
    {
     "name": "stdout",
     "output_type": "stream",
     "text": [
      "Revenez au début de la question pour resoumettre votre réponse.\n"
     ]
    }
   ],
   "source": [
    "print(\"Revenez au début de la question pour resoumettre votre réponse.\")"
   ]
  },
  {
   "cell_type": "markdown",
   "id": "80ba3c77",
   "metadata": {},
   "source": [
    "## … les 2 E ne doivent pas se toucher ?"
   ]
  },
  {
   "cell_type": "code",
   "execution_count": 909,
   "id": "e27ec24e",
   "metadata": {
    "init_cell": true,
    "scrolled": true,
    "solution2": "hidden",
    "solution2_first": true
   },
   "outputs": [
    {
     "name": "stdout",
     "output_type": "stream",
     "text": [
      "Combien de mots de ce type pourrons-nous former?\n"
     ]
    },
    {
     "data": {
      "application/vnd.jupyter.widget-view+json": {
       "model_id": "efdd50c5bcf5406abe9aaedd6c524eb5",
       "version_major": 2,
       "version_minor": 0
      },
      "text/plain": [
       "HBox(children=(IntText(value=0, description='Réponse:'), Button(description='Soumettre', icon='check', style=B…"
      ]
     },
     "metadata": {},
     "output_type": "display_data"
    }
   ],
   "source": [
    "print(\"Combien de mots de ce type pourrons-nous former?\")\n",
    "\n",
    "n_ex7_2 = 8\n",
    "reps_n_ex7_2 = [2]\n",
    "\n",
    "counter_2_ex7 = 0\n",
    "\n",
    "ex7_q2_answer = widgets.IntText(\n",
    "    value= 0,\n",
    "    description='Réponse:',\n",
    "    disabled=False\n",
    ")\n",
    "\n",
    "button = widgets.Button(\n",
    "    description='Soumettre',\n",
    "    disabled=False,\n",
    "    button_style='',\n",
    "    tooltip='Click me',\n",
    "    icon='check' \n",
    ")\n",
    "\n",
    "\n",
    "def test_2_ex7(change):\n",
    "    global counter_2_ex7 \n",
    "    counter_2_ex7 = counter_2_ex7 + 1\n",
    "    value = ex7_q2_answer.value\n",
    "    correct_value = fn.verify_ex7_2(n_ex7_2, reps_n_ex7_2)\n",
    "    if value == correct_value:\n",
    "        print(\"----------------------------------\")\n",
    "        print(\"Tetantive {}: Bravo! votre réponse est correcte :)\".format(counter_2_ex7))\n",
    "    else:\n",
    "        print(\"----------------------------------\")\n",
    "        print(\"Tetantive {}:Malheureusement, la réponse soumise n'est pas correcte. \\n \\\n",
    "       Cliquez sur 'Show Solution' pour quelques indices\".format(counter_2_ex7))\n",
    "\n",
    "\n",
    "display(widgets.HBox([ex7_q2_answer, button]))\n",
    "\n",
    "button.on_click(test_2_ex7)"
   ]
  },
  {
   "cell_type": "code",
   "execution_count": 910,
   "id": "a06c0aa2",
   "metadata": {
    "init_cell": true,
    "scrolled": false,
    "solution2": "hidden"
   },
   "outputs": [
    {
     "name": "stdout",
     "output_type": "stream",
     "text": [
      "Il y a en effet 2 méthodes pour répondre à cette questions. \n",
      "\n",
      "Méthode 1: \n",
      "\n",
      "On peut procéder par élimination: on cherche le nombre total de mots possibles sans aucune restriction (question 2.1), \n",
      "de ce nombre on enlève le nombre de mots qui contiennent les lettres E qui se touchent. \n",
      "\n",
      "Encore une fois, on va compter les emplacement pour les E en premier selon la condition et ensuite on compte \n",
      " les emplacements des 6 lettres restantes. \n",
      "\n",
      "De combien de manières peut-on placer les 2 lettres E, l'une à côté de l'autre, dans un mot de 8 lettres?\n",
      "Quel sera alors le total de mots qui contiennent les deux lettres E placées l'une à côté de l'autre?\n"
     ]
    },
    {
     "data": {
      "application/vnd.jupyter.widget-view+json": {
       "model_id": "bab3076732364a6ba0952ab8a45a2009",
       "version_major": 2,
       "version_minor": 0
      },
      "text/plain": [
       "HBox(children=(IntText(value=0, description='Les E:'), IntText(value=0, description='Les mots:'), Button(descr…"
      ]
     },
     "metadata": {},
     "output_type": "display_data"
    }
   ],
   "source": [
    "print(\"Il y a en effet 2 méthodes pour répondre à cette questions. \\n\")\n",
    "\n",
    "print(\"Méthode 1: \\n\")\n",
    "\n",
    "print(\"On peut procéder par élimination: on cherche le nombre total de mots possibles sans aucune restriction (question 2.1), \\n\\\n",
    "de ce nombre on enlève le nombre de mots qui contiennent les lettres E qui se touchent. \\n\")\n",
    "\n",
    "print(\"Encore une fois, on va compter les emplacement pour les E en premier selon la condition et ensuite on compte \\n \\\n",
    "les emplacements des 6 lettres restantes. \\n\")\n",
    "\n",
    "print(\"De combien de manières peut-on placer les 2 lettres E, l'une à côté de l'autre, dans un mot de 8 lettres?\")\n",
    "print(\"Quel sera alors le total de mots qui contiennent les deux lettres E placées l'une à côté de l'autre?\")\n",
    "\n",
    "\n",
    "user_E_ex7_2_answer = widgets.IntText(\n",
    "    value= 0,\n",
    "    description='Les E:',\n",
    "    disabled=False\n",
    ")\n",
    "\n",
    "user_mot_ex7_2_answer = widgets.IntText(\n",
    "    value= 0,\n",
    "    description='Les mots:',\n",
    "    disabled=False\n",
    ")\n",
    "\n",
    "button = widgets.Button(\n",
    "    description='Soumettre',\n",
    "    disabled=False,\n",
    "    button_style='',\n",
    "    tooltip='Click me',\n",
    "    icon='check' \n",
    ")\n",
    "\n",
    "counter_2_2_ex7 = 0\n",
    "\n",
    "flag_E_2_ex7 = False \n",
    "flag_mot_2_ex7 = False    \n",
    "    \n",
    "def test_2_ex7(change):\n",
    "    global counter_2_2_ex7 \n",
    "    global flag_E_2_ex7\n",
    "    global flag_mot_2_ex7\n",
    "    counter_2_2_ex7 = counter_2_2_ex7 + 1\n",
    "    value_E = user_E_ex7_2_answer.value\n",
    "    value_mot = user_mot_ex7_2_answer.value\n",
    "\n",
    "    if value_E == (n_ex7_2 - reps_n_ex7_2[0] + 1): \n",
    "        flag_E_2_ex7 = True\n",
    "    else:\n",
    "        flag_E_2_ex7 = False\n",
    "        \n",
    "    if value_mot == ((n_ex7_2 - reps_n_ex7_2[0] + 1) * fn.permutationNoRep(n_ex7_2 - reps_n_ex7_2[0])) :\n",
    "        flag_mot_2_ex7 = True \n",
    "    else:\n",
    "        flag_mot_2_ex7 = False\n",
    "        \n",
    "    if flag_E_2_ex7 and flag_mot_2_ex7:\n",
    "        print(\"----------------------------------\")\n",
    "        print(\"Tetantive {}: Bravo! vos réponses sont correctes :)\".format(counter_2_2_ex7))\n",
    "    else:\n",
    "        print(\"----------------------------------\")\n",
    "        print(\"Tetantive {}:Malheureusement, une ou plusieurs réponses soumises ne sont pas correctes. \\n \\\n",
    "       hint: comptez les possibilités pour placer les 2 E sur l'illutration suivante! \\n \\n \\\n",
    "       _ _ _ _ _ _ _ _ \\n \\\n",
    "       e e \\n \\\n",
    "         e e \\n \\\n",
    "           e e \\n \\\n",
    "             e e \\n \\\n",
    "               e e \\n \\\n",
    "                 e e \\n \\\n",
    "                   e e \\n \\\n",
    "        \\n Placer le reste des 6 lettres dans les 6 positions restantes est un problème de permutation sans répétitions.\\n \\\n",
    "        Comme dans la question 2.1., nous devons combiner le nombre de positions possibles pour les 2 E avec le nombre \\n \\\n",
    "        de positions possibles pour le reste des lettres avec le principe de la multiplication.\".format(counter_2_2_ex7))\n",
    "\n",
    "\n",
    "display(widgets.HBox([user_E_ex7_2_answer, user_mot_ex7_2_answer, button]))\n",
    "\n",
    "button.on_click(test_2_ex7)\n",
    "\n"
   ]
  },
  {
   "cell_type": "code",
   "execution_count": 911,
   "id": "c738f33c",
   "metadata": {
    "init_cell": true,
    "solution2": "hidden"
   },
   "outputs": [
    {
     "name": "stdout",
     "output_type": "stream",
     "text": [
      "N'oublions pas qu'il faut soustraire ces mots qu'on vient de trouver du total des mots trouvés sans rstriction!\n"
     ]
    }
   ],
   "source": [
    "print(\"N'oublions pas qu'il faut soustraire ces mots qu'on vient de trouver du total des mots trouvés sans rstriction!\")"
   ]
  },
  {
   "cell_type": "code",
   "execution_count": 912,
   "id": "d0d963e6",
   "metadata": {
    "init_cell": true,
    "solution2": "hidden"
   },
   "outputs": [
    {
     "name": "stdout",
     "output_type": "stream",
     "text": [
      "Méthode 2: \n",
      "\n",
      "Avec cette méthode on procède directement à compter de combien de manières on peut placer les 2 lettres E \n",
      " dans un mot à 8 lettres, tel que les E ne se touchent pas ET on combine cela avec les possibilités de placer le reste \n",
      " des 6 lettres!\n",
      "De combien de manières peut-on placer les 2 lettres E,sans qu'elles se touchent, dans un mot de 8 lettres?\n",
      "Quel sera alors le total de mots qui contiennent les deux lettres E ne se touchant pas?\n"
     ]
    },
    {
     "data": {
      "application/vnd.jupyter.widget-view+json": {
       "model_id": "9655499a8baf42ac8f79c7435479ac40",
       "version_major": 2,
       "version_minor": 0
      },
      "text/plain": [
       "HBox(children=(IntText(value=0, description='Les E:'), IntText(value=0, description='Les mots:'), Button(descr…"
      ]
     },
     "metadata": {},
     "output_type": "display_data"
    }
   ],
   "source": [
    "print(\"Méthode 2: \\n\")\n",
    "print(\"Avec cette méthode on procède directement à compter de combien de manières on peut placer les 2 lettres E \\n \\\n",
    "dans un mot à 8 lettres, tel que les E ne se touchent pas ET on combine cela avec les possibilités de placer le reste \\n \\\n",
    "des 6 lettres!\")\n",
    "\n",
    "print(\"De combien de manières peut-on placer les 2 lettres E,sans qu'elles se touchent, dans un mot de 8 lettres?\")\n",
    "print(\"Quel sera alors le total de mots qui contiennent les deux lettres E ne se touchant pas?\")\n",
    "\n",
    "\n",
    "user_E_ex7_2_2_answer = widgets.IntText(\n",
    "    value= 0,\n",
    "    description='Les E:',\n",
    "    disabled=False\n",
    ")\n",
    "\n",
    "user_mot_ex7_2_2_answer = widgets.IntText(\n",
    "    value= 0,\n",
    "    description='Les mots:',\n",
    "    disabled=False\n",
    ")\n",
    "\n",
    "button = widgets.Button(\n",
    "    description='Soumettre',\n",
    "    disabled=False,\n",
    "    button_style='',\n",
    "    tooltip='Click me',\n",
    "    icon='check' \n",
    ")\n",
    "\n",
    "counter_2_3_ex7 = 0\n",
    "\n",
    "flag_E_2_2_ex7 = False \n",
    "flag_mot_2_2_ex7 = False    \n",
    "    \n",
    "def test_2_2_ex7(change):\n",
    "    global counter_2_3_ex7 \n",
    "    global flag_E_2_2_ex7\n",
    "    global flag_mot_2_2_ex7\n",
    "    counter_2_3_ex7 = counter_2_3_ex7 + 1\n",
    "    value_E = user_E_ex7_2_2_answer.value\n",
    "    value_mot = user_mot_ex7_2_2_answer.value\n",
    "\n",
    "    if value_E == 21: \n",
    "        flag_E_2_ex7 = True\n",
    "    else:\n",
    "        flag_E_2_ex7 = False\n",
    "        \n",
    "    if value_mot == (21 * fn.permutationNoRep(n_ex7_2 - reps_n_ex7_2[0])) :\n",
    "        flag_mot_2_ex7 = True \n",
    "    else:\n",
    "        flag_mot_2_ex7 = False\n",
    "        \n",
    "    if flag_E_2_ex7 and flag_mot_2_ex7:\n",
    "        print(\"----------------------------------\")\n",
    "        print(\"Tetantive {}: Bravo! vos réponses sont correctes :)\".format(counter_2_3_ex7))\n",
    "    else:\n",
    "        print(\"----------------------------------\")\n",
    "        print(\"Tetantive {}:Malheureusement, une ou plusieurs réponses soumises ne sont pas correctes. \\n \\\n",
    "       hint: Comptez les possibilités, une fois vous placez la première E, le nombre de possibilités qui restent \\n \\\n",
    "       pour la 2eme! Rappelez-vous aussi que l'ordre entre les E n'est pas important! \\n \\n \\\n",
    "       _ _ _ _ _ _ _ _ \\n \\\n",
    "       e _ x x x x x x \\n \\\n",
    "         e _ x x x x x \\n \\\n",
    "           e _ x x x x \\n \\\n",
    "             e _ x x x  \\n \\\n",
    "               e _ x x  \\n \\\n",
    "                 e _ x \\n \\\n",
    "        \\n Placer le reste des 6 lettres dans les 6 positions restantes est un problème de permutation sans répétitions.\\n \\\n",
    "        Comme dans la question 2.1., nous devons combiner le nombre de positions possibles pour les 2 E avec le nombre \\n \\\n",
    "        de positions possibles pour le reste des lettres avec le principe de la multiplication.\".format(counter_2_3_ex7))\n",
    "\n",
    "\n",
    "display(widgets.HBox([user_E_ex7_2_2_answer, user_mot_ex7_2_2_answer, button]))\n",
    "\n",
    "button.on_click(test_2_2_ex7)\n",
    "\n"
   ]
  },
  {
   "cell_type": "markdown",
   "id": "ed0992cd",
   "metadata": {},
   "source": [
    "## … les 3 premières lettres doivent être des voyelles ?"
   ]
  },
  {
   "cell_type": "code",
   "execution_count": 913,
   "id": "9bb432e2",
   "metadata": {
    "init_cell": true,
    "scrolled": true,
    "solution2": "hidden",
    "solution2_first": true
   },
   "outputs": [
    {
     "name": "stdout",
     "output_type": "stream",
     "text": [
      "Combien de mots de ce type pourrons-nous former?\n"
     ]
    },
    {
     "data": {
      "application/vnd.jupyter.widget-view+json": {
       "model_id": "5f2f5682228e461d8319d9a3e727c5b2",
       "version_major": 2,
       "version_minor": 0
      },
      "text/plain": [
       "HBox(children=(IntText(value=0, description='Réponse:'), Button(description='Soumettre', icon='check', style=B…"
      ]
     },
     "metadata": {},
     "output_type": "display_data"
    }
   ],
   "source": [
    "print(\"Combien de mots de ce type pourrons-nous former?\")\n",
    "\n",
    "n_ex7_3 = 8\n",
    "voyel_ex7_3 = len(['A', 'E', 'E', 'U'])\n",
    "reps_ex7_3 = [2]\n",
    "\n",
    "counter_3_ex7 = 0\n",
    "\n",
    "ex7_q3_answer = widgets.IntText(\n",
    "    value= 0,\n",
    "    description='Réponse:',\n",
    "    disabled=False\n",
    ")\n",
    "\n",
    "button = widgets.Button(\n",
    "    description='Soumettre',\n",
    "    disabled=False,\n",
    "    button_style='',\n",
    "    tooltip='Click me',\n",
    "    icon='check' \n",
    ")\n",
    "\n",
    "\n",
    "def test_3_ex7(change):\n",
    "    global counter_3_ex7 \n",
    "    counter_3_ex7 = counter_3_ex7 + 1\n",
    "    value = ex7_q3_answer.value\n",
    "    correct_value = fn.verify_ex7_3(n_ex7_3, voyel_ex7_3,reps_ex7_3)\n",
    "    if value == correct_value:\n",
    "        print(\"----------------------------------\")\n",
    "        print(\"Tetantive {}: Bravo! votre réponse est correcte :)\".format(counter_3_ex7))\n",
    "    else:\n",
    "        print(\"----------------------------------\")\n",
    "        print(\"Tetantive {}:Malheureusement, la réponse soumise n'est pas correcte. \\n \\\n",
    "       Cliquez sur 'Show Solution' pour quelques indices\".format(counter_3_ex7))\n",
    "\n",
    "\n",
    "display(widgets.HBox([ex7_q3_answer, button]))\n",
    "\n",
    "button.on_click(test_3_ex7)"
   ]
  },
  {
   "cell_type": "code",
   "execution_count": 914,
   "id": "79f49b55",
   "metadata": {
    "init_cell": true,
    "solution2": "hidden"
   },
   "outputs": [
    {
     "name": "stdout",
     "output_type": "stream",
     "text": [
      "Nous avons au total 4 voyelles : A , E , E et U .\n",
      "\n",
      "On veut que les 3 premières lettres du mot soient des voyelles. Mais au moins un E pourra apparaitre dans ces 3 voyelles! \n",
      "\n",
      "Encore une fois, on va procéder en deux étapes: compter les possibililités de choisir les 3 voyelles et \n",
      " compter les possibilités de choisir les 5 lettres restantes. \n",
      "\n",
      "De combien de manières différentes pourrons nous choisir les 3 voyelles? On décompose cette question encore! \n",
      "\n",
      "De combien de manières pourrons nous choisir les 3 voyelles si les deux E sont dedans? \n",
      " Dit autrement, de combien de manières pourrons nous positioner 2 E et sélectionner la 3eme voyelle? \n",
      "\n",
      "De combien de manières pourrons nous choisir les 3 voyelles si une seule E est dedans? \n",
      " Dit aturement, de combien de manières on peut positionner la E? et de combien de manières on choisit les 2 voyelles restantes?\n"
     ]
    },
    {
     "data": {
      "application/vnd.jupyter.widget-view+json": {
       "model_id": "ba75411056a948c39dd23172c517b998",
       "version_major": 2,
       "version_minor": 0
      },
      "text/plain": [
       "HBox(children=(IntText(value=0, description='Deux E:'), IntText(value=0, description='Une E:'), Button(descrip…"
      ]
     },
     "metadata": {},
     "output_type": "display_data"
    }
   ],
   "source": [
    "print(\"Nous avons au total 4 voyelles : A , E , E et U .\\n\")\n",
    "print(\"On veut que les 3 premières lettres du mot soient des voyelles. Mais au moins un E pourra apparaitre dans ces 3 voyelles! \\n\")\n",
    "\n",
    "print(\"Encore une fois, on va procéder en deux étapes: compter les possibililités de choisir les 3 voyelles et \\n \\\n",
    "compter les possibilités de choisir les 5 lettres restantes. \\n\")\n",
    "\n",
    "print(\"De combien de manières différentes pourrons nous choisir les 3 voyelles? On décompose cette question encore! \\n\")\n",
    "print(\"De combien de manières pourrons nous choisir les 3 voyelles si les deux E sont dedans? \\n \\\n",
    "Dit autrement, de combien de manières pourrons nous positioner 2 E et sélectionner la 3eme voyelle? \\n\")\n",
    "print(\"De combien de manières pourrons nous choisir les 3 voyelles si une seule E est dedans? \\n \\\n",
    "Dit aturement, de combien de manières on peut positionner la E? et de combien de manières on choisit les 2 voyelles restantes?\" )\n",
    "\n",
    "user_2E_ex7_3_1_answer = widgets.IntText(\n",
    "    value= 0,\n",
    "    description='Deux E:',\n",
    "    disabled=False\n",
    ")\n",
    "\n",
    "user_1E_ex7_3_1_answer = widgets.IntText(\n",
    "    value= 0,\n",
    "    description='Une E:',\n",
    "    disabled=False\n",
    ")\n",
    "\n",
    "button = widgets.Button(\n",
    "    description='Soumettre',\n",
    "    disabled=False,\n",
    "    button_style='',\n",
    "    tooltip='Click me',\n",
    "    icon='check' \n",
    ")\n",
    "\n",
    "counter_3_1_ex7 = 0\n",
    "\n",
    "flag_2E_3_1_ex7 = False \n",
    "flag_1E_3_1_ex7 = False    \n",
    "    \n",
    "def test_3_1_ex7(change):\n",
    "    global counter_3_1_ex7 \n",
    "    global flag_2E_3_1_ex7\n",
    "    global flag_1E_3_1_ex7\n",
    "    counter_3_1_ex7 = counter_3_1_ex7 + 1\n",
    "    value_2E = user_2E_ex7_3_1_answer.value\n",
    "    value_1E = user_1E_ex7_3_1_answer.value\n",
    "\n",
    "    if value_2E == 6: \n",
    "        flag_2E_3_1_ex7 = True\n",
    "    else:\n",
    "        flag_2E_3_1_ex7 = False\n",
    "        \n",
    "    if value_1E ==  6:\n",
    "        flag_1E_3_1_ex7 = True \n",
    "    else:\n",
    "        flag_1E_3_1_ex7 = False\n",
    "        \n",
    "    if flag_2E_3_1_ex7 and flag_1E_3_1_ex7:\n",
    "        print(\"----------------------------------\")\n",
    "        print(\"Tetantive {}: Bravo! vos réponses sont correctes :)\".format(counter_3_1_ex7))\n",
    "    if not flag_2E_3_1_ex7: \n",
    "        print(\"----------------------------------\")\n",
    "        print(\"Tetantive {}: le nombre de possibilités des 3 voyelles avec 2 E n'est pas correcte. \\n \\\n",
    "        hint: faites en une illustration! il y a 3 positions, dont 2 doivent être occupées par les 2 E ET une \\n \\\n",
    "        3eme position doit être remplie par une des deux voyelles restantes, de combien de manières pourrons-nous choisir \\n \\\n",
    "        cette troisième voyelle?\".format(counter_3_1_ex7))\n",
    "    if not flag_1E_3_1_ex7: \n",
    "        print(\"----------------------------------\")\n",
    "        print(\"Tetantive {}: le nombre des possibilités des 3 voyelles contenant une E n'est pas correcte. \\n \\\n",
    "        hint: faites en une illustration! il y a 3 positions, dont 1 doit être occupée par la E ET deux \\n \\\n",
    "        autres voyelles doivent être choisies pour les 2 positions restantes! Cela ressemble aussi à une permutation \\n \\\n",
    "        sans répétitions des trois voyelles A, E et U.\".format(counter_3_1_ex7))\n",
    "\n",
    "\n",
    "display(widgets.HBox([user_2E_ex7_3_1_answer, user_1E_ex7_3_1_answer, button]))\n",
    "\n",
    "button.on_click(test_3_1_ex7)\n",
    "\n"
   ]
  },
  {
   "cell_type": "code",
   "execution_count": 915,
   "id": "8055ba8c",
   "metadata": {
    "init_cell": true,
    "solution2": "hidden"
   },
   "outputs": [
    {
     "name": "stdout",
     "output_type": "stream",
     "text": [
      "De combien de manières pourrons-nous choisir les 5 lettres restantes?\n"
     ]
    },
    {
     "data": {
      "application/vnd.jupyter.widget-view+json": {
       "model_id": "b8ec85fc475e4a57a36db2c996fa2a2e",
       "version_major": 2,
       "version_minor": 0
      },
      "text/plain": [
       "HBox(children=(IntText(value=0, description='Réponse:'), Button(description='Soumettre', icon='check', style=B…"
      ]
     },
     "metadata": {},
     "output_type": "display_data"
    }
   ],
   "source": [
    "print(\"De combien de manières pourrons-nous choisir les 5 lettres restantes?\")\n",
    "\n",
    "n_ex7_3_3 = 5\n",
    "\n",
    "\n",
    "counter_4_ex7 = 0\n",
    "\n",
    "ex7_3_3_answer = widgets.IntText(\n",
    "    value= 0,\n",
    "    description='Réponse:',\n",
    "    disabled=False\n",
    ")\n",
    "\n",
    "button = widgets.Button(\n",
    "    description='Soumettre',\n",
    "    disabled=False,\n",
    "    button_style='',\n",
    "    tooltip='Click me',\n",
    "    icon='check' \n",
    ")\n",
    "\n",
    "\n",
    "def test_3_3_ex7(change):\n",
    "    global counter_4_ex7 \n",
    "    counter_4_ex7 = counter_4_ex7 + 1\n",
    "    value = ex7_3_3_answer.value\n",
    "    correct_value = fn.permutationNoRep(n_ex7_3_3)\n",
    "    if value == correct_value:\n",
    "        print(\"----------------------------------\")\n",
    "        print(\"Tetantive {}: Bravo! votre réponse est correcte :)\".format(counter_4_ex7))\n",
    "    else:\n",
    "        print(\"----------------------------------\")\n",
    "        print(\"Tetantive {}:Malheureusement, la réponse soumise n'est pas correcte. \\n \\\n",
    "       hint: nous devons remplir 5 positions restantes avec 5 lettres restantes, la 4eme voyelle qui n'a pas été \\n \\\n",
    "       utilisée dans l'étape précédente pourra être utilisée ici. On note aussi que à ce stade toutes les lettres restantees \\n \\\n",
    "       sont différentes!\".format(counter_4_ex7))\n",
    "\n",
    "\n",
    "display(widgets.HBox([ex7_3_3_answer, button]))\n",
    "\n",
    "button.on_click(test_3_3_ex7)"
   ]
  },
  {
   "cell_type": "code",
   "execution_count": 916,
   "id": "32b3ec13",
   "metadata": {
    "init_cell": true,
    "solution2": "hidden"
   },
   "outputs": [
    {
     "name": "stdout",
     "output_type": "stream",
     "text": [
      "N'oublions pas qu'il faut combiner les possbilités pour choisir les 3 voyelles avec les possibilités pour \n",
      "choisir les 5 lettres restantes du mot.\n"
     ]
    }
   ],
   "source": [
    "print(\"N'oublions pas qu'il faut combiner les possbilités pour choisir les 3 voyelles avec les possibilités pour \\n\\\n",
    "choisir les 5 lettres restantes du mot.\")"
   ]
  },
  {
   "cell_type": "markdown",
   "id": "405365e3",
   "metadata": {
    "solution2": "hidden"
   },
   "source": [
    "# Exercice 8 (seulement les 6 premières questions)"
   ]
  },
  {
   "cell_type": "markdown",
   "id": "532b036f",
   "metadata": {},
   "source": [
    "Dans ce problème on va introduire des conditions à satisfaire dans les dipositions qu'on veut former. On va généralement procéder en étapes : dénombrer les différentes manières qui permetteraient de satisfaire la condition imposée ET dénombrer le reste des éléments non soumis à la condition. On combine donc à la fin les dénombrement de ces différentes étapes. \n",
    "\n",
    "Un jeu de jass est un jeu de cartes qui utilisent uniquement les 4 familles (coeurs, carreaux, pique, trèfle) des cartes As, Roi, Dame, Valet, 10, 9, 8, 7 et 6. Dans un jeu de jass, combien y a-t-il de mains de 12 cartes qui contiennent…"
   ]
  },
  {
   "cell_type": "markdown",
   "id": "e056a9d4",
   "metadata": {},
   "source": [
    "## .… les 4 as ?"
   ]
  },
  {
   "cell_type": "code",
   "execution_count": 917,
   "id": "018a7fab",
   "metadata": {
    "init_cell": true,
    "scrolled": true,
    "solution2": "hidden",
    "solution2_first": true
   },
   "outputs": [
    {
     "name": "stdout",
     "output_type": "stream",
     "text": [
      "Combien de mains de ce type pourrons-nous former?\n"
     ]
    },
    {
     "data": {
      "application/vnd.jupyter.widget-view+json": {
       "model_id": "0a337bfd396e41faa9107bae6186e41c",
       "version_major": 2,
       "version_minor": 0
      },
      "text/plain": [
       "HBox(children=(IntText(value=0, description='Réponse:'), Button(description='Soumettre', icon='check', style=B…"
      ]
     },
     "metadata": {},
     "output_type": "display_data"
    }
   ],
   "source": [
    "print(\"Combien de mains de ce type pourrons-nous former?\")\n",
    "\n",
    "n_ex8_1 = 32\n",
    "k_ex8_1 = 8\n",
    "\n",
    "counter_1_ex8 = 0\n",
    "\n",
    "ex8_q1_answer = widgets.IntText(\n",
    "    value= 0,\n",
    "    description='Réponse:',\n",
    "    disabled=False\n",
    ")\n",
    "\n",
    "button = widgets.Button(\n",
    "    description='Soumettre',\n",
    "    disabled=False,\n",
    "    button_style='',\n",
    "    tooltip='Click me',\n",
    "    icon='check' \n",
    ")\n",
    "\n",
    "\n",
    "def test_1_ex8(change):\n",
    "    global counter_1_ex8 \n",
    "    counter_1_ex8 = counter_1_ex8 + 1\n",
    "    value = ex8_q1_answer.value\n",
    "    correct_value = fn.nCr(n_ex8_1, k_ex8_1)\n",
    "    if value == correct_value:\n",
    "        print(\"----------------------------------\")\n",
    "        print(\"Tetantive {}: Bravo! votre réponse est correcte :)\".format(counter_1_ex8))\n",
    "    else:\n",
    "        print(\"----------------------------------\")\n",
    "        print(\"Tetantive {}:Malheureusement, la réponse soumise n'est pas correcte. \\n \\\n",
    "       Cliquez sur 'Show Solution' pour quelques indices\".format(counter_1_ex8))\n",
    "\n",
    "\n",
    "display(widgets.HBox([ex8_q1_answer, button]))\n",
    "\n",
    "button.on_click(test_1_ex8)"
   ]
  },
  {
   "cell_type": "code",
   "execution_count": 918,
   "id": "78f3b162",
   "metadata": {
    "init_cell": true,
    "solution2": "hidden"
   },
   "outputs": [
    {
     "name": "stdout",
     "output_type": "stream",
     "text": [
      "Notons en premier, que la taille de l'ensemble des cartes est 36! \n",
      "\n",
      "Nous voulons former des mains de 12 cartes tirées parmi les 36. \n",
      "\n",
      "L'ordre des cartes dans une main n'étant pas important et chaque carte ne pouvant apparaitre qu'une seule fois, \n",
      " nous sommes dans la situation de combinaisons sans répétitions!\n",
      "Mais nous avons aussi une condition/restriction, les 4 As sont inclus dans les mains qu'on veut dénombrer. \n",
      "\n",
      "Satisfaire la condition, equivaut à modifier l'ensemble et la disposition qu'on cherche!! \n",
      " \n",
      "Quelle est la nouvelle taille, k, de notre disposition?\n",
      "Quelle est la nouvelle taille, n, de l'ensemble depuis lequel on tire les éléments?\n"
     ]
    },
    {
     "data": {
      "application/vnd.jupyter.widget-view+json": {
       "model_id": "12d854a19f9b4ef88f35a3844d9594f2",
       "version_major": 2,
       "version_minor": 0
      },
      "text/plain": [
       "HBox(children=(IntText(value=0, description='k:'), IntText(value=0, description='n:'), Button(description='Sou…"
      ]
     },
     "metadata": {},
     "output_type": "display_data"
    }
   ],
   "source": [
    "print(\"Notons en premier, que la taille de l'ensemble des cartes est 36! \\n\")\n",
    "\n",
    "print(\"Nous voulons former des mains de 12 cartes tirées parmi les 36. \\n\")\n",
    "\n",
    "print(\"L'ordre des cartes dans une main n'étant pas important et chaque carte ne pouvant apparaitre qu'une seule fois, \\n \\\n",
    "nous sommes dans la situation de combinaisons sans répétitions!\")\n",
    "\n",
    "print(\"Mais nous avons aussi une condition/restriction, les 4 As sont inclus dans les mains qu'on veut dénombrer. \\n\")\n",
    "\n",
    "print(\"Satisfaire la condition, equivaut à modifier l'ensemble et la disposition qu'on cherche!! \\n \")\n",
    "\n",
    "print(\"Quelle est la nouvelle taille, k, de notre disposition?\")\n",
    "print(\"Quelle est la nouvelle taille, n, de l'ensemble depuis lequel on tire les éléments?\")\n",
    "\n",
    "user_k_q1_ex8_answer = widgets.IntText(\n",
    "    value= 0,\n",
    "    description='k:',\n",
    "    disabled=False\n",
    ")\n",
    "\n",
    "user_n_q1_ex8_answer = widgets.IntText(\n",
    "    value= 0,\n",
    "    description='n:',\n",
    "    disabled=False\n",
    ")\n",
    "\n",
    "button = widgets.Button(\n",
    "    description='Soumettre',\n",
    "    disabled=False,\n",
    "    button_style='',\n",
    "    tooltip='Click me',\n",
    "    icon='check' \n",
    ")\n",
    "\n",
    "counter_1_2_ex8 = 0\n",
    "\n",
    "flag_k = False \n",
    "flag_n = False    \n",
    "    \n",
    "def test_1_2_ex8(change):\n",
    "    global counter_1_2_ex8 \n",
    "    global flag_k\n",
    "    global flag_n\n",
    "    counter_1_2_ex8 = counter_1_2_ex8 + 1\n",
    "    value_k = user_k_q1_ex8_answer.value\n",
    "    value_n = user_n_q1_ex8_answer.value\n",
    "\n",
    "    if value_k == k_ex8_1 : \n",
    "        flag_k = True\n",
    "    else:\n",
    "        flag_k = False\n",
    "        \n",
    "    if value_n == n_ex8_1 :\n",
    "        flag_n = True \n",
    "    else:\n",
    "        flag_n = False\n",
    "        \n",
    "    if flag_k and flag_n:\n",
    "        print(\"----------------------------------\")\n",
    "        print(\"Tetantive {}: Bravo! vos réponses sont correctes :) \\n\".format(counter_1_2_ex8))\n",
    "    else:\n",
    "        print(\"----------------------------------\")\n",
    "        print(\"Tetantive {}:Malheureusement, une ou plusieurs réponses soumises ne sont pas correctes. \\n \\\n",
    "       hint: le fait que les 4 As sont obligés d'être dans les mains, cela fait que 4 cartes sont déjà fixées! \\n \\\n",
    "       Il faut donc uniquement compter les posibilités pour le reste!\".format(counter_1_2_ex8))\n",
    "\n",
    "\n",
    "display(widgets.HBox([user_k_q1_ex8_answer, user_n_q1_ex8_answer, button]))\n",
    "\n",
    "button.on_click(test_1_2_ex8)\n",
    "\n"
   ]
  },
  {
   "cell_type": "code",
   "execution_count": 919,
   "id": "08a44988",
   "metadata": {
    "init_cell": true,
    "solution2": "hidden"
   },
   "outputs": [
    {
     "name": "stdout",
     "output_type": "stream",
     "text": [
      "Notons aussi qu'il y a une seule manière pour introduire les 4 As dans les mains! \n",
      " On les prends tous dans n'importe quel ordre!\n"
     ]
    }
   ],
   "source": [
    "print(\"Notons aussi qu'il y a une seule manière pour introduire les 4 As dans les mains! \\n \\\n",
    "On les prends tous dans n'importe quel ordre!\")"
   ]
  },
  {
   "cell_type": "markdown",
   "id": "70126e53",
   "metadata": {},
   "source": [
    "## … l’as de coeur ?"
   ]
  },
  {
   "cell_type": "code",
   "execution_count": 920,
   "id": "d788e05c",
   "metadata": {
    "init_cell": true,
    "scrolled": false,
    "solution2": "hidden",
    "solution2_first": true
   },
   "outputs": [
    {
     "name": "stdout",
     "output_type": "stream",
     "text": [
      "Combien de mains de ce type pourrons-nous former?\n"
     ]
    },
    {
     "data": {
      "application/vnd.jupyter.widget-view+json": {
       "model_id": "db50195e84b2416cacf7a7b44080f657",
       "version_major": 2,
       "version_minor": 0
      },
      "text/plain": [
       "HBox(children=(IntText(value=0, description='Réponse:'), Button(description='Soumettre', icon='check', style=B…"
      ]
     },
     "metadata": {},
     "output_type": "display_data"
    }
   ],
   "source": [
    "print(\"Combien de mains de ce type pourrons-nous former?\")\n",
    "\n",
    "n_ex8_2 = 35\n",
    "k_ex8_2 = 11\n",
    "\n",
    "counter_2_ex8 = 0\n",
    "\n",
    "ex8_q2_answer = widgets.IntText(\n",
    "    value= 0,\n",
    "    description='Réponse:',\n",
    "    disabled=False\n",
    ")\n",
    "\n",
    "button = widgets.Button(\n",
    "    description='Soumettre',\n",
    "    disabled=False,\n",
    "    button_style='',\n",
    "    tooltip='Click me',\n",
    "    icon='check' \n",
    ")\n",
    "\n",
    "\n",
    "def test_2_ex8(change):\n",
    "    global counter_2_ex8 \n",
    "    counter_2_ex8 = counter_2_ex8 + 1\n",
    "    value = ex8_q2_answer.value\n",
    "    correct_value = int(fn.nCr(n_ex8_2, k_ex8_2))\n",
    "    if value == correct_value:\n",
    "        print(\"----------------------------------\")\n",
    "        print(\"Tetantive {}: Bravo! votre réponse est correcte :)\".format(counter_2_ex8))\n",
    "    else:\n",
    "        print(\"----------------------------------\")\n",
    "        print(\"Tetantive {}:Malheureusement, la réponse soumise n'est pas correcte. \\n \\\n",
    "       Cliquez sur 'Show Solution' pour quelques indices\".format(counter_2_ex8))\n",
    "\n",
    "\n",
    "display(widgets.HBox([ex8_q2_answer, button]))\n",
    "\n",
    "button.on_click(test_2_ex8)"
   ]
  },
  {
   "cell_type": "code",
   "execution_count": 921,
   "id": "86dc50b3",
   "metadata": {
    "init_cell": true,
    "solution2": "hidden"
   },
   "outputs": [
    {
     "name": "stdout",
     "output_type": "stream",
     "text": [
      "Notons en premier, que la taille de l'ensemble des cartes est 36! \n",
      "\n",
      "Nous voulons former des mains de 12 cartes tirées parmi les 36. \n",
      "\n",
      "L'ordre des cartes dans une main n'étant pas important et chaque carte ne pouvant apparaitre qu'une seule fois, \n",
      " nous sommes dans la situation de combinaisons sans répétitions!\n",
      "Mais nous avons aussi une condition/restriction, l'As du coeur doit être dans les mains qu'on veut dénombrer. \n",
      "\n",
      "Satisfaire la condition, equivaut à modifier l'ensemble et la disposition qu'on cherche!! \n",
      " \n",
      "Quelle est la nouvelle taille, k, de notre disposition?\n",
      "Quelle est la nouvelle taille, n, de l'ensemble depuis lequel on tire les éléments?\n"
     ]
    },
    {
     "data": {
      "application/vnd.jupyter.widget-view+json": {
       "model_id": "d4456bc4d0e94dcfaaa3107af247812b",
       "version_major": 2,
       "version_minor": 0
      },
      "text/plain": [
       "HBox(children=(IntText(value=0, description='k:'), IntText(value=0, description='n:'), Button(description='Sou…"
      ]
     },
     "metadata": {},
     "output_type": "display_data"
    }
   ],
   "source": [
    "print(\"Notons en premier, que la taille de l'ensemble des cartes est 36! \\n\")\n",
    "\n",
    "print(\"Nous voulons former des mains de 12 cartes tirées parmi les 36. \\n\")\n",
    "\n",
    "print(\"L'ordre des cartes dans une main n'étant pas important et chaque carte ne pouvant apparaitre qu'une seule fois, \\n \\\n",
    "nous sommes dans la situation de combinaisons sans répétitions!\")\n",
    "\n",
    "print(\"Mais nous avons aussi une condition/restriction, l'As du coeur doit être dans les mains qu'on veut dénombrer. \\n\")\n",
    "\n",
    "print(\"Satisfaire la condition, equivaut à modifier l'ensemble et la disposition qu'on cherche!! \\n \")\n",
    "\n",
    "print(\"Quelle est la nouvelle taille, k, de notre disposition?\")\n",
    "print(\"Quelle est la nouvelle taille, n, de l'ensemble depuis lequel on tire les éléments?\")\n",
    "\n",
    "user_k_q2_ex8_answer = widgets.IntText(\n",
    "    value= 0,\n",
    "    description='k:',\n",
    "    disabled=False\n",
    ")\n",
    "\n",
    "user_n_q2_ex8_answer = widgets.IntText(\n",
    "    value= 0,\n",
    "    description='n:',\n",
    "    disabled=False\n",
    ")\n",
    "\n",
    "button = widgets.Button(\n",
    "    description='Soumettre',\n",
    "    disabled=False,\n",
    "    button_style='',\n",
    "    tooltip='Click me',\n",
    "    icon='check' \n",
    ")\n",
    "\n",
    "counter_2_2_ex8 = 0\n",
    "\n",
    "flag_k = False \n",
    "flag_n = False    \n",
    "    \n",
    "def test_2_2_ex8(change):\n",
    "    global counter_2_2_ex8 \n",
    "    global flag_k\n",
    "    global flag_n\n",
    "    counter_2_2_ex8 = counter_2_2_ex8 + 1\n",
    "    value_k = user_k_q2_ex8_answer.value\n",
    "    value_n = user_n_q2_ex8_answer.value\n",
    "\n",
    "    if value_k == k_ex8_2 : \n",
    "        flag_k = True\n",
    "    else:\n",
    "        flag_k = False\n",
    "        \n",
    "    if value_n == n_ex8_2 :\n",
    "        flag_n = True \n",
    "    else:\n",
    "        flag_n = False\n",
    "        \n",
    "    if flag_k and flag_n:\n",
    "        print(\"----------------------------------\")\n",
    "        print(\"Tetantive {}: Bravo! vos réponses sont correctes :) \\n\".format(counter_2_2_ex8))\n",
    "    else:\n",
    "        print(\"----------------------------------\")\n",
    "        print(\"Tetantive {}:Malheureusement, une ou plusieurs réponses soumises ne sont pas correctes. \\n \\\n",
    "       hint: le fait que l'As du coeur est obligé d'être dans les mains, cela fait que 1 carte est déjà fixée! \\n \\\n",
    "       Il faut donc uniquement compter les posibilités pour le reste!\".format(counter_2_2_ex8))\n",
    "\n",
    "\n",
    "display(widgets.HBox([user_k_q2_ex8_answer, user_n_q2_ex8_answer, button]))\n",
    "\n",
    "button.on_click(test_2_2_ex8)\n",
    "\n"
   ]
  },
  {
   "cell_type": "code",
   "execution_count": 922,
   "id": "1ab762bd",
   "metadata": {
    "init_cell": true,
    "solution2": "hidden"
   },
   "outputs": [
    {
     "name": "stdout",
     "output_type": "stream",
     "text": [
      "Notons aussi qu'il y a une seule manière por introduire l'As du coeur dans les mains!\n"
     ]
    }
   ],
   "source": [
    "print(\"Notons aussi qu'il y a une seule manière por introduire l'As du coeur dans les mains!\")"
   ]
  },
  {
   "cell_type": "markdown",
   "id": "212dab13",
   "metadata": {},
   "source": [
    "## … exactement 1 as ?"
   ]
  },
  {
   "cell_type": "code",
   "execution_count": 923,
   "id": "9df2f0e7",
   "metadata": {
    "init_cell": true,
    "scrolled": true,
    "solution2": "hidden",
    "solution2_first": true
   },
   "outputs": [
    {
     "name": "stdout",
     "output_type": "stream",
     "text": [
      "Combien de mains de ce type pourrons-nous former?\n"
     ]
    },
    {
     "data": {
      "application/vnd.jupyter.widget-view+json": {
       "model_id": "d09ab19dd5924ea7a92a8a3e0ff0d5ce",
       "version_major": 2,
       "version_minor": 0
      },
      "text/plain": [
       "HBox(children=(IntText(value=0, description='Réponse:'), Button(description='Soumettre', icon='check', style=B…"
      ]
     },
     "metadata": {},
     "output_type": "display_data"
    }
   ],
   "source": [
    "print(\"Combien de mains de ce type pourrons-nous former?\")\n",
    "\n",
    "n_ex8_3 = 32\n",
    "k_ex8_3 = 11\n",
    "\n",
    "n_ex8_As_3 = 4\n",
    "k_ex8_As_3 = 1\n",
    "\n",
    "counter_3_ex8 = 0\n",
    "\n",
    "ex8_q3_answer = widgets.IntText(\n",
    "    value= 0,\n",
    "    description='Réponse:',\n",
    "    disabled=False\n",
    ")\n",
    "\n",
    "button = widgets.Button(\n",
    "    description='Soumettre',\n",
    "    disabled=False,\n",
    "    button_style='',\n",
    "    tooltip='Click me',\n",
    "    icon='check' \n",
    ")\n",
    "\n",
    "\n",
    "def test_3_ex8(change):\n",
    "    global counter_3_ex8 \n",
    "    counter_3_ex8 = counter_3_ex8 + 1\n",
    "    value = ex8_q3_answer.value\n",
    "    correct_value = int(fn.nCr(n_ex8_3, k_ex8_3)*fn.nCr(n_ex8_As_3, k_ex8_As_3))\n",
    "    if value == correct_value:\n",
    "        print(\"----------------------------------\")\n",
    "        print(\"Tetantive {}: Bravo! votre réponse est correcte :)\".format(counter_3_ex8))\n",
    "    else:\n",
    "        print(\"----------------------------------\")\n",
    "        print(\"Tetantive {}:Malheureusement, la réponse soumise n'est pas correcte. \\n \\\n",
    "       Cliquez sur 'Show Solution' pour quelques indices\".format(counter_3_ex8))\n",
    "\n",
    "\n",
    "display(widgets.HBox([ex8_q3_answer, button]))\n",
    "\n",
    "button.on_click(test_3_ex8)"
   ]
  },
  {
   "cell_type": "code",
   "execution_count": 924,
   "id": "8a0be02e",
   "metadata": {
    "init_cell": true,
    "solution2": "hidden"
   },
   "outputs": [
    {
     "name": "stdout",
     "output_type": "stream",
     "text": [
      "Notons en premier, que la taille de l'ensemble des cartes est 36! \n",
      "\n",
      "Nous voulons former des mains de 12 cartes tirées parmi les 36. \n",
      "\n",
      "L'ordre des cartes dans une main n'étant pas important et chaque carte ne pouvant apparaitre qu'une seule fois, \n",
      " nous sommes dans la situation de combinaisons sans répétitions!\n",
      "Mais nous avons aussi une condition/restriction, exactement un As doit être dans les mains qu'on veut dénombrer. \n",
      "\n",
      "Satisfaire la condition, equivaut à modifier l'ensemble et la disposition qu'on cherche!! \n",
      " \n",
      "Quelle est la nouvelle taille, k, de notre disposition?\n",
      "Quelle est la nouvelle taille, n, de l'ensemble depuis lequel on tire les éléments?\n"
     ]
    },
    {
     "data": {
      "application/vnd.jupyter.widget-view+json": {
       "model_id": "c737e32b723d423499b539ac5538d6c1",
       "version_major": 2,
       "version_minor": 0
      },
      "text/plain": [
       "HBox(children=(IntText(value=0, description='k:'), IntText(value=0, description='n:'), Button(description='Sou…"
      ]
     },
     "metadata": {},
     "output_type": "display_data"
    }
   ],
   "source": [
    "print(\"Notons en premier, que la taille de l'ensemble des cartes est 36! \\n\")\n",
    "\n",
    "print(\"Nous voulons former des mains de 12 cartes tirées parmi les 36. \\n\")\n",
    "\n",
    "print(\"L'ordre des cartes dans une main n'étant pas important et chaque carte ne pouvant apparaitre qu'une seule fois, \\n \\\n",
    "nous sommes dans la situation de combinaisons sans répétitions!\")\n",
    "\n",
    "print(\"Mais nous avons aussi une condition/restriction, exactement un As doit être dans les mains qu'on veut dénombrer. \\n\")\n",
    "\n",
    "print(\"Satisfaire la condition, equivaut à modifier l'ensemble et la disposition qu'on cherche!! \\n \")\n",
    "\n",
    "print(\"Quelle est la nouvelle taille, k, de notre disposition?\")\n",
    "print(\"Quelle est la nouvelle taille, n, de l'ensemble depuis lequel on tire les éléments?\")\n",
    "\n",
    "user_k_q3_ex8_answer = widgets.IntText(\n",
    "    value= 0,\n",
    "    description='k:',\n",
    "    disabled=False\n",
    ")\n",
    "\n",
    "user_n_q3_ex8_answer = widgets.IntText(\n",
    "    value= 0,\n",
    "    description='n:',\n",
    "    disabled=False\n",
    ")\n",
    "\n",
    "button = widgets.Button(\n",
    "    description='Soumettre',\n",
    "    disabled=False,\n",
    "    button_style='',\n",
    "    tooltip='Click me',\n",
    "    icon='check' \n",
    ")\n",
    "\n",
    "counter_3_2_ex8 = 0\n",
    "\n",
    "flag_k = False \n",
    "flag_n = False    \n",
    "    \n",
    "def test_3_2_ex8(change):\n",
    "    global counter_3_2_ex8 \n",
    "    global flag_k\n",
    "    global flag_n\n",
    "    counter_3_2_ex8 = counter_3_2_ex8 + 1\n",
    "    value_k = user_k_q3_ex8_answer.value\n",
    "    value_n = user_n_q3_ex8_answer.value\n",
    "\n",
    "    if value_k == k_ex8_3 : \n",
    "        flag_k = True\n",
    "    else:\n",
    "        flag_k = False\n",
    "        \n",
    "    if value_n == n_ex8_3 :\n",
    "        flag_n = True \n",
    "    else:\n",
    "        flag_n = False\n",
    "        \n",
    "    if flag_k and flag_n:\n",
    "        print(\"----------------------------------\")\n",
    "        print(\"Tetantive {}: Bravo! vos réponses sont correctes :) \\n\".format(counter_2_2_ex8))\n",
    "    else:\n",
    "        print(\"----------------------------------\")\n",
    "        print(\"Tetantive {}:Malheureusement, une ou plusieurs réponses soumises ne sont pas correctes. \\n \\\n",
    "       hint: le fait qu'exactement un As est obligé d'être dans les mains, cela fait que 1 carte est déjà fixée! \\n \\\n",
    "       Il faut donc uniquement compter les posibilités pour le reste! Attention aussi que si exactement \\n \\\n",
    "       un As es dans les mains, une fois il est choisi, tous les As ne font plus partie de l'ensemble!\".format(counter_2_2_ex8))\n",
    "\n",
    "\n",
    "display(widgets.HBox([user_k_q3_ex8_answer, user_n_q3_ex8_answer, button]))\n",
    "\n",
    "button.on_click(test_3_2_ex8)\n",
    "\n"
   ]
  },
  {
   "cell_type": "code",
   "execution_count": 925,
   "id": "77399254",
   "metadata": {
    "init_cell": true,
    "solution2": "hidden"
   },
   "outputs": [
    {
     "name": "stdout",
     "output_type": "stream",
     "text": [
      "On se pose la question maitenant de comment choisir cet As qui doit figurer dans les mains! \n",
      " \n",
      "De combien de manières on peur choisir l'As?\n"
     ]
    },
    {
     "data": {
      "application/vnd.jupyter.widget-view+json": {
       "model_id": "15f49731bd0f40d08289f3069476faa7",
       "version_major": 2,
       "version_minor": 0
      },
      "text/plain": [
       "HBox(children=(IntText(value=0, description='Réponse:'), Button(description='Soumettre', icon='check', style=B…"
      ]
     },
     "metadata": {},
     "output_type": "display_data"
    }
   ],
   "source": [
    "print(\"On se pose la question maitenant de comment choisir cet As qui doit figurer dans les mains! \\n \")\n",
    "\n",
    "print(\"De combien de manières on peur choisir l'As?\")\n",
    "\n",
    "ex8_q3_3_answer = widgets.IntText(\n",
    "    value= 0,\n",
    "    description='Réponse:',\n",
    "    disabled=False\n",
    ")\n",
    "\n",
    "button = widgets.Button(\n",
    "    description='Soumettre',\n",
    "    disabled=False,\n",
    "    button_style='',\n",
    "    tooltip='Click me',\n",
    "    icon='check' \n",
    ")\n",
    "\n",
    "counter_3_3_ex8 = 0\n",
    "def test_3_3_ex8(change):\n",
    "    global counter_3_3_ex8 \n",
    "    counter_3_3_ex8 = counter_3_3_ex8 + 1\n",
    "    value = ex8_q3_3_answer.value\n",
    "    correct_value = int(fn.nCr(n_ex8_As_3, k_ex8_As_3))\n",
    "    if value == correct_value:\n",
    "        print(\"----------------------------------\")\n",
    "        print(\"Tetantive {}: Bravo! votre réponse est correcte :)\".format(counter_3_ex8))\n",
    "    else:\n",
    "        print(\"----------------------------------\")\n",
    "        print(\"Tetantive {}:Malheureusement, la réponse soumise n'est pas correcte. \\n \\\n",
    "       De combien de manières pourrons-nous sélectionner un As parmin les 4 présents dans le jeu?\".format(counter_3_ex8))\n",
    "\n",
    "\n",
    "display(widgets.HBox([ex8_q3_3_answer, button]))\n",
    "\n",
    "button.on_click(test_3_3_ex8)"
   ]
  },
  {
   "cell_type": "code",
   "execution_count": 926,
   "id": "08b9618b",
   "metadata": {
    "init_cell": true,
    "solution2": "hidden"
   },
   "outputs": [
    {
     "name": "stdout",
     "output_type": "stream",
     "text": [
      "Pour avoir le total, n'oubliez pas de combiner les dénombrements des deux opérations précédentes: l'opération de séléctionner \n",
      " l'As ET l'opération de sélectionner le reste des cartes!\n"
     ]
    }
   ],
   "source": [
    "print(\"Pour avoir le total, n'oubliez pas de combiner les dénombrements des deux opérations précédentes: l'opération de séléctionner \\n \\\n",
    "l'As ET l'opération de sélectionner le reste des cartes!\")"
   ]
  },
  {
   "cell_type": "markdown",
   "id": "372e3012",
   "metadata": {},
   "source": [
    "## … au moins 1 as ?"
   ]
  },
  {
   "cell_type": "code",
   "execution_count": 927,
   "id": "836db1ca",
   "metadata": {
    "init_cell": true,
    "scrolled": false,
    "solution2": "hidden",
    "solution2_first": true
   },
   "outputs": [
    {
     "name": "stdout",
     "output_type": "stream",
     "text": [
      "Combien de mains de ce type pourrons-nous former?\n"
     ]
    },
    {
     "data": {
      "application/vnd.jupyter.widget-view+json": {
       "model_id": "bc9ae57f82aa4764b2315a312348a474",
       "version_major": 2,
       "version_minor": 0
      },
      "text/plain": [
       "HBox(children=(IntText(value=0, description='Réponse:'), Button(description='Soumettre', icon='check', style=B…"
      ]
     },
     "metadata": {},
     "output_type": "display_data"
    }
   ],
   "source": [
    "print(\"Combien de mains de ce type pourrons-nous former?\")\n",
    "\n",
    "n_ex8_4 = 36\n",
    "k_ex8_4 = 12\n",
    "\n",
    "n_ex8_As_4 = 32\n",
    "k_ex8_As_4 = 12\n",
    "\n",
    "counter_4_ex8 = 0\n",
    "\n",
    "ex8_q4_answer = widgets.IntText(\n",
    "    value= 0,\n",
    "    description='Réponse:',\n",
    "    disabled=False\n",
    ")\n",
    "\n",
    "button = widgets.Button(\n",
    "    description='Soumettre',\n",
    "    disabled=False,\n",
    "    button_style='',\n",
    "    tooltip='Click me',\n",
    "    icon='check' \n",
    ")\n",
    "\n",
    "\n",
    "def test_4_ex8(change):\n",
    "    global counter_4_ex8 \n",
    "    counter_4_ex8 = counter_4_ex8 + 1\n",
    "    value = ex8_q4_answer.value\n",
    "    correct_value = int(fn.nCr(n_ex8_4, k_ex8_4) - fn.nCr(n_ex8_As_4, k_ex8_As_4))\n",
    "    if value == correct_value:\n",
    "        print(\"----------------------------------\")\n",
    "        print(\"Tetantive {}: Bravo! votre réponse est correcte :)\".format(counter_4_ex8))\n",
    "    else:\n",
    "        print(\"----------------------------------\")\n",
    "        print(\"Tetantive {}:Malheureusement, la réponse soumise n'est pas correcte. \\n \\\n",
    "       Cliquez sur 'Show Solution' pour quelques indices\".format(counter_4_ex8))\n",
    "\n",
    "\n",
    "display(widgets.HBox([ex8_q4_answer, button]))\n",
    "\n",
    "button.on_click(test_4_ex8)"
   ]
  },
  {
   "cell_type": "code",
   "execution_count": 928,
   "id": "537a586c",
   "metadata": {
    "init_cell": true,
    "solution2": "hidden"
   },
   "outputs": [
    {
     "name": "stdout",
     "output_type": "stream",
     "text": [
      "Notons en premier, que la taille de l'ensemble des cartes est 36! \n",
      "\n",
      "Nous voulons former des mains de 12 cartes tirées parmi les 36. \n",
      "\n",
      "L'ordre des cartes dans une main n'étant pas important et chaque carte ne pouvant apparaitre qu'une seule fois, \n",
      " nous sommes dans la situation de combinaisons sans répétitions!\n",
      "Dénombrer les mains de 12 cartes qui contiennent au moins un As est équivalent à soustraire du total des possibilités \n",
      " pour former des mains de 12 cartes (sans aucune restriction) le total des possibilités pour former des mains de 12 cartes \n",
      " sans aucun As!\n"
     ]
    },
    {
     "data": {
      "application/vnd.jupyter.widget-view+json": {
       "model_id": "dbb5b95aaea94e64a6226129887e68ed",
       "version_major": 2,
       "version_minor": 0
      },
      "text/plain": [
       "Button(description='Illustration', icon='check', style=ButtonStyle(), tooltip=\"Clicker pour afficher le reste …"
      ]
     },
     "metadata": {},
     "output_type": "display_data"
    }
   ],
   "source": [
    "print(\"Notons en premier, que la taille de l'ensemble des cartes est 36! \\n\")\n",
    "\n",
    "print(\"Nous voulons former des mains de 12 cartes tirées parmi les 36. \\n\")\n",
    "\n",
    "print(\"L'ordre des cartes dans une main n'étant pas important et chaque carte ne pouvant apparaitre qu'une seule fois, \\n \\\n",
    "nous sommes dans la situation de combinaisons sans répétitions!\")\n",
    "\n",
    "print(\"Dénombrer les mains de 12 cartes qui contiennent au moins un As est équivalent à soustraire du total des possibilités \\n \\\n",
    "pour former des mains de 12 cartes (sans aucune restriction) le total des possibilités pour former des mains de 12 cartes \\n \\\n",
    "sans aucun As!\")\n",
    "\n",
    "show_more_button_4_ex8 = widgets.Button(\n",
    "    value=False,\n",
    "    description=\"Illustration\",\n",
    "    disabled=False,\n",
    "    button_style='',\n",
    "    tooltip=\"Clicker pour afficher le reste de l'explication\",\n",
    "    icon='check' \n",
    ")\n",
    "\n",
    "\n",
    "def show_more_button_onclick_4_ex8(change):\n",
    "     \n",
    "    display(Image(\"./img/ex8_4.png\"))\n",
    "\n",
    "    \n",
    "\n",
    "display(show_more_button_4_ex8)\n",
    "show_more_button_4_ex8.on_click(show_more_button_onclick_4_ex8)\n"
   ]
  },
  {
   "cell_type": "code",
   "execution_count": 929,
   "id": "b4d761a7",
   "metadata": {
    "init_cell": true,
    "scrolled": true,
    "solution2": "hidden"
   },
   "outputs": [
    {
     "name": "stdout",
     "output_type": "stream",
     "text": [
      "Le total des possibilités de former des mains de 12 cartes (sans restrictions) depuis les 36 cartes du jeu \n",
      " est un problème de former des combinaisons sans répétitions!\n",
      "\n",
      "Nous voulons compter maintenant les combinaisons de 12 cartes qui ne contiennent pas d'As. \n",
      "\n",
      "Quelle est la taille, k, des dispositions ne contenant pas d'As?\n",
      "Quelle est la taille, n, de l'ensemble depuis lequel on tire les éléments?\n"
     ]
    },
    {
     "data": {
      "application/vnd.jupyter.widget-view+json": {
       "model_id": "944bac3e88d14379b9a27a3e6fa91e3b",
       "version_major": 2,
       "version_minor": 0
      },
      "text/plain": [
       "HBox(children=(IntText(value=0, description='k:'), IntText(value=0, description='n:'), Button(description='Sou…"
      ]
     },
     "metadata": {},
     "output_type": "display_data"
    }
   ],
   "source": [
    "print(\"Le total des possibilités de former des mains de 12 cartes (sans restrictions) depuis les 36 cartes du jeu \\n \\\n",
    "est un problème de former des combinaisons sans répétitions!\\n\")\n",
    "\n",
    "print(\"Nous voulons compter maintenant les combinaisons de 12 cartes qui ne contiennent pas d'As. \\n\")\n",
    "\n",
    "print(\"Quelle est la taille, k, des dispositions ne contenant pas d'As?\")\n",
    "print(\"Quelle est la taille, n, de l'ensemble depuis lequel on tire les éléments?\")\n",
    "\n",
    "user_k_q4_ex8_answer = widgets.IntText(\n",
    "    value= 0,\n",
    "    description='k:',\n",
    "    disabled=False\n",
    ")\n",
    "\n",
    "user_n_q4_ex8_answer = widgets.IntText(\n",
    "    value= 0,\n",
    "    description='n:',\n",
    "    disabled=False\n",
    ")\n",
    "\n",
    "button = widgets.Button(\n",
    "    description='Soumettre',\n",
    "    disabled=False,\n",
    "    button_style='',\n",
    "    tooltip='Click me',\n",
    "    icon='check' \n",
    ")\n",
    "\n",
    "counter_4_2_ex8 = 0\n",
    "\n",
    "flag_k = False \n",
    "flag_n = False    \n",
    "    \n",
    "def test_4_2_ex8(change):\n",
    "    global counter_4_2_ex8 \n",
    "    global flag_k\n",
    "    global flag_n\n",
    "    counter_4_2_ex8 = counter_4_2_ex8 + 1\n",
    "    value_k = user_k_q4_ex8_answer.value\n",
    "    value_n = user_n_q4_ex8_answer.value\n",
    "\n",
    "    if value_k == k_ex8_As_4 : \n",
    "        flag_k = True\n",
    "    else:\n",
    "        flag_k = False\n",
    "        \n",
    "    if value_n == n_ex8_As_4 :\n",
    "        flag_n = True \n",
    "    else:\n",
    "        flag_n = False\n",
    "        \n",
    "    if flag_k and flag_n:\n",
    "        print(\"----------------------------------\")\n",
    "        print(\"Tetantive {}: Bravo! vos réponses sont correctes :) \\n\".format(counter_4_2_ex8))\n",
    "    else:\n",
    "        print(\"----------------------------------\")\n",
    "        print(\"Tetantive {}:Malheureusement, une ou plusieurs réponses soumises ne sont pas correctes. \\n \\\n",
    "       hint: aucun As ne doit apparaitre dans les cartes qu'on pourrait sélectionner, c'est comme s'il n'y a \\n \\\n",
    "       pas d'As dans l'ensemble!\".format(counter_4_2_ex8))\n",
    "\n",
    "\n",
    "display(widgets.HBox([user_k_q4_ex8_answer, user_n_q4_ex8_answer, button]))\n",
    "\n",
    "button.on_click(test_4_2_ex8)\n",
    "\n"
   ]
  },
  {
   "cell_type": "code",
   "execution_count": 930,
   "id": "127c7827",
   "metadata": {
    "init_cell": true,
    "solution2": "hidden"
   },
   "outputs": [
    {
     "name": "stdout",
     "output_type": "stream",
     "text": [
      "Pour trouver le total, n'oubliez pas de soustraire du total des possibilités pour former des mains de 12 cartes\n",
      " (sans aucune restriction) le total des possibilités pour former des mains de 12 cartes sans aucun As! \n",
      " \n",
      "Une autre méthode est possible aussi ici. Il s'agit de dénombrer les mains de 12 cartes contenant exactement 1 As \n",
      " OU contenant 2 As OU contenant 3 As OU contenant 4 As.\n"
     ]
    }
   ],
   "source": [
    "print(\"Pour trouver le total, n'oubliez pas de soustraire du total des possibilités pour former des mains de 12 cartes\\n \\\n",
    "(sans aucune restriction) le total des possibilités pour former des mains de 12 cartes sans aucun As! \\n \")\n",
    "\n",
    "print(\"Une autre méthode est possible aussi ici. Il s'agit de dénombrer les mains de 12 cartes contenant exactement 1 As \\n \\\n",
    "OU contenant 2 As OU contenant 3 As OU contenant 4 As.\")"
   ]
  },
  {
   "cell_type": "markdown",
   "id": "c7099a80",
   "metadata": {},
   "source": [
    "## … ni as ni roi ?"
   ]
  },
  {
   "cell_type": "code",
   "execution_count": 931,
   "id": "1e945b5f",
   "metadata": {
    "init_cell": true,
    "scrolled": true
   },
   "outputs": [
    {
     "name": "stdout",
     "output_type": "stream",
     "text": [
      "Combien de mains de ce type pourrons-nous former?\n"
     ]
    },
    {
     "data": {
      "application/vnd.jupyter.widget-view+json": {
       "model_id": "8c6f252cafe54bfba4236b5f66ab7fd3",
       "version_major": 2,
       "version_minor": 0
      },
      "text/plain": [
       "HBox(children=(IntText(value=0, description='Réponse:'), Button(description='Soumettre', icon='check', style=B…"
      ]
     },
     "metadata": {},
     "output_type": "display_data"
    }
   ],
   "source": [
    "print(\"Combien de mains de ce type pourrons-nous former?\")\n",
    "\n",
    "n_ex8_5 = 28\n",
    "k_ex8_5 = 12\n",
    "\n",
    "\n",
    "counter_5_ex8 = 0\n",
    "\n",
    "ex8_q5_answer = widgets.IntText(\n",
    "    value= 0,\n",
    "    description='Réponse:',\n",
    "    disabled=False\n",
    ")\n",
    "\n",
    "button = widgets.Button(\n",
    "    description='Soumettre',\n",
    "    disabled=False,\n",
    "    button_style='',\n",
    "    tooltip='Click me',\n",
    "    icon='check' \n",
    ")\n",
    "\n",
    "\n",
    "def test_5_ex8(change):\n",
    "    global counter_5_ex8 \n",
    "    counter_5_ex8 = counter_5_ex8 + 1\n",
    "    value = ex8_q5_answer.value\n",
    "    correct_value = int(fn.nCr(n_ex8_5, k_ex8_5))\n",
    "    if value == correct_value:\n",
    "        print(\"----------------------------------\")\n",
    "        print(\"Tetantive {}: Bravo! votre réponse est correcte :)\".format(counter_4_ex8))\n",
    "    else:\n",
    "        print(\"----------------------------------\")\n",
    "        print(\"Tetantive {}:Malheureusement, la réponse soumise n'est pas correcte. \\n \\\n",
    "       hint: ne jamais tiré un roi et ne jamais tiré un as fait comme si aucun roi et aucun as n'est dans l'ensemble.\".format(counter_4_ex8))\n",
    "\n",
    "\n",
    "display(widgets.HBox([ex8_q5_answer, button]))\n",
    "\n",
    "button.on_click(test_5_ex8)"
   ]
  },
  {
   "cell_type": "markdown",
   "id": "75c6eb48",
   "metadata": {},
   "source": [
    "## ... l’as de trèfle et exactement 4 carreaux ?"
   ]
  },
  {
   "cell_type": "code",
   "execution_count": 932,
   "id": "2ae1414e",
   "metadata": {
    "init_cell": true,
    "scrolled": true,
    "solution2": "hidden",
    "solution2_first": true
   },
   "outputs": [
    {
     "name": "stdout",
     "output_type": "stream",
     "text": [
      "Combien de mains de ce type pourrons-nous former?\n"
     ]
    },
    {
     "data": {
      "application/vnd.jupyter.widget-view+json": {
       "model_id": "4b1f8cf7d4924d839150ea1838b49f98",
       "version_major": 2,
       "version_minor": 0
      },
      "text/plain": [
       "HBox(children=(IntText(value=0, description='Réponse:'), Button(description='Soumettre', icon='check', style=B…"
      ]
     },
     "metadata": {},
     "output_type": "display_data"
    }
   ],
   "source": [
    "print(\"Combien de mains de ce type pourrons-nous former?\")\n",
    "\n",
    "n_ex8_6 = 26\n",
    "k_ex8_6 = 7\n",
    "\n",
    "n_ex8_6_cond = 9\n",
    "k_ex8_6_cond = 4\n",
    "\n",
    "\n",
    "counter_6_ex8 = 0\n",
    "\n",
    "ex8_q6_answer = widgets.IntText(\n",
    "    value= 0,\n",
    "    description='Réponse:',\n",
    "    disabled=False\n",
    ")\n",
    "\n",
    "button = widgets.Button(\n",
    "    description='Soumettre',\n",
    "    disabled=False,\n",
    "    button_style='',\n",
    "    tooltip='Click me',\n",
    "    icon='check' \n",
    ")\n",
    "\n",
    "\n",
    "def test_6_ex8(change):\n",
    "    global counter_6_ex8 \n",
    "    counter_6_ex8 = counter_6_ex8 + 1\n",
    "    value = ex8_q6_answer.value\n",
    "    correct_value = int(fn.nCr(n_ex8_6, k_ex8_6)*fn.nCr(n_ex8_6_cond, k_ex8_6_cond))\n",
    "    if value == correct_value:\n",
    "        print(\"----------------------------------\")\n",
    "        print(\"Tetantive {}: Bravo! votre réponse est correcte :)\".format(counter_6_ex8))\n",
    "    else:\n",
    "        print(\"----------------------------------\")\n",
    "        print(\"Tetantive {}:Malheureusement, la réponse soumise n'est pas correcte. \\n \\\n",
    "       Cliquez sur 'Show Solution' pour quelques indices\".format(counter_6_ex8))\n",
    "\n",
    "\n",
    "display(widgets.HBox([ex8_q6_answer, button]))\n",
    "\n",
    "button.on_click(test_6_ex8)"
   ]
  },
  {
   "cell_type": "code",
   "execution_count": 933,
   "id": "e1db94fa",
   "metadata": {
    "init_cell": true,
    "solution2": "hidden"
   },
   "outputs": [
    {
     "name": "stdout",
     "output_type": "stream",
     "text": [
      "Regardons les conditions en premier. \n",
      "\n",
      "L'As de trèfle occupe une position, il suffit de l'intégrer dans les 12 cartes! \n",
      "\n",
      "Il nous faut maintenant garantir que 4 carreaux sont aussi incluses. Vu qu'on ne fixe pas quelles cartes spécifiquement \n",
      " il y a plusieurs manières des sélectionner ces 4 cartes parmi le total 9 carreaux disponible dans le jeu!\n",
      "De combien de manières différentes pourrons-nous choisir 4 carreaux parmi les 9 carreaux disponible?\n",
      "Combien de mains de ce type pourrons-nous former?\n"
     ]
    },
    {
     "data": {
      "application/vnd.jupyter.widget-view+json": {
       "model_id": "5f1a9f6e101c430aac7ac4582c8bb6ee",
       "version_major": 2,
       "version_minor": 0
      },
      "text/plain": [
       "HBox(children=(IntText(value=0, description='Réponse:'), Button(description='Soumettre', icon='check', style=B…"
      ]
     },
     "metadata": {},
     "output_type": "display_data"
    }
   ],
   "source": [
    "print(\"Regardons les conditions en premier. \\n\")\n",
    "\n",
    "print(\"L'As de trèfle occupe une position, il suffit de l'intégrer dans les 12 cartes! \\n\")\n",
    "\n",
    "print(\"Il nous faut maintenant garantir que 4 carreaux sont aussi incluses. Vu qu'on ne fixe pas quelles cartes spécifiquement \\n \\\n",
    "il y a plusieurs manières des sélectionner ces 4 cartes parmi le total 9 carreaux disponible dans le jeu!\")\n",
    "\n",
    "print(\"De combien de manières différentes pourrons-nous choisir 4 carreaux parmi les 9 carreaux disponible?\")\n",
    "\n",
    "print(\"Combien de mains de ce type pourrons-nous former?\")\n",
    "\n",
    "\n",
    "n_ex8_6_cond = 9\n",
    "k_ex8_6_cond = 4\n",
    "\n",
    "\n",
    "counter_6_1_ex8 = 0\n",
    "\n",
    "ex8_q6_1_answer = widgets.IntText(\n",
    "    value= 0,\n",
    "    description='Réponse:',\n",
    "    disabled=False\n",
    ")\n",
    "\n",
    "button = widgets.Button(\n",
    "    description='Soumettre',\n",
    "    disabled=False,\n",
    "    button_style='',\n",
    "    tooltip='Click me',\n",
    "    icon='check' \n",
    ")\n",
    "\n",
    "\n",
    "def test_6_1_ex8(change):\n",
    "    global counter_6_1_ex8 \n",
    "    counter_6_1_ex8 = counter_6_1_ex8 + 1\n",
    "    value = ex8_q6_1_answer.value\n",
    "    correct_value = int(fn.nCr(n_ex8_6_cond, k_ex8_6_cond))\n",
    "    if value == correct_value:\n",
    "        print(\"----------------------------------\")\n",
    "        print(\"Tetantive {}: Bravo! votre réponse est correcte :)\".format(counter_6_ex8))\n",
    "    else:\n",
    "        print(\"----------------------------------\")\n",
    "        print(\"Tetantive {}:Malheureusement, la réponse soumise n'est pas correcte. \\n \\\n",
    "       hint: les cartes sont distinctes, l'ordre n'est pas important!\".format(counter_6_ex8))\n",
    "\n",
    "\n",
    "display(widgets.HBox([ex8_q6_1_answer, button]))\n",
    "\n",
    "button.on_click(test_6_1_ex8)"
   ]
  },
  {
   "cell_type": "code",
   "execution_count": 934,
   "id": "0d1451cb",
   "metadata": {
    "init_cell": true,
    "scrolled": true,
    "solution2": "hidden"
   },
   "outputs": [
    {
     "name": "stdout",
     "output_type": "stream",
     "text": [
      "L'As du trèfle occupe une place, les 4 carreaux occupe 4 places. Il reste 7 cartes encore à tirer. \n",
      " Attention: on voulez exactement 4 carreaux, pas plus. On pourrait par contre avoir encore des autres As! \n",
      " Pour finir l'exercice, il faut dénombrer les possibilités pour ces 7 cartes et les combiner avec le dénombrement \n",
      " des 4 carreaux précédent. \n",
      "\n",
      "Continuez vos calculs et revenez au début de la question pour resoumettre votre réponse.\n"
     ]
    }
   ],
   "source": [
    "print(\"L'As du trèfle occupe une place, les 4 carreaux occupe 4 places. Il reste 7 cartes encore à tirer. \\n \\\n",
    "Attention: on voulez exactement 4 carreaux, pas plus. On pourrait par contre avoir encore des autres As! \\n \\\n",
    "Pour finir l'exercice, il faut dénombrer les possibilités pour ces 7 cartes et les combiner avec le dénombrement \\n \\\n",
    "des 4 carreaux précédent. \\n\")\n",
    "\n",
    "print(\"Continuez vos calculs et revenez au début de la question pour resoumettre votre réponse.\")"
   ]
  },
  {
   "cell_type": "markdown",
   "id": "994b1b24",
   "metadata": {
    "hide_input": true
   },
   "source": [
    "# Feedback "
   ]
  },
  {
   "cell_type": "code",
   "execution_count": 935,
   "id": "a7c5b2e0",
   "metadata": {
    "hide_input": true,
    "init_cell": true,
    "scrolled": true
   },
   "outputs": [
    {
     "data": {
      "text/html": [
       "\n",
       "<iframe \n",
       "\tsrc=\"https://forms.gle/qHhscg3qxpkBxp5CA\" \n",
       "\twidth=\"100%\" \n",
       "\theight=\"1200px\" \n",
       "\tframeborder=\"0\" \n",
       "\tmarginheight=\"0\" \n",
       "\tmarginwidth=\"0\">\n",
       "\tLoading...\n",
       "</iframe>\n"
      ],
      "text/plain": [
       "<IPython.core.display.HTML object>"
      ]
     },
     "execution_count": 935,
     "metadata": {},
     "output_type": "execute_result"
    }
   ],
   "source": [
    "from IPython.display import HTML\n",
    "HTML(\n",
    "\"\"\"\n",
    "<iframe \n",
    "\tsrc=\"https://forms.gle/qHhscg3qxpkBxp5CA\" \n",
    "\twidth=\"100%\" \n",
    "\theight=\"1200px\" \n",
    "\tframeborder=\"0\" \n",
    "\tmarginheight=\"0\" \n",
    "\tmarginwidth=\"0\">\n",
    "\tLoading...\n",
    "</iframe>\n",
    "\"\"\"\n",
    ")"
   ]
  },
  {
   "cell_type": "code",
   "execution_count": null,
   "id": "cf581cf4",
   "metadata": {},
   "outputs": [],
   "source": []
  }
 ],
 "metadata": {
  "celltoolbar": "Initialization Cell",
  "hide_input": true,
  "kernelspec": {
   "display_name": "Python 3 (ipykernel)",
   "language": "python",
   "name": "python3"
  },
  "language_info": {
   "codemirror_mode": {
    "name": "ipython",
    "version": 3
   },
   "file_extension": ".py",
   "mimetype": "text/x-python",
   "name": "python",
   "nbconvert_exporter": "python",
   "pygments_lexer": "ipython3",
   "version": "3.9.6"
  },
  "toc": {
   "base_numbering": 1,
   "nav_menu": {},
   "number_sections": true,
   "sideBar": true,
   "skip_h1_title": false,
   "title_cell": "Table of Contents",
   "title_sidebar": "Contents",
   "toc_cell": false,
   "toc_position": {
    "height": "calc(100% - 180px)",
    "left": "10px",
    "top": "150px",
    "width": "220px"
   },
   "toc_section_display": true,
   "toc_window_display": true
  }
 },
 "nbformat": 4,
 "nbformat_minor": 5
}
