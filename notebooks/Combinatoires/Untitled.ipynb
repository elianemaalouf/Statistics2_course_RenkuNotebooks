{
 "cells": [
  {
   "cell_type": "markdown",
   "id": "284a7711-50f8-43e9-b1de-d7535d08eae8",
   "metadata": {},
   "source": [
    "# Vaudra-t-il répondre par hasard à un examen à questions à choix multiples?\n",
    "\n",
    "Il s'agit d'une examen à 30 questions. "
   ]
  },
  {
   "cell_type": "code",
   "execution_count": null,
   "id": "659a62d0-c611-411f-bb5c-ec2640b7e21f",
   "metadata": {},
   "outputs": [],
   "source": [
    "import ipywidgets as widgets"
   ]
  },
  {
   "cell_type": "code",
   "execution_count": null,
   "id": "af578c5c-5176-4b8c-ba94-e1606e2b4583",
   "metadata": {},
   "outputs": [],
   "source": []
  },
  {
   "cell_type": "code",
   "execution_count": 1,
   "id": "cbcb3ca1-289d-4d4f-a21a-a95a35e0aadf",
   "metadata": {},
   "outputs": [
    {
     "data": {
      "text/html": [
       "\n",
       "<iframe \n",
       "\tsrc=\"https://docs.google.com/forms/d/e/1FAIpQLSds6auvh83EtSjeeZ3fUfrpmjKewJn2QMyy_UM8hAhb42Ncsw/viewform?usp=sf_link\" \n",
       "\twidth=\"90%\" \n",
       "\theight=\"1000px\" \n",
       "\tframeborder=\"0\" \n",
       "\tmarginheight=\"0\" \n",
       "\tmarginwidth=\"0\">\n",
       "\tLoading...\n",
       "</iframe>\n"
      ],
      "text/plain": [
       "<IPython.core.display.HTML object>"
      ]
     },
     "execution_count": 1,
     "metadata": {},
     "output_type": "execute_result"
    }
   ],
   "source": [
    " from IPython.display import HTML\n",
    "HTML(\n",
    "\"\"\"\n",
    "<iframe \n",
    "\tsrc=\"https://docs.google.com/forms/d/e/1FAIpQLSds6auvh83EtSjeeZ3fUfrpmjKewJn2QMyy_UM8hAhb42Ncsw/viewform?usp=sf_link\" \n",
    "\twidth=\"90%\" \n",
    "\theight=\"1000px\" \n",
    "\tframeborder=\"0\" \n",
    "\tmarginheight=\"0\" \n",
    "\tmarginwidth=\"0\">\n",
    "\tLoading...\n",
    "</iframe>\n",
    "\"\"\"\n",
    ")"
   ]
  },
  {
   "cell_type": "code",
   "execution_count": null,
   "id": "d4f2450a-b946-4e37-9fdf-708f4853f41b",
   "metadata": {},
   "outputs": [],
   "source": []
  }
 ],
 "metadata": {
  "kernelspec": {
   "display_name": "Python 3 (ipykernel)",
   "language": "python",
   "name": "python3"
  },
  "language_info": {
   "codemirror_mode": {
    "name": "ipython",
    "version": 3
   },
   "file_extension": ".py",
   "mimetype": "text/x-python",
   "name": "python",
   "nbconvert_exporter": "python",
   "pygments_lexer": "ipython3",
   "version": "3.9.6"
  }
 },
 "nbformat": 4,
 "nbformat_minor": 5
}
