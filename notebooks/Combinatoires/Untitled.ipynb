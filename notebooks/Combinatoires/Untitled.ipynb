{
 "cells": [
  {
   "cell_type": "markdown",
   "id": "284a7711-50f8-43e9-b1de-d7535d08eae8",
   "metadata": {},
   "source": [
    "# Vaudra-t-il répondre par hasard à un examen à questions à choix multiples?\n",
    "\n",
    "Il s'agit d'un examen à n questions. \n",
    "\n",
    "On suppose que chaque question a 2 choix possibles et seulement un de ceux la est correct. "
   ]
  },
  {
   "cell_type": "markdown",
   "id": "13faf357-6e1d-4f95-8067-ac0db06efb5a",
   "metadata": {},
   "source": [
    "#### De combien de façons différentes peut-on répondre à cet examen?\n",
    "Rentrer la valeur que vous calculer dans le champ ci-dessous. "
   ]
  },
  {
   "cell_type": "code",
   "execution_count": 20,
   "id": "af578c5c-5176-4b8c-ba94-e1606e2b4583",
   "metadata": {
    "tags": []
   },
   "outputs": [
    {
     "name": "stdout",
     "output_type": "stream",
     "text": [
      "1073741824\n"
     ]
    },
    {
     "data": {
      "application/vnd.jupyter.widget-view+json": {
       "model_id": "511926dca7be46e59a87379221aad490",
       "version_major": 2,
       "version_minor": 0
      },
      "text/plain": [
       "IntText(value=0, description='Total:')"
      ]
     },
     "metadata": {},
     "output_type": "display_data"
    }
   ],
   "source": [
    "import ipywidgets as widgets\n",
    "import functions as fn\n",
    "\n",
    "n = 30 # nombre de questions de l'examen \n",
    "n_choix = 2 # nombre de choix disponible par question\n",
    "n_correct = 1 # nombre de réponses correctes parmi les choix\n",
    "#print(fn.count_total(n, n_choix, n_correct) )\n",
    "value_field = widgets.IntText(\n",
    "    value=0,\n",
    "    description='Total:',\n",
    "    disabled=False\n",
    ")\n",
    "display(value_field)"
   ]
  },
  {
   "cell_type": "code",
   "execution_count": 26,
   "id": "886ca3aa-a79f-454a-a51a-2d0bd6628832",
   "metadata": {
    "jupyter": {
     "source_hidden": true
    },
    "tags": []
   },
   "outputs": [
    {
     "name": "stdout",
     "output_type": "stream",
     "text": [
      "Attention, votre réponse n'est pas correcte :( \n",
      " Vous pouvez réessayer. \n"
     ]
    }
   ],
   "source": [
    "if value_field.value == fn.count_total(n, n_choix, n_correct):\n",
    "    print(\"Correct! Bravo ! \\n Il y a {} manières différentes de remplir le formulaire\".format\n",
    "         (fn.count_total(n, n_choix, n_correct)))\n",
    "else:\n",
    "    print(\"Attention, votre réponse n'est pas correcte :( \\n Vous pouvez réessayer. \")"
   ]
  },
  {
   "cell_type": "code",
   "execution_count": null,
   "id": "b1358c65-54c9-420d-8830-1684d00f9b35",
   "metadata": {},
   "outputs": [],
   "source": [
    "### "
   ]
  },
  {
   "cell_type": "code",
   "execution_count": 1,
   "id": "cbcb3ca1-289d-4d4f-a21a-a95a35e0aadf",
   "metadata": {
    "tags": []
   },
   "outputs": [
    {
     "data": {
      "text/html": [
       "\n",
       "<iframe \n",
       "\tsrc=\"https://docs.google.com/forms/d/e/1FAIpQLSds6auvh83EtSjeeZ3fUfrpmjKewJn2QMyy_UM8hAhb42Ncsw/viewform?usp=sf_link\" \n",
       "\twidth=\"90%\" \n",
       "\theight=\"1000px\" \n",
       "\tframeborder=\"0\" \n",
       "\tmarginheight=\"0\" \n",
       "\tmarginwidth=\"0\">\n",
       "\tLoading...\n",
       "</iframe>\n"
      ],
      "text/plain": [
       "<IPython.core.display.HTML object>"
      ]
     },
     "execution_count": 1,
     "metadata": {},
     "output_type": "execute_result"
    }
   ],
   "source": [
    " from IPython.display import HTML\n",
    "HTML(\n",
    "\"\"\"\n",
    "<iframe \n",
    "\tsrc=\"https://docs.google.com/forms/d/e/1FAIpQLSds6auvh83EtSjeeZ3fUfrpmjKewJn2QMyy_UM8hAhb42Ncsw/viewform?usp=sf_link\" \n",
    "\twidth=\"90%\" \n",
    "\theight=\"1000px\" \n",
    "\tframeborder=\"0\" \n",
    "\tmarginheight=\"0\" \n",
    "\tmarginwidth=\"0\">\n",
    "\tLoading...\n",
    "</iframe>\n",
    "\"\"\"\n",
    ")"
   ]
  },
  {
   "cell_type": "code",
   "execution_count": null,
   "id": "d4f2450a-b946-4e37-9fdf-708f4853f41b",
   "metadata": {},
   "outputs": [],
   "source": []
  }
 ],
 "metadata": {
  "kernelspec": {
   "display_name": "Python 3 (ipykernel)",
   "language": "python",
   "name": "python3"
  },
  "language_info": {
   "codemirror_mode": {
    "name": "ipython",
    "version": 3
   },
   "file_extension": ".py",
   "mimetype": "text/x-python",
   "name": "python",
   "nbconvert_exporter": "python",
   "pygments_lexer": "ipython3",
   "version": "3.9.6"
  }
 },
 "nbformat": 4,
 "nbformat_minor": 5
}
