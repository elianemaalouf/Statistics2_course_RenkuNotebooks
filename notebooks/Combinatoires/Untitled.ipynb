{
 "cells": [
  {
   "cell_type": "code",
   "execution_count": 1,
   "id": "937c515d",
   "metadata": {
    "hide_input": false,
    "init_cell": true,
    "scrolled": false,
    "solution": "shown"
   },
   "outputs": [],
   "source": [
    "import ipywidgets as widgets\n",
    "import functions as fn \n",
    "from IPython.display import display, clear_output"
   ]
  },
  {
   "cell_type": "markdown",
   "id": "406519bc",
   "metadata": {
    "hide_input": true
   },
   "source": [
    "Pour chacun des exercices ci-dessous vous pouvez directement donner votre réponse et valider si elle est correct ou vous pouvez procéder à résoudre les questions étape par étape pour décortiquer l'intuition qui se cache derrière la solution. "
   ]
  },
  {
   "cell_type": "markdown",
   "id": "569abade",
   "metadata": {
    "hide_input": true
   },
   "source": [
    "# Exercice 1  \n",
    "De combien de façons peut-on répondre à un QCM composé de 10 questions s’il y a 5 suggestions à chaque question et qu’il n’est possible d’en choisir qu’une seule par question ?"
   ]
  },
  {
   "cell_type": "code",
   "execution_count": 2,
   "id": "122a09aa",
   "metadata": {
    "hide_input": true,
    "init_cell": true,
    "scrolled": false
   },
   "outputs": [
    {
     "data": {
      "application/vnd.jupyter.widget-view+json": {
       "model_id": "8c6a2fb1f857461f9076ca04fa58d6af",
       "version_major": 2,
       "version_minor": 0
      },
      "text/plain": [
       "HBox(children=(IntText(value=0, description='Réponse:'), Button(description='Soumettre', icon='check', style=B…"
      ]
     },
     "metadata": {},
     "output_type": "display_data"
    }
   ],
   "source": [
    "n = 10 # nombre de questions \n",
    "n_choice = 5 # nombre de choix par question\n",
    "\n",
    "counter = 0\n",
    "\n",
    "ex1_answer = widgets.IntText(\n",
    "    value= 0,\n",
    "    description='Réponse:',\n",
    "    disabled=False\n",
    ")\n",
    "\n",
    "button = widgets.Button(\n",
    "    description='Soumettre',\n",
    "    disabled=False,\n",
    "    button_style='', # 'success', 'info', 'warning', 'danger' or ''\n",
    "    tooltip='Click me',\n",
    "    icon='check' # (FontAwesome names without the `fa-` prefix)\n",
    ")\n",
    "\n",
    "\n",
    "def test(change):\n",
    "    global counter \n",
    "    global out\n",
    "    counter = counter + 1\n",
    "    value = ex1_answer.value\n",
    "    correct_value = fn.verify_ex1(n, n_choice)\n",
    "    if value == correct_value:\n",
    "        print(\"Tetantive {}: Bravo! votre réponse est correcte :)\".format(counter))\n",
    "    else:\n",
    "        print(\"Tetantive {}:Malheureusement, la réponse soumise n'est pas correcte. \\n Vous pouvez resoumettre une autre réponse où utiliser la résolution par étape\".format(counter))\n",
    "\n",
    "\n",
    "display(widgets.HBox([ex1_answer, button]))\n",
    "\n",
    "button.on_click(test)\n",
    "    \n",
    "#print(fn.verify_ex1(n, n_choice))"
   ]
  },
  {
   "cell_type": "code",
   "execution_count": 26,
   "id": "6a43900a",
   "metadata": {
    "hide_input": true,
    "scrolled": false
   },
   "outputs": [
    {
     "data": {
      "text/plain": [
       "'Penser question par question et combiner le tout avec la règle de multiplication:'"
      ]
     },
     "metadata": {},
     "output_type": "display_data"
    },
    {
     "data": {
      "text/plain": [
       "'De combien de façons peut on répondre à la question 1:'"
      ]
     },
     "metadata": {},
     "output_type": "display_data"
    },
    {
     "data": {
      "application/vnd.jupyter.widget-view+json": {
       "model_id": "049600df99d94525a6f8169c6d0d4824",
       "version_major": 2,
       "version_minor": 0
      },
      "text/plain": [
       "HBox(children=(IntText(value=0, description='Réponse:'), Button(description='Soumettre', icon='check', style=B…"
      ]
     },
     "metadata": {},
     "output_type": "display_data"
    },
    {
     "data": {
      "text/plain": [
       "'ET \\n'"
      ]
     },
     "metadata": {},
     "output_type": "display_data"
    },
    {
     "data": {
      "text/plain": [
       "'De combien de façons peut on répondre à la question 2: \\n'"
      ]
     },
     "metadata": {},
     "output_type": "display_data"
    },
    {
     "data": {
      "application/vnd.jupyter.widget-view+json": {
       "model_id": "7a59baf63aa84594add6d71d3c292286",
       "version_major": 2,
       "version_minor": 0
      },
      "text/plain": [
       "HBox(children=(IntText(value=0, description='Réponse:'), Button(description='Soumettre', icon='check', style=B…"
      ]
     },
     "metadata": {},
     "output_type": "display_data"
    },
    {
     "data": {
      "text/plain": [
       "'ET ... \\n'"
      ]
     },
     "metadata": {},
     "output_type": "display_data"
    },
    {
     "data": {
      "text/plain": [
       "\"de la même manière chaque question aura 5 façons d'y répondre\""
      ]
     },
     "metadata": {},
     "output_type": "display_data"
    },
    {
     "data": {
      "text/plain": [
       "'Essayez encore! hint: combien de choix possible a-t-on par question?'"
      ]
     },
     "metadata": {},
     "output_type": "display_data"
    }
   ],
   "source": [
    "display(str('Penser question par question et combiner le tout avec la règle de multiplication:'))\n",
    "display(\"De combien de façons peut on répondre à la question 1:\")\n",
    "\n",
    "def test(change):\n",
    "    value = q1_answer.value\n",
    "    correct_value = n_choice\n",
    "    if value == correct_value:\n",
    "        display(\"Exact!!\")\n",
    "    else:\n",
    "        display(\"Essayez encore! hint: combien de choix possible a-t-on par question?\")\n",
    "\n",
    "q1_answer = widgets.IntText(\n",
    "    value= 0,\n",
    "    description='Réponse:',\n",
    "    disabled=False\n",
    ")\n",
    "button_q1 = widgets.Button(\n",
    "    description='Soumettre',\n",
    "    disabled=False,\n",
    "    button_style='', # 'success', 'info', 'warning', 'danger' or ''\n",
    "    tooltip='Click me',\n",
    "    icon='check' # (FontAwesome names without the `fa-` prefix)\n",
    ")\n",
    "\n",
    "\n",
    "display(widgets.HBox([q1_answer, button_q1]))\n",
    "\n",
    "out1 = widgets.Output(layout={'border': '1px solid black'})\n",
    "\n",
    "with out1:\n",
    "    button_q1.on_click(test)\n",
    "out1\n",
    "\n",
    "display(\"ET \\n\")\n",
    "\n",
    "display(\"De combien de façons peut on répondre à la question 2: \\n\")\n",
    "\n",
    "q2_answer = widgets.IntText(\n",
    "    value= 0,\n",
    "    description='Réponse:',\n",
    "    disabled=False\n",
    ")\n",
    "button_q2 = widgets.Button(\n",
    "    description='Soumettre',\n",
    "    disabled=False,\n",
    "    button_style='', # 'success', 'info', 'warning', 'danger' or ''\n",
    "    tooltip='Click me',\n",
    "    icon='check' # (FontAwesome names without the `fa-` prefix)\n",
    ")\n",
    "\n",
    "display(widgets.HBox([q2_answer, button_q2]))\n",
    "\n",
    "button_q2.on_click(test)\n",
    "\n",
    "display(\"ET ... \\n\")\n",
    "\n",
    "display(\"de la même manière chaque question aura 5 façons d'y répondre\")\n",
    "\n",
    "\n",
    "\n",
    "\n",
    "\n"
   ]
  },
  {
   "cell_type": "raw",
   "id": "fe473233",
   "metadata": {
    "hide_egal": false,
    "is_egal": true
   },
   "source": [
    "<svg height=\"250\" width=\"100%\"><desc>Created with Snap</desc><defs><filter id=\"Skzda3o053\" filterUnits=\"userSpaceOnUse\"><feGaussianBlur in=\"SourceAlpha\" stdDeviation=\"3\"></feGaussianBlur><feOffset dx=\"0\" dy=\"2\" result=\"offsetblur\"></feOffset><feFlood flood-color=\"#000000\"></feFlood><feComposite in2=\"offsetblur\" operator=\"in\"></feComposite><feComponentTransfer><feFuncA type=\"linear\" slope=\"1\"></feFuncA></feComponentTransfer><feMerge><feMergeNode></feMergeNode><feMergeNode in=\"SourceGraphic\"></feMergeNode></feMerge></filter><marker viewBox=\"0 0 10 10\" markerWidth=\"10\" markerHeight=\"10\" orient=\"auto\" refX=\"9\" refY=\"3\" id=\"arrowEndMarker\"><polygon points=\"0,0,0,6,9,3,0,0\" fill=\"#323232\" id=\"arrow\" style=\"\"></polygon></marker><marker viewBox=\"0 0 10 10\" markerWidth=\"10\" markerHeight=\"10\" orient=\"auto\" refX=\"0\" refY=\"3\" id=\"arrowStartMarker\"><polygon points=\"0,3,9,0,9,6,0,3\" fill=\"#323232\" id=\"startArrow\" style=\"\"></polygon></marker></defs></svg>"
   ]
  },
  {
   "cell_type": "code",
   "execution_count": 37,
   "id": "96f3b8c2",
   "metadata": {},
   "outputs": [
    {
     "data": {
      "application/vnd.jupyter.widget-view+json": {
       "model_id": "",
       "version_major": 2,
       "version_minor": 0
      },
      "text/plain": [
       "Button(description='Edit', style=ButtonStyle())"
      ]
     },
     "metadata": {},
     "output_type": "display_data"
    },
    {
     "data": {
      "application/vnd.jupyter.widget-view+json": {
       "model_id": "",
       "version_major": 2,
       "version_minor": 0
      },
      "text/plain": [
       "Output()"
      ]
     },
     "metadata": {},
     "output_type": "display_data"
    },
    {
     "data": {
      "application/vnd.jupyter.widget-view+json": {
       "model_id": "d8c93511566a4788b6c3d652d8dc8e90",
       "version_major": 2,
       "version_minor": 0
      },
      "text/plain": [
       "Button(description='Edit', style=ButtonStyle())"
      ]
     },
     "metadata": {},
     "output_type": "display_data"
    },
    {
     "data": {
      "application/vnd.jupyter.widget-view+json": {
       "model_id": "06012b7aebd74ff891493a3353b187bd",
       "version_major": 2,
       "version_minor": 0
      },
      "text/plain": [
       "Output()"
      ]
     },
     "metadata": {},
     "output_type": "display_data"
    }
   ],
   "source": [
    "from ipysketch import Sketch \n",
    "sk = Sketch(\"my sketch\")\n",
    "sk"
   ]
  },
  {
   "cell_type": "markdown",
   "id": "7f66d12a",
   "metadata": {
    "hide_input": true
   },
   "source": [
    "# Exercice 2  \n",
    "Un marchand de glaces propose à ses clients une palette de 10 arômes différents et la possibilité de choisir une glace selon un agencement à une, deux ou trois boules placées verticalement. Combien de glaces différentes le marchand propose-t-il si une glace ne peut pas comporter deux boules du même arôme ?"
   ]
  },
  {
   "cell_type": "markdown",
   "id": "9288ef76",
   "metadata": {
    "hide_input": false
   },
   "source": [
    "# Exercice 3"
   ]
  }
 ],
 "metadata": {
  "celltoolbar": "Initialization Cell",
  "kernelspec": {
   "display_name": "Python 3 (ipykernel)",
   "language": "python",
   "name": "python3"
  },
  "language_info": {
   "codemirror_mode": {
    "name": "ipython",
    "version": 3
   },
   "file_extension": ".py",
   "mimetype": "text/x-python",
   "name": "python",
   "nbconvert_exporter": "python",
   "pygments_lexer": "ipython3",
   "version": "3.9.6"
  },
  "toc": {
   "base_numbering": 1,
   "nav_menu": {},
   "number_sections": true,
   "sideBar": true,
   "skip_h1_title": false,
   "title_cell": "Table of Contents",
   "title_sidebar": "Contents",
   "toc_cell": false,
   "toc_position": {
    "height": "calc(100% - 180px)",
    "left": "10px",
    "top": "150px",
    "width": "220px"
   },
   "toc_section_display": true,
   "toc_window_display": true
  }
 },
 "nbformat": 4,
 "nbformat_minor": 5
}
