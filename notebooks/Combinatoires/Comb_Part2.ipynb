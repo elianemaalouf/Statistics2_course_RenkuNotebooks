{
 "cells": [
  {
   "cell_type": "code",
   "execution_count": 37,
   "id": "937c515d",
   "metadata": {
    "hide_input": true,
    "init_cell": true,
    "scrolled": false
   },
   "outputs": [],
   "source": [
    "import ipywidgets as widgets\n",
    "import fn as fn \n",
    "from IPython.display import display, clear_output, Image\n",
    "import asyncio\n"
   ]
  },
  {
   "cell_type": "markdown",
   "id": "406519bc",
   "metadata": {
    "hide_input": true
   },
   "source": [
    "Pour chacun des exercices ci-dessous vous pouvez directement donner votre réponse et valider si elle est correcte ou vous pouvez procéder à résoudre les questions étape par étape pour décortiquer l'intuition qui se cache derrière la solution. "
   ]
  },
  {
   "cell_type": "code",
   "execution_count": 38,
   "id": "6a43900a",
   "metadata": {
    "hide_input": false,
    "init_cell": true,
    "scrolled": true,
    "solution2": "hidden"
   },
   "outputs": [
    {
     "name": "stdout",
     "output_type": "stream",
     "text": [
      "Penser à ce QCM comme une série de 10 opérations successives. \n",
      "  \n",
      "De combien de manières peut on effectuer la première opération? \n",
      " Dit autrement, de combien de manières différentes peut on répondre à la question 1:\n"
     ]
    },
    {
     "data": {
      "application/vnd.jupyter.widget-view+json": {
       "model_id": "75177bbcb97f45be8bb9861f1b6f6d05",
       "version_major": 2,
       "version_minor": 0
      },
      "text/plain": [
       "HBox(children=(IntText(value=0, description='Réponse:'), Button(description='Soumettre', icon='check', style=B…"
      ]
     },
     "metadata": {},
     "output_type": "display_data"
    },
    {
     "data": {
      "application/vnd.jupyter.widget-view+json": {
       "model_id": "d187e08c01d94a1ea4e1287dedd26b90",
       "version_major": 2,
       "version_minor": 0
      },
      "text/plain": [
       "Output(layout=Layout(border='1px solid black'))"
      ]
     },
     "metadata": {},
     "output_type": "display_data"
    }
   ],
   "source": [
    "print(\"Penser à ce QCM comme une série de 10 opérations successives. \\n  \")\n",
    "print(\"De combien de manières peut on effectuer la première opération? \\n Dit autrement, de combien de manières différentes peut on répondre à la question 1:\")\n",
    "\n",
    "def test_1_ex1(change):\n",
    "    global counter_2_ex1 \n",
    "    counter_2_ex1 = counter_2_ex1 + 1\n",
    "    value = q1_answer.value\n",
    "    correct_value = n_choice_ex1\n",
    "    if value == correct_value:\n",
    "        display(\"Tentative {} : Exact!!\".format(counter_2_ex1))\n",
    "    else:\n",
    "        display(\"Tentative {}: Essayez encore! hint: combien de choix possible a-t-on par question?\".format(counter_2_ex1))\n",
    "\n",
    "counter_2_ex1 = 0\n",
    "q1_answer = widgets.IntText(\n",
    "    value= 0,\n",
    "    description='Réponse:',\n",
    "    disabled=False\n",
    ")\n",
    "button_q1 = widgets.Button(\n",
    "    description='Soumettre',\n",
    "    disabled=False,\n",
    "    button_style='', # 'success', 'info', 'warning', 'danger' or ''\n",
    "    tooltip='Click me',\n",
    "    icon='check' # (FontAwesome names without the `fa-` prefix)\n",
    ")\n",
    "\n",
    "\n",
    "display(widgets.HBox([q1_answer, button_q1]))\n",
    "\n",
    "out1 = widgets.Output(layout={'border': '1px solid black'})\n",
    "\n",
    "with out1:\n",
    "    button_q1.on_click(test_1_ex1)\n",
    "out1\n",
    "\n",
    "\n"
   ]
  },
  {
   "cell_type": "code",
   "execution_count": 39,
   "id": "5315aa66",
   "metadata": {
    "hide_input": false,
    "init_cell": true,
    "scrolled": false,
    "solution2": "hidden"
   },
   "outputs": [
    {
     "name": "stdout",
     "output_type": "stream",
     "text": [
      "ET \n",
      "\n",
      "De combien de mainières différentes peut on répondre à la question 2: \n",
      "\n"
     ]
    },
    {
     "data": {
      "application/vnd.jupyter.widget-view+json": {
       "model_id": "944e6de3688246c9b541654aac3fed6a",
       "version_major": 2,
       "version_minor": 0
      },
      "text/plain": [
       "HBox(children=(IntText(value=0, description='Réponse:'), Button(description='Soumettre', icon='check', style=B…"
      ]
     },
     "metadata": {},
     "output_type": "display_data"
    },
    {
     "data": {
      "application/vnd.jupyter.widget-view+json": {
       "model_id": "b28862dfe83a42e0bbc9508158648913",
       "version_major": 2,
       "version_minor": 0
      },
      "text/plain": [
       "Output(layout=Layout(border='1px solid black'))"
      ]
     },
     "metadata": {},
     "output_type": "display_data"
    }
   ],
   "source": [
    "print(\"ET \\n\")\n",
    "\n",
    "print(\"De combien de mainières différentes peut on répondre à la question 2: \\n\")\n",
    "\n",
    "def test_2_ex1(change):\n",
    "    global counter_3_ex1 \n",
    "    counter_3_ex1 = counter_3_ex1 + 1\n",
    "    value = q2_answer.value\n",
    "    correct_value = n_choice_ex1\n",
    "    if value == correct_value:\n",
    "        display(\"Tentative {} : Exact!!\".format(counter_3_ex1))\n",
    "    else:\n",
    "        display(\"Tentative {}: Essayez encore! hint: combien de choix possible a-t-on par question?\".format(counter_3_ex1))\n",
    "\n",
    "    \n",
    "counter_3_ex1 = 0\n",
    "q2_answer = widgets.IntText(\n",
    "    value= 0,\n",
    "    description='Réponse:',\n",
    "    disabled=False\n",
    ")\n",
    "button_q2 = widgets.Button(\n",
    "    description='Soumettre',\n",
    "    disabled=False,\n",
    "    button_style='', \n",
    "    tooltip='Click me',\n",
    "    icon='check' \n",
    ")\n",
    "\n",
    "\n",
    "display(widgets.HBox([q2_answer, button_q2]))\n",
    "\n",
    "out2 = widgets.Output(layout={'border': '1px solid black'})\n",
    "\n",
    "with out2:\n",
    "    button_q2.on_click(test_2_ex1)\n",
    "out2"
   ]
  },
  {
   "cell_type": "code",
   "execution_count": 40,
   "id": "c2c7a666",
   "metadata": {
    "hide_input": false,
    "init_cell": true,
    "scrolled": true,
    "solution2": "hidden"
   },
   "outputs": [
    {
     "name": "stdout",
     "output_type": "stream",
     "text": [
      "ET ... \n",
      "\n",
      "de la même manière chaque question aura 5 manières différentes pour y répondre. \n",
      "\n",
      "Une fois on a fait la réflexion pour chaque question, on doit combiner le tout. Comment faire? \n",
      "\n",
      "Quel principe faudra-t-il appliquer ici pour combiner?\n"
     ]
    },
    {
     "data": {
      "application/vnd.jupyter.widget-view+json": {
       "model_id": "00fce43b1a184ff483be243819d7537f",
       "version_major": 2,
       "version_minor": 0
      },
      "text/plain": [
       "HBox(children=(Dropdown(description='Principe de:', options=('aucune', 'addition', 'multiplication', 'les deux…"
      ]
     },
     "metadata": {},
     "output_type": "display_data"
    },
    {
     "data": {
      "application/vnd.jupyter.widget-view+json": {
       "model_id": "21a717b991224c4f849b6522e9767fee",
       "version_major": 2,
       "version_minor": 0
      },
      "text/plain": [
       "Output(layout=Layout(border='1px solid black'))"
      ]
     },
     "metadata": {},
     "output_type": "display_data"
    }
   ],
   "source": [
    "print(\"ET ... \\n\")\n",
    "\n",
    "print(\"de la même manière chaque question aura 5 manières différentes pour y répondre. \\n\")\n",
    "\n",
    "print(\"Une fois on a fait la réflexion pour chaque question, on doit combiner le tout. Comment faire? \\n\")\n",
    "print(\"Quel principe faudra-t-il appliquer ici pour combiner?\")\n",
    "\n",
    "def test_3_ex2(change):\n",
    "    global counter_4_ex1 \n",
    "    counter_4_ex1 = counter_4_ex1 + 1\n",
    "    value = drop_ex1.value\n",
    "    correct_value = 'multiplication'\n",
    "    if value == correct_value:\n",
    "        print(\"Tentative {counter} : Exact! Nous devons procéder à multiplier {n_choice} par lui-même {n} fois. \\n \\\n",
    "        Revenez au début de l'exercice et resoumettez votre réponse. \\n\\\n",
    "        Un exemple détaillé se trouve ci-dessous.\"\n",
    "              .format(counter = counter_4_ex1, n_choice= n_choice_ex1, n = n_ex1))\n",
    "    else:\n",
    "\n",
    "        print(\"Tentative {counter}: Non, ce n'est pas tout à fait correct. \\n \\\n",
    "        Regardez l'exemple détaillé ci-dessous.\".format(counter=counter_4_ex1))\n",
    "\n",
    "counter_4_ex1 = 0\n",
    "drop_ex1 = widgets.Dropdown(\n",
    "    options=['aucune', 'addition', 'multiplication', 'les deux'],\n",
    "    value='aucune',\n",
    "    description='Principe de:',\n",
    "    disabled=False,\n",
    ")\n",
    "\n",
    "button_comb = widgets.Button(\n",
    "    description='Soumettre',\n",
    "    disabled=False,\n",
    "    button_style='', # 'success', 'info', 'warning', 'danger' or ''\n",
    "    tooltip='Click me',\n",
    "    icon='check' # (FontAwesome names without the `fa-` prefix)\n",
    ")\n",
    "\n",
    "display(widgets.HBox([drop_ex1, button_comb]))\n",
    "\n",
    "out3 = widgets.Output(layout={'border': '1px solid black'})\n",
    "\n",
    "with out3:\n",
    "    button_comb.on_click(test_3_ex2)\n",
    "out3\n"
   ]
  },
  {
   "cell_type": "raw",
   "id": "fe473233",
   "metadata": {
    "hide_egal": false,
    "hide_input": true,
    "is_egal": true,
    "solution2": "hidden"
   },
   "source": [
    "<svg height=\"500\" width=\"100%\"><desc>Created with Snap</desc><defs><filter id=\"Skzda3o053\" filterUnits=\"userSpaceOnUse\"><feGaussianBlur in=\"SourceAlpha\" stdDeviation=\"3\"></feGaussianBlur><feOffset dx=\"0\" dy=\"2\" result=\"offsetblur\"></feOffset><feFlood flood-color=\"#000000\"></feFlood><feComposite in2=\"offsetblur\" operator=\"in\"></feComposite><feComponentTransfer><feFuncA type=\"linear\" slope=\"1\"></feFuncA></feComponentTransfer><feMerge><feMergeNode></feMergeNode><feMergeNode in=\"SourceGraphic\"></feMergeNode></feMerge></filter><marker viewBox=\"0 0 10 10\" markerWidth=\"10\" markerHeight=\"10\" orient=\"auto\" refX=\"9\" refY=\"3\" id=\"arrowEndMarker\"><polygon points=\"0,0,0,6,9,3,0,0\" fill=\"#323232\" id=\"arrow\" style=\"\"></polygon></marker><marker viewBox=\"0 0 10 10\" markerWidth=\"10\" markerHeight=\"10\" orient=\"auto\" refX=\"0\" refY=\"3\" id=\"arrowStartMarker\"><polygon points=\"0,3,9,0,9,6,0,3\" fill=\"#323232\" id=\"startArrow\" style=\"\"></polygon></marker><filter id=\"Skzdzwz6p3\" filterUnits=\"userSpaceOnUse\"><feGaussianBlur in=\"SourceAlpha\" stdDeviation=\"3\"></feGaussianBlur><feOffset dx=\"0\" dy=\"2\" result=\"offsetblur\"></feOffset><feFlood flood-color=\"#000000\"></feFlood><feComposite in2=\"offsetblur\" operator=\"in\"></feComposite><feComponentTransfer><feFuncA type=\"linear\" slope=\"1\"></feFuncA></feComponentTransfer><feMerge><feMergeNode></feMergeNode><feMergeNode in=\"SourceGraphic\"></feMergeNode></feMerge></filter><marker viewBox=\"0 0 10 10\" markerWidth=\"10\" markerHeight=\"10\" orient=\"auto\" refX=\"9\" refY=\"3\" id=\"arrowEndMarker\"><polygon points=\"0,0,0,6,9,3,0,0\" fill=\"#323232\" id=\"arrow\" style=\"\"></polygon></marker><marker viewBox=\"0 0 10 10\" markerWidth=\"10\" markerHeight=\"10\" orient=\"auto\" refX=\"0\" refY=\"3\" id=\"arrowStartMarker\"><polygon points=\"0,3,9,0,9,6,0,3\" fill=\"#323232\" id=\"startArrow\" style=\"\"></polygon></marker><filter id=\"Skzvsarbi3\" filterUnits=\"userSpaceOnUse\"><feGaussianBlur in=\"SourceAlpha\" stdDeviation=\"3\"></feGaussianBlur><feOffset dx=\"0\" dy=\"2\" result=\"offsetblur\"></feOffset><feFlood flood-color=\"#000000\"></feFlood><feComposite in2=\"offsetblur\" operator=\"in\"></feComposite><feComponentTransfer><feFuncA type=\"linear\" slope=\"1\"></feFuncA></feComponentTransfer><feMerge><feMergeNode></feMergeNode><feMergeNode in=\"SourceGraphic\"></feMergeNode></feMerge></filter><marker viewBox=\"0 0 10 10\" markerWidth=\"10\" markerHeight=\"10\" orient=\"auto\" refX=\"9\" refY=\"3\" id=\"arrowEndMarker\"><polygon points=\"0,0,0,6,9,3,0,0\" fill=\"#323232\" id=\"arrow\" style=\"\"></polygon></marker><marker viewBox=\"0 0 10 10\" markerWidth=\"10\" markerHeight=\"10\" orient=\"auto\" refX=\"0\" refY=\"3\" id=\"arrowStartMarker\"><polygon points=\"0,3,9,0,9,6,0,3\" fill=\"#323232\" id=\"startArrow\" style=\"\"></polygon></marker></defs><g id=\"drup_elem_23\" first-frame=\"1\" last-frame=\"1\" class=\"drupElem\"><text x=\"53.067718505859375\" y=\"71.66927146911621\" class=\"core alignable sub egal-label\" style=\"text-anchor: middle; alignment-baseline: central; font-size: 20px; visibility: visible; opacity: 1;\" data-src=\"1 1 1\" transform=\"matrix(1,0,0,1,9,101)\">1 1 1</text></g><g id=\"drup_elem_43\" first-frame=\"1\" last-frame=\"1\" class=\"drupElem\"><text x=\"53.067718505859375\" y=\"71.66927146911621\" class=\"core alignable sub egal-label\" style=\"text-anchor: middle; alignment-baseline: central; font-size: 20px; visibility: visible; opacity: 1;\" data-src=\"1 2 1\" transform=\"matrix(1,0,0,1,121,98)\">1 2 1</text></g><g id=\"drup_elem_46\" first-frame=\"1\" last-frame=\"1\" class=\"drupElem\"><text x=\"53.067718505859375\" y=\"71.66927146911621\" class=\"core alignable sub egal-label\" style=\"text-anchor: middle; alignment-baseline: central; font-size: 20px; visibility: visible; opacity: 1;\" data-src=\"1 3 1\" transform=\"matrix(1,0,0,1,229,98)\">1 3 1</text></g><g id=\"drup_elem_24\" first-frame=\"1\" last-frame=\"1\" class=\"drupElem\"><text x=\"53.067718505859375\" y=\"71.66927146911621\" class=\"core alignable sub egal-label\" style=\"text-anchor: middle; alignment-baseline: central; font-size: 20px; visibility: visible; opacity: 1;\" data-src=\"1 1 2\" transform=\"matrix(1,0,0,1,6,124)\">1 1 2</text></g><g id=\"drup_elem_44\" first-frame=\"1\" last-frame=\"1\" class=\"drupElem\"><text x=\"53.067718505859375\" y=\"71.66927146911621\" class=\"core alignable sub egal-label\" style=\"text-anchor: middle; alignment-baseline: central; font-size: 20px; visibility: visible; opacity: 1;\" data-src=\"1 2 2\" transform=\"matrix(1,0,0,1,122,127)\">1 2 2</text></g><g id=\"drup_elem_47\" first-frame=\"1\" last-frame=\"1\" class=\"drupElem\"><text x=\"53.067718505859375\" y=\"71.66927146911621\" class=\"core alignable sub egal-label\" style=\"text-anchor: middle; alignment-baseline: central; font-size: 20px; visibility: visible; opacity: 1;\" data-src=\"1 3 2\" transform=\"matrix(1,0,0,1,230,127)\">1 3 2</text></g><g id=\"drup_elem_25\" first-frame=\"1\" last-frame=\"1\" class=\"drupElem\"><text x=\"53.067718505859375\" y=\"71.66927146911621\" class=\"core alignable sub egal-label\" style=\"text-anchor: middle; alignment-baseline: central; font-size: 20px; visibility: visible; opacity: 1;\" data-src=\"1 1 3\" transform=\"matrix(1,0,0,1,6,151)\">1 1 3</text></g><g id=\"drup_elem_45\" first-frame=\"1\" last-frame=\"1\" class=\"drupElem\"><text x=\"53.067718505859375\" y=\"71.66927146911621\" class=\"core alignable sub egal-label\" style=\"text-anchor: middle; alignment-baseline: central; font-size: 20px; visibility: visible; opacity: 1;\" data-src=\"1 2 3\" transform=\"matrix(1,0,0,1,123,154)\">1 2 3</text></g><g id=\"drup_elem_48\" first-frame=\"1\" last-frame=\"1\" class=\"drupElem\"><text x=\"53.067718505859375\" y=\"71.66927146911621\" class=\"core alignable sub egal-label\" style=\"text-anchor: middle; alignment-baseline: central; font-size: 20px; visibility: visible; opacity: 1;\" data-src=\"1 3 3\" transform=\"matrix(1,0,0,1,231,154)\">1 3 3</text></g><g id=\"drup_elem_3\" first-frame=\"1\" last-frame=\"1\" class=\"drupElem\"><text x=\"379.0677185058594\" y=\"87.66927146911621\" class=\"core alignable sub egal-label\" style=\"text-anchor: middle; alignment-baseline: central;\"></text></g><g id=\"drup_elem_4\" first-frame=\"1\" last-frame=\"1\" class=\"drupElem\"><text x=\"437.0677185058594\" y=\"182.6692714691162\" class=\"core alignable sub egal-label\" style=\"text-anchor: middle; alignment-baseline: central; font-size: 20px;\"></text></g><g id=\"drup_elem_5\" first-frame=\"1\" last-frame=\"1\" class=\"drupElem\"><text x=\"51.067718505859375\" y=\"63.66927146911621\" class=\"core alignable sub egal-label\" style=\"text-anchor: middle; alignment-baseline: central; font-size: 20px; visibility: visible; opacity: 1;\" data-src=\"Pour ne pas encombrer la présentation supposons qu'il y a seulement 3 questions et 3 choix par question\" transform=\"matrix(1,0,0,1,435,-19)\">Pour ne pas encombrer la présentation supposons qu'il y a seulement 3 questions et 3 choix par question</text></g><g id=\"drup_elem_10\" first-frame=\"1\" last-frame=\"1\" class=\"drupElem\"><text x=\"655.0677185058594\" y=\"169.6692714691162\" class=\"core alignable sub egal-label\" style=\"text-anchor: middle; alignment-baseline: central;\"></text></g><g id=\"drup_elem_11\" first-frame=\"1\" last-frame=\"1\" class=\"drupElem\"><text x=\"619.0677185058594\" y=\"109.66927146911621\" class=\"core alignable sub egal-label\" style=\"text-anchor: middle; alignment-baseline: central;\"></text></g><g id=\"drup_elem_12\" first-frame=\"1\" last-frame=\"1\" class=\"drupElem\"><text x=\"434.0677185058594\" y=\"128.6692714691162\" class=\"core alignable sub egal-label\" style=\"text-anchor: middle; alignment-baseline: central; font-size: 20px;\"></text></g><g id=\"drup_elem_13\" first-frame=\"1\" last-frame=\"1\" class=\"drupElem\"><text x=\"430.0677185058594\" y=\"134.6692714691162\" class=\"core alignable sub egal-label\" style=\"text-anchor: middle; alignment-baseline: central; font-size: 20px;\"></text></g><g id=\"drup_elem_21\" first-frame=\"1\" last-frame=\"1\" class=\"drupElem\"><text x=\"318.0677185058594\" y=\"193.6692714691162\" class=\"core alignable sub egal-label\" style=\"text-anchor: middle; alignment-baseline: central; font-size: 20px;\"></text></g><g id=\"drup_elem_33\" first-frame=\"1\" last-frame=\"1\" class=\"drupElem\"><text x=\"381.0677185058594\" y=\"180.6692714691162\" class=\"core alignable sub egal-label\" style=\"text-anchor: middle; alignment-baseline: central; font-size: 20px;\" data-src=\"Ci-dessous est une liste de toutes les manières possibles de répondre à ce QCM\" transform=\"matrix(1,0,0,1,-3,-113)\">Ci-dessous est une liste de toutes les manières possibles de répondre à ce QCM</text></g><g id=\"drup_elem_34\" first-frame=\"1\" last-frame=\"1\" class=\"drupElem\"><text x=\"269.0677185058594\" y=\"167.6692714691162\" class=\"core alignable sub egal-label\" style=\"text-anchor: middle; alignment-baseline: central; font-size: 20px; visibility: visible; opacity: 1;\" data-src=\"Chaque triple représente une possibilité de réponse au QCM. \" transform=\"matrix(1,0,0,1,22,-76)\">Chaque triple représente une possibilité de réponse au QCM. </text></g><g id=\"drup_elem_35\" first-frame=\"1\" last-frame=\"1\" class=\"drupElem\"><text x=\"269.0677185058594\" y=\"186.6692714691162\" class=\"core alignable sub egal-label\" style=\"text-anchor: middle; alignment-baseline: central; font-size: 20px;\"></text></g><g id=\"drup_elem_36\" first-frame=\"1\" last-frame=\"1\" class=\"drupElem\"><text x=\"540.0677185058594\" y=\"89.66927146911621\" class=\"core alignable sub egal-label\" style=\"text-anchor: middle; alignment-baseline: central;\"></text></g><g id=\"drup_elem_37\" first-frame=\"1\" last-frame=\"1\" class=\"drupElem\"><text x=\"541.0677185058594\" y=\"231.6692714691162\" class=\"core alignable sub egal-label\" style=\"text-anchor: middle; alignment-baseline: central; font-size: 20px;\"></text></g><g id=\"drup_elem_38\" first-frame=\"1\" last-frame=\"1\" class=\"drupElem\"><text x=\"361.0677185058594\" y=\"233.6692714691162\" class=\"core alignable sub egal-label\" style=\"text-anchor: middle; alignment-baseline: central; font-size: 20px; visibility: visible; opacity: 1;\" data-src=\"Par exemple: le triple 1 3 2 sera la réponse 1 à la question 1, la réponse 3 à la question 2 \" transform=\"matrix(1,0,0,1,53,-119)\">Par exemple: le triple 1 3 2 sera la réponse 1 à la question 1, la réponse 3 à la question 2 </text></g><g id=\"drup_elem_39\" first-frame=\"1\" last-frame=\"1\" class=\"drupElem\"><text x=\"341.0677185058594\" y=\"240.6692714691162\" class=\"core alignable sub egal-label\" style=\"text-anchor: middle; alignment-baseline: central;\"></text></g><g id=\"drup_elem_40\" first-frame=\"1\" last-frame=\"1\" class=\"drupElem\"><text x=\"368.0677185058594\" y=\"246.6692714691162\" class=\"core alignable sub egal-label\" style=\"text-anchor: middle; alignment-baseline: central; font-size: 20px;\"></text></g><g id=\"drup_elem_41\" first-frame=\"1\" last-frame=\"1\" class=\"drupElem\"><text x=\"368.0677185058594\" y=\"216.6692714691162\" class=\"core alignable sub egal-label\" style=\"text-anchor: middle; alignment-baseline: central; font-size: 20px; visibility: visible; opacity: 1;\" data-src=\"et la réponse 2 à la question 3\" transform=\"matrix(1,0,0,1,-215,-80)\">et la réponse 2 à la question 3</text></g><g id=\"drup_elem_42\" first-frame=\"1\" last-frame=\"1\" class=\"drupElem\"><text x=\"215.06771850585938\" y=\"109.66927146911621\" class=\"core alignable sub egal-label\" style=\"text-anchor: middle; alignment-baseline: central; font-size: 20px;\"></text></g><g id=\"drup_elem_49\" first-frame=\"1\" last-frame=\"1\" class=\"drupElem\"><text x=\"40.067718505859375\" y=\"278.6692714691162\" class=\"core alignable sub egal-label\" style=\"text-anchor: middle; alignment-baseline: central; font-size: 20px;\" data-src=\"2 1 1\" transform=\"matrix(1,0,0,1,19,0)\">2 1 1</text></g><g id=\"drup_elem_53\" first-frame=\"1\" last-frame=\"1\" class=\"drupElem\"><text x=\"40.067718505859375\" y=\"278.6692714691162\" class=\"core alignable sub egal-label\" style=\"text-anchor: middle; alignment-baseline: central; font-size: 20px; visibility: visible; opacity: 1;\" data-src=\"2 1 2\" transform=\"matrix(1,0,0,1,19,25)\">2 1 2</text></g><g id=\"drup_elem_54\" first-frame=\"1\" last-frame=\"1\" class=\"drupElem\"><text x=\"40.067718505859375\" y=\"278.6692714691162\" class=\"core alignable sub egal-label\" style=\"text-anchor: middle; alignment-baseline: central; font-size: 20px; visibility: visible; opacity: 1;\" data-src=\"2 1 3\" transform=\"matrix(1,0,0,0.8667,19,93.6559)\">2 1 3</text></g><g id=\"drup_elem_50\" first-frame=\"1\" last-frame=\"1\" class=\"drupElem\"><text x=\"33.067718505859375\" y=\"279.6692714691162\" class=\"core alignable sub egal-label\" style=\"text-anchor: middle; alignment-baseline: central;\"></text></g><g id=\"drup_elem_51\" first-frame=\"1\" last-frame=\"1\" class=\"drupElem\"><text x=\"56.067718505859375\" y=\"292.6692714691162\" class=\"core alignable sub egal-label\" style=\"text-anchor: middle; alignment-baseline: central; font-size: 20px;\"></text></g><g id=\"drup_elem_52\" first-frame=\"1\" last-frame=\"1\" class=\"drupElem\"><text x=\"101.06771850585938\" y=\"361.6692714691162\" class=\"core alignable sub egal-label\" style=\"text-anchor: middle; alignment-baseline: central; font-size: 20px;\"></text></g><g id=\"drup_elem_55\" first-frame=\"1\" last-frame=\"1\" class=\"drupElem\"><text x=\"147.06771850585938\" y=\"291.6692714691162\" class=\"core alignable sub egal-label\" style=\"text-anchor: middle; alignment-baseline: central; font-size: 20px;\" data-src=\"2 2 1\" transform=\"matrix(1,0,0,1,23,-13)\">2 2 1</text></g><g id=\"drup_elem_56\" first-frame=\"1\" last-frame=\"1\" class=\"drupElem\"><text x=\"157.06771850585938\" y=\"319.6692714691162\" class=\"core alignable sub egal-label\" style=\"text-anchor: middle; alignment-baseline: central; font-size: 20px;\" data-src=\"2 2 2\" transform=\"matrix(1,0,0,1,12,-15)\">2 2 2</text></g><g id=\"drup_elem_57\" first-frame=\"1\" last-frame=\"1\" class=\"drupElem\"><text x=\"154.06771850585938\" y=\"369.6692714691162\" class=\"core alignable sub egal-label\" style=\"text-anchor: middle; alignment-baseline: central; font-size: 20px;\" data-src=\"2 2 3\" transform=\"matrix(1,0,0,1,15,-36)\">2 2 3</text></g><g id=\"drup_elem_58\" first-frame=\"1\" last-frame=\"1\" class=\"drupElem\"><text x=\"265.0677185058594\" y=\"290.6692714691162\" class=\"core alignable sub egal-label\" style=\"text-anchor: middle; alignment-baseline: central; font-size: 20px;\" data-src=\"2 3 1\" transform=\"matrix(1,0,0,1,17,-10)\">2 3 1</text></g><g id=\"drup_elem_59\" first-frame=\"1\" last-frame=\"1\" class=\"drupElem\"><text x=\"262.0677185058594\" y=\"363.6692714691162\" class=\"core alignable sub egal-label\" style=\"text-anchor: middle; alignment-baseline: central; font-size: 20px;\" data-src=\"2 3 2\" transform=\"matrix(1,0,0,1,20,-60)\">2 3 2</text></g><g id=\"drup_elem_60\" first-frame=\"1\" last-frame=\"1\" class=\"drupElem\"><text x=\"339.0677185058594\" y=\"365.6692714691162\" class=\"core alignable sub egal-label\" style=\"text-anchor: middle; alignment-baseline: central; font-size: 20px;\" data-src=\"2 3 3\" transform=\"matrix(1,0,0,1,-57,-33)\">2 3 3</text></g><g id=\"drup_elem_61\" first-frame=\"1\" last-frame=\"1\" class=\"drupElem\"><text x=\"461.0677185058594\" y=\"272.6692714691162\" class=\"core alignable sub egal-label\" style=\"text-anchor: middle; alignment-baseline: central; font-size: 20px;\" data-src=\"3 1 1\" transform=\"matrix(1,0,0,1,-396,113)\">3 1 1</text></g><g id=\"drup_elem_62\" first-frame=\"1\" last-frame=\"1\" class=\"drupElem egal-select\"><text x=\"450.0677185058594\" y=\"320.6692714691162\" class=\"core alignable sub egal-label\" style=\"text-anchor: middle; alignment-baseline: central; font-size: 20px;\" data-src=\"3 1 2\" transform=\"matrix(1,0,0,1,-385,94)\">3 1 2</text></g><g id=\"drup_elem_63\" first-frame=\"1\" last-frame=\"1\" class=\"drupElem\"><text x=\"445.0677185058594\" y=\"385.6692714691162\" class=\"core alignable sub egal-label\" style=\"text-anchor: middle; alignment-baseline: central; font-size: 20px;\" data-src=\"3 1 3\" transform=\"matrix(1,0,0,1,-379,61)\">3 1 3</text></g><g id=\"drup_elem_64\" first-frame=\"1\" last-frame=\"1\" class=\"drupElem\"><text x=\"464.0677185058594\" y=\"301.00260734558105\" class=\"core alignable sub egal-label\" style=\"text-anchor: middle; alignment-baseline: central; font-size: 20px;\"></text></g><g id=\"drup_elem_65\" first-frame=\"1\" last-frame=\"1\" class=\"drupElem\"><text x=\"461.0677185058594\" y=\"258.00260734558105\" class=\"core alignable sub egal-label\" style=\"text-anchor: middle; alignment-baseline: central;\"></text></g><g id=\"drup_elem_66\" first-frame=\"1\" last-frame=\"1\" class=\"drupElem\"><text x=\"602.0677185058594\" y=\"250.3359432220459\" class=\"core alignable sub egal-label\" style=\"text-anchor: middle; alignment-baseline: central; font-size: 20px;\"></text></g><g id=\"drup_elem_67\" first-frame=\"1\" last-frame=\"1\" class=\"drupElem\"><text x=\"373.0677185058594\" y=\"437.3359432220459\" class=\"core alignable sub egal-label\" style=\"text-anchor: middle; alignment-baseline: central; font-size: 20px;\" data-src=\"3 2 1\" transform=\"matrix(1,0,0,1,-203,-52)\">3 2 1</text></g><g id=\"drup_elem_68\" first-frame=\"1\" last-frame=\"1\" class=\"drupElem\"><text x=\"359.0677185058594\" y=\"485.3359432220459\" class=\"core alignable sub egal-label\" style=\"text-anchor: middle; alignment-baseline: central; font-size: 20px;\" data-src=\"3 2 2\" transform=\"matrix(1,0,0,1,-190,-71)\">3 2 2</text></g><g id=\"drup_elem_69\" first-frame=\"1\" last-frame=\"1\" class=\"drupElem\"><text x=\"190.06771850585938\" y=\"473.0026149749756\" class=\"core alignable sub egal-label\" style=\"text-anchor: middle; alignment-baseline: central; font-size: 20px;\" data-src=\"3 2 3\" transform=\"matrix(1,0,0,1,-22,-28)\">3 2 3</text></g><g id=\"drup_elem_70\" first-frame=\"1\" last-frame=\"1\" class=\"drupElem\"><text x=\"258.0677185058594\" y=\"397.0026149749756\" class=\"core alignable sub egal-label\" style=\"text-anchor: middle; alignment-baseline: central; font-size: 20px;\" data-src=\"3 3 1\" transform=\"matrix(1,0,0,1,20,-10)\">3 3 1</text></g><g id=\"drup_elem_71\" first-frame=\"1\" last-frame=\"1\" class=\"drupElem\"><text x=\"269.0677185058594\" y=\"460.0026149749756\" class=\"core alignable sub egal-label\" style=\"text-anchor: middle; alignment-baseline: central; font-size: 20px;\" data-src=\"3 3 2\" transform=\"matrix(1,0,0,1,9,-47)\">3 3 2</text></g><g id=\"drup_elem_72\" first-frame=\"1\" last-frame=\"1\" class=\"drupElem\"><text x=\"276.0677185058594\" y=\"465.0026149749756\" class=\"core alignable sub egal-label\" style=\"text-anchor: middle; alignment-baseline: central; font-size: 20px;\" data-src=\"3 3 3\" transform=\"matrix(1,0,0,1,1,-21)\">3 3 3</text></g><g id=\"drup_elem_73\" first-frame=\"1\" last-frame=\"1\" class=\"drupElem\"><text x=\"45.067718505859375\" y=\"504.0026035308838\" class=\"core alignable sub egal-label\" style=\"text-anchor: middle; alignment-baseline: central; font-size: 20px; visibility: visible; opacity: 0;\" transform=\"matrix(0.9837,0,0,1,747.7348,-23)\">|</text></g><g id=\"drup_elem_74\" first-frame=\"1\" last-frame=\"1\" class=\"drupElem\"><text x=\"378.0677185058594\" y=\"496.33593559265137\" class=\"core alignable sub egal-label\" style=\"text-anchor: middle; alignment-baseline: central; font-size: 20px; visibility: visible; opacity: 1;\" data-src=\"Il y a 27 possibilités, equivalent à 3 x 3 x3\" transform=\"matrix(1,0,0,1,220,-22)\">Il y a 27 possibilités, equivalent à 3 x 3 x3</text></g><g id=\"drup_elem_75\" first-frame=\"1\" last-frame=\"1\" class=\"drupElem\"><text x=\"343.0677185058594\" y=\"43.502614974975586\" class=\"core alignable sub egal-label\" style=\"text-anchor: middle; alignment-baseline: central;\"></text></g><g id=\"drup_elem_76\" first-frame=\"1\" last-frame=\"1\" class=\"drupElem\"><text x=\"343.0677185058594\" y=\"63.502614974975586\" class=\"core alignable sub egal-label\" style=\"text-anchor: middle; alignment-baseline: central; font-size: 20px;\"></text></g></svg>"
   ]
  },
  {
   "cell_type": "markdown",
   "id": "7f66d12a",
   "metadata": {
    "hide_input": true
   },
   "source": [
    "# Exercice 6  \n",
    "Dans chacune des situations suivantes il faudra, en premier, identifier le type de disposition en question et par la suite en dénombrer les possibilités. "
   ]
  },
  {
   "cell_type": "markdown",
   "id": "0c5835f0",
   "metadata": {},
   "source": [
    "## Combien de mots différents peut-on former avec les lettres du mot COMBINATOIRE ?"
   ]
  },
  {
   "cell_type": "code",
   "execution_count": 41,
   "id": "398ccaf7",
   "metadata": {
    "init_cell": true,
    "scrolled": true
   },
   "outputs": [
    {
     "name": "stdout",
     "output_type": "stream",
     "text": [
      "De quelle type de disposition s'agit-il?\n"
     ]
    },
    {
     "data": {
      "application/vnd.jupyter.widget-view+json": {
       "model_id": "1343c39c504540c4883c65787741bc54",
       "version_major": 2,
       "version_minor": 0
      },
      "text/plain": [
       "Dropdown(description='Réponse:', index=6, options=('Permutation sans répétitions', 'Permutation avec répétitio…"
      ]
     },
     "metadata": {},
     "output_type": "display_data"
    }
   ],
   "source": [
    "print(\"De quelle type de disposition s'agit-il?\")\n",
    "\n",
    "user_type_1_ex6 = widgets.Dropdown(\n",
    "    options=['Permutation sans répétitions', 'Permutation avec répétitions', 'Arrangement sans répétition', 'Arrangement avec répétition', 'Combinaison sans répétitions', 'Combinaison avec répétitions', 'aucune'],\n",
    "    value='aucune',\n",
    "    description='Réponse:',\n",
    "    disabled=False,\n",
    ")\n",
    "\n",
    "def on_change_1_ex6(change):\n",
    "    global n_choice\n",
    "    if change['new'] == 'Permutation avec répétitions':\n",
    "        print(\"Votre réponse '{}' est correcte!\".format(change['new']))\n",
    "    else:\n",
    "        print(\"Votre réponse '{}' n'est pas correcte!! \\n \\\n",
    "         hint: est-ce que la taille de notre disposition a la même taille que l'ensemble d'où on tire les éléments? \\n \\\n",
    "         Est-ce que l'ensembe contient des éléments qui se répètent? \\n\\\n",
    "         Est-ce que l'ordre des éléments dans notre disposition est important?\".format(change['new']))\n",
    "    \n",
    "display(user_type_1_ex6)\n",
    "user_type_1_ex6.observe(on_change_1_ex6, names = 'value')"
   ]
  },
  {
   "cell_type": "code",
   "execution_count": 42,
   "id": "e3acb25f",
   "metadata": {
    "init_cell": true,
    "scrolled": false
   },
   "outputs": [
    {
     "name": "stdout",
     "output_type": "stream",
     "text": [
      "Combien de disposition de ce type pourrons-nous former?\n"
     ]
    },
    {
     "data": {
      "application/vnd.jupyter.widget-view+json": {
       "model_id": "4050a5429d254e608df20f5ee36fb4d9",
       "version_major": 2,
       "version_minor": 0
      },
      "text/plain": [
       "HBox(children=(IntText(value=0, description='Réponse:'), Button(description='Soumettre', icon='check', style=B…"
      ]
     },
     "metadata": {},
     "output_type": "display_data"
    }
   ],
   "source": [
    "print(\"Combien de disposition de ce type pourrons-nous former?\")\n",
    "\n",
    "n_ex6_1 = 12 \n",
    "reps_n_ex6_1 = [2, 2]\n",
    "counter_1_ex6 = 0\n",
    "\n",
    "ex6_q1_answer = widgets.IntText(\n",
    "    value= 0,\n",
    "    description='Réponse:',\n",
    "    disabled=False\n",
    ")\n",
    "\n",
    "button = widgets.Button(\n",
    "    description='Soumettre',\n",
    "    disabled=False,\n",
    "    button_style='',\n",
    "    tooltip='Click me',\n",
    "    icon='check' \n",
    ")\n",
    "\n",
    "\n",
    "def test_1_ex6(change):\n",
    "    global counter_1_ex6 \n",
    "    counter_1_ex6 = counter_1_ex6 + 1\n",
    "    value = ex6_q1_answer.value\n",
    "    correct_value = fn.verify_ex6_1(n_ex6_1, reps_n_ex6_1)\n",
    "    if value == correct_value:\n",
    "        print(\"Tetantive {}: Bravo! votre réponse est correcte :)\".format(counter_1_ex6))\n",
    "    else:\n",
    "        print(\"Tetantive {}:Malheureusement, la réponse soumise n'est pas correcte. \\n \\\n",
    "       Cliquez sur 'Show solution' pour quelques indices\".format(counter_1_ex6))\n",
    "\n",
    "\n",
    "display(widgets.HBox([ex6_q1_answer, button]))\n",
    "\n",
    "button.on_click(test_1_ex6)"
   ]
  },
  {
   "cell_type": "markdown",
   "id": "a588d25c",
   "metadata": {},
   "source": [
    "## On dispose d’autant de lettres que l’on veut parmi A, C, E, I, N, S, T. Combien de mots de 5 lettres peut-on alors écrire ?"
   ]
  },
  {
   "cell_type": "code",
   "execution_count": 211,
   "id": "d04f69dd",
   "metadata": {
    "init_cell": true,
    "scrolled": false
   },
   "outputs": [
    {
     "name": "stdout",
     "output_type": "stream",
     "text": [
      "De quelle type de disposition s'agit-il?\n"
     ]
    },
    {
     "data": {
      "application/vnd.jupyter.widget-view+json": {
       "model_id": "9ae4caea0e9349438f7739f9419c47fa",
       "version_major": 2,
       "version_minor": 0
      },
      "text/plain": [
       "Dropdown(description='Réponse:', index=6, options=('Permutation sans répétitions', 'Permutation avec répétitio…"
      ]
     },
     "metadata": {},
     "output_type": "display_data"
    },
    {
     "name": "stdout",
     "output_type": "stream",
     "text": [
      "Votre réponse 'Permutation sans répétitions' n'est pas correcte!! \n",
      "          hint: est-ce que la taille de notre disposition a la même taille que l'ensemble? \n",
      "          Est-ce que l'ensembe contient des éléments qui se répètent? \n",
      "         Est-ce que l'ordre des éléments dans notre disposition est important?\n"
     ]
    }
   ],
   "source": [
    "print(\"De quelle type de disposition s'agit-il?\")\n",
    "\n",
    "user_type_2_ex6= widgets.Dropdown(\n",
    "    options=['Permutation sans répétitions', 'Permutation avec répétitions', 'Arrangement sans répétition', 'Arrangement avec répétition', 'Combinaison sans répétitions', 'Combinaison avec répétitions', 'aucune'],\n",
    "    value='aucune',\n",
    "    description='Réponse:',\n",
    "    disabled=False,\n",
    ")\n",
    "\n",
    "def on_change_2_ex6(change):\n",
    "    if change['new'] == 'Arrangement avec répétition':\n",
    "        print(\"Votre réponse '{}' est correcte!\".format(change['new']))\n",
    "    else:\n",
    "        print(\"Votre réponse '{}' n'est pas correcte!! \\n \\\n",
    "         hint: est-ce que la taille de notre disposition a la même taille que l'ensemble d'où on tire les éléments? \\n \\\n",
    "         Est-ce que l'ensembe contient des éléments qui se répètent? \\n\\\n",
    "         Est-ce que l'ordre des éléments dans notre disposition est important?\".format(change['new']))\n",
    "        \n",
    "display(user_type_2_ex6)\n",
    "user_type_2_ex6.observe(on_change_2_ex6, names = 'value')"
   ]
  },
  {
   "cell_type": "code",
   "execution_count": 80,
   "id": "620a6fe7",
   "metadata": {
    "init_cell": true,
    "scrolled": false
   },
   "outputs": [
    {
     "name": "stdout",
     "output_type": "stream",
     "text": [
      "Combien de disposition de ce type pourrons-nous former?\n"
     ]
    },
    {
     "data": {
      "application/vnd.jupyter.widget-view+json": {
       "model_id": "220a719a87a649b49e70ef780311be96",
       "version_major": 2,
       "version_minor": 0
      },
      "text/plain": [
       "HBox(children=(IntText(value=0, description='Réponse:'), Button(description='Soumettre', icon='check', style=B…"
      ]
     },
     "metadata": {},
     "output_type": "display_data"
    }
   ],
   "source": [
    "print(\"Combien de disposition de ce type pourrons-nous former?\")\n",
    "\n",
    "n_ex6_2 = 7 \n",
    "k_ex6_2 = 5\n",
    "\n",
    "counter_2_ex6 = 0\n",
    "\n",
    "ex6_q2_answer = widgets.IntText(\n",
    "    value= 0,\n",
    "    description='Réponse:',\n",
    "    disabled=False\n",
    ")\n",
    "\n",
    "button = widgets.Button(\n",
    "    description='Soumettre',\n",
    "    disabled=False,\n",
    "    button_style='',\n",
    "    tooltip='Click me',\n",
    "    icon='check' \n",
    ")\n",
    "\n",
    "\n",
    "def test_2_ex6(change):\n",
    "    global counter_2_ex6 \n",
    "    counter_2_ex6 = counter_2_ex6 + 1\n",
    "    value = ex6_q2_answer.value\n",
    "    correct_value = fn.arrangementRep(n_ex6_2, k_ex6_2)\n",
    "    if value == correct_value:\n",
    "        print(\"Tetantive {}: Bravo! votre réponse est correcte :)\".format(counter_2_ex6))\n",
    "    else:\n",
    "        print(\"Tetantive {}:Malheureusement, la réponse soumise n'est pas correcte. \\n \\\n",
    "       Cliquez sur 'Show solution' pour quelques indices\".format(counter_2_ex6))\n",
    "\n",
    "\n",
    "display(widgets.HBox([ex6_q2_answer, button]))\n",
    "\n",
    "button.on_click(test_2_ex6)"
   ]
  },
  {
   "cell_type": "code",
   "execution_count": 82,
   "id": "c9d5be25",
   "metadata": {
    "init_cell": true,
    "scrolled": true
   },
   "outputs": [
    {
     "name": "stdout",
     "output_type": "stream",
     "text": [
      "Quelle est la taille, k, de notre disposition?\n",
      "Quelle est la taille, n, de l'ensemble depuis lequel on tire les éléments?\n"
     ]
    },
    {
     "data": {
      "application/vnd.jupyter.widget-view+json": {
       "model_id": "3a98d82e70e148d39ce82a88ddce75f2",
       "version_major": 2,
       "version_minor": 0
      },
      "text/plain": [
       "HBox(children=(IntText(value=0, description='k:'), IntText(value=0, description='n:'), Button(description='Sou…"
      ]
     },
     "metadata": {},
     "output_type": "display_data"
    }
   ],
   "source": [
    "print(\"Quelle est la taille, k, de notre disposition?\")\n",
    "print(\"Quelle est la taille, n, de l'ensemble depuis lequel on tire les éléments?\")\n",
    "\n",
    "user_k_q2_answer = widgets.IntText(\n",
    "    value= 0,\n",
    "    description='k:',\n",
    "    disabled=False\n",
    ")\n",
    "\n",
    "user_n_q2_answer = widgets.IntText(\n",
    "    value= 0,\n",
    "    description='n:',\n",
    "    disabled=False\n",
    ")\n",
    "\n",
    "button = widgets.Button(\n",
    "    description='Soumettre',\n",
    "    disabled=False,\n",
    "    button_style='',\n",
    "    tooltip='Click me',\n",
    "    icon='check' \n",
    ")\n",
    "\n",
    "counter_2_1_ex6 = 0\n",
    "\n",
    "flag_k = False \n",
    "flag_n = False    \n",
    "    \n",
    "def test_2_1_ex6(change):\n",
    "    global counter_2_1_ex6 \n",
    "    global flag_k\n",
    "    global flag_n\n",
    "    counter_2_1_ex6 = counter_2_1_ex6 + 1\n",
    "    value_k = user_k_q2_answer.value\n",
    "    value_n = user_n_q2_answer.value\n",
    "\n",
    "    if value_k == k_ex6_2 : \n",
    "        flag_k = True\n",
    "    else:\n",
    "        flag_k = False\n",
    "        \n",
    "    if value_n == n_ex6_2 :\n",
    "        flag_n = True \n",
    "    else:\n",
    "        flag_n = False\n",
    "        \n",
    "    if flag_k and flag_n:\n",
    "        print(\"Tetantive {}: Bravo! vos réponses sont correctes :) \\n \\\n",
    "        On voit que k est plus petit que n, donc il ne peut pas s'agir de permutations.\".format(counter_2_ex6))\n",
    "    else:\n",
    "        print(\"Tetantive {}:Malheureusement, les réponses soumises ne sont pas correctes. \\n \\\n",
    "       hint: k est la taille de la disposition, la taille des mots que nous voulons former, \\n \\\n",
    "       n est la taille de l'ensemble des lettres depuis lequel on sélectionne les lettres pour former les mots.\".format(counter_2_ex6))\n",
    "\n",
    "\n",
    "display(widgets.HBox([user_k_q2_answer, user_n_q2_answer, button]))\n",
    "\n",
    "button.on_click(test_2_1_ex6)\n",
    "\n"
   ]
  },
  {
   "cell_type": "code",
   "execution_count": 84,
   "id": "c6eb2a5b",
   "metadata": {
    "init_cell": true,
    "scrolled": true
   },
   "outputs": [
    {
     "name": "stdout",
     "output_type": "stream",
     "text": [
      "Est-ce que l'ordre est important?\n"
     ]
    },
    {
     "data": {
      "application/vnd.jupyter.widget-view+json": {
       "model_id": "ad8cd4da4a394d4a81328483142ec475",
       "version_major": 2,
       "version_minor": 0
      },
      "text/plain": [
       "Dropdown(description='Réponse:', index=2, options=('Ordre pas important', 'Ordre important', 'aucune'), value=…"
      ]
     },
     "metadata": {},
     "output_type": "display_data"
    },
    {
     "name": "stdout",
     "output_type": "stream",
     "text": [
      "Votre réponse 'Ordre pas important' n'est pas correcte!! \n",
      "          hint: est ce que si on change l'ordre des éléments dans cette disposition, on tombe sur une nouvelle disposition? \n",
      "          Dans notre cas, les dispositions sont des mots. Si on fixe les lettres, est-ce que si on change l'ordre des lettres,  \n",
      "                on tombe sur un nouveau mot?\n",
      "Votre réponse 'Ordre important' est correcte! \n",
      "         L'ordre des lettres est important, donc il ne peut pas s'agir de combinaisons.\n"
     ]
    }
   ],
   "source": [
    "print(\"Est-ce que l'ordre est important?\")\n",
    "\n",
    "user_ordre_2_2_ex6= widgets.Dropdown(\n",
    "    options=['Ordre pas important', 'Ordre important', 'aucune'],\n",
    "    value='aucune',\n",
    "    description='Réponse:',\n",
    "    disabled=False,\n",
    ")\n",
    "\n",
    "def on_change_2_2_ex6(change):\n",
    "    if change['new'] == 'Ordre important':\n",
    "        print(\"Votre réponse '{}' est correcte! \\n \\\n",
    "        L'ordre des lettres est important, donc il ne peut pas s'agir de combinaisons.\".format(change['new']))\n",
    "    else:\n",
    "        print(\"Votre réponse '{}' n'est pas correcte!! \\n \\\n",
    "         hint: est ce que si on change l'ordre des éléments dans cette disposition, on tombe sur une nouvelle disposition? \\n \\\n",
    "         Dans notre cas, les dispositions sont des mots. Si on fixe les lettres, est-ce que si on change l'ordre des lettres,  \\n \\\n",
    "               on tombe sur un nouveau mot?\".format(change['new']))\n",
    "        \n",
    "display(user_ordre_2_2_ex6)\n",
    "user_ordre_2_2_ex6.observe(on_change_2_2_ex6, names = 'value')\n"
   ]
  },
  {
   "cell_type": "code",
   "execution_count": 85,
   "id": "a437181f",
   "metadata": {
    "init_cell": true,
    "scrolled": true
   },
   "outputs": [
    {
     "name": "stdout",
     "output_type": "stream",
     "text": [
      "Est-ce qu'on peut avoir des répétitions? Est ce qu'on peut répéter les lettres au sein d'um même mot?\n"
     ]
    },
    {
     "data": {
      "application/vnd.jupyter.widget-view+json": {
       "model_id": "550faac8bd0445f5a05c99b877da2231",
       "version_major": 2,
       "version_minor": 0
      },
      "text/plain": [
       "Dropdown(description='Réponse:', index=2, options=('Avec répétitions', 'Sans répétitions', 'aucune'), value='a…"
      ]
     },
     "metadata": {},
     "output_type": "display_data"
    },
    {
     "name": "stdout",
     "output_type": "stream",
     "text": [
      "Votre réponse 'Avec répétitions' est correcte! \n",
      "         Donc il ne peut s'agir que d'arrangement avec répétitions!\n",
      "Votre réponse 'Sans répétitions' n'est pas correcte!! \n",
      "          hint: la question nous dit qu' 'On dispose d’autant de lettres que l’on veut parmi A, C, E, I, N, S, T.\n"
     ]
    }
   ],
   "source": [
    "print(\"Est-ce qu'on peut avoir des répétitions? Est ce qu'on peut répéter les lettres au sein d'um même mot?\")\n",
    "\n",
    "user_ordre_2_3_ex6= widgets.Dropdown(\n",
    "    options=['Avec répétitions', 'Sans répétitions', 'aucune'],\n",
    "    value='aucune',\n",
    "    description='Réponse:',\n",
    "    disabled=False,\n",
    ")\n",
    "\n",
    "def on_change_2_3_ex6(change):\n",
    "    if change['new'] == 'Avec répétitions':\n",
    "        print(\"Votre réponse '{}' est correcte! \\n \\\n",
    "        Donc il ne peut s'agir que d'arrangement avec répétitions!\".format(change['new']))\n",
    "    else:\n",
    "        print(\"Votre réponse '{}' n'est pas correcte!! \\n \\\n",
    "         hint: la question nous dit qu' 'On dispose d’autant de lettres que l’on veut parmi A, C, E, I, N, S, T.\".format(change['new']))\n",
    "        \n",
    "display(user_ordre_2_3_ex6)\n",
    "user_ordre_2_3_ex6.observe(on_change_2_3_ex6, names = 'value')"
   ]
  },
  {
   "cell_type": "code",
   "execution_count": 86,
   "id": "deaf28aa",
   "metadata": {
    "init_cell": true
   },
   "outputs": [
    {
     "name": "stdout",
     "output_type": "stream",
     "text": [
      "Revenez au début de la question pour resoumettre votre réponse!\n"
     ]
    }
   ],
   "source": [
    "print(\"Revenez au début de la question pour resoumettre votre réponse!\")"
   ]
  },
  {
   "cell_type": "code",
   "execution_count": 43,
   "id": "23b472ed",
   "metadata": {
    "init_cell": true,
    "scrolled": false
   },
   "outputs": [
    {
     "name": "stdout",
     "output_type": "stream",
     "text": [
      "Comme il s'agit d'une permutation avec répétitions on doit procéder en deux étapes.\n",
      "1. Combien de permutations SANS répétitions pourrons-nous former avec les 12 lettres du mot COMBINATOIRE? \n",
      " Imaginez ici que toutes les lettres étaient différentes et on veut dénombrer le nombre de mots qu'on peut former \n",
      " en permuttant les 12 lettres.\n"
     ]
    },
    {
     "data": {
      "application/vnd.jupyter.widget-view+json": {
       "model_id": "a61ff59b813c4fd7a9bbc67c0913203a",
       "version_major": 2,
       "version_minor": 0
      },
      "text/plain": [
       "HBox(children=(IntText(value=0, description='Réponse:'), Button(description='Soumettre', icon='check', style=B…"
      ]
     },
     "metadata": {},
     "output_type": "display_data"
    }
   ],
   "source": [
    "print(\"Comme il s'agit d'une permutation avec répétitions on doit procéder en deux étapes.\")\n",
    "\n",
    "print(\"1. Combien de permutations SANS répétitions pourrons-nous former avec les 12 lettres du mot COMBINATOIRE? \\n \\\n",
    "Imaginez ici que toutes les lettres étaient différentes et on veut dénombrer le nombre de mots qu'on peut former \\n \\\n",
    "en permuttant les 12 lettres.\")\n",
    "\n",
    "\n",
    "ex6_q1_1_answer = widgets.IntText(\n",
    "    value= 0,\n",
    "    description='Réponse:',\n",
    "    disabled=False\n",
    ")\n",
    "\n",
    "button = widgets.Button(\n",
    "    description='Soumettre',\n",
    "    disabled=False,\n",
    "    button_style='',\n",
    "    tooltip='Click me',\n",
    "    icon='check' \n",
    ")\n",
    "\n",
    "counter_1_1_ex6 = 0\n",
    "def test_1_1_ex6(change):\n",
    "    global counter_1_1_ex6 \n",
    "    counter_1_1_ex6 = counter_1_1_ex6 + 1\n",
    "    value = ex6_q1_1_answer.value\n",
    "    correct_value = fn.permutationNoRep(n)\n",
    "    if value == correct_value:\n",
    "        print(\"Tetantive {}: Bravo! votre réponse est correcte :)\".format(counter_1_1_ex6))\n",
    "    else:\n",
    "        print(\"Tetantive {}:Malheureusement, la réponse soumise n'est pas correcte. \\n \\\n",
    "       hint: il y a 12 possibilités pour la 1ere lettre ET 11 pour la 2eme lettre ET 10 pour la 3eme, etc. \".format(counter_1_1_ex6))\n",
    "\n",
    "\n",
    "display(widgets.HBox([ex6_q1_1_answer, button]))\n",
    "\n",
    "button.on_click(test_1_1_ex6)"
   ]
  },
  {
   "cell_type": "code",
   "execution_count": 44,
   "id": "bac94810",
   "metadata": {
    "init_cell": true,
    "scrolled": true
   },
   "outputs": [
    {
     "name": "stdout",
     "output_type": "stream",
     "text": [
      "2. Les lettres O et I se réètent chacune 2 fois dans le mot COMBINATOIRE. \n",
      " On doit prendre cela en compte pour ne pas compter à double. Si on permutte les O entre eux ou les I entre eux, \n",
      " on ne change pas le mot qui en découle.\n",
      "Quelle est le nombre total de permutations de O ET de I que nous devrons prendre en compte?\n"
     ]
    },
    {
     "data": {
      "application/vnd.jupyter.widget-view+json": {
       "model_id": "cbff7fb655cc4135b42719320e004906",
       "version_major": 2,
       "version_minor": 0
      },
      "text/plain": [
       "HBox(children=(IntText(value=0, description='Réponse:'), Button(description='Soumettre', icon='check', style=B…"
      ]
     },
     "metadata": {},
     "output_type": "display_data"
    }
   ],
   "source": [
    "print(\"2. Les lettres O et I se réètent chacune 2 fois dans le mot COMBINATOIRE. \\n \\\n",
    "On doit prendre cela en compte pour ne pas compter à double. Si on permutte les O entre eux ou les I entre eux, \\n \\\n",
    "on ne change pas le mot qui en découle.\")\n",
    "\n",
    "print(\"Quelle est le nombre total de permutations de O ET de I que nous devrons prendre en compte?\")\n",
    "\n",
    "\n",
    "ex6_q1_2_answer = widgets.IntText(\n",
    "    value= 0,\n",
    "    description='Réponse:',\n",
    "    disabled=False\n",
    ")\n",
    "\n",
    "button = widgets.Button(\n",
    "    description='Soumettre',\n",
    "    disabled=False,\n",
    "    button_style='',\n",
    "    tooltip='Click me',\n",
    "    icon='check' \n",
    ")\n",
    "\n",
    "counter_1_2_ex6 = 0\n",
    "def test_1_2_ex6(change):\n",
    "    global counter_1_2_ex6 \n",
    "    counter_1_2_ex6 = counter_1_2_ex6 + 1\n",
    "    value = ex6_q1_2_answer.value\n",
    "    correct_value = 4\n",
    "    if value == correct_value:\n",
    "        print(\"Tetantive {}: Bravo! votre réponse est correcte :)\".format(counter_1_2_ex6))\n",
    "    else:\n",
    "        print(\"Tetantive {}:Malheureusement, la réponse soumise n'est pas correcte. \\n \\\n",
    "       hint: de combien de manière on peut permuter les O ET de de combien de manière on peut permuter les I? \".format(counter_1_1_ex6))\n",
    "\n",
    "\n",
    "display(widgets.HBox([ex6_q1_2_answer, button]))\n",
    "\n",
    "button.on_click(test_1_2_ex6)"
   ]
  },
  {
   "cell_type": "code",
   "execution_count": 45,
   "id": "d701f9ea",
   "metadata": {
    "init_cell": true
   },
   "outputs": [
    {
     "name": "stdout",
     "output_type": "stream",
     "text": [
      "Comment on enlève depuis le nombre total des permutations SANS répétitions, les permutations des O et des I?\n"
     ]
    },
    {
     "data": {
      "application/vnd.jupyter.widget-view+json": {
       "model_id": "aea24b09f57146cc9098a115548920fa",
       "version_major": 2,
       "version_minor": 0
      },
      "text/plain": [
       "Dropdown(description='Réponse:', index=4, options=('Soustraction', 'Division', 'Addition', 'Multiplication', '…"
      ]
     },
     "metadata": {},
     "output_type": "display_data"
    }
   ],
   "source": [
    "print(\"Comment on enlève depuis le nombre total des permutations SANS répétitions, les permutations des O et des I?\")\n",
    "\n",
    "user_6_1_3_ex5 = widgets.Dropdown(\n",
    "    options=['Soustraction', 'Division', 'Addition', 'Multiplication', 'aucune'],\n",
    "    value='aucune',\n",
    "    description='Réponse:',\n",
    "    disabled=False,\n",
    ")\n",
    "\n",
    "def on_change_6_1_3_ex5(change):\n",
    "    global n_choice\n",
    "    if change['new'] == 'Permutation avec répétitions':\n",
    "        print(\"Votre réponse '{}' est correcte! Une illustration d'un exemple détaillé est à votre disposition ci-dessous.\".format(change['new']))\n",
    "    else:\n",
    "        print(\"Votre réponse '{}' n'est pas correcte!! \\n \\\n",
    "         hint: Jetez un coup d'oeil sur l'illustration ci-dessous pour un exemple détaillé.\".format(change['new']))\n",
    "    \n",
    "display(user_6_1_3_ex5)\n",
    "user_6_1_3_ex5.observe(on_change_6_1_3_ex5, names = 'value')"
   ]
  },
  {
   "cell_type": "code",
   "execution_count": 46,
   "id": "c02d7ba6",
   "metadata": {
    "init_cell": true
   },
   "outputs": [
    {
     "data": {
      "image/png": "[encoded data removed]",
      "text/plain": [
       "<IPython.core.display.Image object>"
      ]
     },
     "execution_count": 46,
     "metadata": {},
     "output_type": "execute_result"
    }
   ],
   "source": [
    "Image(\"./img/ex6.png\")"
   ]
  },
  {
   "cell_type": "code",
   "execution_count": 71,
   "id": "7f950095",
   "metadata": {
    "init_cell": true
   },
   "outputs": [
    {
     "name": "stdout",
     "output_type": "stream",
     "text": [
      "Revenez au début de la question pour resoumettre votre réponse.\n"
     ]
    }
   ],
   "source": [
    "print(\"Revenez au début de la question pour resoumettre votre réponse.\")"
   ]
  }
 ],
 "metadata": {
  "celltoolbar": "Initialization Cell",
  "hide_input": false,
  "kernelspec": {
   "display_name": "Python 3 (ipykernel)",
   "language": "python",
   "name": "python3"
  },
  "language_info": {
   "codemirror_mode": {
    "name": "ipython",
    "version": 3
   },
   "file_extension": ".py",
   "mimetype": "text/x-python",
   "name": "python",
   "nbconvert_exporter": "python",
   "pygments_lexer": "ipython3",
   "version": "3.9.6"
  },
  "toc": {
   "base_numbering": 1,
   "nav_menu": {},
   "number_sections": true,
   "sideBar": true,
   "skip_h1_title": false,
   "title_cell": "Table of Contents",
   "title_sidebar": "Contents",
   "toc_cell": false,
   "toc_position": {
    "height": "calc(100% - 180px)",
    "left": "10px",
    "top": "150px",
    "width": "220px"
   },
   "toc_section_display": true,
   "toc_window_display": true
  }
 },
 "nbformat": 4,
 "nbformat_minor": 5
}
