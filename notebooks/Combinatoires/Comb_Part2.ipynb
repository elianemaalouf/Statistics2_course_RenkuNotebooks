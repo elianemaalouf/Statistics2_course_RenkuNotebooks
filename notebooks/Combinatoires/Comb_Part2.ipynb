{
 "cells": [
  {
   "cell_type": "code",
   "execution_count": 164,
   "id": "937c515d",
   "metadata": {
    "hide_input": true,
    "init_cell": true,
    "scrolled": false
   },
   "outputs": [],
   "source": [
    "import ipywidgets as widgets\n",
    "import fn as fn \n",
    "from IPython.display import display, clear_output, Image\n",
    "import asyncio\n"
   ]
  },
  {
   "cell_type": "markdown",
   "id": "406519bc",
   "metadata": {
    "hide_input": true
   },
   "source": [
    "Pour chacun des exercices ci-dessous vous pouvez directement donner votre réponse et valider si elle est correcte ou vous pouvez procéder à résoudre les questions étape par étape pour décortiquer l'intuition qui se cache derrière la solution. "
   ]
  },
  {
   "cell_type": "markdown",
   "id": "7f66d12a",
   "metadata": {
    "hide_input": true
   },
   "source": [
    "# Exercice 6  \n",
    "Dans chacune des situations suivantes il faudra, en premier, identifier le type de disposition en question et par la suite en dénombrer les possibilités. "
   ]
  },
  {
   "cell_type": "markdown",
   "id": "3f3e242a",
   "metadata": {},
   "source": [
    "## Combien de mots différents peut-on former avec les lettres du mot COMBINATOIRE ?"
   ]
  },
  {
   "cell_type": "code",
   "execution_count": 165,
   "id": "3fa215e8",
   "metadata": {
    "init_cell": true,
    "scrolled": true
   },
   "outputs": [
    {
     "name": "stdout",
     "output_type": "stream",
     "text": [
      "De quelle type de disposition s'agit-il?\n"
     ]
    },
    {
     "data": {
      "application/vnd.jupyter.widget-view+json": {
       "model_id": "82b030e659a3498eb782a25a0d9685f1",
       "version_major": 2,
       "version_minor": 0
      },
      "text/plain": [
       "Dropdown(description='Réponse:', index=6, options=('Permutation sans répétitions', 'Permutation avec répétitio…"
      ]
     },
     "metadata": {},
     "output_type": "display_data"
    }
   ],
   "source": [
    "print(\"De quelle type de disposition s'agit-il?\")\n",
    "\n",
    "user_type_1_ex6 = widgets.Dropdown(\n",
    "    options=['Permutation sans répétitions', 'Permutation avec répétitions', 'Arrangement sans répétition', 'Arrangement avec répétition', 'Combinaison sans répétitions', 'Combinaison avec répétitions', 'aucune'],\n",
    "    value='aucune',\n",
    "    description='Réponse:',\n",
    "    disabled=False,\n",
    ")\n",
    "\n",
    "def on_change_1_ex6(change):\n",
    "    global n_choice\n",
    "    if change['new'] == 'Permutation avec répétitions':\n",
    "        print(\"----------------------------------\")\n",
    "        print(\"Votre réponse '{}' est correcte!\".format(change['new']))\n",
    "    else:\n",
    "        print(\"----------------------------------\")\n",
    "        print(\"Votre réponse '{}' n'est pas correcte!! \\n \\\n",
    "         hint: est-ce que la taille de notre disposition est la même que l'ensemble d'où on tire les éléments? \\n \\\n",
    "         Est-ce que l'ensembe contient des éléments qui se répètent? \\n\\\n",
    "         Est-ce que l'ordre des éléments dans notre disposition est important?\".format(change['new']))\n",
    "    \n",
    "display(user_type_1_ex6)\n",
    "user_type_1_ex6.observe(on_change_1_ex6, names = 'value')"
   ]
  },
  {
   "cell_type": "code",
   "execution_count": 166,
   "id": "bcca18ca",
   "metadata": {
    "init_cell": true,
    "scrolled": false
   },
   "outputs": [
    {
     "name": "stdout",
     "output_type": "stream",
     "text": [
      "Combien de disposition de ce type pourrons-nous former?\n"
     ]
    },
    {
     "data": {
      "application/vnd.jupyter.widget-view+json": {
       "model_id": "6e0b0baf43d34acda992a325a8d7c868",
       "version_major": 2,
       "version_minor": 0
      },
      "text/plain": [
       "HBox(children=(IntText(value=0, description='Réponse:'), Button(description='Soumettre', icon='check', style=B…"
      ]
     },
     "metadata": {},
     "output_type": "display_data"
    }
   ],
   "source": [
    "print(\"Combien de disposition de ce type pourrons-nous former?\")\n",
    "\n",
    "n_ex6_1 = 12 \n",
    "reps_n_ex6_1 = [2, 2]\n",
    "counter_1_ex6 = 0\n",
    "\n",
    "ex6_q1_answer = widgets.IntText(\n",
    "    value= 0,\n",
    "    description='Réponse:',\n",
    "    disabled=False\n",
    ")\n",
    "\n",
    "button = widgets.Button(\n",
    "    description='Soumettre',\n",
    "    disabled=False,\n",
    "    button_style='',\n",
    "    tooltip='Click me',\n",
    "    icon='check' \n",
    ")\n",
    "\n",
    "\n",
    "def test_1_ex6(change):\n",
    "    global counter_1_ex6 \n",
    "    counter_1_ex6 = counter_1_ex6 + 1\n",
    "    value = ex6_q1_answer.value\n",
    "    correct_value = fn.verify_ex6_1(n_ex6_1, reps_n_ex6_1)\n",
    "    if value == correct_value:\n",
    "        print(\"----------------------------------\")\n",
    "        print(\"Tetantive {}: Bravo! votre réponse est correcte :)\".format(counter_1_ex6))\n",
    "    else:\n",
    "        print(\"----------------------------------\")\n",
    "        print(\"Tetantive {}:Malheureusement, la réponse soumise n'est pas correcte. \\n \\\n",
    "       Cliquez sur 'Show solution' pour quelques indices\".format(counter_1_ex6))\n",
    "\n",
    "\n",
    "display(widgets.HBox([ex6_q1_answer, button]))\n",
    "\n",
    "button.on_click(test_1_ex6)"
   ]
  },
  {
   "cell_type": "code",
   "execution_count": 167,
   "id": "e29b1f1a",
   "metadata": {
    "hide_input": true,
    "init_cell": true,
    "scrolled": false
   },
   "outputs": [
    {
     "name": "stdout",
     "output_type": "stream",
     "text": [
      "Comme il s'agit d'une permutations avec répétitions on doit procéder en deux étapes. \n",
      "\n",
      "1. Combien de permutations SANS répétitions pourrons-nous former avec les 12 lettres du mot COMBINATOIRE? \n",
      " Imaginez ici que toutes les lettres étaient différentes et on veut dénombrer le nombre de mots qu'on peut former \n",
      " en permuttant ces 12 lettres.\n"
     ]
    },
    {
     "data": {
      "application/vnd.jupyter.widget-view+json": {
       "model_id": "55185c2f1ff74dfbb141e6507cf96111",
       "version_major": 2,
       "version_minor": 0
      },
      "text/plain": [
       "HBox(children=(IntText(value=0, description='Réponse:'), Button(description='Soumettre', icon='check', style=B…"
      ]
     },
     "metadata": {},
     "output_type": "display_data"
    }
   ],
   "source": [
    "print(\"Comme il s'agit d'une permutations avec répétitions on doit procéder en deux étapes. \\n\")\n",
    "\n",
    "print(\"1. Combien de permutations SANS répétitions pourrons-nous former avec les 12 lettres du mot COMBINATOIRE? \\n \\\n",
    "Imaginez ici que toutes les lettres étaient différentes et on veut dénombrer le nombre de mots qu'on peut former \\n \\\n",
    "en permuttant ces 12 lettres.\")\n",
    "\n",
    "\n",
    "ex6_q1_1_answer = widgets.IntText(\n",
    "    value= 0,\n",
    "    description='Réponse:',\n",
    "    disabled=False\n",
    ")\n",
    "\n",
    "button = widgets.Button(\n",
    "    description='Soumettre',\n",
    "    disabled=False,\n",
    "    button_style='',\n",
    "    tooltip='Click me',\n",
    "    icon='check' \n",
    ")\n",
    "\n",
    "counter_1_1_ex6 = 0\n",
    "def test_1_1_ex6(change):\n",
    "    global counter_1_1_ex6 \n",
    "    counter_1_1_ex6 = counter_1_1_ex6 + 1\n",
    "    value = ex6_q1_1_answer.value\n",
    "    correct_value = fn.permutationNoRep(n)\n",
    "    if value == correct_value:\n",
    "        print(\"----------------------------------\")\n",
    "        print(\"Tetantive {}: Bravo! votre réponse est correcte :)\".format(counter_1_1_ex6))\n",
    "    else:\n",
    "        print(\"----------------------------------\")\n",
    "        print(\"Tetantive {}:Malheureusement, la réponse soumise n'est pas correcte. \\n \\\n",
    "       hint: il y a 12 possibilités pour la 1ere lettre ET 11 pour la 2eme lettre ET 10 pour la 3eme, etc. \".format(counter_1_1_ex6))\n",
    "\n",
    "\n",
    "display(widgets.HBox([ex6_q1_1_answer, button]))\n",
    "\n",
    "button.on_click(test_1_1_ex6)"
   ]
  },
  {
   "cell_type": "code",
   "execution_count": 168,
   "id": "52356b1c",
   "metadata": {
    "hide_input": true,
    "init_cell": true,
    "scrolled": true
   },
   "outputs": [
    {
     "name": "stdout",
     "output_type": "stream",
     "text": [
      "2. Les lettres O et I se répètent chacune 2 fois dans le mot COMBINATOIRE. \n",
      " On doit prendre cela en compte pour ne pas compter à double. Si on permutte les deux O entre elle ou les deux I entre elles, \n",
      " on ne change pas le mot qui en sort. \n",
      "\n",
      "Quelle est le nombre total de permutations de O ET de I que nous devrons prendre en compte?\n"
     ]
    },
    {
     "data": {
      "application/vnd.jupyter.widget-view+json": {
       "model_id": "2a9d33faab494378adde65e417281a24",
       "version_major": 2,
       "version_minor": 0
      },
      "text/plain": [
       "HBox(children=(IntText(value=0, description='Réponse:'), Button(description='Soumettre', icon='check', style=B…"
      ]
     },
     "metadata": {},
     "output_type": "display_data"
    }
   ],
   "source": [
    "print(\"2. Les lettres O et I se répètent chacune 2 fois dans le mot COMBINATOIRE. \\n \\\n",
    "On doit prendre cela en compte pour ne pas compter à double. Si on permutte les deux O entre elle ou les deux I entre elles, \\n \\\n",
    "on ne change pas le mot qui en sort. \\n\")\n",
    "\n",
    "print(\"Quelle est le nombre total de permutations de O ET de I que nous devrons prendre en compte?\")\n",
    "\n",
    "\n",
    "ex6_q1_2_answer = widgets.IntText(\n",
    "    value= 0,\n",
    "    description='Réponse:',\n",
    "    disabled=False\n",
    ")\n",
    "\n",
    "button = widgets.Button(\n",
    "    description='Soumettre',\n",
    "    disabled=False,\n",
    "    button_style='',\n",
    "    tooltip='Click me',\n",
    "    icon='check' \n",
    ")\n",
    "\n",
    "counter_1_2_ex6 = 0\n",
    "def test_1_2_ex6(change):\n",
    "    global counter_1_2_ex6 \n",
    "    counter_1_2_ex6 = counter_1_2_ex6 + 1\n",
    "    value = ex6_q1_2_answer.value\n",
    "    correct_value = 4\n",
    "    if value == correct_value:\n",
    "        print(\"----------------------------------\")\n",
    "        print(\"Tetantive {}: Bravo! votre réponse est correcte :)\".format(counter_1_2_ex6))\n",
    "    else:\n",
    "        print(\"----------------------------------\")\n",
    "        print(\"Tetantive {}:Malheureusement, la réponse soumise n'est pas correcte. \\n \\\n",
    "       hint: de combien de permutations des O pourrons-nous faire ET combien de permutations des I pourrons-nous faire? \".format(counter_1_1_ex6))\n",
    "\n",
    "\n",
    "display(widgets.HBox([ex6_q1_2_answer, button]))\n",
    "\n",
    "button.on_click(test_1_2_ex6)"
   ]
  },
  {
   "cell_type": "code",
   "execution_count": 169,
   "id": "56e9c4e9",
   "metadata": {
    "hide_input": true,
    "init_cell": true
   },
   "outputs": [
    {
     "name": "stdout",
     "output_type": "stream",
     "text": [
      "Comment on enlève depuis le nombre total des permutations SANS répétitions, les permutations des O et des I?\n"
     ]
    },
    {
     "data": {
      "application/vnd.jupyter.widget-view+json": {
       "model_id": "647923c827574807b651c0badb48f963",
       "version_major": 2,
       "version_minor": 0
      },
      "text/plain": [
       "Dropdown(description='Réponse:', index=4, options=('Soustraction', 'Division', 'Addition', 'Multiplication', '…"
      ]
     },
     "metadata": {},
     "output_type": "display_data"
    }
   ],
   "source": [
    "print(\"Comment on enlève depuis le nombre total des permutations SANS répétitions, les permutations des O et des I?\")\n",
    "\n",
    "user_6_1_3_ex5 = widgets.Dropdown(\n",
    "    options=['Soustraction', 'Division', 'Addition', 'Multiplication', 'aucune'],\n",
    "    value='aucune',\n",
    "    description='Réponse:',\n",
    "    disabled=False,\n",
    ")\n",
    "\n",
    "def on_change_6_1_3_ex5(change):\n",
    "    global n_choice\n",
    "    if change['new'] == 'Permutation avec répétitions':\n",
    "        print(\"----------------------------------\")\n",
    "        print(\"Votre réponse '{}' est correcte! Une illustration d'un exemple détaillé est à votre disposition ci-dessous.\".format(change['new']))\n",
    "    else:\n",
    "        print(\"----------------------------------\")\n",
    "        print(\"Votre réponse '{}' n'est pas correcte!! \\n \\\n",
    "         hint: Jetez un coup d'oeil sur l'illustration ci-dessous pour un exemple détaillé.\".format(change['new']))\n",
    "    \n",
    "display(user_6_1_3_ex5)\n",
    "user_6_1_3_ex5.observe(on_change_6_1_3_ex5, names = 'value')"
   ]
  },
  {
   "cell_type": "code",
   "execution_count": 170,
   "id": "2a7123fc",
   "metadata": {
    "hide_input": true,
    "init_cell": true,
    "scrolled": false
   },
   "outputs": [
    {
     "data": {
      "image/png": "[encoded data removed]",
      "text/plain": [
       "<IPython.core.display.Image object>"
      ]
     },
     "execution_count": 170,
     "metadata": {},
     "output_type": "execute_result"
    }
   ],
   "source": [
    "Image(\"./img/ex6.png\")"
   ]
  },
  {
   "cell_type": "code",
   "execution_count": 171,
   "id": "1417c288",
   "metadata": {
    "init_cell": true
   },
   "outputs": [
    {
     "name": "stdout",
     "output_type": "stream",
     "text": [
      "Revenez au début de la question pour ressoumettre votre réponse!\n"
     ]
    }
   ],
   "source": [
    "print(\"Revenez au début de la question pour ressoumettre votre réponse!\")"
   ]
  },
  {
   "cell_type": "markdown",
   "id": "ff3a2992",
   "metadata": {},
   "source": [
    "## On dispose d’autant de lettres que l’on veut parmi A, C, E, I, N, S, T. Combien de mots de 5 lettres peut-on alors écrire ?"
   ]
  },
  {
   "cell_type": "code",
   "execution_count": 172,
   "id": "9d7f0b06",
   "metadata": {
    "init_cell": true,
    "scrolled": false
   },
   "outputs": [
    {
     "name": "stdout",
     "output_type": "stream",
     "text": [
      "De quelle type de disposition s'agit-il?\n"
     ]
    },
    {
     "data": {
      "application/vnd.jupyter.widget-view+json": {
       "model_id": "7b5b38cc491148a589adbe452bb286a6",
       "version_major": 2,
       "version_minor": 0
      },
      "text/plain": [
       "Dropdown(description='Réponse:', index=6, options=('Permutation sans répétitions', 'Permutation avec répétitio…"
      ]
     },
     "metadata": {},
     "output_type": "display_data"
    }
   ],
   "source": [
    "print(\"De quelle type de disposition s'agit-il?\")\n",
    "\n",
    "user_type_2_ex6= widgets.Dropdown(\n",
    "    options=['Permutation sans répétitions', 'Permutation avec répétitions', 'Arrangement sans répétition', 'Arrangement avec répétition', 'Combinaison sans répétitions', 'Combinaison avec répétitions', 'aucune'],\n",
    "    value='aucune',\n",
    "    description='Réponse:',\n",
    "    disabled=False,\n",
    ")\n",
    "\n",
    "def on_change_2_ex6(change):\n",
    "    if change['new'] == 'Arrangement avec répétition':\n",
    "        print(\"----------------------------------\")\n",
    "        print(\"Votre réponse '{}' est correcte!\".format(change['new']))\n",
    "    else:\n",
    "        print(\"----------------------------------\")\n",
    "        print(\"Votre réponse '{}' n'est pas correcte!! \\n \\\n",
    "         hint: est-ce que la taille de notre disposition est la même que l'ensemble d'où on tire les éléments? \\n \\\n",
    "         Est-ce que l'ensembe contient des éléments qui se répètent? \\n\\\n",
    "         Est-ce que l'ordre des éléments dans notre disposition est important?\".format(change['new']))\n",
    "        \n",
    "display(user_type_2_ex6)\n",
    "user_type_2_ex6.observe(on_change_2_ex6, names = 'value')"
   ]
  },
  {
   "cell_type": "code",
   "execution_count": 173,
   "id": "56da9fd9",
   "metadata": {
    "init_cell": true,
    "scrolled": false
   },
   "outputs": [
    {
     "name": "stdout",
     "output_type": "stream",
     "text": [
      "Combien de disposition de ce type pourrons-nous former?\n"
     ]
    },
    {
     "data": {
      "application/vnd.jupyter.widget-view+json": {
       "model_id": "46c78a7338094198a6553038ec157d69",
       "version_major": 2,
       "version_minor": 0
      },
      "text/plain": [
       "HBox(children=(IntText(value=0, description='Réponse:'), Button(description='Soumettre', icon='check', style=B…"
      ]
     },
     "metadata": {},
     "output_type": "display_data"
    }
   ],
   "source": [
    "print(\"Combien de disposition de ce type pourrons-nous former?\")\n",
    "\n",
    "n_ex6_2 = 7 \n",
    "k_ex6_2 = 5\n",
    "\n",
    "counter_2_ex6 = 0\n",
    "\n",
    "ex6_q2_answer = widgets.IntText(\n",
    "    value= 0,\n",
    "    description='Réponse:',\n",
    "    disabled=False\n",
    ")\n",
    "\n",
    "button = widgets.Button(\n",
    "    description='Soumettre',\n",
    "    disabled=False,\n",
    "    button_style='',\n",
    "    tooltip='Click me',\n",
    "    icon='check' \n",
    ")\n",
    "\n",
    "\n",
    "def test_2_ex6(change):\n",
    "    global counter_2_ex6 \n",
    "    counter_2_ex6 = counter_2_ex6 + 1\n",
    "    value = ex6_q2_answer.value\n",
    "    correct_value = fn.arrangementRep(n_ex6_2, k_ex6_2)\n",
    "    if value == correct_value:\n",
    "        print(\"----------------------------------\")\n",
    "        print(\"Tetantive {}: Bravo! votre réponse est correcte :)\".format(counter_2_ex6))\n",
    "    else:\n",
    "        print(\"----------------------------------\")\n",
    "        print(\"Tetantive {}:Malheureusement, la réponse soumise n'est pas correcte. \\n \\\n",
    "       Cliquez sur 'Show solution' pour quelques indices\".format(counter_2_ex6))\n",
    "\n",
    "\n",
    "display(widgets.HBox([ex6_q2_answer, button]))\n",
    "\n",
    "button.on_click(test_2_ex6)"
   ]
  },
  {
   "cell_type": "code",
   "execution_count": 174,
   "id": "bcadd5e7",
   "metadata": {
    "init_cell": true,
    "scrolled": false
   },
   "outputs": [
    {
     "name": "stdout",
     "output_type": "stream",
     "text": [
      "Quelle est la taille, k, de notre disposition?\n",
      "Quelle est la taille, n, de l'ensemble depuis lequel on tire les éléments?\n"
     ]
    },
    {
     "data": {
      "application/vnd.jupyter.widget-view+json": {
       "model_id": "8203e980e9d447d99d3df1eb6a1d39e4",
       "version_major": 2,
       "version_minor": 0
      },
      "text/plain": [
       "HBox(children=(IntText(value=0, description='k:'), IntText(value=0, description='n:'), Button(description='Sou…"
      ]
     },
     "metadata": {},
     "output_type": "display_data"
    }
   ],
   "source": [
    "print(\"Quelle est la taille, k, de notre disposition?\")\n",
    "print(\"Quelle est la taille, n, de l'ensemble depuis lequel on tire les éléments?\")\n",
    "\n",
    "user_k_q2_answer = widgets.IntText(\n",
    "    value= 0,\n",
    "    description='k:',\n",
    "    disabled=False\n",
    ")\n",
    "\n",
    "user_n_q2_answer = widgets.IntText(\n",
    "    value= 0,\n",
    "    description='n:',\n",
    "    disabled=False\n",
    ")\n",
    "\n",
    "button = widgets.Button(\n",
    "    description='Soumettre',\n",
    "    disabled=False,\n",
    "    button_style='',\n",
    "    tooltip='Click me',\n",
    "    icon='check' \n",
    ")\n",
    "\n",
    "counter_2_1_ex6 = 0\n",
    "\n",
    "flag_k = False \n",
    "flag_n = False    \n",
    "    \n",
    "def test_2_1_ex6(change):\n",
    "    global counter_2_1_ex6 \n",
    "    global flag_k\n",
    "    global flag_n\n",
    "    counter_2_1_ex6 = counter_2_1_ex6 + 1\n",
    "    value_k = user_k_q2_answer.value\n",
    "    value_n = user_n_q2_answer.value\n",
    "\n",
    "    if value_k == k_ex6_2 : \n",
    "        flag_k = True\n",
    "    else:\n",
    "        flag_k = False\n",
    "        \n",
    "    if value_n == n_ex6_2 :\n",
    "        flag_n = True \n",
    "    else:\n",
    "        flag_n = False\n",
    "        \n",
    "    if flag_k and flag_n:\n",
    "        print(\"----------------------------------\")\n",
    "        print(\"Tetantive {}: Bravo! vos réponses sont correctes :) \\n \\\n",
    "        On voit que k est plus petit que n, donc il ne peut pas s'agir de permutations.\".format(counter_2_ex6))\n",
    "    else:\n",
    "        print(\"----------------------------------\")\n",
    "        print(\"Tetantive {}:Malheureusement, une ou plusieurs réponses soumises ne sont pas correctes. \\n \\\n",
    "       hint: k est la taille de la disposition, la taille des mots que nous voulons former, \\n \\\n",
    "       n est la taille de l'ensemble des lettres depuis lequel on sélectionne les lettres pour former les mots.\".format(counter_2_ex6))\n",
    "\n",
    "\n",
    "display(widgets.HBox([user_k_q2_answer, user_n_q2_answer, button]))\n",
    "\n",
    "button.on_click(test_2_1_ex6)\n",
    "\n"
   ]
  },
  {
   "cell_type": "code",
   "execution_count": 175,
   "id": "0a68659a",
   "metadata": {
    "init_cell": true,
    "scrolled": true
   },
   "outputs": [
    {
     "name": "stdout",
     "output_type": "stream",
     "text": [
      "Est-ce que l'ordre est important?\n"
     ]
    },
    {
     "data": {
      "application/vnd.jupyter.widget-view+json": {
       "model_id": "28b5e0882b9e4778afbacce8d54eb053",
       "version_major": 2,
       "version_minor": 0
      },
      "text/plain": [
       "Dropdown(description='Réponse:', index=2, options=('Ordre pas important', 'Ordre important', 'aucune'), value=…"
      ]
     },
     "metadata": {},
     "output_type": "display_data"
    }
   ],
   "source": [
    "print(\"Est-ce que l'ordre est important?\")\n",
    "\n",
    "user_ordre_2_2_ex6= widgets.Dropdown(\n",
    "    options=['Ordre pas important', 'Ordre important', 'aucune'],\n",
    "    value='aucune',\n",
    "    description='Réponse:',\n",
    "    disabled=False,\n",
    ")\n",
    "\n",
    "def on_change_2_2_ex6(change):\n",
    "    if change['new'] == 'Ordre important':\n",
    "        print(\"----------------------------------\")\n",
    "        print(\"Votre réponse '{}' est correcte! \\n \\\n",
    "        L'ordre des lettres est important, donc il ne peut pas s'agir de combinaisons.\".format(change['new']))\n",
    "    else:\n",
    "        print(\"----------------------------------\")\n",
    "        print(\"Votre réponse '{}' n'est pas correcte!! \\n \\\n",
    "         hint: est ce que si on change l'ordre des éléments dans cette disposition, on tombe sur une nouvelle disposition? \\n \\\n",
    "         Dans notre cas, les dispositions sont des mots. Si on fixe les lettres, est-ce que si on change l'ordre des lettres,  \\n \\\n",
    "               on tombe sur un nouveau mot?\".format(change['new']))\n",
    "        \n",
    "display(user_ordre_2_2_ex6)\n",
    "user_ordre_2_2_ex6.observe(on_change_2_2_ex6, names = 'value')\n"
   ]
  },
  {
   "cell_type": "code",
   "execution_count": 176,
   "id": "1afa55e8",
   "metadata": {
    "init_cell": true,
    "scrolled": false
   },
   "outputs": [
    {
     "name": "stdout",
     "output_type": "stream",
     "text": [
      "Est-ce qu'on peut avoir des répétitions? Est ce qu'on peut répéter les lettres au sein d'um même mot?\n"
     ]
    },
    {
     "data": {
      "application/vnd.jupyter.widget-view+json": {
       "model_id": "b8445fcf629d49ebadc9220a40fc2c5d",
       "version_major": 2,
       "version_minor": 0
      },
      "text/plain": [
       "Dropdown(description='Réponse:', index=2, options=('Avec répétitions', 'Sans répétitions', 'aucune'), value='a…"
      ]
     },
     "metadata": {},
     "output_type": "display_data"
    }
   ],
   "source": [
    "print(\"Est-ce qu'on peut avoir des répétitions? Est ce qu'on peut répéter les lettres au sein d'um même mot?\")\n",
    "\n",
    "user_ordre_2_3_ex6= widgets.Dropdown(\n",
    "    options=['Avec répétitions', 'Sans répétitions', 'aucune'],\n",
    "    value='aucune',\n",
    "    description='Réponse:',\n",
    "    disabled=False,\n",
    ")\n",
    "\n",
    "def on_change_2_3_ex6(change):\n",
    "    if change['new'] == 'Avec répétitions':\n",
    "        print(\"----------------------------------\")\n",
    "        print(\"Votre réponse '{}' est correcte! \\n \\\n",
    "        Donc il ne peut s'agir que d'arrangement avec répétitions!\".format(change['new']))\n",
    "    else:\n",
    "        print(\"----------------------------------\")\n",
    "        print(\"Votre réponse '{}' n'est pas correcte!! \\n \\\n",
    "         hint: la question nous dit qu' 'On dispose d’autant de lettres que l’on veut parmi A, C, E, I, N, S, T.\".format(change['new']))\n",
    "        \n",
    "display(user_ordre_2_3_ex6)\n",
    "user_ordre_2_3_ex6.observe(on_change_2_3_ex6, names = 'value')"
   ]
  },
  {
   "cell_type": "code",
   "execution_count": 177,
   "id": "7f950095",
   "metadata": {
    "init_cell": true
   },
   "outputs": [
    {
     "name": "stdout",
     "output_type": "stream",
     "text": [
      "Pour conclure, de combien de manières différentes pourrons-nous choisir la 1ere lettre?\n",
      " ET de combien de manières différentes pourrons-nous choisir la 2eme lettre? ET la 3eme? etc. \n",
      " Comment on combine les possibilités de toutes les lettres? \n",
      "\n",
      "Revenez au début de la question pour resoumettre votre réponse.\n"
     ]
    }
   ],
   "source": [
    "print(\"Pour conclure, de combien de manières différentes pourrons-nous choisir la 1ere lettre?\\n \\\n",
    "ET de combien de manières différentes pourrons-nous choisir la 2eme lettre? ET la 3eme? etc. \\n \\\n",
    "Comment on combine les possibilités de toutes les lettres? \\n\")\n",
    "print(\"Revenez au début de la question pour resoumettre votre réponse.\")"
   ]
  },
  {
   "cell_type": "markdown",
   "id": "7d615445",
   "metadata": {},
   "source": [
    "## Au début d’une partie de baseball, le gérant d’une équipe doit présenter à l’arbitre l’ordre selon lequel ses 9 joueurs se présenteront à la batte. Combien de listes différentes le gérant peut-il remettre à l’arbitre ?"
   ]
  },
  {
   "cell_type": "code",
   "execution_count": 178,
   "id": "032035f8",
   "metadata": {
    "init_cell": true
   },
   "outputs": [
    {
     "name": "stdout",
     "output_type": "stream",
     "text": [
      "De quelle type de disposition s'agit-il?\n"
     ]
    },
    {
     "data": {
      "application/vnd.jupyter.widget-view+json": {
       "model_id": "b095852b1ba14d8dab45dde75c56338e",
       "version_major": 2,
       "version_minor": 0
      },
      "text/plain": [
       "Dropdown(description='Réponse:', index=6, options=('Permutation sans répétitions', 'Permutation avec répétitio…"
      ]
     },
     "metadata": {},
     "output_type": "display_data"
    }
   ],
   "source": [
    "print(\"De quelle type de disposition s'agit-il?\")\n",
    "\n",
    "user_type_3_ex6= widgets.Dropdown(\n",
    "    options=['Permutation sans répétitions', 'Permutation avec répétitions', 'Arrangement sans répétition', 'Arrangement avec répétition', 'Combinaison sans répétitions', 'Combinaison avec répétitions', 'aucune'],\n",
    "    value='aucune',\n",
    "    description='Réponse:',\n",
    "    disabled=False,\n",
    ")\n",
    "\n",
    "def on_change_3_ex6(change):\n",
    "    if change['new'] == 'Permutation sans répétitions':\n",
    "        print(\"----------------------------------\")\n",
    "        print(\"Votre réponse '{}' est correcte!\".format(change['new']))\n",
    "    else:\n",
    "        print(\"----------------------------------\")\n",
    "        print(\"Votre réponse '{}' n'est pas correcte!! \\n \\\n",
    "         hint: est-ce que la taille de notre disposition est la même que l'ensemble d'où on tire les éléments? \\n \\\n",
    "         Est-ce que l'ensembe contient des éléments qui se répètent? \\n\\\n",
    "         Est-ce que l'ordre des éléments dans notre disposition est important?\".format(change['new']))\n",
    "        \n",
    "display(user_type_3_ex6)\n",
    "user_type_3_ex6.observe(on_change_3_ex6, names = 'value')"
   ]
  },
  {
   "cell_type": "code",
   "execution_count": 179,
   "id": "084748f5",
   "metadata": {
    "init_cell": true
   },
   "outputs": [
    {
     "name": "stdout",
     "output_type": "stream",
     "text": [
      "Combien de disposition de ce type pourrons-nous former?\n"
     ]
    },
    {
     "data": {
      "application/vnd.jupyter.widget-view+json": {
       "model_id": "da438cc014f3400490cea470c805f3ab",
       "version_major": 2,
       "version_minor": 0
      },
      "text/plain": [
       "HBox(children=(IntText(value=0, description='Réponse:'), Button(description='Soumettre', icon='check', style=B…"
      ]
     },
     "metadata": {},
     "output_type": "display_data"
    }
   ],
   "source": [
    "print(\"Combien de disposition de ce type pourrons-nous former?\")\n",
    "\n",
    "n_ex6_3 = 9 \n",
    "k_ex6_3 = 9\n",
    "\n",
    "\n",
    "counter_3_ex6 = 0\n",
    "\n",
    "ex6_q3_answer = widgets.IntText(\n",
    "    value= 0,\n",
    "    description='Réponse:',\n",
    "    disabled=False\n",
    ")\n",
    "\n",
    "button = widgets.Button(\n",
    "    description='Soumettre',\n",
    "    disabled=False,\n",
    "    button_style='',\n",
    "    tooltip='Click me',\n",
    "    icon='check' \n",
    ")\n",
    "\n",
    "\n",
    "def test_3_ex6(change):\n",
    "    global counter_3_ex6 \n",
    "    counter_3_ex6 = counter_3_ex6 + 1\n",
    "    value = ex6_q3_answer.value\n",
    "    correct_value = fn.permutationNoRep(n_ex6_3)\n",
    "    if value == correct_value:\n",
    "        print(\"----------------------------------\")\n",
    "        print(\"Tetantive {}: Bravo! votre réponse est correcte :)\".format(counter_2_ex6))\n",
    "    else:\n",
    "        print(\"----------------------------------\")\n",
    "        print(\"Tetantive {}:Malheureusement, la réponse soumise n'est pas correcte. \\n \\\n",
    "       Cliquez sur 'Show solution' pour quelques indices\".format(counter_2_ex6))\n",
    "\n",
    "\n",
    "display(widgets.HBox([ex6_q3_answer, button]))\n",
    "\n",
    "button.on_click(test_3_ex6)"
   ]
  },
  {
   "cell_type": "code",
   "execution_count": 180,
   "id": "453508b7",
   "metadata": {
    "init_cell": true
   },
   "outputs": [
    {
     "name": "stdout",
     "output_type": "stream",
     "text": [
      "Nous avons 9 joueurs, tous distincts, pour lesquels nous voulons spécifier en ordre. \n",
      "\n",
      "Quelle est la taille, k, de notre disposition?\n",
      "Quelle est la taille, n, de l'ensemble depuis lequel on tire les éléments?\n"
     ]
    },
    {
     "data": {
      "application/vnd.jupyter.widget-view+json": {
       "model_id": "7dcf3cf90ebd40efbc6866bee296659e",
       "version_major": 2,
       "version_minor": 0
      },
      "text/plain": [
       "HBox(children=(IntText(value=0, description='k:'), IntText(value=0, description='n:'), Button(description='Sou…"
      ]
     },
     "metadata": {},
     "output_type": "display_data"
    }
   ],
   "source": [
    "print(\"Nous avons 9 joueurs, tous distincts, pour lesquels nous voulons spécifier en ordre. \\n\")\n",
    "\n",
    "print(\"Quelle est la taille, k, de notre disposition?\")\n",
    "print(\"Quelle est la taille, n, de l'ensemble depuis lequel on tire les éléments?\")\n",
    "\n",
    "user_k_q3_answer = widgets.IntText(\n",
    "    value= 0,\n",
    "    description='k:',\n",
    "    disabled=False\n",
    ")\n",
    "\n",
    "user_n_q3_answer = widgets.IntText(\n",
    "    value= 0,\n",
    "    description='n:',\n",
    "    disabled=False\n",
    ")\n",
    "\n",
    "button = widgets.Button(\n",
    "    description='Soumettre',\n",
    "    disabled=False,\n",
    "    button_style='',\n",
    "    tooltip='Click me',\n",
    "    icon='check' \n",
    ")\n",
    "\n",
    "counter_3_1_ex6 = 0\n",
    "\n",
    "flag_k_3_1_ex6 = False \n",
    "flag_n_3_1_ex6 = False    \n",
    "    \n",
    "def test_3_1_ex6(change):\n",
    "    global counter_3_1_ex6 \n",
    "    global flag_k_3_1_ex6\n",
    "    global flag_n_3_1_ex6\n",
    "    counter_3_1_ex6 = counter_3_1_ex6 + 1\n",
    "    value_k = user_k_q3_answer.value\n",
    "    value_n = user_n_q3_answer.value\n",
    "\n",
    "    if value_k == k_ex6_3 : \n",
    "        flag_k = True\n",
    "    else:\n",
    "        flag_k = False\n",
    "        \n",
    "    if value_n == n_ex6_3 :\n",
    "        flag_n = True \n",
    "    else:\n",
    "        flag_n = False\n",
    "        \n",
    "    if flag_k and flag_n:\n",
    "        print(\"----------------------------------\")\n",
    "        print(\"Tetantive {}: Bravo! vos réponses sont correctes :) \\n \\\n",
    "        On voit que k est egale à n, donc il s'agit de permutations.\".format(counter_2_ex6))\n",
    "    else:\n",
    "        print(\"----------------------------------\")\n",
    "        print(\"Tetantive {}:Malheureusement, une ou plusieurs réponses soumises ne sont pas correctes. \\n \\\n",
    "       hint: k est la taille de la disposition, la taille du groupement de joueurs à proposer, \\n \\\n",
    "       n est la taille de l'ensemble des joueurs depuis lequel on sélectionne les individus pour composer les groupements.\".format(counter_2_ex6))\n",
    "\n",
    "\n",
    "display(widgets.HBox([user_k_q3_answer, user_n_q3_answer, button]))\n",
    "\n",
    "button.on_click(test_3_1_ex6)\n",
    "\n"
   ]
  },
  {
   "cell_type": "code",
   "execution_count": 181,
   "id": "3d5056c7",
   "metadata": {
    "init_cell": true
   },
   "outputs": [
    {
     "name": "stdout",
     "output_type": "stream",
     "text": [
      "Est-ce qu'on peut avoir des répétitions? \n",
      " Est-ce qu'on peut proposer le même joueur plusieurs fois au sein de la même formation?\n"
     ]
    },
    {
     "data": {
      "application/vnd.jupyter.widget-view+json": {
       "model_id": "e4e00a9a79564a7cb57eea949e0f91b8",
       "version_major": 2,
       "version_minor": 0
      },
      "text/plain": [
       "Dropdown(description='Réponse:', index=2, options=('Avec répétitions', 'Sans répétitions', 'aucune'), value='a…"
      ]
     },
     "metadata": {},
     "output_type": "display_data"
    }
   ],
   "source": [
    "print(\"Est-ce qu'on peut avoir des répétitions? \\n \\\n",
    "Est-ce qu'on peut proposer le même joueur plusieurs fois au sein de la même formation?\")\n",
    "\n",
    "user_ordre_3_3_ex6= widgets.Dropdown(\n",
    "    options=['Avec répétitions', 'Sans répétitions', 'aucune'],\n",
    "    value='aucune',\n",
    "    description='Réponse:',\n",
    "    disabled=False,\n",
    ")\n",
    "\n",
    "def on_change_3_3_ex6(change):\n",
    "    if change['new'] == 'Sans répétitions':\n",
    "        print(\"----------------------------------\")\n",
    "        print(\"Votre réponse '{}' est correcte! \\n \\\n",
    "        Donc il s'agit bien de permutation sans répétitions!\".format(change['new']))\n",
    "    else:\n",
    "        print(\"----------------------------------\")\n",
    "        print(\"Votre réponse '{}' n'est pas correcte!! \\n \\\n",
    "         hint: chaque joueur est unique et ne peut battre qu'une seule fois dans le jeu.\".format(change['new']))\n",
    "        \n",
    "display(user_ordre_3_3_ex6)\n",
    "user_ordre_3_3_ex6.observe(on_change_3_3_ex6, names = 'value')"
   ]
  },
  {
   "cell_type": "code",
   "execution_count": 182,
   "id": "472ce8bb",
   "metadata": {
    "init_cell": true
   },
   "outputs": [
    {
     "name": "stdout",
     "output_type": "stream",
     "text": [
      "Pour conclure, de combien de manières différentes pourrons-nous choisir le 1er joueur?\n",
      " ET de combien de manières différentes pourrons-nous choisir le 2eme joueur? ET le 3eme? etc. \n",
      " Comment on combine les possibilités de tous les joueurs? \n",
      "\n",
      "Revenez au début de la question pour resoumettre votre réponse.\n"
     ]
    }
   ],
   "source": [
    "print(\"Pour conclure, de combien de manières différentes pourrons-nous choisir le 1er joueur?\\n \\\n",
    "ET de combien de manières différentes pourrons-nous choisir le 2eme joueur? ET le 3eme? etc. \\n \\\n",
    "Comment on combine les possibilités de tous les joueurs? \\n\")\n",
    "\n",
    "print(\"Revenez au début de la question pour resoumettre votre réponse.\")"
   ]
  },
  {
   "cell_type": "markdown",
   "id": "324dd77d",
   "metadata": {},
   "source": [
    "## Une équipe de basketball est composée de 14 joueurs. De combien de manières différentes l’entraîneur peut-il choisir les 5 joueurs commençant la partie s’il ne tient pas compte de leur position ?"
   ]
  },
  {
   "cell_type": "code",
   "execution_count": 183,
   "id": "8d06c364",
   "metadata": {
    "init_cell": true
   },
   "outputs": [
    {
     "name": "stdout",
     "output_type": "stream",
     "text": [
      "De quelle type de disposition s'agit-il?\n"
     ]
    },
    {
     "data": {
      "application/vnd.jupyter.widget-view+json": {
       "model_id": "a1141c3f784e45b0ab1fc18e3c66b39a",
       "version_major": 2,
       "version_minor": 0
      },
      "text/plain": [
       "Dropdown(description='Réponse:', index=6, options=('Permutation sans répétitions', 'Permutation avec répétitio…"
      ]
     },
     "metadata": {},
     "output_type": "display_data"
    }
   ],
   "source": [
    "print(\"De quelle type de disposition s'agit-il?\")\n",
    "\n",
    "user_type_4_ex6= widgets.Dropdown(\n",
    "    options=['Permutation sans répétitions', 'Permutation avec répétitions', 'Arrangement sans répétition', 'Arrangement avec répétition', 'Combinaison sans répétitions', 'Combinaison avec répétitions', 'aucune'],\n",
    "    value='aucune',\n",
    "    description='Réponse:',\n",
    "    disabled=False,\n",
    ")\n",
    "\n",
    "def on_change_4_ex6(change):\n",
    "    if change['new'] == 'Combinaison sans répétitions':\n",
    "        print(\"----------------------------------\")\n",
    "        print(\"Votre réponse '{}' est correcte!\".format(change['new']))\n",
    "    else:\n",
    "        print(\"----------------------------------\")\n",
    "        print(\"Votre réponse '{}' n'est pas correcte!! \\n \\\n",
    "         hint: est-ce que la taille de notre disposition est la même que l'ensemble d'où on tire les éléments? \\n \\\n",
    "         Est-ce que l'ensembe contient des éléments qui se répètent? \\n\\\n",
    "         Est-ce que l'ordre des éléments dans notre disposition est important?\".format(change['new']))\n",
    "        \n",
    "display(user_type_4_ex6)\n",
    "user_type_4_ex6.observe(on_change_4_ex6, names = 'value')"
   ]
  },
  {
   "cell_type": "code",
   "execution_count": 184,
   "id": "decf5906",
   "metadata": {
    "init_cell": true
   },
   "outputs": [
    {
     "name": "stdout",
     "output_type": "stream",
     "text": [
      "Combien de disposition de ce type pourrons-nous former?\n"
     ]
    },
    {
     "data": {
      "application/vnd.jupyter.widget-view+json": {
       "model_id": "dfbaed84d0c74e4e98041262a75cbfb9",
       "version_major": 2,
       "version_minor": 0
      },
      "text/plain": [
       "HBox(children=(IntText(value=0, description='Réponse:'), Button(description='Soumettre', icon='check', style=B…"
      ]
     },
     "metadata": {},
     "output_type": "display_data"
    }
   ],
   "source": [
    "print(\"Combien de disposition de ce type pourrons-nous former?\")\n",
    "\n",
    "n_ex6_4= 14 \n",
    "k_ex6_4 = 5\n",
    "\n",
    "\n",
    "counter_4_ex6 = 0\n",
    "\n",
    "ex6_q4_answer = widgets.IntText(\n",
    "    value= 0,\n",
    "    description='Réponse:',\n",
    "    disabled=False\n",
    ")\n",
    "\n",
    "button = widgets.Button(\n",
    "    description='Soumettre',\n",
    "    disabled=False,\n",
    "    button_style='',\n",
    "    tooltip='Click me',\n",
    "    icon='check' \n",
    ")\n",
    "\n",
    "\n",
    "def test_4_ex6(change):\n",
    "    global counter_4_ex6 \n",
    "    counter_4_ex6 = counter_4_ex6 + 1\n",
    "    value = ex6_q4_answer.value\n",
    "    correct_value = fn.nCr(n_ex6_4, k_ex6_4)\n",
    "    if value == correct_value:\n",
    "        print(\"----------------------------------\")\n",
    "        print(\"Tetantive {}: Bravo! votre réponse est correcte :)\".format(counter_2_ex6))\n",
    "    else:\n",
    "        print(\"----------------------------------\")\n",
    "        print(\"Tetantive {}:Malheureusement, la réponse soumise n'est pas correcte. \\n \\\n",
    "       Cliquez sur 'Show solution' pour quelques indices\".format(counter_2_ex6))\n",
    "\n",
    "\n",
    "display(widgets.HBox([ex6_q4_answer, button]))\n",
    "\n",
    "button.on_click(test_4_ex6)"
   ]
  },
  {
   "cell_type": "code",
   "execution_count": 185,
   "id": "7bc649ea",
   "metadata": {
    "init_cell": true
   },
   "outputs": [
    {
     "name": "stdout",
     "output_type": "stream",
     "text": [
      "Nous avons 14 joueurs, tous distincts, depuis lesquels nous voulons sélectionner 5. \n",
      "\n",
      "Quelle est la taille, k, de notre disposition?\n",
      "Quelle est la taille, n, de l'ensemble depuis lequel on tire les éléments?\n"
     ]
    },
    {
     "data": {
      "application/vnd.jupyter.widget-view+json": {
       "model_id": "e66f950692ec4fcaaf329898e986815c",
       "version_major": 2,
       "version_minor": 0
      },
      "text/plain": [
       "HBox(children=(IntText(value=0, description='k:'), IntText(value=0, description='n:'), Button(description='Sou…"
      ]
     },
     "metadata": {},
     "output_type": "display_data"
    }
   ],
   "source": [
    "print(\"Nous avons 14 joueurs, tous distincts, depuis lesquels nous voulons sélectionner 5. \\n\")\n",
    "\n",
    "print(\"Quelle est la taille, k, de notre disposition?\")\n",
    "print(\"Quelle est la taille, n, de l'ensemble depuis lequel on tire les éléments?\")\n",
    "\n",
    "user_k_q4_answer = widgets.IntText(\n",
    "    value= 0,\n",
    "    description='k:',\n",
    "    disabled=False\n",
    ")\n",
    "\n",
    "user_n_q4_answer = widgets.IntText(\n",
    "    value= 0,\n",
    "    description='n:',\n",
    "    disabled=False\n",
    ")\n",
    "\n",
    "button = widgets.Button(\n",
    "    description='Soumettre',\n",
    "    disabled=False,\n",
    "    button_style='',\n",
    "    tooltip='Click me',\n",
    "    icon='check' \n",
    ")\n",
    "\n",
    "counter_4_1_ex6 = 0\n",
    "\n",
    "flag_k_4_1_ex6 = False \n",
    "flag_n_4_1_ex6 = False    \n",
    "    \n",
    "def test_4_1_ex6(change):\n",
    "    global counter_4_1_ex6 \n",
    "    global flag_k_4_1_ex6\n",
    "    global flag_n_4_1_ex6\n",
    "    counter_4_1_ex6 = counter_4_1_ex6 + 1\n",
    "    value_k = user_k_q4_answer.value\n",
    "    value_n = user_n_q4_answer.value\n",
    "\n",
    "    if value_k == k_ex6_4 : \n",
    "        flag_k = True\n",
    "    else:\n",
    "        flag_k = False\n",
    "        \n",
    "    if value_n == n_ex6_4 :\n",
    "        flag_n = True \n",
    "    else:\n",
    "        flag_n = False\n",
    "        \n",
    "    if flag_k and flag_n:\n",
    "        print(\"----------------------------------\")\n",
    "        print(\"Tetantive {}: Bravo! vos réponses sont correctes :) \\n \\\n",
    "        On voit que k est plus petit que n, donc il ne peut pas s'agir de permutations.\".format(counter_2_ex6))\n",
    "    else:\n",
    "        print(\"----------------------------------\")\n",
    "        print(\"Tetantive {}:Malheureusement, une ou plusieurs réponses soumises ne sont pas correctes. \\n \\\n",
    "       hint: k est la taille de la disposition, la taille du groupement de joueurs à proposer, \\n \\\n",
    "       n est la taille de l'ensemble des joueurs depuis lequel on sélectionne les individus pour composer les groupements.\".format(counter_2_ex6))\n",
    "\n",
    "\n",
    "display(widgets.HBox([user_k_q4_answer, user_n_q4_answer, button]))\n",
    "\n",
    "button.on_click(test_4_1_ex6)\n",
    "\n"
   ]
  },
  {
   "cell_type": "code",
   "execution_count": 186,
   "id": "2b7f069b",
   "metadata": {
    "init_cell": true
   },
   "outputs": [
    {
     "name": "stdout",
     "output_type": "stream",
     "text": [
      "Est-ce que l'ordre est important?\n"
     ]
    },
    {
     "data": {
      "application/vnd.jupyter.widget-view+json": {
       "model_id": "474875e761664db5837df56a9818ba46",
       "version_major": 2,
       "version_minor": 0
      },
      "text/plain": [
       "Dropdown(description='Réponse:', index=2, options=('Ordre pas important', 'Ordre important', 'aucune'), value=…"
      ]
     },
     "metadata": {},
     "output_type": "display_data"
    }
   ],
   "source": [
    "print(\"Est-ce que l'ordre est important?\")\n",
    "\n",
    "user_ordre_4_2_ex6= widgets.Dropdown(\n",
    "    options=['Ordre pas important', 'Ordre important', 'aucune'],\n",
    "    value='aucune',\n",
    "    description='Réponse:',\n",
    "    disabled=False,\n",
    ")\n",
    "\n",
    "def on_change_4_2_ex6(change):\n",
    "    if change['new'] == 'Ordre pas important':\n",
    "        print(\"----------------------------------\")\n",
    "        print(\"Votre réponse '{}' est correcte! \\n \\\n",
    "        L'ordre des joueurs n'est pas important, donc il ne peut pas s'agir d'arangements.\".format(change['new']))\n",
    "    else:\n",
    "        print(\"----------------------------------\")\n",
    "        print(\"Votre réponse '{}' n'est pas correcte!! \\n \\\n",
    "         hint: la question mentionne le suivant 'ne tient pas compte de leur position'\".format(change['new']))\n",
    "        \n",
    "display(user_ordre_4_2_ex6)\n",
    "user_ordre_4_2_ex6.observe(on_change_4_2_ex6, names = 'value')\n"
   ]
  },
  {
   "cell_type": "code",
   "execution_count": 187,
   "id": "d9aa40f6",
   "metadata": {
    "init_cell": true
   },
   "outputs": [
    {
     "name": "stdout",
     "output_type": "stream",
     "text": [
      "Est-ce qu'on peut avoir des répétitions? Est ce qu'on peut répéter le même joueur plusieurs fois dans la formation à proposer?\n"
     ]
    },
    {
     "data": {
      "application/vnd.jupyter.widget-view+json": {
       "model_id": "30598a69afcd4e359099703ad631fbb1",
       "version_major": 2,
       "version_minor": 0
      },
      "text/plain": [
       "Dropdown(description='Réponse:', index=2, options=('Avec répétitions', 'Sans répétitions', 'aucune'), value='a…"
      ]
     },
     "metadata": {},
     "output_type": "display_data"
    }
   ],
   "source": [
    "print(\"Est-ce qu'on peut avoir des répétitions? Est ce qu'on peut répéter le même joueur plusieurs fois dans la formation à proposer?\")\n",
    "\n",
    "user_ordre_2_4_ex6= widgets.Dropdown(\n",
    "    options=['Avec répétitions', 'Sans répétitions', 'aucune'],\n",
    "    value='aucune',\n",
    "    description='Réponse:',\n",
    "    disabled=False,\n",
    ")\n",
    "\n",
    "def on_change_2_4_ex6(change):\n",
    "    if change['new'] == 'Sans répétitions':\n",
    "        print(\"----------------------------------\")\n",
    "        print(\"Votre réponse '{}' est correcte! \\n \\\n",
    "        Donc il ne peut s'agir que de coombinaisons sans répétitions!\".format(change['new']))\n",
    "    else:\n",
    "        print(\"----------------------------------\")\n",
    "        print(\"Votre réponse '{}' n'est pas correcte!! \\n \\\n",
    "         hint: chaque joueur est distinct et si on le séléctionne il ne peut qu'occuper qu'une seule place dans \\n \\\n",
    "         la formation de 5 joueurs.\".format(change['new']))\n",
    "        \n",
    "display(user_ordre_2_4_ex6)\n",
    "user_ordre_2_4_ex6.observe(on_change_2_4_ex6, names = 'value')"
   ]
  },
  {
   "cell_type": "code",
   "execution_count": 188,
   "id": "48f3f036",
   "metadata": {
    "init_cell": true,
    "scrolled": false
   },
   "outputs": [
    {
     "name": "stdout",
     "output_type": "stream",
     "text": [
      "Vous pouvez maintenant retrouver la bonne formule à appliquer et resoumettre votre réponse au début de la question. \n",
      "\n",
      "Vous pouvez aussi continuer pour voir comment retrouver la formule à appliquer en passant par les permutations! \n",
      "\n"
     ]
    },
    {
     "data": {
      "application/vnd.jupyter.widget-view+json": {
       "model_id": "b006bbed735d48759d3e5089449951a5",
       "version_major": 2,
       "version_minor": 0
      },
      "text/plain": [
       "Button(description=\"Afficher le reste de l'explication\", icon='check', style=ButtonStyle(), tooltip=\"Clicker p…"
      ]
     },
     "metadata": {},
     "output_type": "display_data"
    },
    {
     "name": "stdout",
     "output_type": "stream",
     "text": [
      "Nous pourrons en premier dénombrer toutes les permutations (sans répétitions) possibles des 14 joueurs. \n",
      " \n",
      "Par la suite, on regarde uniquement les premiers 5 joueurs de chaque permutation, l'ordre des (14-5) joueurs suivants \n",
      " ne nous intéresse pas parce que les 9 joueurs suivants ne feront pas partie de l'équipe. \n",
      " Donc cela fait qu'il y a des permutations similaires des 5 premiers joueurs qui se répètent, qu'on ne doit pas compter plusieurs fois!\n",
      "Les deux étapes précédentes génèrent le dénombrement des arangements, sans répétitions, de taille 5 depuis un ensemble à 14! \n",
      "\n",
      "Pour arriver au dénombrement des combinaisons sans répétitions, on remarque que l'ordre des 5 premiers joueurs n'est pas important. \n",
      "       Donc toutes les permutations des mêmes 5 premiers joueurs donnent la même équipe, donc on doit aussi éviter de compter ces permutations plus qu'une fois. \n",
      "\n",
      "Une illustration détaillée d'un exemple plus simple est mise à disposition ci-dessous.\n"
     ]
    },
    {
     "data": {
      "image/png": "[encoded data removed]",
      "text/plain": [
       "<IPython.core.display.Image object>"
      ]
     },
     "metadata": {},
     "output_type": "display_data"
    }
   ],
   "source": [
    "print(\"Vous pouvez maintenant retrouver la bonne formule à appliquer et resoumettre votre réponse au début de la question. \\n\")\n",
    "\n",
    "print(\"Vous pouvez aussi continuer pour voir comment retrouver la formule à appliquer en passant par les permutations! \\n\")\n",
    "\n",
    "show_more_button = widgets.Button(\n",
    "    value=False,\n",
    "    description=\"Afficher le reste de l'explication\",\n",
    "    disabled=False,\n",
    "    button_style='',\n",
    "    tooltip=\"Clicker pour afficher le reste de l'explication\",\n",
    "    icon='check' \n",
    ")\n",
    "\n",
    "\n",
    "def show_more_button_onclick(change):\n",
    "    print(\"Nous pourrons en premier dénombrer toutes les permutations (sans répétitions) possibles des 14 joueurs. \\n \")\n",
    "    print(\"Par la suite, on regarde uniquement les premiers 5 joueurs de chaque permutation, l'ordre des (14-5) joueurs suivants \\n \\\n",
    "ne nous intéresse pas parce que les 9 joueurs suivants ne feront pas partie de l'équipe. \\n \\\n",
    "Donc cela fait qu'il y a des permutations similaires des 5 premiers joueurs qui se répètent, qu'on ne doit pas compter plusieurs fois!\" )\n",
    "    print(\"Les deux étapes précédentes génèrent le dénombrement des arangements, sans répétitions, de taille 5 depuis un ensemble à 14! \\n\")\n",
    "    print(\"Pour arriver au dénombrement des combinaisons sans répétitions, on remarque que l'ordre des 5 premiers joueurs n'est pas important. \\n \\\n",
    "      Donc toutes les permutations des mêmes 5 premiers joueurs donnent la même équipe, donc on doit aussi éviter de compter ces permutations plus qu'une fois. \\n\")\n",
    "    print(\"Une illustration détaillée d'un exemple plus simple est mise à disposition ci-dessous.\")\n",
    "    \n",
    "    display(Image(\"./img/ex6_4.png\"))\n",
    "\n",
    "    \n",
    "\n",
    "display(show_more_button)\n",
    "show_more_button.on_click(show_more_button_onclick)\n",
    "\n",
    "\n"
   ]
  },
  {
   "cell_type": "markdown",
   "id": "9e8b98a3",
   "metadata": {},
   "source": [
    "## 18 pilotes participent à un grand prix de formule 1. De combien de manières peut se constituer le podium ?"
   ]
  },
  {
   "cell_type": "code",
   "execution_count": 26,
   "id": "ee432840",
   "metadata": {},
   "outputs": [
    {
     "name": "stdout",
     "output_type": "stream",
     "text": [
      "De quelle type de disposition s'agit-il?\n"
     ]
    },
    {
     "data": {
      "application/vnd.jupyter.widget-view+json": {
       "model_id": "cde6c8c0ee5041f38d9d736ee8754d22",
       "version_major": 2,
       "version_minor": 0
      },
      "text/plain": [
       "Dropdown(description='Réponse:', index=6, options=('Permutation sans répétitions', 'Permutation avec répétitio…"
      ]
     },
     "metadata": {},
     "output_type": "display_data"
    }
   ],
   "source": [
    "print(\"De quelle type de disposition s'agit-il?\")\n",
    "\n",
    "user_type_5_ex6= widgets.Dropdown(\n",
    "    options=['Permutation sans répétitions', 'Permutation avec répétitions', 'Arrangement sans répétition', 'Arrangement avec répétition', 'Combinaison sans répétitions', 'Combinaison avec répétitions', 'aucune'],\n",
    "    value='aucune',\n",
    "    description='Réponse:',\n",
    "    disabled=False,\n",
    ")\n",
    "\n",
    "def on_change_5_ex6(change):\n",
    "    if change['new'] == 'Arrangement sans répétition':\n",
    "        print(\"----------------------------------\")\n",
    "        print(\"Votre réponse '{}' est correcte!\".format(change['new']))\n",
    "    else:\n",
    "        print(\"----------------------------------\")\n",
    "        print(\"Votre réponse '{}' n'est pas correcte!! \\n \\\n",
    "         hint: est-ce que la taille de notre disposition est la même que l'ensemble d'où on tire les éléments? \\n \\\n",
    "         Est-ce que l'ensembe contient des éléments qui se répètent? \\n\\\n",
    "         Est-ce que l'ordre des éléments dans notre disposition est important?\".format(change['new']))\n",
    "        \n",
    "display(user_type_5_ex6)\n",
    "user_type_5_ex6.observe(on_change_5_ex6, names = 'value')"
   ]
  },
  {
   "cell_type": "code",
   "execution_count": 30,
   "id": "6f0185c7",
   "metadata": {},
   "outputs": [
    {
     "name": "stdout",
     "output_type": "stream",
     "text": [
      "Combien de disposition de ce type pourrons-nous former?\n"
     ]
    },
    {
     "data": {
      "application/vnd.jupyter.widget-view+json": {
       "model_id": "c019fd505871463a89aa51fd754ff2ee",
       "version_major": 2,
       "version_minor": 0
      },
      "text/plain": [
       "HBox(children=(IntText(value=0, description='Réponse:'), Button(description='Soumettre', icon='check', style=B…"
      ]
     },
     "metadata": {},
     "output_type": "display_data"
    },
    {
     "name": "stdout",
     "output_type": "stream",
     "text": [
      "----------------------------------\n",
      "Tetantive 1:Malheureusement, la réponse soumise n'est pas correcte. \n",
      "        Cliquez sur 'Show solution' pour quelques indices\n",
      "----------------------------------\n",
      "Tetantive 2: Bravo! votre réponse est correcte :)\n"
     ]
    }
   ],
   "source": [
    "print(\"Combien de disposition de ce type pourrons-nous former?\")\n",
    "\n",
    "n_ex6_5= 18\n",
    "k_ex6_5 = 3\n",
    "\n",
    "\n",
    "counter_5_ex6 = 0\n",
    "\n",
    "ex6_q5_answer = widgets.IntText(\n",
    "    value= 0,\n",
    "    description='Réponse:',\n",
    "    disabled=False\n",
    ")\n",
    "\n",
    "button = widgets.Button(\n",
    "    description='Soumettre',\n",
    "    disabled=False,\n",
    "    button_style='',\n",
    "    tooltip='Click me',\n",
    "    icon='check' \n",
    ")\n",
    "\n",
    "\n",
    "def test_5_ex6(change):\n",
    "    global counter_5_ex6 \n",
    "    counter_5_ex6 = counter_5_ex6 + 1\n",
    "    value = ex6_q5_answer.value\n",
    "    correct_value = int(fn.sequenceNoRep(n_ex6_5, k_ex6_5))\n",
    "    if value == correct_value:\n",
    "        print(\"----------------------------------\")\n",
    "        print(\"Tetantive {}: Bravo! votre réponse est correcte :)\".format(counter_5_ex6))\n",
    "    else:\n",
    "        print(\"----------------------------------\")\n",
    "        print(\"Tetantive {}:Malheureusement, la réponse soumise n'est pas correcte. \\n \\\n",
    "       Cliquez sur 'Show solution' pour quelques indices\".format(counter_5_ex6))\n",
    "\n",
    "\n",
    "display(widgets.HBox([ex6_q5_answer, button]))\n",
    "\n",
    "button.on_click(test_5_ex6)"
   ]
  },
  {
   "cell_type": "code",
   "execution_count": 31,
   "id": "99cd9de4",
   "metadata": {},
   "outputs": [
    {
     "name": "stdout",
     "output_type": "stream",
     "text": [
      "Nous avons 18 compétiteurs, tous distincts, depuis lesquels nous voulons sélectonner 3. \n",
      "\n",
      "Quelle est la taille, k, de notre disposition?\n",
      "Quelle est la taille, n, de l'ensemble depuis lequel on tire les éléments?\n"
     ]
    },
    {
     "data": {
      "application/vnd.jupyter.widget-view+json": {
       "model_id": "935878daf62d4b69a6e2642414952f86",
       "version_major": 2,
       "version_minor": 0
      },
      "text/plain": [
       "HBox(children=(IntText(value=0, description='k:'), IntText(value=0, description='n:'), Button(description='Sou…"
      ]
     },
     "metadata": {},
     "output_type": "display_data"
    },
    {
     "name": "stdout",
     "output_type": "stream",
     "text": [
      "----------------------------------\n",
      "Tetantive 0:Malheureusement, une ou plusieurs réponses soumises ne sont pas correctes. \n",
      "        hint: k est la taille de la disposition, la taille du groupement de joueurs à proposer, \n",
      "        n est la taille de l'ensemble des joueurs depuis lequel on sélectionne les les individues pour composer les groupements.\n",
      "----------------------------------\n",
      "Tetantive 0: Bravo! vos réponses sont correctes :) \n",
      "         On voit que k est plus petit que n, donc il ne peut pas s'agir de permutations.\n"
     ]
    }
   ],
   "source": [
    "print(\"Nous avons 18 compétiteurs, tous distincts, depuis lesquels nous voulons sélectonner 3. \\n\")\n",
    "\n",
    "print(\"Quelle est la taille, k, de notre disposition?\")\n",
    "print(\"Quelle est la taille, n, de l'ensemble depuis lequel on tire les éléments?\")\n",
    "\n",
    "user_k_q5_answer = widgets.IntText(\n",
    "    value= 0,\n",
    "    description='k:',\n",
    "    disabled=False\n",
    ")\n",
    "\n",
    "user_n_q5_answer = widgets.IntText(\n",
    "    value= 0,\n",
    "    description='n:',\n",
    "    disabled=False\n",
    ")\n",
    "\n",
    "button = widgets.Button(\n",
    "    description='Soumettre',\n",
    "    disabled=False,\n",
    "    button_style='',\n",
    "    tooltip='Click me',\n",
    "    icon='check' \n",
    ")\n",
    "\n",
    "counter_5_1_ex6 = 0\n",
    "\n",
    "flag_k_5_1_ex6 = False \n",
    "flag_n_5_1_ex6 = False    \n",
    "    \n",
    "def test_5_1_ex6(change):\n",
    "    global counter_5_1_ex6 \n",
    "    global flag_k_5_1_ex6\n",
    "    global flag_n_5_1_ex6\n",
    "    counter_5_1_ex6 = counter_5_1_ex6 + 1\n",
    "    value_k = user_k_q5_answer.value\n",
    "    value_n = user_n_q5_answer.value\n",
    "\n",
    "    if value_k == k_ex6_5 : \n",
    "        flag_k = True\n",
    "    else:\n",
    "        flag_k = False\n",
    "        \n",
    "    if value_n == n_ex6_5 :\n",
    "        flag_n = True \n",
    "    else:\n",
    "        flag_n = False\n",
    "        \n",
    "    if flag_k and flag_n:\n",
    "        print(\"----------------------------------\")\n",
    "        print(\"Tetantive {}: Bravo! vos réponses sont correctes :) \\n \\\n",
    "        On voit que k est plus petit que n, donc il ne peut pas s'agir de permutations.\".format(counter_5_1_ex6))\n",
    "    else:\n",
    "        print(\"----------------------------------\")\n",
    "        print(\"Tetantive {}:Malheureusement, une ou plusieurs réponses soumises ne sont pas correctes. \\n \\\n",
    "       hint: k est la taille de la disposition, la taille du groupement de joueurs à proposer, \\n \\\n",
    "       n est la taille de l'ensemble des joueurs depuis lequel on sélectionne les individus pour composer les groupements.\".format(counter_5_1_ex6))\n",
    "\n",
    "\n",
    "display(widgets.HBox([user_k_q5_answer, user_n_q5_answer, button]))\n",
    "\n",
    "button.on_click(test_5_1_ex6)\n",
    "\n"
   ]
  },
  {
   "cell_type": "code",
   "execution_count": 82,
   "id": "afc863b5",
   "metadata": {},
   "outputs": [
    {
     "name": "stdout",
     "output_type": "stream",
     "text": [
      "Est-ce que l'ordre est important?\n"
     ]
    },
    {
     "data": {
      "application/vnd.jupyter.widget-view+json": {
       "model_id": "75109600e1124efa8684dec9a11ca988",
       "version_major": 2,
       "version_minor": 0
      },
      "text/plain": [
       "Dropdown(description='Réponse:', index=2, options=('Ordre pas important', 'Ordre important', 'aucune'), value=…"
      ]
     },
     "metadata": {},
     "output_type": "display_data"
    },
    {
     "name": "stdout",
     "output_type": "stream",
     "text": [
      "----------------------------------\n",
      "Votre réponse 'Ordre important' est correcte! \n",
      "         L'ordre sur le podium est important, donc il ne peut pas s'agir de combinaison.\n",
      "----------------------------------\n",
      "Votre réponse 'Ordre pas important' n'est pas correcte!! \n",
      "          hint: un podium comporte une 1ere place, une 2eme place et une 3eme place.\n"
     ]
    }
   ],
   "source": [
    "print(\"Est-ce que l'ordre est important?\")\n",
    "\n",
    "user_ordre_5_2_ex6= widgets.Dropdown(\n",
    "    options=['Ordre pas important', 'Ordre important', 'aucune'],\n",
    "    value='aucune',\n",
    "    description='Réponse:',\n",
    "    disabled=False,\n",
    ")\n",
    "\n",
    "def on_change_5_2_ex6(change):\n",
    "    if change['new'] == 'Ordre important':\n",
    "        print(\"----------------------------------\")\n",
    "        print(\"Votre réponse '{}' est correcte! \\n \\\n",
    "        L'ordre sur le podium est important, donc il ne peut pas s'agir de combinaison.\".format(change['new']))\n",
    "    else:\n",
    "        print(\"----------------------------------\")\n",
    "        print(\"Votre réponse '{}' n'est pas correcte!! \\n \\\n",
    "         hint: un podium comporte une 1ere place, une 2eme place et une 3eme place.\".format(change['new']))\n",
    "        \n",
    "display(user_ordre_5_2_ex6)\n",
    "user_ordre_5_2_ex6.observe(on_change_5_2_ex6, names = 'value')\n"
   ]
  },
  {
   "cell_type": "code",
   "execution_count": 83,
   "id": "7d666418",
   "metadata": {},
   "outputs": [
    {
     "name": "stdout",
     "output_type": "stream",
     "text": [
      "Est-ce qu'on peut avoir des répétitions? Est-ce que le même competiteur peut occuper plusieurs place dans le podium?\n"
     ]
    },
    {
     "data": {
      "application/vnd.jupyter.widget-view+json": {
       "model_id": "3b778710794a496b8b59f06cb517ac17",
       "version_major": 2,
       "version_minor": 0
      },
      "text/plain": [
       "Dropdown(description='Réponse:', index=2, options=('Avec répétitions', 'Sans répétitions', 'aucune'), value='a…"
      ]
     },
     "metadata": {},
     "output_type": "display_data"
    },
    {
     "name": "stdout",
     "output_type": "stream",
     "text": [
      "----------------------------------\n",
      "Votre réponse 'Avec répétitions' n'est pas correcte!! \n",
      "          hint: chaque competiteur est distinct et si on le séléctionne il ne peut qu'occuper qu'une seule place dans \n",
      "          le podium.\n",
      "----------------------------------\n",
      "Votre réponse 'Sans répétitions' est correcte! \n",
      "         Donc il ne peut s'agir que d'arangement sans répétitions!\n"
     ]
    }
   ],
   "source": [
    "print(\"Est-ce qu'on peut avoir des répétitions? Est-ce que le même competiteur peut occuper plusieurs place dans le podium?\")\n",
    "\n",
    "user_ordre_2_5_ex6= widgets.Dropdown(\n",
    "    options=['Avec répétitions', 'Sans répétitions', 'aucune'],\n",
    "    value='aucune',\n",
    "    description='Réponse:',\n",
    "    disabled=False,\n",
    ")\n",
    "\n",
    "def on_change_2_5_ex6(change):\n",
    "    if change['new'] == 'Sans répétitions':\n",
    "        print(\"----------------------------------\")\n",
    "        print(\"Votre réponse '{}' est correcte! \\n \\\n",
    "        Donc il ne peut s'agir que d'arangement sans répétitions!\".format(change['new']))\n",
    "    else:\n",
    "        print(\"----------------------------------\")\n",
    "        print(\"Votre réponse '{}' n'est pas correcte!! \\n \\\n",
    "         hint: chaque competiteur est distinct et si on le séléctionne il ne peut qu'occuper qu'une seule place dans \\n \\\n",
    "         le podium.\".format(change['new']))\n",
    "        \n",
    "display(user_ordre_2_5_ex6)\n",
    "user_ordre_2_5_ex6.observe(on_change_2_5_ex6, names = 'value')"
   ]
  },
  {
   "cell_type": "code",
   "execution_count": 134,
   "id": "3b39d130",
   "metadata": {},
   "outputs": [
    {
     "name": "stdout",
     "output_type": "stream",
     "text": [
      "Vous pouvez maintenant retrouver la bonne formule à appliquer et resoumettre votre réponse au début de la question. \n",
      "\n",
      "Vous pouvez aussi continuer pour voir comment retrouver la formule à appliquer en passant par les permutations! \n",
      "\n"
     ]
    },
    {
     "data": {
      "application/vnd.jupyter.widget-view+json": {
       "model_id": "1f6157de76604848a6d3136fdd8f3285",
       "version_major": 2,
       "version_minor": 0
      },
      "text/plain": [
       "Button(description=\"Afficher le reste de l'explication\", icon='check', style=ButtonStyle(), tooltip=\"Clicker p…"
      ]
     },
     "metadata": {},
     "output_type": "display_data"
    },
    {
     "name": "stdout",
     "output_type": "stream",
     "text": [
      "Nous pourrons en premier dénombrer toutes les permutations (sans répétitions) possibles des 18 compétiteurs. \n",
      " \n",
      "Par la suite, on regarde uniquement les premiers 3 compétiteurs de chaque permutation, l'ordre des (18-3) joueurs suivants \n",
      " ne nous intéresse pas parce que les 15 joueurs suivants ne feront pas partie de l'équipe. \n",
      " Donc cela fait qu'il y a des permutations similaires des 3 premiers compétiteurs qui se répètent, qu'on ne doit pas compter plusieurs fois!\n",
      "Les deux étapes précédentes génèrent le dénombrement des arangements, sans répétitions, de taille 3 depuis un ensemble à 18! \n",
      "\n",
      "Une illustration détaillée d'un exemple plus simple est mise à disposition ci-dessous.\n"
     ]
    },
    {
     "data": {
      "image/png": "[encoded data removed]",
      "text/plain": [
       "<IPython.core.display.Image object>"
      ]
     },
     "metadata": {},
     "output_type": "display_data"
    }
   ],
   "source": [
    "print(\"Vous pouvez maintenant retrouver la bonne formule à appliquer et resoumettre votre réponse au début de la question. \\n\")\n",
    "print(\"Vous pouvez aussi continuer pour voir comment retrouver la formule à appliquer en passant par les permutations! \\n\")\n",
    "\n",
    "show_more_button_5_ex6 = widgets.Button(\n",
    "    value=False,\n",
    "    description=\"Afficher le reste de l'explication\",\n",
    "    disabled=False,\n",
    "    button_style='',\n",
    "    tooltip=\"Clicker pour afficher le reste de l'explication\",\n",
    "    icon='check' \n",
    ")\n",
    "\n",
    "\n",
    "def show_more_button_5_ex6_onclick(change):\n",
    "    print(\"Nous pourrons en premier dénombrer toutes les permutations (sans répétitions) possibles des 18 compétiteurs. \\n \")\n",
    "    print(\"Par la suite, on regarde uniquement les premiers 3 compétiteurs de chaque permutation, l'ordre des (18-3) joueurs suivants \\n \\\n",
    "ne nous intéresse pas parce que les 15 joueurs suivants ne feront pas partie de l'équipe. \\n \\\n",
    "Donc cela fait qu'il y a des permutations similaires des 3 premiers compétiteurs qui se répètent, qu'on ne doit pas compter plusieurs fois!\" )\n",
    "    print(\"Les deux étapes précédentes génèrent le dénombrement des arangements, sans répétitions, de taille 3 depuis un ensemble à 18! \\n\")\n",
    "    print(\"Une illustration détaillée d'un exemple plus simple est mise à disposition ci-dessous.\")\n",
    "    \n",
    "    display(Image(\"./img/ex6_5.png\"))\n",
    "\n",
    "    \n",
    "\n",
    "display(show_more_button_5_ex6)\n",
    "show_more_button_5_ex6.on_click(show_more_button_5_ex6_onclick)\n",
    "\n",
    "\n"
   ]
  },
  {
   "cell_type": "markdown",
   "id": "73b0f83d",
   "metadata": {},
   "source": [
    "## Combien de mains de 5 cartes peut-on obtenir en choisissant 5 cartes dans un jeu de 52 cartes ?"
   ]
  },
  {
   "cell_type": "code",
   "execution_count": 135,
   "id": "917296d0",
   "metadata": {},
   "outputs": [
    {
     "name": "stdout",
     "output_type": "stream",
     "text": [
      "De quelle type de disposition s'agit-il?\n"
     ]
    },
    {
     "data": {
      "application/vnd.jupyter.widget-view+json": {
       "model_id": "2a92b218acd241c99f3788fea86b1cd8",
       "version_major": 2,
       "version_minor": 0
      },
      "text/plain": [
       "Dropdown(description='Réponse:', index=6, options=('Permutation sans répétitions', 'Permutation avec répétitio…"
      ]
     },
     "metadata": {},
     "output_type": "display_data"
    },
    {
     "name": "stdout",
     "output_type": "stream",
     "text": [
      "----------------------------------\n",
      "Votre réponse 'Permutation avec répétitions' n'est pas correcte!! \n",
      "          hint: est-ce que la taille de notre disposition est la même que l'ensemble d'où on tire les éléments? \n",
      "          Est-ce que l'ensembe contient des éléments qui se répètent? \n",
      "         Est-ce que l'ordre des éléments dans notre disposition est important?\n",
      "----------------------------------\n",
      "Votre réponse 'Combinaison sans répétitions' est correcte!\n"
     ]
    }
   ],
   "source": [
    "print(\"De quelle type de disposition s'agit-il?\")\n",
    "\n",
    "user_type_6_ex6= widgets.Dropdown(\n",
    "    options=['Permutation sans répétitions', 'Permutation avec répétitions', 'Arrangement sans répétition', 'Arrangement avec répétition', 'Combinaison sans répétitions', 'Combinaison avec répétitions', 'aucune'],\n",
    "    value='aucune',\n",
    "    description='Réponse:',\n",
    "    disabled=False,\n",
    ")\n",
    "\n",
    "def on_change_5_ex6(change):\n",
    "    if change['new'] == 'Combinaison sans répétitions':\n",
    "        print(\"----------------------------------\")\n",
    "        print(\"Votre réponse '{}' est correcte!\".format(change['new']))\n",
    "    else:\n",
    "        print(\"----------------------------------\")\n",
    "        print(\"Votre réponse '{}' n'est pas correcte!! \\n \\\n",
    "         hint: est-ce que la taille de notre disposition est la même que l'ensemble d'où on tire les éléments? \\n \\\n",
    "         Est-ce que l'ensembe contient des éléments qui se répètent? \\n\\\n",
    "         Est-ce que l'ordre des éléments dans notre disposition est important?\".format(change['new']))\n",
    "        \n",
    "display(user_type_6_ex6)\n",
    "user_type_6_ex6.observe(on_change_5_ex6, names = 'value')"
   ]
  },
  {
   "cell_type": "code",
   "execution_count": 136,
   "id": "4a6e2545",
   "metadata": {},
   "outputs": [
    {
     "name": "stdout",
     "output_type": "stream",
     "text": [
      "Combien de disposition de ce type pourrons-nous former?\n"
     ]
    },
    {
     "data": {
      "application/vnd.jupyter.widget-view+json": {
       "model_id": "ef563bb3159f47bbba746b849d2b43aa",
       "version_major": 2,
       "version_minor": 0
      },
      "text/plain": [
       "HBox(children=(IntText(value=0, description='Réponse:'), Button(description='Soumettre', icon='check', style=B…"
      ]
     },
     "metadata": {},
     "output_type": "display_data"
    },
    {
     "name": "stdout",
     "output_type": "stream",
     "text": [
      "----------------------------------\n",
      "Tetantive 2:Malheureusement, la réponse soumise n'est pas correcte. \n",
      "        Cliquez sur 'Show solution' pour quelques indices\n",
      "----------------------------------\n",
      "Tetantive 2: Bravo! votre réponse est correcte :)\n"
     ]
    }
   ],
   "source": [
    "print(\"Combien de disposition de ce type pourrons-nous former?\")\n",
    "\n",
    "n_ex6_6= 52\n",
    "k_ex6_6 = 5\n",
    "\n",
    "\n",
    "counter_6_ex6 = 0\n",
    "\n",
    "ex6_q6_answer = widgets.IntText(\n",
    "    value= 0,\n",
    "    description='Réponse:',\n",
    "    disabled=False\n",
    ")\n",
    "\n",
    "button = widgets.Button(\n",
    "    description='Soumettre',\n",
    "    disabled=False,\n",
    "    button_style='',\n",
    "    tooltip='Click me',\n",
    "    icon='check' \n",
    ")\n",
    "\n",
    "\n",
    "def test_6_ex6(change):\n",
    "    global counter_6_ex6 \n",
    "    counter_6_ex6 = counter_6_ex6 + 1\n",
    "    value = ex6_q6_answer.value\n",
    "    correct_value = int(fn.nCr(n_ex6_6, k_ex6_6))\n",
    "    if value == correct_value:\n",
    "        print(\"----------------------------------\")\n",
    "        print(\"Tetantive {}: Bravo! votre réponse est correcte :)\".format(counter_5_ex6))\n",
    "    else:\n",
    "        print(\"----------------------------------\")\n",
    "        print(\"Tetantive {}:Malheureusement, la réponse soumise n'est pas correcte. \\n \\\n",
    "       Cliquez sur 'Show solution' pour quelques indices\".format(counter_5_ex6))\n",
    "\n",
    "\n",
    "display(widgets.HBox([ex6_q6_answer, button]))\n",
    "\n",
    "button.on_click(test_6_ex6)"
   ]
  },
  {
   "cell_type": "code",
   "execution_count": 162,
   "id": "c10fc15a",
   "metadata": {},
   "outputs": [
    {
     "name": "stdout",
     "output_type": "stream",
     "text": [
      "Nous avons 52 cartes, toutes distinctes, depuis lesquelles nous voulons sélectonner 5. \n",
      "\n",
      "Quelle est la taille, k, de notre disposition?\n",
      "Quelle est la taille, n, de l'ensemble depuis lequel on tire les éléments?\n"
     ]
    },
    {
     "data": {
      "application/vnd.jupyter.widget-view+json": {
       "model_id": "38acc43d764a4954ba59bb93c9d7906e",
       "version_major": 2,
       "version_minor": 0
      },
      "text/plain": [
       "HBox(children=(IntText(value=0, description='k:'), IntText(value=0, description='n:'), Button(description='Sou…"
      ]
     },
     "metadata": {},
     "output_type": "display_data"
    },
    {
     "name": "stdout",
     "output_type": "stream",
     "text": [
      "----------------------------------\n",
      "Tetantive 1:Malheureusement, une ou plusieurs réponses soumises ne sont pas correctes. \n",
      "        hint: k est la taille de la disposition, le nombre de cartes dans une main, \n",
      "        n est la taille de l'ensemble de toutes les cartes depuis lequel on sélectionne les k cartes pour composer une main.\n",
      "----------------------------------\n",
      "Tetantive 2: Bravo! vos réponses sont correctes :) \n",
      "         On voit que k est plus petit que n, donc il ne peut pas s'agir de permutations.\n"
     ]
    }
   ],
   "source": [
    "print(\"Nous avons 52 cartes, toutes distinctes, depuis lesquelles nous voulons sélectonner 5. \\n\")\n",
    "\n",
    "print(\"Quelle est la taille, k, de notre disposition?\")\n",
    "print(\"Quelle est la taille, n, de l'ensemble depuis lequel on tire les éléments?\")\n",
    "\n",
    "user_k_q6_answer = widgets.IntText(\n",
    "    value= 0,\n",
    "    description='k:',\n",
    "    disabled=False\n",
    ")\n",
    "\n",
    "user_n_q6_answer = widgets.IntText(\n",
    "    value= 0,\n",
    "    description='n:',\n",
    "    disabled=False\n",
    ")\n",
    "\n",
    "button = widgets.Button(\n",
    "    description='Soumettre',\n",
    "    disabled=False,\n",
    "    button_style='',\n",
    "    tooltip='Click me',\n",
    "    icon='check' \n",
    ")\n",
    "\n",
    "counter_6_1_ex6 = 0\n",
    "\n",
    "flag_k_6_1_ex6 = False \n",
    "flag_n_6_1_ex6 = False    \n",
    "    \n",
    "def test_6_1_ex6(change):\n",
    "    global counter_6_1_ex6 \n",
    "    global flag_k_6_1_ex6\n",
    "    global flag_n_6_1_ex6\n",
    "    counter_6_1_ex6 = counter_6_1_ex6 + 1\n",
    "    value_k = user_k_q6_answer.value\n",
    "    value_n = user_n_q6_answer.value\n",
    "\n",
    "    if value_k == k_ex6_6 : \n",
    "        flag_k = True\n",
    "    else:\n",
    "        flag_k = False\n",
    "        \n",
    "    if value_n == n_ex6_6 :\n",
    "        flag_n = True \n",
    "    else:\n",
    "        flag_n = False\n",
    "        \n",
    "    if flag_k and flag_n:\n",
    "        print(\"----------------------------------\")\n",
    "        print(\"Tetantive {}: Bravo! vos réponses sont correctes :) \\n \\\n",
    "        On voit que k est plus petit que n, donc il ne peut pas s'agir de permutations.\".format(counter_6_1_ex6))\n",
    "    else:\n",
    "        print(\"----------------------------------\")\n",
    "        print(\"Tetantive {}:Malheureusement, une ou plusieurs réponses soumises ne sont pas correctes. \\n \\\n",
    "       hint: k est la taille de la disposition, le nombre de cartes dans une main, \\n \\\n",
    "       n est la taille de l'ensemble de toutes les cartes depuis lequel on sélectionne les k cartes pour composer une main.\".format(counter_6_1_ex6))\n",
    "\n",
    "\n",
    "display(widgets.HBox([user_k_q6_answer, user_n_q6_answer, button]))\n",
    "\n",
    "button.on_click(test_6_1_ex6)\n",
    "\n"
   ]
  },
  {
   "cell_type": "code",
   "execution_count": 163,
   "id": "7850a9a1",
   "metadata": {},
   "outputs": [
    {
     "name": "stdout",
     "output_type": "stream",
     "text": [
      "Est-ce que l'ordre est important?\n"
     ]
    },
    {
     "data": {
      "application/vnd.jupyter.widget-view+json": {
       "model_id": "37c408092dfd4a58b78d29708792681a",
       "version_major": 2,
       "version_minor": 0
      },
      "text/plain": [
       "Dropdown(description='Réponse:', index=2, options=('Ordre pas important', 'Ordre important', 'aucune'), value=…"
      ]
     },
     "metadata": {},
     "output_type": "display_data"
    },
    {
     "name": "stdout",
     "output_type": "stream",
     "text": [
      "----------------------------------\n",
      "Votre réponse 'Ordre pas important' est correcte! \n",
      "         L'ordre n'est pas important, donc il ne peut pas s'agir d'arangement.\n",
      "----------------------------------\n",
      "Votre réponse 'Ordre important' n'est pas correcte!! \n",
      "          hint: si on change l'ordre des cartes dans une main on ne change pas la main.\n"
     ]
    }
   ],
   "source": [
    "print(\"Est-ce que l'ordre est important?\")\n",
    "\n",
    "user_ordre_6_2_ex6= widgets.Dropdown(\n",
    "    options=['Ordre pas important', 'Ordre important', 'aucune'],\n",
    "    value='aucune',\n",
    "    description='Réponse:',\n",
    "    disabled=False,\n",
    ")\n",
    "\n",
    "def on_change_6_2_ex6(change):\n",
    "    if change['new'] == 'Ordre pas important':\n",
    "        print(\"----------------------------------\")\n",
    "        print(\"Votre réponse '{}' est correcte! \\n \\\n",
    "        L'ordre n'est pas important, donc il ne peut pas s'agir d'arangement.\".format(change['new']))\n",
    "    else:\n",
    "        print(\"----------------------------------\")\n",
    "        print(\"Votre réponse '{}' n'est pas correcte!! \\n \\\n",
    "         hint: si on change l'ordre des cartes dans une main on ne change pas la main.\".format(change['new']))\n",
    "        \n",
    "display(user_ordre_6_2_ex6)\n",
    "user_ordre_6_2_ex6.observe(on_change_6_2_ex6, names = 'value')\n"
   ]
  },
  {
   "cell_type": "code",
   "execution_count": 189,
   "id": "7cb31cdd",
   "metadata": {},
   "outputs": [
    {
     "name": "stdout",
     "output_type": "stream",
     "text": [
      "Est-ce qu'on peut avoir des répétitions? Est-ce que la même carte pourra être tirée plusieurs fois?\n"
     ]
    },
    {
     "data": {
      "application/vnd.jupyter.widget-view+json": {
       "model_id": "22f02768251746bd8cc23684913f193d",
       "version_major": 2,
       "version_minor": 0
      },
      "text/plain": [
       "Dropdown(description='Réponse:', index=2, options=('Avec répétitions', 'Sans répétitions', 'aucune'), value='a…"
      ]
     },
     "metadata": {},
     "output_type": "display_data"
    },
    {
     "name": "stdout",
     "output_type": "stream",
     "text": [
      "----------------------------------\n",
      "Votre réponse 'Avec répétitions' n'est pas correcte!! \n",
      "          hint: Chaque carte est unique, si elle fait partie d'une main, elle ne peut qu'être tirée \n",
      "          qu'une seule fois par main.\n",
      "----------------------------------\n",
      "Votre réponse 'Sans répétitions' est correcte! \n",
      "         Donc il ne peut s'agir que de combinaison sans répétitions!\n"
     ]
    }
   ],
   "source": [
    "print(\"Est-ce qu'on peut avoir des répétitions? Est-ce que la même carte pourra être tirée plusieurs fois?\")\n",
    "\n",
    "user_ordre_2_6_ex6= widgets.Dropdown(\n",
    "    options=['Avec répétitions', 'Sans répétitions', 'aucune'],\n",
    "    value='aucune',\n",
    "    description='Réponse:',\n",
    "    disabled=False,\n",
    ")\n",
    "\n",
    "def on_change_2_6_ex6(change):\n",
    "    if change['new'] == 'Sans répétitions':\n",
    "        print(\"----------------------------------\")\n",
    "        print(\"Votre réponse '{}' est correcte! \\n \\\n",
    "        Donc il ne peut s'agir que de combinaison sans répétitions!\".format(change['new']))\n",
    "    else:\n",
    "        print(\"----------------------------------\")\n",
    "        print(\"Votre réponse '{}' n'est pas correcte!! \\n \\\n",
    "         hint: Chaque carte est unique, si elle fait partie d'une main, elle ne peut qu'être tirée \\n \\\n",
    "         qu'une seule fois dans cette main.\".format(change['new']))\n",
    "        \n",
    "display(user_ordre_2_6_ex6)\n",
    "user_ordre_2_6_ex6.observe(on_change_2_6_ex6, names = 'value')"
   ]
  },
  {
   "cell_type": "code",
   "execution_count": 190,
   "id": "589deee1",
   "metadata": {},
   "outputs": [
    {
     "name": "stdout",
     "output_type": "stream",
     "text": [
      "Vous pouvez maintenant retrouver la bonne formule à appliquer et resoumettre votre réponse au début de la question. \n",
      "\n",
      "Pour retrouver la formule à appliquer en passant par les permutations vous pouvez revenir à la question 1.4 précédente! \n",
      "\n"
     ]
    }
   ],
   "source": [
    "print(\"Vous pouvez maintenant retrouver la bonne formule à appliquer et resoumettre votre réponse au début de la question. \\n\")\n",
    "\n",
    "print(\"Pour retrouver la formule à appliquer en passant par les permutations vous pouvez revenir à la question 1.4 précédente! \\n\")\n"
   ]
  },
  {
   "cell_type": "code",
   "execution_count": null,
   "id": "9b5e11b9",
   "metadata": {},
   "outputs": [],
   "source": []
  }
 ],
 "metadata": {
  "celltoolbar": "Initialization Cell",
  "hide_input": false,
  "kernelspec": {
   "display_name": "Python 3 (ipykernel)",
   "language": "python",
   "name": "python3"
  },
  "language_info": {
   "codemirror_mode": {
    "name": "ipython",
    "version": 3
   },
   "file_extension": ".py",
   "mimetype": "text/x-python",
   "name": "python",
   "nbconvert_exporter": "python",
   "pygments_lexer": "ipython3",
   "version": "3.9.6"
  },
  "toc": {
   "base_numbering": 1,
   "nav_menu": {},
   "number_sections": true,
   "sideBar": true,
   "skip_h1_title": false,
   "title_cell": "Table of Contents",
   "title_sidebar": "Contents",
   "toc_cell": false,
   "toc_position": {
    "height": "calc(100% - 180px)",
    "left": "10px",
    "top": "150px",
    "width": "220px"
   },
   "toc_section_display": true,
   "toc_window_display": true
  }
 },
 "nbformat": 4,
 "nbformat_minor": 5
}
