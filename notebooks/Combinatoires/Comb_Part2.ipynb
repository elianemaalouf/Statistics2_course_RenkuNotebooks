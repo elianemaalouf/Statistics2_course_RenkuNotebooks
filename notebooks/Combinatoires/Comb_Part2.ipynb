{
 "cells": [
  {
   "cell_type": "code",
   "execution_count": 133,
   "id": "937c515d",
   "metadata": {
    "hide_input": false,
    "init_cell": true,
    "scrolled": false
   },
   "outputs": [],
   "source": [
    "import ipywidgets as widgets\n",
    "import fn as fn \n",
    "from IPython.display import display, clear_output, Image, Latex\n",
    "import asyncio\n"
   ]
  },
  {
   "cell_type": "markdown",
   "id": "406519bc",
   "metadata": {
    "hide_input": true
   },
   "source": [
    "Pour chacun des exercices ci-dessous vous pouvez directement donner votre réponse et valider si elle est correcte ou vous pouvez procéder à résoudre les questions étape par étape pour décortiquer l'intuition qui se cache derrière la solution. "
   ]
  },
  {
   "cell_type": "markdown",
   "id": "7f66d12a",
   "metadata": {
    "hide_input": true
   },
   "source": [
    "# Exercice 6  \n",
    "Dans chacune des situations suivantes il faudra, en premier, identifier le type de disposition en question et par la suite en dénombrer les possibilités. "
   ]
  },
  {
   "cell_type": "markdown",
   "id": "3f3e242a",
   "metadata": {},
   "source": [
    "## Combien de mots différents peut-on former avec les lettres du mot COMBINATOIRE ?"
   ]
  },
  {
   "cell_type": "code",
   "execution_count": 134,
   "id": "3fa215e8",
   "metadata": {
    "init_cell": true,
    "scrolled": true
   },
   "outputs": [
    {
     "name": "stdout",
     "output_type": "stream",
     "text": [
      "De quelle type de disposition s'agit-il?\n"
     ]
    },
    {
     "data": {
      "application/vnd.jupyter.widget-view+json": {
       "model_id": "facada8c6dfc4022a6fcf72593b09dd1",
       "version_major": 2,
       "version_minor": 0
      },
      "text/plain": [
       "Dropdown(description='Réponse:', index=6, options=('Permutation sans répétitions', 'Permutation avec répétitio…"
      ]
     },
     "metadata": {},
     "output_type": "display_data"
    }
   ],
   "source": [
    "print(\"De quelle type de disposition s'agit-il?\")\n",
    "\n",
    "user_type_1_ex6 = widgets.Dropdown(\n",
    "    options=['Permutation sans répétitions', 'Permutation avec répétitions', 'Arrangement sans répétition', 'Arrangement avec répétition', 'Combinaison sans répétitions', 'Combinaison avec répétitions', 'aucune'],\n",
    "    value='aucune',\n",
    "    description='Réponse:',\n",
    "    disabled=False,\n",
    ")\n",
    "\n",
    "def on_change_1_ex6(change):\n",
    "    global n_choice\n",
    "    if change['new'] == 'Permutation avec répétitions':\n",
    "        print(\"----------------------------------\")\n",
    "        print(\"Votre réponse '{}' est correcte!\".format(change['new']))\n",
    "    else:\n",
    "        print(\"----------------------------------\")\n",
    "        print(\"Votre réponse '{}' n'est pas correcte!! \\n \\\n",
    "         hint: est-ce que la taille de notre disposition est la même que l'ensemble d'où on tire les éléments? \\n \\\n",
    "         Est-ce que l'ensembe contient des éléments qui se répètent? \\n\\\n",
    "         Est-ce que l'ordre des éléments dans notre disposition est important?\".format(change['new']))\n",
    "    \n",
    "display(user_type_1_ex6)\n",
    "user_type_1_ex6.observe(on_change_1_ex6, names = 'value')"
   ]
  },
  {
   "cell_type": "code",
   "execution_count": 135,
   "id": "bcca18ca",
   "metadata": {
    "init_cell": true,
    "scrolled": true,
    "solution2": "hidden",
    "solution2_first": true
   },
   "outputs": [
    {
     "name": "stdout",
     "output_type": "stream",
     "text": [
      "Combien de disposition de ce type pourrons-nous former?\n"
     ]
    },
    {
     "data": {
      "application/vnd.jupyter.widget-view+json": {
       "model_id": "0da2a5742b2a402ca2628911e86a90c8",
       "version_major": 2,
       "version_minor": 0
      },
      "text/plain": [
       "HBox(children=(IntText(value=0, description='Réponse:'), Button(description='Soumettre', icon='check', style=B…"
      ]
     },
     "metadata": {},
     "output_type": "display_data"
    }
   ],
   "source": [
    "print(\"Combien de disposition de ce type pourrons-nous former?\")\n",
    "\n",
    "n_ex6_1 = 12 \n",
    "reps_n_ex6_1 = [2, 2]\n",
    "counter_1_ex6 = 0\n",
    "\n",
    "ex6_q1_answer = widgets.IntText(\n",
    "    value= 0,\n",
    "    description='Réponse:',\n",
    "    disabled=False\n",
    ")\n",
    "\n",
    "button = widgets.Button(\n",
    "    description='Soumettre',\n",
    "    disabled=False,\n",
    "    button_style='',\n",
    "    tooltip='Click me',\n",
    "    icon='check' \n",
    ")\n",
    "\n",
    "\n",
    "def test_1_ex6(change):\n",
    "    global counter_1_ex6 \n",
    "    counter_1_ex6 = counter_1_ex6 + 1\n",
    "    value = ex6_q1_answer.value\n",
    "    correct_value = fn.verify_ex6_1(n_ex6_1, reps_n_ex6_1)\n",
    "    if value == correct_value:\n",
    "        print(\"----------------------------------\")\n",
    "        print(\"Tetantive {}: Bravo! votre réponse est correcte :)\".format(counter_1_ex6))\n",
    "    else:\n",
    "        print(\"----------------------------------\")\n",
    "        print(\"Tetantive {}:Malheureusement, la réponse soumise n'est pas correcte. \\n \\\n",
    "       Cliquez sur 'Show solution' pour quelques indices\".format(counter_1_ex6))\n",
    "\n",
    "\n",
    "display(widgets.HBox([ex6_q1_answer, button]))\n",
    "\n",
    "button.on_click(test_1_ex6)"
   ]
  },
  {
   "cell_type": "code",
   "execution_count": 136,
   "id": "e29b1f1a",
   "metadata": {
    "hide_input": true,
    "init_cell": true,
    "scrolled": false,
    "solution2": "hidden"
   },
   "outputs": [
    {
     "name": "stdout",
     "output_type": "stream",
     "text": [
      "Comme il s'agit d'une permutations avec répétitions on doit procéder en deux étapes. \n",
      "\n",
      "1. Combien de permutations SANS répétitions pourrons-nous former avec les 12 lettres du mot COMBINATOIRE? \n",
      " Imaginez ici que toutes les lettres étaient différentes et on veut dénombrer le nombre de mots qu'on peut former \n",
      " en permuttant ces 12 lettres.\n"
     ]
    },
    {
     "data": {
      "application/vnd.jupyter.widget-view+json": {
       "model_id": "0d6e20d6094e4c04bf32187564f70005",
       "version_major": 2,
       "version_minor": 0
      },
      "text/plain": [
       "HBox(children=(IntText(value=0, description='Réponse:'), Button(description='Soumettre', icon='check', style=B…"
      ]
     },
     "metadata": {},
     "output_type": "display_data"
    }
   ],
   "source": [
    "print(\"Comme il s'agit d'une permutations avec répétitions on doit procéder en deux étapes. \\n\")\n",
    "\n",
    "print(\"1. Combien de permutations SANS répétitions pourrons-nous former avec les 12 lettres du mot COMBINATOIRE? \\n \\\n",
    "Imaginez ici que toutes les lettres étaient différentes et on veut dénombrer le nombre de mots qu'on peut former \\n \\\n",
    "en permuttant ces 12 lettres.\")\n",
    "\n",
    "\n",
    "ex6_q1_1_answer = widgets.IntText(\n",
    "    value= 0,\n",
    "    description='Réponse:',\n",
    "    disabled=False\n",
    ")\n",
    "\n",
    "button = widgets.Button(\n",
    "    description='Soumettre',\n",
    "    disabled=False,\n",
    "    button_style='',\n",
    "    tooltip='Click me',\n",
    "    icon='check' \n",
    ")\n",
    "\n",
    "counter_1_1_ex6 = 0\n",
    "def test_1_1_ex6(change):\n",
    "    global counter_1_1_ex6 \n",
    "    counter_1_1_ex6 = counter_1_1_ex6 + 1\n",
    "    value = ex6_q1_1_answer.value\n",
    "    correct_value = fn.permutationNoRep(n)\n",
    "    if value == correct_value:\n",
    "        print(\"----------------------------------\")\n",
    "        print(\"Tetantive {}: Bravo! votre réponse est correcte :)\".format(counter_1_1_ex6))\n",
    "    else:\n",
    "        print(\"----------------------------------\")\n",
    "        print(\"Tetantive {}:Malheureusement, la réponse soumise n'est pas correcte. \\n \\\n",
    "       hint: il y a 12 possibilités pour la 1ere lettre ET 11 pour la 2eme lettre ET 10 pour la 3eme, etc. \".format(counter_1_1_ex6))\n",
    "\n",
    "\n",
    "display(widgets.HBox([ex6_q1_1_answer, button]))\n",
    "\n",
    "button.on_click(test_1_1_ex6)"
   ]
  },
  {
   "cell_type": "code",
   "execution_count": 137,
   "id": "52356b1c",
   "metadata": {
    "hide_input": true,
    "init_cell": true,
    "scrolled": true,
    "solution2": "hidden"
   },
   "outputs": [
    {
     "name": "stdout",
     "output_type": "stream",
     "text": [
      "2. Les lettres O et I se répètent chacune 2 fois dans le mot COMBINATOIRE. \n",
      " On doit prendre cela en compte pour ne pas compter à double. Si on permutte les deux O entre elle ou les deux I entre elles, \n",
      " on ne change pas le mot qui en sort. \n",
      "\n",
      "Quelle est le nombre total de permutations de O ET de I que nous devrons prendre en compte?\n"
     ]
    },
    {
     "data": {
      "application/vnd.jupyter.widget-view+json": {
       "model_id": "7f371b79fde742e7bf32f05cf5f00ba2",
       "version_major": 2,
       "version_minor": 0
      },
      "text/plain": [
       "HBox(children=(IntText(value=0, description='Réponse:'), Button(description='Soumettre', icon='check', style=B…"
      ]
     },
     "metadata": {},
     "output_type": "display_data"
    }
   ],
   "source": [
    "print(\"2. Les lettres O et I se répètent chacune 2 fois dans le mot COMBINATOIRE. \\n \\\n",
    "On doit prendre cela en compte pour ne pas compter à double. Si on permutte les deux O entre elle ou les deux I entre elles, \\n \\\n",
    "on ne change pas le mot qui en sort. \\n\")\n",
    "\n",
    "print(\"Quelle est le nombre total de permutations de O ET de I que nous devrons prendre en compte?\")\n",
    "\n",
    "\n",
    "ex6_q1_2_answer = widgets.IntText(\n",
    "    value= 0,\n",
    "    description='Réponse:',\n",
    "    disabled=False\n",
    ")\n",
    "\n",
    "button = widgets.Button(\n",
    "    description='Soumettre',\n",
    "    disabled=False,\n",
    "    button_style='',\n",
    "    tooltip='Click me',\n",
    "    icon='check' \n",
    ")\n",
    "\n",
    "counter_1_2_ex6 = 0\n",
    "def test_1_2_ex6(change):\n",
    "    global counter_1_2_ex6 \n",
    "    counter_1_2_ex6 = counter_1_2_ex6 + 1\n",
    "    value = ex6_q1_2_answer.value\n",
    "    correct_value = 4\n",
    "    if value == correct_value:\n",
    "        print(\"----------------------------------\")\n",
    "        print(\"Tetantive {}: Bravo! votre réponse est correcte :)\".format(counter_1_2_ex6))\n",
    "    else:\n",
    "        print(\"----------------------------------\")\n",
    "        print(\"Tetantive {}:Malheureusement, la réponse soumise n'est pas correcte. \\n \\\n",
    "       hint: de combien de permutations des O pourrons-nous faire ET combien de permutations des I pourrons-nous faire? \".format(counter_1_1_ex6))\n",
    "\n",
    "\n",
    "display(widgets.HBox([ex6_q1_2_answer, button]))\n",
    "\n",
    "button.on_click(test_1_2_ex6)"
   ]
  },
  {
   "cell_type": "code",
   "execution_count": 138,
   "id": "56e9c4e9",
   "metadata": {
    "hide_input": true,
    "init_cell": true,
    "solution2": "hidden"
   },
   "outputs": [
    {
     "name": "stdout",
     "output_type": "stream",
     "text": [
      "Comment on enlève depuis le nombre total des permutations SANS répétitions, les permutations des O et des I?\n"
     ]
    },
    {
     "data": {
      "application/vnd.jupyter.widget-view+json": {
       "model_id": "c2ddb05d929d468cb3bbccc76f6dd003",
       "version_major": 2,
       "version_minor": 0
      },
      "text/plain": [
       "Dropdown(description='Réponse:', index=4, options=('Soustraction', 'Division', 'Addition', 'Multiplication', '…"
      ]
     },
     "metadata": {},
     "output_type": "display_data"
    }
   ],
   "source": [
    "print(\"Comment on enlève depuis le nombre total des permutations SANS répétitions, les permutations des O et des I?\")\n",
    "\n",
    "user_6_1_3_ex5 = widgets.Dropdown(\n",
    "    options=['Soustraction', 'Division', 'Addition', 'Multiplication', 'aucune'],\n",
    "    value='aucune',\n",
    "    description='Réponse:',\n",
    "    disabled=False,\n",
    ")\n",
    "\n",
    "def on_change_6_1_3_ex5(change):\n",
    "    global n_choice\n",
    "    if change['new'] == 'Division':\n",
    "        print(\"----------------------------------\")\n",
    "        print(\"Votre réponse '{}' est correcte! Une illustration d'un exemple détaillé est à votre disposition ci-dessous.\".format(change['new']))\n",
    "    else:\n",
    "        print(\"----------------------------------\")\n",
    "        print(\"Votre réponse '{}' n'est pas correcte!! \\n \\\n",
    "         hint: Jetez un coup d'oeil sur l'illustration ci-dessous pour un exemple détaillé.\".format(change['new']))\n",
    "    \n",
    "display(user_6_1_3_ex5)\n",
    "user_6_1_3_ex5.observe(on_change_6_1_3_ex5, names = 'value')"
   ]
  },
  {
   "cell_type": "code",
   "execution_count": 139,
   "id": "2a7123fc",
   "metadata": {
    "hide_input": true,
    "init_cell": true,
    "scrolled": false,
    "solution2": "hidden"
   },
   "outputs": [
    {
     "data": {
      "application/vnd.jupyter.widget-view+json": {
       "model_id": "92e7d39c605f439da9b52718c90d3945",
       "version_major": 2,
       "version_minor": 0
      },
      "text/plain": [
       "Button(description='Illustration', icon='check', style=ButtonStyle(), tooltip=\"Clicker pour afficher le reste …"
      ]
     },
     "metadata": {},
     "output_type": "display_data"
    }
   ],
   "source": [
    "show_more_button_1_ex6 = widgets.Button(\n",
    "    value=False,\n",
    "    description=\"Illustration\",\n",
    "    disabled=False,\n",
    "    button_style='',\n",
    "    tooltip=\"Clicker pour afficher le reste de l'explication\",\n",
    "    icon='check' \n",
    ")\n",
    "\n",
    "\n",
    "def show_more_button_onclick_1_ex6(change):\n",
    "     \n",
    "    display(Image(\"./img/ex6.png\"))\n",
    "\n",
    "    \n",
    "\n",
    "display(show_more_button_1_ex6)\n",
    "show_more_button_1_ex6.on_click(show_more_button_onclick_1_ex6)\n"
   ]
  },
  {
   "cell_type": "code",
   "execution_count": 140,
   "id": "1417c288",
   "metadata": {
    "init_cell": true,
    "solution2": "hidden"
   },
   "outputs": [
    {
     "name": "stdout",
     "output_type": "stream",
     "text": [
      "Revenez au début de la question pour ressoumettre votre réponse!\n"
     ]
    }
   ],
   "source": [
    "print(\"Revenez au début de la question pour ressoumettre votre réponse!\")"
   ]
  },
  {
   "cell_type": "markdown",
   "id": "ff3a2992",
   "metadata": {},
   "source": [
    "## On dispose d’autant de lettres que l’on veut parmi A, C, E, I, N, S, T. Combien de mots de 5 lettres peut-on alors écrire ?"
   ]
  },
  {
   "cell_type": "code",
   "execution_count": 141,
   "id": "9d7f0b06",
   "metadata": {
    "init_cell": true,
    "scrolled": true
   },
   "outputs": [
    {
     "name": "stdout",
     "output_type": "stream",
     "text": [
      "De quelle type de disposition s'agit-il?\n"
     ]
    },
    {
     "data": {
      "application/vnd.jupyter.widget-view+json": {
       "model_id": "3f24b26f0acd4f0e924522c432591247",
       "version_major": 2,
       "version_minor": 0
      },
      "text/plain": [
       "Dropdown(description='Réponse:', index=6, options=('Permutation sans répétitions', 'Permutation avec répétitio…"
      ]
     },
     "metadata": {},
     "output_type": "display_data"
    }
   ],
   "source": [
    "print(\"De quelle type de disposition s'agit-il?\")\n",
    "\n",
    "user_type_2_ex6= widgets.Dropdown(\n",
    "    options=['Permutation sans répétitions', 'Permutation avec répétitions', 'Arrangement sans répétition', 'Arrangement avec répétition', 'Combinaison sans répétitions', 'Combinaison avec répétitions', 'aucune'],\n",
    "    value='aucune',\n",
    "    description='Réponse:',\n",
    "    disabled=False,\n",
    ")\n",
    "\n",
    "def on_change_2_ex6(change):\n",
    "    if change['new'] == 'Arrangement avec répétition':\n",
    "        print(\"----------------------------------\")\n",
    "        print(\"Votre réponse '{}' est correcte!\".format(change['new']))\n",
    "    else:\n",
    "        print(\"----------------------------------\")\n",
    "        print(\"Votre réponse '{}' n'est pas correcte!! \\n \\\n",
    "         hint: est-ce que la taille de notre disposition est la même que l'ensemble d'où on tire les éléments? \\n \\\n",
    "         Est-ce que l'ensembe contient des éléments qui se répètent? \\n\\\n",
    "         Est-ce que l'ordre des éléments dans notre disposition est important?\".format(change['new']))\n",
    "        \n",
    "display(user_type_2_ex6)\n",
    "user_type_2_ex6.observe(on_change_2_ex6, names = 'value')"
   ]
  },
  {
   "cell_type": "code",
   "execution_count": 142,
   "id": "56da9fd9",
   "metadata": {
    "init_cell": true,
    "scrolled": true,
    "solution2": "hidden",
    "solution2_first": true
   },
   "outputs": [
    {
     "name": "stdout",
     "output_type": "stream",
     "text": [
      "Combien de disposition de ce type pourrons-nous former?\n"
     ]
    },
    {
     "data": {
      "application/vnd.jupyter.widget-view+json": {
       "model_id": "aa1328631e254f77a39aea03cfa83c81",
       "version_major": 2,
       "version_minor": 0
      },
      "text/plain": [
       "HBox(children=(IntText(value=0, description='Réponse:'), Button(description='Soumettre', icon='check', style=B…"
      ]
     },
     "metadata": {},
     "output_type": "display_data"
    }
   ],
   "source": [
    "print(\"Combien de disposition de ce type pourrons-nous former?\")\n",
    "\n",
    "n_ex6_2 = 7 \n",
    "k_ex6_2 = 5\n",
    "\n",
    "counter_2_ex6 = 0\n",
    "\n",
    "ex6_q2_answer = widgets.IntText(\n",
    "    value= 0,\n",
    "    description='Réponse:',\n",
    "    disabled=False\n",
    ")\n",
    "\n",
    "button = widgets.Button(\n",
    "    description='Soumettre',\n",
    "    disabled=False,\n",
    "    button_style='',\n",
    "    tooltip='Click me',\n",
    "    icon='check' \n",
    ")\n",
    "\n",
    "\n",
    "def test_2_ex6(change):\n",
    "    global counter_2_ex6 \n",
    "    counter_2_ex6 = counter_2_ex6 + 1\n",
    "    value = ex6_q2_answer.value\n",
    "    correct_value = fn.arrangementRep(n_ex6_2, k_ex6_2)\n",
    "    if value == correct_value:\n",
    "        print(\"----------------------------------\")\n",
    "        print(\"Tetantive {}: Bravo! votre réponse est correcte :)\".format(counter_2_ex6))\n",
    "    else:\n",
    "        print(\"----------------------------------\")\n",
    "        print(\"Tetantive {}:Malheureusement, la réponse soumise n'est pas correcte. \\n \\\n",
    "       Cliquez sur 'Show solution' pour quelques indices\".format(counter_2_ex6))\n",
    "\n",
    "\n",
    "display(widgets.HBox([ex6_q2_answer, button]))\n",
    "\n",
    "button.on_click(test_2_ex6)"
   ]
  },
  {
   "cell_type": "code",
   "execution_count": 143,
   "id": "bcadd5e7",
   "metadata": {
    "init_cell": true,
    "scrolled": false,
    "solution2": "hidden"
   },
   "outputs": [
    {
     "name": "stdout",
     "output_type": "stream",
     "text": [
      "Quelle est la taille, k, de notre disposition?\n",
      "Quelle est la taille, n, de l'ensemble depuis lequel on tire les éléments?\n"
     ]
    },
    {
     "data": {
      "application/vnd.jupyter.widget-view+json": {
       "model_id": "a42bad2633d24a10974db6c6188e65ce",
       "version_major": 2,
       "version_minor": 0
      },
      "text/plain": [
       "HBox(children=(IntText(value=0, description='k:'), IntText(value=0, description='n:'), Button(description='Sou…"
      ]
     },
     "metadata": {},
     "output_type": "display_data"
    }
   ],
   "source": [
    "print(\"Quelle est la taille, k, de notre disposition?\")\n",
    "print(\"Quelle est la taille, n, de l'ensemble depuis lequel on tire les éléments?\")\n",
    "\n",
    "user_k_q2_answer = widgets.IntText(\n",
    "    value= 0,\n",
    "    description='k:',\n",
    "    disabled=False\n",
    ")\n",
    "\n",
    "user_n_q2_answer = widgets.IntText(\n",
    "    value= 0,\n",
    "    description='n:',\n",
    "    disabled=False\n",
    ")\n",
    "\n",
    "button = widgets.Button(\n",
    "    description='Soumettre',\n",
    "    disabled=False,\n",
    "    button_style='',\n",
    "    tooltip='Click me',\n",
    "    icon='check' \n",
    ")\n",
    "\n",
    "counter_2_1_ex6 = 0\n",
    "\n",
    "flag_k = False \n",
    "flag_n = False    \n",
    "    \n",
    "def test_2_1_ex6(change):\n",
    "    global counter_2_1_ex6 \n",
    "    global flag_k\n",
    "    global flag_n\n",
    "    counter_2_1_ex6 = counter_2_1_ex6 + 1\n",
    "    value_k = user_k_q2_answer.value\n",
    "    value_n = user_n_q2_answer.value\n",
    "\n",
    "    if value_k == k_ex6_2 : \n",
    "        flag_k = True\n",
    "    else:\n",
    "        flag_k = False\n",
    "        \n",
    "    if value_n == n_ex6_2 :\n",
    "        flag_n = True \n",
    "    else:\n",
    "        flag_n = False\n",
    "        \n",
    "    if flag_k and flag_n:\n",
    "        print(\"----------------------------------\")\n",
    "        print(\"Tetantive {}: Bravo! vos réponses sont correctes :) \\n \\\n",
    "        On voit que k est plus petit que n, donc il ne peut pas s'agir de permutations.\".format(counter_2_ex6))\n",
    "    else:\n",
    "        print(\"----------------------------------\")\n",
    "        print(\"Tetantive {}:Malheureusement, une ou plusieurs réponses soumises ne sont pas correctes. \\n \\\n",
    "       hint: k est la taille de la disposition, la taille des mots que nous voulons former, \\n \\\n",
    "       n est la taille de l'ensemble des lettres depuis lequel on sélectionne les lettres pour former les mots.\".format(counter_2_ex6))\n",
    "\n",
    "\n",
    "display(widgets.HBox([user_k_q2_answer, user_n_q2_answer, button]))\n",
    "\n",
    "button.on_click(test_2_1_ex6)\n",
    "\n"
   ]
  },
  {
   "cell_type": "code",
   "execution_count": 144,
   "id": "0a68659a",
   "metadata": {
    "init_cell": true,
    "scrolled": true,
    "solution2": "hidden"
   },
   "outputs": [
    {
     "name": "stdout",
     "output_type": "stream",
     "text": [
      "Est-ce que l'ordre est important?\n"
     ]
    },
    {
     "data": {
      "application/vnd.jupyter.widget-view+json": {
       "model_id": "75fe4d60987c4c82bb9bd5fdf5bc47e0",
       "version_major": 2,
       "version_minor": 0
      },
      "text/plain": [
       "Dropdown(description='Réponse:', index=2, options=('Ordre pas important', 'Ordre important', 'aucune'), value=…"
      ]
     },
     "metadata": {},
     "output_type": "display_data"
    }
   ],
   "source": [
    "print(\"Est-ce que l'ordre est important?\")\n",
    "\n",
    "user_ordre_2_2_ex6= widgets.Dropdown(\n",
    "    options=['Ordre pas important', 'Ordre important', 'aucune'],\n",
    "    value='aucune',\n",
    "    description='Réponse:',\n",
    "    disabled=False,\n",
    ")\n",
    "\n",
    "def on_change_2_2_ex6(change):\n",
    "    if change['new'] == 'Ordre important':\n",
    "        print(\"----------------------------------\")\n",
    "        print(\"Votre réponse '{}' est correcte! \\n \\\n",
    "        L'ordre des lettres est important, donc il ne peut pas s'agir de combinaisons.\".format(change['new']))\n",
    "    else:\n",
    "        print(\"----------------------------------\")\n",
    "        print(\"Votre réponse '{}' n'est pas correcte!! \\n \\\n",
    "         hint: est ce que si on change l'ordre des éléments dans cette disposition, on tombe sur une nouvelle disposition? \\n \\\n",
    "         Dans notre cas, les dispositions sont des mots. Si on fixe les lettres, est-ce que si on change l'ordre des lettres,  \\n \\\n",
    "               on tombe sur un nouveau mot?\".format(change['new']))\n",
    "        \n",
    "display(user_ordre_2_2_ex6)\n",
    "user_ordre_2_2_ex6.observe(on_change_2_2_ex6, names = 'value')\n"
   ]
  },
  {
   "cell_type": "code",
   "execution_count": 145,
   "id": "1afa55e8",
   "metadata": {
    "init_cell": true,
    "scrolled": false,
    "solution2": "hidden"
   },
   "outputs": [
    {
     "name": "stdout",
     "output_type": "stream",
     "text": [
      "Est-ce qu'on peut avoir des répétitions? Est ce qu'on peut répéter les lettres au sein d'um même mot?\n"
     ]
    },
    {
     "data": {
      "application/vnd.jupyter.widget-view+json": {
       "model_id": "fa059cea5f0c4d0293bf5e5e0f19a202",
       "version_major": 2,
       "version_minor": 0
      },
      "text/plain": [
       "Dropdown(description='Réponse:', index=2, options=('Avec répétitions', 'Sans répétitions', 'aucune'), value='a…"
      ]
     },
     "metadata": {},
     "output_type": "display_data"
    }
   ],
   "source": [
    "print(\"Est-ce qu'on peut avoir des répétitions? Est ce qu'on peut répéter les lettres au sein d'um même mot?\")\n",
    "\n",
    "user_ordre_2_3_ex6= widgets.Dropdown(\n",
    "    options=['Avec répétitions', 'Sans répétitions', 'aucune'],\n",
    "    value='aucune',\n",
    "    description='Réponse:',\n",
    "    disabled=False,\n",
    ")\n",
    "\n",
    "def on_change_2_3_ex6(change):\n",
    "    if change['new'] == 'Avec répétitions':\n",
    "        print(\"----------------------------------\")\n",
    "        print(\"Votre réponse '{}' est correcte! \\n \\\n",
    "        Donc il ne peut s'agir que d'arrangement avec répétitions!\".format(change['new']))\n",
    "    else:\n",
    "        print(\"----------------------------------\")\n",
    "        print(\"Votre réponse '{}' n'est pas correcte!! \\n \\\n",
    "         hint: la question nous dit qu' 'On dispose d’autant de lettres que l’on veut parmi A, C, E, I, N, S, T.\".format(change['new']))\n",
    "        \n",
    "display(user_ordre_2_3_ex6)\n",
    "user_ordre_2_3_ex6.observe(on_change_2_3_ex6, names = 'value')"
   ]
  },
  {
   "cell_type": "code",
   "execution_count": 146,
   "id": "7f950095",
   "metadata": {
    "init_cell": true,
    "solution2": "hidden"
   },
   "outputs": [
    {
     "name": "stdout",
     "output_type": "stream",
     "text": [
      "Pour conclure, de combien de manières différentes pourrons-nous choisir la 1ere lettre?\n",
      " ET de combien de manières différentes pourrons-nous choisir la 2eme lettre? ET la 3eme? etc. \n",
      " Comment on combine les possibilités de toutes les lettres? \n",
      "\n",
      "Revenez au début de la question pour resoumettre votre réponse.\n"
     ]
    }
   ],
   "source": [
    "print(\"Pour conclure, de combien de manières différentes pourrons-nous choisir la 1ere lettre?\\n \\\n",
    "ET de combien de manières différentes pourrons-nous choisir la 2eme lettre? ET la 3eme? etc. \\n \\\n",
    "Comment on combine les possibilités de toutes les lettres? \\n\")\n",
    "print(\"Revenez au début de la question pour resoumettre votre réponse.\")"
   ]
  },
  {
   "cell_type": "markdown",
   "id": "7d615445",
   "metadata": {},
   "source": [
    "## Au début d’une partie de baseball, le gérant d’une équipe doit présenter à l’arbitre l’ordre selon lequel ses 9 joueurs se présenteront à la batte. Combien de listes différentes le gérant peut-il remettre à l’arbitre ?"
   ]
  },
  {
   "cell_type": "code",
   "execution_count": 147,
   "id": "032035f8",
   "metadata": {
    "init_cell": true,
    "scrolled": true
   },
   "outputs": [
    {
     "name": "stdout",
     "output_type": "stream",
     "text": [
      "De quelle type de disposition s'agit-il?\n"
     ]
    },
    {
     "data": {
      "application/vnd.jupyter.widget-view+json": {
       "model_id": "3ae27917fadd4378aa38aba35c1d1ac5",
       "version_major": 2,
       "version_minor": 0
      },
      "text/plain": [
       "Dropdown(description='Réponse:', index=6, options=('Permutation sans répétitions', 'Permutation avec répétitio…"
      ]
     },
     "metadata": {},
     "output_type": "display_data"
    }
   ],
   "source": [
    "print(\"De quelle type de disposition s'agit-il?\")\n",
    "\n",
    "user_type_3_ex6= widgets.Dropdown(\n",
    "    options=['Permutation sans répétitions', 'Permutation avec répétitions', 'Arrangement sans répétition', 'Arrangement avec répétition', 'Combinaison sans répétitions', 'Combinaison avec répétitions', 'aucune'],\n",
    "    value='aucune',\n",
    "    description='Réponse:',\n",
    "    disabled=False,\n",
    ")\n",
    "\n",
    "def on_change_3_ex6(change):\n",
    "    if change['new'] == 'Permutation sans répétitions':\n",
    "        print(\"----------------------------------\")\n",
    "        print(\"Votre réponse '{}' est correcte!\".format(change['new']))\n",
    "    else:\n",
    "        print(\"----------------------------------\")\n",
    "        print(\"Votre réponse '{}' n'est pas correcte!! \\n \\\n",
    "         hint: est-ce que la taille de notre disposition est la même que l'ensemble d'où on tire les éléments? \\n \\\n",
    "         Est-ce que l'ensembe contient des éléments qui se répètent? \\n\\\n",
    "         Est-ce que l'ordre des éléments dans notre disposition est important?\".format(change['new']))\n",
    "        \n",
    "display(user_type_3_ex6)\n",
    "user_type_3_ex6.observe(on_change_3_ex6, names = 'value')"
   ]
  },
  {
   "cell_type": "code",
   "execution_count": 148,
   "id": "084748f5",
   "metadata": {
    "init_cell": true,
    "solution2": "hidden",
    "solution2_first": true
   },
   "outputs": [
    {
     "name": "stdout",
     "output_type": "stream",
     "text": [
      "Combien de disposition de ce type pourrons-nous former?\n"
     ]
    },
    {
     "data": {
      "application/vnd.jupyter.widget-view+json": {
       "model_id": "77d4c983a5564fdfb7e83d44160b00de",
       "version_major": 2,
       "version_minor": 0
      },
      "text/plain": [
       "HBox(children=(IntText(value=0, description='Réponse:'), Button(description='Soumettre', icon='check', style=B…"
      ]
     },
     "metadata": {},
     "output_type": "display_data"
    }
   ],
   "source": [
    "print(\"Combien de disposition de ce type pourrons-nous former?\")\n",
    "\n",
    "n_ex6_3 = 9 \n",
    "k_ex6_3 = 9\n",
    "\n",
    "\n",
    "counter_3_ex6 = 0\n",
    "\n",
    "ex6_q3_answer = widgets.IntText(\n",
    "    value= 0,\n",
    "    description='Réponse:',\n",
    "    disabled=False\n",
    ")\n",
    "\n",
    "button = widgets.Button(\n",
    "    description='Soumettre',\n",
    "    disabled=False,\n",
    "    button_style='',\n",
    "    tooltip='Click me',\n",
    "    icon='check' \n",
    ")\n",
    "\n",
    "\n",
    "def test_3_ex6(change):\n",
    "    global counter_3_ex6 \n",
    "    counter_3_ex6 = counter_3_ex6 + 1\n",
    "    value = ex6_q3_answer.value\n",
    "    correct_value = fn.permutationNoRep(n_ex6_3)\n",
    "    if value == correct_value:\n",
    "        print(\"----------------------------------\")\n",
    "        print(\"Tetantive {}: Bravo! votre réponse est correcte :)\".format(counter_2_ex6))\n",
    "    else:\n",
    "        print(\"----------------------------------\")\n",
    "        print(\"Tetantive {}:Malheureusement, la réponse soumise n'est pas correcte. \\n \\\n",
    "       Cliquez sur 'Show solution' pour quelques indices\".format(counter_2_ex6))\n",
    "\n",
    "\n",
    "display(widgets.HBox([ex6_q3_answer, button]))\n",
    "\n",
    "button.on_click(test_3_ex6)"
   ]
  },
  {
   "cell_type": "code",
   "execution_count": 149,
   "id": "453508b7",
   "metadata": {
    "init_cell": true,
    "solution2": "hidden"
   },
   "outputs": [
    {
     "name": "stdout",
     "output_type": "stream",
     "text": [
      "Nous avons 9 joueurs, tous distincts, pour lesquels nous voulons spécifier en ordre. \n",
      "\n",
      "Quelle est la taille, k, de notre disposition?\n",
      "Quelle est la taille, n, de l'ensemble depuis lequel on tire les éléments?\n"
     ]
    },
    {
     "data": {
      "application/vnd.jupyter.widget-view+json": {
       "model_id": "86439aa212984032896fc2c1f4e71d98",
       "version_major": 2,
       "version_minor": 0
      },
      "text/plain": [
       "HBox(children=(IntText(value=0, description='k:'), IntText(value=0, description='n:'), Button(description='Sou…"
      ]
     },
     "metadata": {},
     "output_type": "display_data"
    }
   ],
   "source": [
    "print(\"Nous avons 9 joueurs, tous distincts, pour lesquels nous voulons spécifier en ordre. \\n\")\n",
    "\n",
    "print(\"Quelle est la taille, k, de notre disposition?\")\n",
    "print(\"Quelle est la taille, n, de l'ensemble depuis lequel on tire les éléments?\")\n",
    "\n",
    "user_k_q3_answer = widgets.IntText(\n",
    "    value= 0,\n",
    "    description='k:',\n",
    "    disabled=False\n",
    ")\n",
    "\n",
    "user_n_q3_answer = widgets.IntText(\n",
    "    value= 0,\n",
    "    description='n:',\n",
    "    disabled=False\n",
    ")\n",
    "\n",
    "button = widgets.Button(\n",
    "    description='Soumettre',\n",
    "    disabled=False,\n",
    "    button_style='',\n",
    "    tooltip='Click me',\n",
    "    icon='check' \n",
    ")\n",
    "\n",
    "counter_3_1_ex6 = 0\n",
    "\n",
    "flag_k_3_1_ex6 = False \n",
    "flag_n_3_1_ex6 = False    \n",
    "    \n",
    "def test_3_1_ex6(change):\n",
    "    global counter_3_1_ex6 \n",
    "    global flag_k_3_1_ex6\n",
    "    global flag_n_3_1_ex6\n",
    "    counter_3_1_ex6 = counter_3_1_ex6 + 1\n",
    "    value_k = user_k_q3_answer.value\n",
    "    value_n = user_n_q3_answer.value\n",
    "\n",
    "    if value_k == k_ex6_3 : \n",
    "        flag_k = True\n",
    "    else:\n",
    "        flag_k = False\n",
    "        \n",
    "    if value_n == n_ex6_3 :\n",
    "        flag_n = True \n",
    "    else:\n",
    "        flag_n = False\n",
    "        \n",
    "    if flag_k and flag_n:\n",
    "        print(\"----------------------------------\")\n",
    "        print(\"Tetantive {}: Bravo! vos réponses sont correctes :) \\n \\\n",
    "        On voit que k est egale à n, donc il s'agit de permutations.\".format(counter_2_ex6))\n",
    "    else:\n",
    "        print(\"----------------------------------\")\n",
    "        print(\"Tetantive {}:Malheureusement, une ou plusieurs réponses soumises ne sont pas correctes. \\n \\\n",
    "       hint: k est la taille de la disposition, la taille du groupement de joueurs à proposer, \\n \\\n",
    "       n est la taille de l'ensemble des joueurs depuis lequel on sélectionne les individus pour composer les groupements.\".format(counter_2_ex6))\n",
    "\n",
    "\n",
    "display(widgets.HBox([user_k_q3_answer, user_n_q3_answer, button]))\n",
    "\n",
    "button.on_click(test_3_1_ex6)\n",
    "\n"
   ]
  },
  {
   "cell_type": "code",
   "execution_count": 150,
   "id": "3d5056c7",
   "metadata": {
    "init_cell": true,
    "solution2": "hidden"
   },
   "outputs": [
    {
     "name": "stdout",
     "output_type": "stream",
     "text": [
      "Est-ce qu'on peut avoir des répétitions? \n",
      " Est-ce qu'on peut proposer le même joueur plusieurs fois au sein de la même formation?\n"
     ]
    },
    {
     "data": {
      "application/vnd.jupyter.widget-view+json": {
       "model_id": "9076180b8fc74d93aae2195073c819f1",
       "version_major": 2,
       "version_minor": 0
      },
      "text/plain": [
       "Dropdown(description='Réponse:', index=2, options=('Avec répétitions', 'Sans répétitions', 'aucune'), value='a…"
      ]
     },
     "metadata": {},
     "output_type": "display_data"
    }
   ],
   "source": [
    "print(\"Est-ce qu'on peut avoir des répétitions? \\n \\\n",
    "Est-ce qu'on peut proposer le même joueur plusieurs fois au sein de la même formation?\")\n",
    "\n",
    "user_ordre_3_3_ex6= widgets.Dropdown(\n",
    "    options=['Avec répétitions', 'Sans répétitions', 'aucune'],\n",
    "    value='aucune',\n",
    "    description='Réponse:',\n",
    "    disabled=False,\n",
    ")\n",
    "\n",
    "def on_change_3_3_ex6(change):\n",
    "    if change['new'] == 'Sans répétitions':\n",
    "        print(\"----------------------------------\")\n",
    "        print(\"Votre réponse '{}' est correcte! \\n \\\n",
    "        Donc il s'agit bien de permutation sans répétitions!\".format(change['new']))\n",
    "    else:\n",
    "        print(\"----------------------------------\")\n",
    "        print(\"Votre réponse '{}' n'est pas correcte!! \\n \\\n",
    "         hint: chaque joueur est unique et ne peut battre qu'une seule fois dans le jeu.\".format(change['new']))\n",
    "        \n",
    "display(user_ordre_3_3_ex6)\n",
    "user_ordre_3_3_ex6.observe(on_change_3_3_ex6, names = 'value')"
   ]
  },
  {
   "cell_type": "code",
   "execution_count": 151,
   "id": "472ce8bb",
   "metadata": {
    "init_cell": true,
    "solution2": "hidden"
   },
   "outputs": [
    {
     "name": "stdout",
     "output_type": "stream",
     "text": [
      "Pour conclure, de combien de manières différentes pourrons-nous choisir le 1er joueur?\n",
      " ET de combien de manières différentes pourrons-nous choisir le 2eme joueur? ET le 3eme? etc. \n",
      " Comment on combine les possibilités de tous les joueurs? \n",
      "\n",
      "Revenez au début de la question pour resoumettre votre réponse.\n"
     ]
    }
   ],
   "source": [
    "print(\"Pour conclure, de combien de manières différentes pourrons-nous choisir le 1er joueur?\\n \\\n",
    "ET de combien de manières différentes pourrons-nous choisir le 2eme joueur? ET le 3eme? etc. \\n \\\n",
    "Comment on combine les possibilités de tous les joueurs? \\n\")\n",
    "\n",
    "print(\"Revenez au début de la question pour resoumettre votre réponse.\")"
   ]
  },
  {
   "cell_type": "markdown",
   "id": "324dd77d",
   "metadata": {},
   "source": [
    "## Une équipe de basketball est composée de 14 joueurs. De combien de manières différentes l’entraîneur peut-il choisir les 5 joueurs commençant la partie s’il ne tient pas compte de leur position ?"
   ]
  },
  {
   "cell_type": "code",
   "execution_count": 152,
   "id": "8d06c364",
   "metadata": {
    "init_cell": true,
    "scrolled": true
   },
   "outputs": [
    {
     "name": "stdout",
     "output_type": "stream",
     "text": [
      "De quelle type de disposition s'agit-il?\n"
     ]
    },
    {
     "data": {
      "application/vnd.jupyter.widget-view+json": {
       "model_id": "eea3d60507df4a51b7a00cde6ec6ae82",
       "version_major": 2,
       "version_minor": 0
      },
      "text/plain": [
       "Dropdown(description='Réponse:', index=6, options=('Permutation sans répétitions', 'Permutation avec répétitio…"
      ]
     },
     "metadata": {},
     "output_type": "display_data"
    }
   ],
   "source": [
    "print(\"De quelle type de disposition s'agit-il?\")\n",
    "\n",
    "user_type_4_ex6= widgets.Dropdown(\n",
    "    options=['Permutation sans répétitions', 'Permutation avec répétitions', 'Arrangement sans répétition', 'Arrangement avec répétition', 'Combinaison sans répétitions', 'Combinaison avec répétitions', 'aucune'],\n",
    "    value='aucune',\n",
    "    description='Réponse:',\n",
    "    disabled=False,\n",
    ")\n",
    "\n",
    "def on_change_4_ex6(change):\n",
    "    if change['new'] == 'Combinaison sans répétitions':\n",
    "        print(\"----------------------------------\")\n",
    "        print(\"Votre réponse '{}' est correcte!\".format(change['new']))\n",
    "    else:\n",
    "        print(\"----------------------------------\")\n",
    "        print(\"Votre réponse '{}' n'est pas correcte!! \\n \\\n",
    "         hint: est-ce que la taille de notre disposition est la même que l'ensemble d'où on tire les éléments? \\n \\\n",
    "         Est-ce que l'ensembe contient des éléments qui se répètent? \\n\\\n",
    "         Est-ce que l'ordre des éléments dans notre disposition est important?\".format(change['new']))\n",
    "        \n",
    "display(user_type_4_ex6)\n",
    "user_type_4_ex6.observe(on_change_4_ex6, names = 'value')"
   ]
  },
  {
   "cell_type": "code",
   "execution_count": 153,
   "id": "decf5906",
   "metadata": {
    "init_cell": true,
    "scrolled": true,
    "solution2": "hidden",
    "solution2_first": true
   },
   "outputs": [
    {
     "name": "stdout",
     "output_type": "stream",
     "text": [
      "Combien de disposition de ce type pourrons-nous former?\n"
     ]
    },
    {
     "data": {
      "application/vnd.jupyter.widget-view+json": {
       "model_id": "c249dbbeb375418fbdd8dfef34063772",
       "version_major": 2,
       "version_minor": 0
      },
      "text/plain": [
       "HBox(children=(IntText(value=0, description='Réponse:'), Button(description='Soumettre', icon='check', style=B…"
      ]
     },
     "metadata": {},
     "output_type": "display_data"
    }
   ],
   "source": [
    "print(\"Combien de disposition de ce type pourrons-nous former?\")\n",
    "\n",
    "n_ex6_4= 14 \n",
    "k_ex6_4 = 5\n",
    "\n",
    "\n",
    "counter_4_ex6 = 0\n",
    "\n",
    "ex6_q4_answer = widgets.IntText(\n",
    "    value= 0,\n",
    "    description='Réponse:',\n",
    "    disabled=False\n",
    ")\n",
    "\n",
    "button = widgets.Button(\n",
    "    description='Soumettre',\n",
    "    disabled=False,\n",
    "    button_style='',\n",
    "    tooltip='Click me',\n",
    "    icon='check' \n",
    ")\n",
    "\n",
    "\n",
    "def test_4_ex6(change):\n",
    "    global counter_4_ex6 \n",
    "    counter_4_ex6 = counter_4_ex6 + 1\n",
    "    value = ex6_q4_answer.value\n",
    "    correct_value = fn.nCr(n_ex6_4, k_ex6_4)\n",
    "    if value == correct_value:\n",
    "        print(\"----------------------------------\")\n",
    "        print(\"Tetantive {}: Bravo! votre réponse est correcte :)\".format(counter_2_ex6))\n",
    "    else:\n",
    "        print(\"----------------------------------\")\n",
    "        print(\"Tetantive {}:Malheureusement, la réponse soumise n'est pas correcte. \\n \\\n",
    "       Cliquez sur 'Show solution' pour quelques indices\".format(counter_2_ex6))\n",
    "\n",
    "\n",
    "display(widgets.HBox([ex6_q4_answer, button]))\n",
    "\n",
    "button.on_click(test_4_ex6)"
   ]
  },
  {
   "cell_type": "code",
   "execution_count": 154,
   "id": "7bc649ea",
   "metadata": {
    "init_cell": true,
    "solution2": "hidden"
   },
   "outputs": [
    {
     "name": "stdout",
     "output_type": "stream",
     "text": [
      "Nous avons 14 joueurs, tous distincts, depuis lesquels nous voulons sélectionner 5. \n",
      "\n",
      "Quelle est la taille, k, de notre disposition?\n",
      "Quelle est la taille, n, de l'ensemble depuis lequel on tire les éléments?\n"
     ]
    },
    {
     "data": {
      "application/vnd.jupyter.widget-view+json": {
       "model_id": "2a404675c95e45b99d961c8905546e82",
       "version_major": 2,
       "version_minor": 0
      },
      "text/plain": [
       "HBox(children=(IntText(value=0, description='k:'), IntText(value=0, description='n:'), Button(description='Sou…"
      ]
     },
     "metadata": {},
     "output_type": "display_data"
    }
   ],
   "source": [
    "print(\"Nous avons 14 joueurs, tous distincts, depuis lesquels nous voulons sélectionner 5. \\n\")\n",
    "\n",
    "print(\"Quelle est la taille, k, de notre disposition?\")\n",
    "print(\"Quelle est la taille, n, de l'ensemble depuis lequel on tire les éléments?\")\n",
    "\n",
    "user_k_q4_answer = widgets.IntText(\n",
    "    value= 0,\n",
    "    description='k:',\n",
    "    disabled=False\n",
    ")\n",
    "\n",
    "user_n_q4_answer = widgets.IntText(\n",
    "    value= 0,\n",
    "    description='n:',\n",
    "    disabled=False\n",
    ")\n",
    "\n",
    "button = widgets.Button(\n",
    "    description='Soumettre',\n",
    "    disabled=False,\n",
    "    button_style='',\n",
    "    tooltip='Click me',\n",
    "    icon='check' \n",
    ")\n",
    "\n",
    "counter_4_1_ex6 = 0\n",
    "\n",
    "flag_k_4_1_ex6 = False \n",
    "flag_n_4_1_ex6 = False    \n",
    "    \n",
    "def test_4_1_ex6(change):\n",
    "    global counter_4_1_ex6 \n",
    "    global flag_k_4_1_ex6\n",
    "    global flag_n_4_1_ex6\n",
    "    counter_4_1_ex6 = counter_4_1_ex6 + 1\n",
    "    value_k = user_k_q4_answer.value\n",
    "    value_n = user_n_q4_answer.value\n",
    "\n",
    "    if value_k == k_ex6_4 : \n",
    "        flag_k = True\n",
    "    else:\n",
    "        flag_k = False\n",
    "        \n",
    "    if value_n == n_ex6_4 :\n",
    "        flag_n = True \n",
    "    else:\n",
    "        flag_n = False\n",
    "        \n",
    "    if flag_k and flag_n:\n",
    "        print(\"----------------------------------\")\n",
    "        print(\"Tetantive {}: Bravo! vos réponses sont correctes :) \\n \\\n",
    "        On voit que k est plus petit que n, donc il ne peut pas s'agir de permutations.\".format(counter_2_ex6))\n",
    "    else:\n",
    "        print(\"----------------------------------\")\n",
    "        print(\"Tetantive {}:Malheureusement, une ou plusieurs réponses soumises ne sont pas correctes. \\n \\\n",
    "       hint: k est la taille de la disposition, la taille du groupement de joueurs à proposer, \\n \\\n",
    "       n est la taille de l'ensemble des joueurs depuis lequel on sélectionne les individus pour composer les groupements.\".format(counter_2_ex6))\n",
    "\n",
    "\n",
    "display(widgets.HBox([user_k_q4_answer, user_n_q4_answer, button]))\n",
    "\n",
    "button.on_click(test_4_1_ex6)\n",
    "\n"
   ]
  },
  {
   "cell_type": "code",
   "execution_count": 155,
   "id": "2b7f069b",
   "metadata": {
    "init_cell": true,
    "solution2": "hidden"
   },
   "outputs": [
    {
     "name": "stdout",
     "output_type": "stream",
     "text": [
      "Est-ce que l'ordre est important?\n"
     ]
    },
    {
     "data": {
      "application/vnd.jupyter.widget-view+json": {
       "model_id": "f3af036750c144299b74961a78ac131c",
       "version_major": 2,
       "version_minor": 0
      },
      "text/plain": [
       "Dropdown(description='Réponse:', index=2, options=('Ordre pas important', 'Ordre important', 'aucune'), value=…"
      ]
     },
     "metadata": {},
     "output_type": "display_data"
    }
   ],
   "source": [
    "print(\"Est-ce que l'ordre est important?\")\n",
    "\n",
    "user_ordre_4_2_ex6= widgets.Dropdown(\n",
    "    options=['Ordre pas important', 'Ordre important', 'aucune'],\n",
    "    value='aucune',\n",
    "    description='Réponse:',\n",
    "    disabled=False,\n",
    ")\n",
    "\n",
    "def on_change_4_2_ex6(change):\n",
    "    if change['new'] == 'Ordre pas important':\n",
    "        print(\"----------------------------------\")\n",
    "        print(\"Votre réponse '{}' est correcte! \\n \\\n",
    "        L'ordre des joueurs n'est pas important, donc il ne peut pas s'agir d'arangements.\".format(change['new']))\n",
    "    else:\n",
    "        print(\"----------------------------------\")\n",
    "        print(\"Votre réponse '{}' n'est pas correcte!! \\n \\\n",
    "         hint: la question mentionne le suivant 'ne tient pas compte de leur position'\".format(change['new']))\n",
    "        \n",
    "display(user_ordre_4_2_ex6)\n",
    "user_ordre_4_2_ex6.observe(on_change_4_2_ex6, names = 'value')\n"
   ]
  },
  {
   "cell_type": "code",
   "execution_count": 156,
   "id": "d9aa40f6",
   "metadata": {
    "init_cell": true,
    "solution2": "hidden"
   },
   "outputs": [
    {
     "name": "stdout",
     "output_type": "stream",
     "text": [
      "Est-ce qu'on peut avoir des répétitions? Est ce qu'on peut répéter le même joueur plusieurs fois dans la formation à proposer?\n"
     ]
    },
    {
     "data": {
      "application/vnd.jupyter.widget-view+json": {
       "model_id": "f981f7dc31cd447f9eeb0c16650299a4",
       "version_major": 2,
       "version_minor": 0
      },
      "text/plain": [
       "Dropdown(description='Réponse:', index=2, options=('Avec répétitions', 'Sans répétitions', 'aucune'), value='a…"
      ]
     },
     "metadata": {},
     "output_type": "display_data"
    }
   ],
   "source": [
    "print(\"Est-ce qu'on peut avoir des répétitions? Est ce qu'on peut répéter le même joueur plusieurs fois dans la formation à proposer?\")\n",
    "\n",
    "user_ordre_2_4_ex6= widgets.Dropdown(\n",
    "    options=['Avec répétitions', 'Sans répétitions', 'aucune'],\n",
    "    value='aucune',\n",
    "    description='Réponse:',\n",
    "    disabled=False,\n",
    ")\n",
    "\n",
    "def on_change_2_4_ex6(change):\n",
    "    if change['new'] == 'Sans répétitions':\n",
    "        print(\"----------------------------------\")\n",
    "        print(\"Votre réponse '{}' est correcte! \\n \\\n",
    "        Donc il ne peut s'agir que de coombinaisons sans répétitions!\".format(change['new']))\n",
    "    else:\n",
    "        print(\"----------------------------------\")\n",
    "        print(\"Votre réponse '{}' n'est pas correcte!! \\n \\\n",
    "         hint: chaque joueur est distinct et si on le séléctionne il ne peut qu'occuper qu'une seule place dans \\n \\\n",
    "         la formation de 5 joueurs.\".format(change['new']))\n",
    "        \n",
    "display(user_ordre_2_4_ex6)\n",
    "user_ordre_2_4_ex6.observe(on_change_2_4_ex6, names = 'value')"
   ]
  },
  {
   "cell_type": "code",
   "execution_count": 157,
   "id": "48f3f036",
   "metadata": {
    "init_cell": true,
    "scrolled": false,
    "solution2": "hidden"
   },
   "outputs": [
    {
     "name": "stdout",
     "output_type": "stream",
     "text": [
      "Vous pouvez maintenant retrouver la bonne formule à appliquer et resoumettre votre réponse au début de la question. \n",
      "\n",
      "Vous pouvez aussi continuer pour voir comment retrouver la formule à appliquer en passant par les permutations! \n",
      "\n"
     ]
    },
    {
     "data": {
      "application/vnd.jupyter.widget-view+json": {
       "model_id": "ff5b60f7177749b0be54ca6c7346f112",
       "version_major": 2,
       "version_minor": 0
      },
      "text/plain": [
       "Button(description=\"Afficher le reste de l'explication\", icon='check', style=ButtonStyle(), tooltip=\"Clicker p…"
      ]
     },
     "metadata": {},
     "output_type": "display_data"
    }
   ],
   "source": [
    "print(\"Vous pouvez maintenant retrouver la bonne formule à appliquer et resoumettre votre réponse au début de la question. \\n\")\n",
    "\n",
    "print(\"Vous pouvez aussi continuer pour voir comment retrouver la formule à appliquer en passant par les permutations! \\n\")\n",
    "\n",
    "show_more_button = widgets.Button(\n",
    "    value=False,\n",
    "    description=\"Afficher le reste de l'explication\",\n",
    "    disabled=False,\n",
    "    button_style='',\n",
    "    tooltip=\"Clicker pour afficher le reste de l'explication\",\n",
    "    icon='check' \n",
    ")\n",
    "\n",
    "\n",
    "def show_more_button_onclick(change):\n",
    "    print(\"Nous pourrons en premier dénombrer toutes les permutations (sans répétitions) possibles des 14 joueurs. \\n \")\n",
    "    print(\"Par la suite, on regarde uniquement les premiers 5 joueurs de chaque permutation, l'ordre des (14-5) joueurs suivants \\n \\\n",
    "ne nous intéresse pas parce que les 9 joueurs suivants ne feront pas partie de l'équipe. \\n \\\n",
    "Donc cela fait qu'il y a des permutations similaires des 5 premiers joueurs qui se répètent, qu'on ne doit pas compter plusieurs fois!\" )\n",
    "    print(\"Les deux étapes précédentes génèrent le dénombrement des arangements, sans répétitions, de taille 5 depuis un ensemble à 14! \\n\")\n",
    "    print(\"Pour arriver au dénombrement des combinaisons sans répétitions, on remarque que l'ordre des 5 premiers joueurs n'est pas important. \\n \\\n",
    "      Donc toutes les permutations des mêmes 5 premiers joueurs donnent la même équipe, donc on doit aussi éviter de compter ces permutations plus qu'une fois. \\n\")\n",
    "    print(\"Une illustration détaillée d'un exemple plus simple est mise à disposition ci-dessous.\")\n",
    "    \n",
    "    display(Image(\"./img/ex6_4.png\"))\n",
    "\n",
    "    \n",
    "\n",
    "display(show_more_button)\n",
    "show_more_button.on_click(show_more_button_onclick)\n",
    "\n",
    "\n"
   ]
  },
  {
   "cell_type": "markdown",
   "id": "9e8b98a3",
   "metadata": {},
   "source": [
    "## 18 pilotes participent à un grand prix de formule 1. De combien de manières peut se constituer le podium ?"
   ]
  },
  {
   "cell_type": "code",
   "execution_count": 158,
   "id": "ee432840",
   "metadata": {
    "init_cell": true
   },
   "outputs": [
    {
     "name": "stdout",
     "output_type": "stream",
     "text": [
      "De quelle type de disposition s'agit-il?\n"
     ]
    },
    {
     "data": {
      "application/vnd.jupyter.widget-view+json": {
       "model_id": "5e963174b17541eeb4ecf2a8c1e656fd",
       "version_major": 2,
       "version_minor": 0
      },
      "text/plain": [
       "Dropdown(description='Réponse:', index=6, options=('Permutation sans répétitions', 'Permutation avec répétitio…"
      ]
     },
     "metadata": {},
     "output_type": "display_data"
    }
   ],
   "source": [
    "print(\"De quelle type de disposition s'agit-il?\")\n",
    "\n",
    "user_type_5_ex6= widgets.Dropdown(\n",
    "    options=['Permutation sans répétitions', 'Permutation avec répétitions', 'Arrangement sans répétition', 'Arrangement avec répétition', 'Combinaison sans répétitions', 'Combinaison avec répétitions', 'aucune'],\n",
    "    value='aucune',\n",
    "    description='Réponse:',\n",
    "    disabled=False,\n",
    ")\n",
    "\n",
    "def on_change_5_ex6(change):\n",
    "    if change['new'] == 'Arrangement sans répétition':\n",
    "        print(\"----------------------------------\")\n",
    "        print(\"Votre réponse '{}' est correcte!\".format(change['new']))\n",
    "    else:\n",
    "        print(\"----------------------------------\")\n",
    "        print(\"Votre réponse '{}' n'est pas correcte!! \\n \\\n",
    "         hint: est-ce que la taille de notre disposition est la même que l'ensemble d'où on tire les éléments? \\n \\\n",
    "         Est-ce que l'ensembe contient des éléments qui se répètent? \\n\\\n",
    "         Est-ce que l'ordre des éléments dans notre disposition est important?\".format(change['new']))\n",
    "        \n",
    "display(user_type_5_ex6)\n",
    "user_type_5_ex6.observe(on_change_5_ex6, names = 'value')"
   ]
  },
  {
   "cell_type": "code",
   "execution_count": 159,
   "id": "6f0185c7",
   "metadata": {
    "init_cell": true,
    "scrolled": false,
    "solution2": "hidden",
    "solution2_first": true
   },
   "outputs": [
    {
     "name": "stdout",
     "output_type": "stream",
     "text": [
      "Combien de disposition de ce type pourrons-nous former?\n"
     ]
    },
    {
     "data": {
      "application/vnd.jupyter.widget-view+json": {
       "model_id": "e7867f6c1a6e4128bf54dfa6679d05ef",
       "version_major": 2,
       "version_minor": 0
      },
      "text/plain": [
       "HBox(children=(IntText(value=0, description='Réponse:'), Button(description='Soumettre', icon='check', style=B…"
      ]
     },
     "metadata": {},
     "output_type": "display_data"
    }
   ],
   "source": [
    "print(\"Combien de disposition de ce type pourrons-nous former?\")\n",
    "\n",
    "n_ex6_5= 18\n",
    "k_ex6_5 = 3\n",
    "\n",
    "\n",
    "counter_5_ex6 = 0\n",
    "\n",
    "ex6_q5_answer = widgets.IntText(\n",
    "    value= 0,\n",
    "    description='Réponse:',\n",
    "    disabled=False\n",
    ")\n",
    "\n",
    "button = widgets.Button(\n",
    "    description='Soumettre',\n",
    "    disabled=False,\n",
    "    button_style='',\n",
    "    tooltip='Click me',\n",
    "    icon='check' \n",
    ")\n",
    "\n",
    "\n",
    "def test_5_ex6(change):\n",
    "    global counter_5_ex6 \n",
    "    counter_5_ex6 = counter_5_ex6 + 1\n",
    "    value = ex6_q5_answer.value\n",
    "    correct_value = int(fn.sequenceNoRep(n_ex6_5, k_ex6_5))\n",
    "    if value == correct_value:\n",
    "        print(\"----------------------------------\")\n",
    "        print(\"Tetantive {}: Bravo! votre réponse est correcte :)\".format(counter_5_ex6))\n",
    "    else:\n",
    "        print(\"----------------------------------\")\n",
    "        print(\"Tetantive {}:Malheureusement, la réponse soumise n'est pas correcte. \\n \\\n",
    "       Cliquez sur 'Show solution' pour quelques indices\".format(counter_5_ex6))\n",
    "\n",
    "\n",
    "display(widgets.HBox([ex6_q5_answer, button]))\n",
    "\n",
    "button.on_click(test_5_ex6)"
   ]
  },
  {
   "cell_type": "code",
   "execution_count": 160,
   "id": "99cd9de4",
   "metadata": {
    "init_cell": true,
    "solution2": "hidden"
   },
   "outputs": [
    {
     "name": "stdout",
     "output_type": "stream",
     "text": [
      "Nous avons 18 compétiteurs, tous distincts, depuis lesquels nous voulons sélectonner 3. \n",
      "\n",
      "Quelle est la taille, k, de notre disposition?\n",
      "Quelle est la taille, n, de l'ensemble depuis lequel on tire les éléments?\n"
     ]
    },
    {
     "data": {
      "application/vnd.jupyter.widget-view+json": {
       "model_id": "07a0c856148c4d7192b005b8e4a0e303",
       "version_major": 2,
       "version_minor": 0
      },
      "text/plain": [
       "HBox(children=(IntText(value=0, description='k:'), IntText(value=0, description='n:'), Button(description='Sou…"
      ]
     },
     "metadata": {},
     "output_type": "display_data"
    }
   ],
   "source": [
    "print(\"Nous avons 18 compétiteurs, tous distincts, depuis lesquels nous voulons sélectonner 3. \\n\")\n",
    "\n",
    "print(\"Quelle est la taille, k, de notre disposition?\")\n",
    "print(\"Quelle est la taille, n, de l'ensemble depuis lequel on tire les éléments?\")\n",
    "\n",
    "user_k_q5_answer = widgets.IntText(\n",
    "    value= 0,\n",
    "    description='k:',\n",
    "    disabled=False\n",
    ")\n",
    "\n",
    "user_n_q5_answer = widgets.IntText(\n",
    "    value= 0,\n",
    "    description='n:',\n",
    "    disabled=False\n",
    ")\n",
    "\n",
    "button = widgets.Button(\n",
    "    description='Soumettre',\n",
    "    disabled=False,\n",
    "    button_style='',\n",
    "    tooltip='Click me',\n",
    "    icon='check' \n",
    ")\n",
    "\n",
    "counter_5_1_ex6 = 0\n",
    "\n",
    "flag_k_5_1_ex6 = False \n",
    "flag_n_5_1_ex6 = False    \n",
    "    \n",
    "def test_5_1_ex6(change):\n",
    "    global counter_5_1_ex6 \n",
    "    global flag_k_5_1_ex6\n",
    "    global flag_n_5_1_ex6\n",
    "    counter_5_1_ex6 = counter_5_1_ex6 + 1\n",
    "    value_k = user_k_q5_answer.value\n",
    "    value_n = user_n_q5_answer.value\n",
    "\n",
    "    if value_k == k_ex6_5 : \n",
    "        flag_k = True\n",
    "    else:\n",
    "        flag_k = False\n",
    "        \n",
    "    if value_n == n_ex6_5 :\n",
    "        flag_n = True \n",
    "    else:\n",
    "        flag_n = False\n",
    "        \n",
    "    if flag_k and flag_n:\n",
    "        print(\"----------------------------------\")\n",
    "        print(\"Tetantive {}: Bravo! vos réponses sont correctes :) \\n \\\n",
    "        On voit que k est plus petit que n, donc il ne peut pas s'agir de permutations.\".format(counter_5_1_ex6))\n",
    "    else:\n",
    "        print(\"----------------------------------\")\n",
    "        print(\"Tetantive {}:Malheureusement, une ou plusieurs réponses soumises ne sont pas correctes. \\n \\\n",
    "       hint: k est la taille de la disposition, la taille du groupement de joueurs à proposer, \\n \\\n",
    "       n est la taille de l'ensemble des joueurs depuis lequel on sélectionne les individus pour composer les groupements.\".format(counter_5_1_ex6))\n",
    "\n",
    "\n",
    "display(widgets.HBox([user_k_q5_answer, user_n_q5_answer, button]))\n",
    "\n",
    "button.on_click(test_5_1_ex6)\n",
    "\n"
   ]
  },
  {
   "cell_type": "code",
   "execution_count": 161,
   "id": "afc863b5",
   "metadata": {
    "init_cell": true,
    "scrolled": true,
    "solution2": "hidden"
   },
   "outputs": [
    {
     "name": "stdout",
     "output_type": "stream",
     "text": [
      "Est-ce que l'ordre est important?\n"
     ]
    },
    {
     "data": {
      "application/vnd.jupyter.widget-view+json": {
       "model_id": "5a61383301b245d69c16884e5de1de35",
       "version_major": 2,
       "version_minor": 0
      },
      "text/plain": [
       "Dropdown(description='Réponse:', index=2, options=('Ordre pas important', 'Ordre important', 'aucune'), value=…"
      ]
     },
     "metadata": {},
     "output_type": "display_data"
    }
   ],
   "source": [
    "print(\"Est-ce que l'ordre est important?\")\n",
    "\n",
    "user_ordre_5_2_ex6= widgets.Dropdown(\n",
    "    options=['Ordre pas important', 'Ordre important', 'aucune'],\n",
    "    value='aucune',\n",
    "    description='Réponse:',\n",
    "    disabled=False,\n",
    ")\n",
    "\n",
    "def on_change_5_2_ex6(change):\n",
    "    if change['new'] == 'Ordre important':\n",
    "        print(\"----------------------------------\")\n",
    "        print(\"Votre réponse '{}' est correcte! \\n \\\n",
    "        L'ordre sur le podium est important, donc il ne peut pas s'agir de combinaison.\".format(change['new']))\n",
    "    else:\n",
    "        print(\"----------------------------------\")\n",
    "        print(\"Votre réponse '{}' n'est pas correcte!! \\n \\\n",
    "         hint: un podium comporte une 1ere place, une 2eme place et une 3eme place.\".format(change['new']))\n",
    "        \n",
    "display(user_ordre_5_2_ex6)\n",
    "user_ordre_5_2_ex6.observe(on_change_5_2_ex6, names = 'value')\n"
   ]
  },
  {
   "cell_type": "code",
   "execution_count": 162,
   "id": "7d666418",
   "metadata": {
    "init_cell": true,
    "solution2": "hidden"
   },
   "outputs": [
    {
     "name": "stdout",
     "output_type": "stream",
     "text": [
      "Est-ce qu'on peut avoir des répétitions? Est-ce que le même competiteur peut occuper plusieurs place dans le podium?\n"
     ]
    },
    {
     "data": {
      "application/vnd.jupyter.widget-view+json": {
       "model_id": "68f9ffcb449a4c1ca9ca1c4938c35fde",
       "version_major": 2,
       "version_minor": 0
      },
      "text/plain": [
       "Dropdown(description='Réponse:', index=2, options=('Avec répétitions', 'Sans répétitions', 'aucune'), value='a…"
      ]
     },
     "metadata": {},
     "output_type": "display_data"
    }
   ],
   "source": [
    "print(\"Est-ce qu'on peut avoir des répétitions? Est-ce que le même competiteur peut occuper plusieurs place dans le podium?\")\n",
    "\n",
    "user_ordre_2_5_ex6= widgets.Dropdown(\n",
    "    options=['Avec répétitions', 'Sans répétitions', 'aucune'],\n",
    "    value='aucune',\n",
    "    description='Réponse:',\n",
    "    disabled=False,\n",
    ")\n",
    "\n",
    "def on_change_2_5_ex6(change):\n",
    "    if change['new'] == 'Sans répétitions':\n",
    "        print(\"----------------------------------\")\n",
    "        print(\"Votre réponse '{}' est correcte! \\n \\\n",
    "        Donc il ne peut s'agir que d'arangement sans répétitions!\".format(change['new']))\n",
    "    else:\n",
    "        print(\"----------------------------------\")\n",
    "        print(\"Votre réponse '{}' n'est pas correcte!! \\n \\\n",
    "         hint: chaque competiteur est distinct et si on le séléctionne il ne peut qu'occuper qu'une seule place dans \\n \\\n",
    "         le podium.\".format(change['new']))\n",
    "        \n",
    "display(user_ordre_2_5_ex6)\n",
    "user_ordre_2_5_ex6.observe(on_change_2_5_ex6, names = 'value')"
   ]
  },
  {
   "cell_type": "code",
   "execution_count": 163,
   "id": "3b39d130",
   "metadata": {
    "init_cell": true,
    "solution2": "hidden"
   },
   "outputs": [
    {
     "name": "stdout",
     "output_type": "stream",
     "text": [
      "Vous pouvez maintenant retrouver la bonne formule à appliquer et resoumettre votre réponse au début de la question. \n",
      "\n",
      "Vous pouvez aussi continuer pour voir comment retrouver la formule à appliquer en passant par les permutations! \n",
      "\n"
     ]
    },
    {
     "data": {
      "application/vnd.jupyter.widget-view+json": {
       "model_id": "0f08a12d200e482cbf3b9f89f1e6f758",
       "version_major": 2,
       "version_minor": 0
      },
      "text/plain": [
       "Button(description=\"Afficher le reste de l'explication\", icon='check', style=ButtonStyle(), tooltip=\"Clicker p…"
      ]
     },
     "metadata": {},
     "output_type": "display_data"
    }
   ],
   "source": [
    "print(\"Vous pouvez maintenant retrouver la bonne formule à appliquer et resoumettre votre réponse au début de la question. \\n\")\n",
    "print(\"Vous pouvez aussi continuer pour voir comment retrouver la formule à appliquer en passant par les permutations! \\n\")\n",
    "\n",
    "show_more_button_5_ex6 = widgets.Button(\n",
    "    value=False,\n",
    "    description=\"Afficher le reste de l'explication\",\n",
    "    disabled=False,\n",
    "    button_style='',\n",
    "    tooltip=\"Clicker pour afficher le reste de l'explication\",\n",
    "    icon='check' \n",
    ")\n",
    "\n",
    "\n",
    "def show_more_button_5_ex6_onclick(change):\n",
    "    print(\"Nous pourrons en premier dénombrer toutes les permutations (sans répétitions) possibles des 18 compétiteurs. \\n \")\n",
    "    print(\"Par la suite, on regarde uniquement les premiers 3 compétiteurs de chaque permutation, l'ordre des (18-3) joueurs suivants \\n \\\n",
    "ne nous intéresse pas parce que les 15 joueurs suivants ne feront pas partie de l'équipe. \\n \\\n",
    "Donc cela fait qu'il y a des permutations similaires des 3 premiers compétiteurs qui se répètent, qu'on ne doit pas compter plusieurs fois!\" )\n",
    "    print(\"Les deux étapes précédentes génèrent le dénombrement des arangements, sans répétitions, de taille 3 depuis un ensemble à 18! \\n\")\n",
    "    print(\"Une illustration détaillée d'un exemple plus simple est mise à disposition ci-dessous.\")\n",
    "    \n",
    "    display(Image(\"./img/ex6_5.png\"))\n",
    "\n",
    "    \n",
    "\n",
    "display(show_more_button_5_ex6)\n",
    "show_more_button_5_ex6.on_click(show_more_button_5_ex6_onclick)\n",
    "\n",
    "\n"
   ]
  },
  {
   "cell_type": "markdown",
   "id": "73b0f83d",
   "metadata": {},
   "source": [
    "## Combien de mains de 5 cartes peut-on obtenir en choisissant 5 cartes dans un jeu de 52 cartes ?"
   ]
  },
  {
   "cell_type": "code",
   "execution_count": 164,
   "id": "917296d0",
   "metadata": {
    "init_cell": true,
    "scrolled": true
   },
   "outputs": [
    {
     "name": "stdout",
     "output_type": "stream",
     "text": [
      "De quelle type de disposition s'agit-il?\n"
     ]
    },
    {
     "data": {
      "application/vnd.jupyter.widget-view+json": {
       "model_id": "24eca4bb37c24e15b50a32b9e6eb9db1",
       "version_major": 2,
       "version_minor": 0
      },
      "text/plain": [
       "Dropdown(description='Réponse:', index=6, options=('Permutation sans répétitions', 'Permutation avec répétitio…"
      ]
     },
     "metadata": {},
     "output_type": "display_data"
    }
   ],
   "source": [
    "print(\"De quelle type de disposition s'agit-il?\")\n",
    "\n",
    "user_type_6_ex6= widgets.Dropdown(\n",
    "    options=['Permutation sans répétitions', 'Permutation avec répétitions', 'Arrangement sans répétition', 'Arrangement avec répétition', 'Combinaison sans répétitions', 'Combinaison avec répétitions', 'aucune'],\n",
    "    value='aucune',\n",
    "    description='Réponse:',\n",
    "    disabled=False,\n",
    ")\n",
    "\n",
    "def on_change_5_ex6(change):\n",
    "    if change['new'] == 'Combinaison sans répétitions':\n",
    "        print(\"----------------------------------\")\n",
    "        print(\"Votre réponse '{}' est correcte!\".format(change['new']))\n",
    "    else:\n",
    "        print(\"----------------------------------\")\n",
    "        print(\"Votre réponse '{}' n'est pas correcte!! \\n \\\n",
    "         hint: est-ce que la taille de notre disposition est la même que l'ensemble d'où on tire les éléments? \\n \\\n",
    "         Est-ce que l'ensembe contient des éléments qui se répètent? \\n\\\n",
    "         Est-ce que l'ordre des éléments dans notre disposition est important?\".format(change['new']))\n",
    "        \n",
    "display(user_type_6_ex6)\n",
    "user_type_6_ex6.observe(on_change_5_ex6, names = 'value')"
   ]
  },
  {
   "cell_type": "code",
   "execution_count": 165,
   "id": "4a6e2545",
   "metadata": {
    "init_cell": true,
    "scrolled": true,
    "solution2": "hidden",
    "solution2_first": true
   },
   "outputs": [
    {
     "name": "stdout",
     "output_type": "stream",
     "text": [
      "Combien de disposition de ce type pourrons-nous former?\n"
     ]
    },
    {
     "data": {
      "application/vnd.jupyter.widget-view+json": {
       "model_id": "e6d4f8b551ec4ec688dbe735c82742e5",
       "version_major": 2,
       "version_minor": 0
      },
      "text/plain": [
       "HBox(children=(IntText(value=0, description='Réponse:'), Button(description='Soumettre', icon='check', style=B…"
      ]
     },
     "metadata": {},
     "output_type": "display_data"
    }
   ],
   "source": [
    "print(\"Combien de disposition de ce type pourrons-nous former?\")\n",
    "\n",
    "n_ex6_6= 52\n",
    "k_ex6_6 = 5\n",
    "\n",
    "\n",
    "counter_6_ex6 = 0\n",
    "\n",
    "ex6_q6_answer = widgets.IntText(\n",
    "    value= 0,\n",
    "    description='Réponse:',\n",
    "    disabled=False\n",
    ")\n",
    "\n",
    "button = widgets.Button(\n",
    "    description='Soumettre',\n",
    "    disabled=False,\n",
    "    button_style='',\n",
    "    tooltip='Click me',\n",
    "    icon='check' \n",
    ")\n",
    "\n",
    "\n",
    "def test_6_ex6(change):\n",
    "    global counter_6_ex6 \n",
    "    counter_6_ex6 = counter_6_ex6 + 1\n",
    "    value = ex6_q6_answer.value\n",
    "    correct_value = int(fn.nCr(n_ex6_6, k_ex6_6))\n",
    "    if value == correct_value:\n",
    "        print(\"----------------------------------\")\n",
    "        print(\"Tetantive {}: Bravo! votre réponse est correcte :)\".format(counter_5_ex6))\n",
    "    else:\n",
    "        print(\"----------------------------------\")\n",
    "        print(\"Tetantive {}:Malheureusement, la réponse soumise n'est pas correcte. \\n \\\n",
    "       Cliquez sur 'Show solution' pour quelques indices\".format(counter_5_ex6))\n",
    "\n",
    "\n",
    "display(widgets.HBox([ex6_q6_answer, button]))\n",
    "\n",
    "button.on_click(test_6_ex6)"
   ]
  },
  {
   "cell_type": "code",
   "execution_count": 166,
   "id": "c10fc15a",
   "metadata": {
    "init_cell": true,
    "solution2": "hidden"
   },
   "outputs": [
    {
     "name": "stdout",
     "output_type": "stream",
     "text": [
      "Nous avons 52 cartes, toutes distinctes, depuis lesquelles nous voulons sélectonner 5. \n",
      "\n",
      "Quelle est la taille, k, de notre disposition?\n",
      "Quelle est la taille, n, de l'ensemble depuis lequel on tire les éléments?\n"
     ]
    },
    {
     "data": {
      "application/vnd.jupyter.widget-view+json": {
       "model_id": "c5e47a12e1bf45a6b96dd2db36db2a3b",
       "version_major": 2,
       "version_minor": 0
      },
      "text/plain": [
       "HBox(children=(IntText(value=0, description='k:'), IntText(value=0, description='n:'), Button(description='Sou…"
      ]
     },
     "metadata": {},
     "output_type": "display_data"
    }
   ],
   "source": [
    "print(\"Nous avons 52 cartes, toutes distinctes, depuis lesquelles nous voulons sélectonner 5. \\n\")\n",
    "\n",
    "print(\"Quelle est la taille, k, de notre disposition?\")\n",
    "print(\"Quelle est la taille, n, de l'ensemble depuis lequel on tire les éléments?\")\n",
    "\n",
    "user_k_q6_answer = widgets.IntText(\n",
    "    value= 0,\n",
    "    description='k:',\n",
    "    disabled=False\n",
    ")\n",
    "\n",
    "user_n_q6_answer = widgets.IntText(\n",
    "    value= 0,\n",
    "    description='n:',\n",
    "    disabled=False\n",
    ")\n",
    "\n",
    "button = widgets.Button(\n",
    "    description='Soumettre',\n",
    "    disabled=False,\n",
    "    button_style='',\n",
    "    tooltip='Click me',\n",
    "    icon='check' \n",
    ")\n",
    "\n",
    "counter_6_1_ex6 = 0\n",
    "\n",
    "flag_k_6_1_ex6 = False \n",
    "flag_n_6_1_ex6 = False    \n",
    "    \n",
    "def test_6_1_ex6(change):\n",
    "    global counter_6_1_ex6 \n",
    "    global flag_k_6_1_ex6\n",
    "    global flag_n_6_1_ex6\n",
    "    counter_6_1_ex6 = counter_6_1_ex6 + 1\n",
    "    value_k = user_k_q6_answer.value\n",
    "    value_n = user_n_q6_answer.value\n",
    "\n",
    "    if value_k == k_ex6_6 : \n",
    "        flag_k = True\n",
    "    else:\n",
    "        flag_k = False\n",
    "        \n",
    "    if value_n == n_ex6_6 :\n",
    "        flag_n = True \n",
    "    else:\n",
    "        flag_n = False\n",
    "        \n",
    "    if flag_k and flag_n:\n",
    "        print(\"----------------------------------\")\n",
    "        print(\"Tetantive {}: Bravo! vos réponses sont correctes :) \\n \\\n",
    "        On voit que k est plus petit que n, donc il ne peut pas s'agir de permutations.\".format(counter_6_1_ex6))\n",
    "    else:\n",
    "        print(\"----------------------------------\")\n",
    "        print(\"Tetantive {}:Malheureusement, une ou plusieurs réponses soumises ne sont pas correctes. \\n \\\n",
    "       hint: k est la taille de la disposition, le nombre de cartes dans une main, \\n \\\n",
    "       n est la taille de l'ensemble de toutes les cartes depuis lequel on sélectionne les k cartes pour composer une main.\".format(counter_6_1_ex6))\n",
    "\n",
    "\n",
    "display(widgets.HBox([user_k_q6_answer, user_n_q6_answer, button]))\n",
    "\n",
    "button.on_click(test_6_1_ex6)\n",
    "\n"
   ]
  },
  {
   "cell_type": "code",
   "execution_count": 167,
   "id": "7850a9a1",
   "metadata": {
    "init_cell": true,
    "solution2": "hidden"
   },
   "outputs": [
    {
     "name": "stdout",
     "output_type": "stream",
     "text": [
      "Est-ce que l'ordre est important?\n"
     ]
    },
    {
     "data": {
      "application/vnd.jupyter.widget-view+json": {
       "model_id": "334c51474b554e25963d6a0e1b871d40",
       "version_major": 2,
       "version_minor": 0
      },
      "text/plain": [
       "Dropdown(description='Réponse:', index=2, options=('Ordre pas important', 'Ordre important', 'aucune'), value=…"
      ]
     },
     "metadata": {},
     "output_type": "display_data"
    }
   ],
   "source": [
    "print(\"Est-ce que l'ordre est important?\")\n",
    "\n",
    "user_ordre_6_2_ex6= widgets.Dropdown(\n",
    "    options=['Ordre pas important', 'Ordre important', 'aucune'],\n",
    "    value='aucune',\n",
    "    description='Réponse:',\n",
    "    disabled=False,\n",
    ")\n",
    "\n",
    "def on_change_6_2_ex6(change):\n",
    "    if change['new'] == 'Ordre pas important':\n",
    "        print(\"----------------------------------\")\n",
    "        print(\"Votre réponse '{}' est correcte! \\n \\\n",
    "        L'ordre n'est pas important, donc il ne peut pas s'agir d'arangement.\".format(change['new']))\n",
    "    else:\n",
    "        print(\"----------------------------------\")\n",
    "        print(\"Votre réponse '{}' n'est pas correcte!! \\n \\\n",
    "         hint: si on change l'ordre des cartes dans une main on ne change pas la main.\".format(change['new']))\n",
    "        \n",
    "display(user_ordre_6_2_ex6)\n",
    "user_ordre_6_2_ex6.observe(on_change_6_2_ex6, names = 'value')\n"
   ]
  },
  {
   "cell_type": "code",
   "execution_count": 168,
   "id": "7cb31cdd",
   "metadata": {
    "init_cell": true,
    "solution2": "hidden"
   },
   "outputs": [
    {
     "name": "stdout",
     "output_type": "stream",
     "text": [
      "Est-ce qu'on peut avoir des répétitions? Est-ce que la même carte pourra être tirée plusieurs fois?\n"
     ]
    },
    {
     "data": {
      "application/vnd.jupyter.widget-view+json": {
       "model_id": "1cf95c9539e542b2a5a8cb4830de3255",
       "version_major": 2,
       "version_minor": 0
      },
      "text/plain": [
       "Dropdown(description='Réponse:', index=2, options=('Avec répétitions', 'Sans répétitions', 'aucune'), value='a…"
      ]
     },
     "metadata": {},
     "output_type": "display_data"
    }
   ],
   "source": [
    "print(\"Est-ce qu'on peut avoir des répétitions? Est-ce que la même carte pourra être tirée plusieurs fois?\")\n",
    "\n",
    "user_ordre_2_6_ex6= widgets.Dropdown(\n",
    "    options=['Avec répétitions', 'Sans répétitions', 'aucune'],\n",
    "    value='aucune',\n",
    "    description='Réponse:',\n",
    "    disabled=False,\n",
    ")\n",
    "\n",
    "def on_change_2_6_ex6(change):\n",
    "    if change['new'] == 'Sans répétitions':\n",
    "        print(\"----------------------------------\")\n",
    "        print(\"Votre réponse '{}' est correcte! \\n \\\n",
    "        Donc il ne peut s'agir que de combinaison sans répétitions!\".format(change['new']))\n",
    "    else:\n",
    "        print(\"----------------------------------\")\n",
    "        print(\"Votre réponse '{}' n'est pas correcte!! \\n \\\n",
    "         hint: Chaque carte est unique, si elle fait partie d'une main, elle ne peut qu'être tirée \\n \\\n",
    "         qu'une seule fois dans cette main.\".format(change['new']))\n",
    "        \n",
    "display(user_ordre_2_6_ex6)\n",
    "user_ordre_2_6_ex6.observe(on_change_2_6_ex6, names = 'value')"
   ]
  },
  {
   "cell_type": "code",
   "execution_count": 169,
   "id": "589deee1",
   "metadata": {
    "init_cell": true,
    "solution2": "hidden"
   },
   "outputs": [
    {
     "name": "stdout",
     "output_type": "stream",
     "text": [
      "Vous pouvez maintenant retrouver la bonne formule à appliquer et resoumettre votre réponse au début de la question. \n",
      "\n",
      "Pour retrouver la formule à appliquer en passant par les permutations vous pouvez revenir à la question 1.4 précédente! \n",
      "\n"
     ]
    }
   ],
   "source": [
    "print(\"Vous pouvez maintenant retrouver la bonne formule à appliquer et resoumettre votre réponse au début de la question. \\n\")\n",
    "\n",
    "print(\"Pour retrouver la formule à appliquer en passant par les permutations vous pouvez revenir à la question 1.4 précédente! \\n\")\n"
   ]
  },
  {
   "cell_type": "markdown",
   "id": "20220c16",
   "metadata": {},
   "source": [
    "## De combien de manières peut-on ranger 6 livres distincts sur une étagère ?"
   ]
  },
  {
   "cell_type": "code",
   "execution_count": 170,
   "id": "0fcd53da",
   "metadata": {
    "init_cell": true,
    "scrolled": true
   },
   "outputs": [
    {
     "name": "stdout",
     "output_type": "stream",
     "text": [
      "De quelle type de disposition s'agit-il?\n"
     ]
    },
    {
     "data": {
      "application/vnd.jupyter.widget-view+json": {
       "model_id": "04940ee318cf4757a8d2605346300fcc",
       "version_major": 2,
       "version_minor": 0
      },
      "text/plain": [
       "Dropdown(description='Réponse:', index=6, options=('Permutation sans répétitions', 'Permutation avec répétitio…"
      ]
     },
     "metadata": {},
     "output_type": "display_data"
    }
   ],
   "source": [
    "print(\"De quelle type de disposition s'agit-il?\")\n",
    "\n",
    "user_type_7_ex6= widgets.Dropdown(\n",
    "    options=['Permutation sans répétitions', 'Permutation avec répétitions', 'Arrangement sans répétition', 'Arrangement avec répétition', 'Combinaison sans répétitions', 'Combinaison avec répétitions', 'aucune'],\n",
    "    value='aucune',\n",
    "    description='Réponse:',\n",
    "    disabled=False,\n",
    ")\n",
    "\n",
    "def on_change_7_ex6(change):\n",
    "    if change['new'] == 'Permutation sans répétitions':\n",
    "        print(\"----------------------------------\")\n",
    "        print(\"Votre réponse '{}' est correcte!\".format(change['new']))\n",
    "    else:\n",
    "        print(\"----------------------------------\")\n",
    "        print(\"Votre réponse '{}' n'est pas correcte!! \\n \\\n",
    "         hint: est-ce que la taille de notre disposition est la même que l'ensemble d'où on tire les éléments? \\n \\\n",
    "         Est-ce que l'ensembe contient des éléments qui se répètent? \\n\\\n",
    "         Est-ce que l'ordre des éléments dans notre disposition est important?\".format(change['new']))\n",
    "        \n",
    "display(user_type_7_ex6)\n",
    "user_type_7_ex6.observe(on_change_7_ex6, names = 'value')"
   ]
  },
  {
   "cell_type": "code",
   "execution_count": 171,
   "id": "c15fc77d",
   "metadata": {
    "init_cell": true,
    "scrolled": true,
    "solution2": "hidden",
    "solution2_first": true
   },
   "outputs": [
    {
     "name": "stdout",
     "output_type": "stream",
     "text": [
      "Combien de disposition de ce type pourrons-nous former?\n"
     ]
    },
    {
     "data": {
      "application/vnd.jupyter.widget-view+json": {
       "model_id": "0195ed7465f14ef38345d4efcd512546",
       "version_major": 2,
       "version_minor": 0
      },
      "text/plain": [
       "HBox(children=(IntText(value=0, description='Réponse:'), Button(description='Soumettre', icon='check', style=B…"
      ]
     },
     "metadata": {},
     "output_type": "display_data"
    }
   ],
   "source": [
    "print(\"Combien de disposition de ce type pourrons-nous former?\")\n",
    "\n",
    "n_ex6_7= 6\n",
    "k_ex6_7 = 6\n",
    "\n",
    "\n",
    "counter_7_ex6 = 0\n",
    "\n",
    "ex6_q7_answer = widgets.IntText(\n",
    "    value= 0,\n",
    "    description='Réponse:',\n",
    "    disabled=False\n",
    ")\n",
    "\n",
    "button = widgets.Button(\n",
    "    description='Soumettre',\n",
    "    disabled=False,\n",
    "    button_style='',\n",
    "    tooltip='Click me',\n",
    "    icon='check' \n",
    ")\n",
    "\n",
    "\n",
    "def test_7_ex6(change):\n",
    "    global counter_7_ex6 \n",
    "    counter_7_ex6 = counter_7_ex6 + 1\n",
    "    value = ex6_q7_answer.value\n",
    "    correct_value = int(fn.permutationNoRep(n_ex6_7))\n",
    "    if value == correct_value:\n",
    "        print(\"----------------------------------\")\n",
    "        print(\"Tetantive {}: Bravo! votre réponse est correcte :)\".format(counter_7_ex6))\n",
    "    else:\n",
    "        print(\"----------------------------------\")\n",
    "        print(\"Tetantive {}:Malheureusement, la réponse soumise n'est pas correcte. \\n \\\n",
    "       Cliquez sur 'Show solution' pour quelques indices\".format(counter_7_ex6))\n",
    "\n",
    "\n",
    "display(widgets.HBox([ex6_q7_answer, button]))\n",
    "\n",
    "button.on_click(test_7_ex6)"
   ]
  },
  {
   "cell_type": "code",
   "execution_count": 172,
   "id": "c6cf97f2",
   "metadata": {
    "init_cell": true,
    "solution2": "hidden"
   },
   "outputs": [
    {
     "name": "stdout",
     "output_type": "stream",
     "text": [
      "Cette question resemble beaucoup à la question 1.3 précédente, en remplaçant les 9 joueurs de baseball par les 6 livres. \n",
      "Vous pouvez y retourner pour suivre la même résolution.\n"
     ]
    }
   ],
   "source": [
    "print(\"Cette question resemble beaucoup à la question 1.3 précédente, en remplaçant les 9 joueurs de baseball par les 6 livres. \\n\\\n",
    "Vous pouvez y retourner pour suivre la même résolution.\")\n"
   ]
  },
  {
   "cell_type": "markdown",
   "id": "c7f9ad15",
   "metadata": {},
   "source": [
    "## Dans un pays, un numéro de téléphone est composé de 6 chiffres. Quelle est la capacité du réseau ?"
   ]
  },
  {
   "cell_type": "code",
   "execution_count": 173,
   "id": "decdb062",
   "metadata": {
    "init_cell": true,
    "scrolled": true
   },
   "outputs": [
    {
     "name": "stdout",
     "output_type": "stream",
     "text": [
      "De quelle type de disposition s'agit-il?\n"
     ]
    },
    {
     "data": {
      "application/vnd.jupyter.widget-view+json": {
       "model_id": "ad19e6e4ae3044b1b9cf61a236aad435",
       "version_major": 2,
       "version_minor": 0
      },
      "text/plain": [
       "Dropdown(description='Réponse:', index=6, options=('Permutation sans répétitions', 'Permutation avec répétitio…"
      ]
     },
     "metadata": {},
     "output_type": "display_data"
    }
   ],
   "source": [
    "print(\"De quelle type de disposition s'agit-il?\")\n",
    "\n",
    "user_type_8_ex6= widgets.Dropdown(\n",
    "    options=['Permutation sans répétitions', 'Permutation avec répétitions', 'Arrangement sans répétition', 'Arrangement avec répétition', 'Combinaison sans répétitions', 'Combinaison avec répétitions', 'aucune'],\n",
    "    value='aucune',\n",
    "    description='Réponse:',\n",
    "    disabled=False,\n",
    ")\n",
    "\n",
    "def on_change_8_ex6(change):\n",
    "    if change['new'] == 'Arrangement avec répétition':\n",
    "        print(\"----------------------------------\")\n",
    "        print(\"Votre réponse '{}' est correcte!\".format(change['new']))\n",
    "    else:\n",
    "        print(\"----------------------------------\")\n",
    "        print(\"Votre réponse '{}' n'est pas correcte!! \\n \\\n",
    "         hint: est-ce que la taille de notre disposition est la même que l'ensemble d'où on tire les éléments? \\n \\\n",
    "         Est-ce que l'ensembe contient des éléments qui se répètent? \\n\\\n",
    "         Est-ce que l'ordre des éléments dans notre disposition est important?\".format(change['new']))\n",
    "        \n",
    "display(user_type_8_ex6)\n",
    "user_type_8_ex6.observe(on_change_8_ex6, names = 'value')"
   ]
  },
  {
   "cell_type": "code",
   "execution_count": 174,
   "id": "2c9813b1",
   "metadata": {
    "init_cell": true,
    "scrolled": true,
    "solution2": "hidden",
    "solution2_first": true
   },
   "outputs": [
    {
     "name": "stdout",
     "output_type": "stream",
     "text": [
      "Combien de disposition de ce type pourrons-nous former?\n"
     ]
    },
    {
     "data": {
      "application/vnd.jupyter.widget-view+json": {
       "model_id": "174968f4f1254b1b9801ce1182463317",
       "version_major": 2,
       "version_minor": 0
      },
      "text/plain": [
       "HBox(children=(IntText(value=0, description='Réponse:'), Button(description='Soumettre', icon='check', style=B…"
      ]
     },
     "metadata": {},
     "output_type": "display_data"
    }
   ],
   "source": [
    "print(\"Combien de disposition de ce type pourrons-nous former?\")\n",
    "\n",
    "n_ex6_8= 10\n",
    "k_ex6_8 = 6\n",
    "\n",
    "\n",
    "counter_8_ex6 = 0\n",
    "\n",
    "ex6_q8_answer = widgets.IntText(\n",
    "    value= 0,\n",
    "    description='Réponse:',\n",
    "    disabled=False\n",
    ")\n",
    "\n",
    "button = widgets.Button(\n",
    "    description='Soumettre',\n",
    "    disabled=False,\n",
    "    button_style='',\n",
    "    tooltip='Click me',\n",
    "    icon='check' \n",
    ")\n",
    "\n",
    "\n",
    "def test_8_ex6(change):\n",
    "    global counter_8_ex6 \n",
    "    counter_8_ex6 = counter_8_ex6 + 1\n",
    "    value = ex6_q8_answer.value\n",
    "    correct_value = int(fn.arrangementRep(n_ex6_8,k_ex6_8))\n",
    "    if value == correct_value:\n",
    "        print(\"----------------------------------\")\n",
    "        print(\"Tetantive {}: Bravo! votre réponse est correcte :)\".format(counter_8_ex6))\n",
    "    else:\n",
    "        print(\"----------------------------------\")\n",
    "        print(\"Tetantive {}:Malheureusement, la réponse soumise n'est pas correcte. \\n \\\n",
    "       Cliquez sur 'Show solution' pour quelques indices\".format(counter_8_ex6))\n",
    "\n",
    "\n",
    "display(widgets.HBox([ex6_q8_answer, button]))\n",
    "\n",
    "button.on_click(test_8_ex6)"
   ]
  },
  {
   "cell_type": "code",
   "execution_count": 175,
   "id": "fb9746a6",
   "metadata": {
    "init_cell": true,
    "solution2": "hidden"
   },
   "outputs": [
    {
     "name": "stdout",
     "output_type": "stream",
     "text": [
      "Quelle est la taille, k, de notre disposition?\n",
      "Quelle est la taille, n, de l'ensemble depuis lequel on tire les éléments?\n"
     ]
    },
    {
     "data": {
      "application/vnd.jupyter.widget-view+json": {
       "model_id": "d0378266067e447b9d04ce250333af8c",
       "version_major": 2,
       "version_minor": 0
      },
      "text/plain": [
       "HBox(children=(IntText(value=0, description='k:'), IntText(value=0, description='n:'), Button(description='Sou…"
      ]
     },
     "metadata": {},
     "output_type": "display_data"
    }
   ],
   "source": [
    "print(\"Quelle est la taille, k, de notre disposition?\")\n",
    "print(\"Quelle est la taille, n, de l'ensemble depuis lequel on tire les éléments?\")\n",
    "\n",
    "user_k_q8_answer = widgets.IntText(\n",
    "    value= 0,\n",
    "    description='k:',\n",
    "    disabled=False\n",
    ")\n",
    "\n",
    "user_n_q8_answer = widgets.IntText(\n",
    "    value= 0,\n",
    "    description='n:',\n",
    "    disabled=False\n",
    ")\n",
    "\n",
    "button = widgets.Button(\n",
    "    description='Soumettre',\n",
    "    disabled=False,\n",
    "    button_style='',\n",
    "    tooltip='Click me',\n",
    "    icon='check' \n",
    ")\n",
    "\n",
    "counter_8_1_ex6 = 0\n",
    "\n",
    "flag_k_8_1_ex6 = False \n",
    "flag_n_8_1_ex6 = False    \n",
    "    \n",
    "def test_8_1_ex6(change):\n",
    "    global counter_8_1_ex6 \n",
    "    global flag_k_8_1_ex6\n",
    "    global flag_n_8_1_ex6\n",
    "    counter_8_1_ex6 = counter_8_1_ex6 + 1\n",
    "    value_k = user_k_q8_answer.value\n",
    "    value_n = user_n_q8_answer.value\n",
    "\n",
    "    if value_k == k_ex6_8 : \n",
    "        flag_k = True\n",
    "    else:\n",
    "        flag_k = False\n",
    "        \n",
    "    if value_n == n_ex6_8 :\n",
    "        flag_n = True \n",
    "    else:\n",
    "        flag_n = False\n",
    "        \n",
    "    if flag_k and flag_n:\n",
    "        print(\"----------------------------------\")\n",
    "        print(\"Tetantive {}: Bravo! vos réponses sont correctes :) \\n \\\n",
    "        On voit que k est plus petit que n, donc il ne peut pas s'agir de permutations.\".format(counter_8_1_ex6))\n",
    "    else:\n",
    "        print(\"----------------------------------\")\n",
    "        print(\"Tetantive {}:Malheureusement, une ou plusieurs réponses soumises ne sont pas correctes. \\n \\\n",
    "       hint: k est la taille du numéro de téléphone, le nombre de chiffres qui composerait un numéro de téléphone unique, \\n \\\n",
    "       n est la taille de l'ensemble de toutes les chiffres depuis lequel on sélectionne les k chiffres pour composer un numéro.\".format(counter_8_1_ex6))\n",
    "\n",
    "\n",
    "display(widgets.HBox([user_k_q8_answer, user_n_q8_answer, button]))\n",
    "\n",
    "button.on_click(test_8_1_ex6)\n",
    "\n"
   ]
  },
  {
   "cell_type": "code",
   "execution_count": 176,
   "id": "7140285c",
   "metadata": {
    "init_cell": true,
    "solution2": "hidden"
   },
   "outputs": [
    {
     "name": "stdout",
     "output_type": "stream",
     "text": [
      "Est-ce que l'ordre des chiffres dans le numéro composé est important? \n",
      "\n",
      "Est-ce que le même chiffre pourra se répéter au sein du même numéro? \n",
      "\n",
      "Cette question est très similaire à la question 1.2 précédente, \n",
      " en remplaçant les lettres par les chiffres et les mots de 5 lettres par des numéro de 6 chiffres! \n",
      " Au besoin revenez à la question 1.2 pour une résolution détaillée.\n"
     ]
    }
   ],
   "source": [
    "print(\"Est-ce que l'ordre des chiffres dans le numéro composé est important? \\n\")\n",
    "print(\"Est-ce que le même chiffre pourra se répéter au sein du même numéro? \\n\")\n",
    "print(\"Cette question est très similaire à la question 1.2 précédente, \\n \\\n",
    "en remplaçant les lettres par les chiffres et les mots de 5 lettres par des numéro de 6 chiffres! \\n \\\n",
    "Au besoin revenez à la question 1.2 pour une résolution détaillée.\")"
   ]
  },
  {
   "cell_type": "markdown",
   "id": "aa6ac73c",
   "metadata": {},
   "source": [
    "## Un étudiant doit répondre à 7 des 10 questions d’un examen. De combien de manières peut-il les choisir ?"
   ]
  },
  {
   "cell_type": "code",
   "execution_count": 177,
   "id": "ca6f4637",
   "metadata": {
    "init_cell": true,
    "scrolled": false
   },
   "outputs": [
    {
     "name": "stdout",
     "output_type": "stream",
     "text": [
      "De quelle type de disposition s'agit-il?\n"
     ]
    },
    {
     "data": {
      "application/vnd.jupyter.widget-view+json": {
       "model_id": "a5306bf56f2946bfa410c719f4448282",
       "version_major": 2,
       "version_minor": 0
      },
      "text/plain": [
       "Dropdown(description='Réponse:', index=6, options=('Permutation sans répétitions', 'Permutation avec répétitio…"
      ]
     },
     "metadata": {},
     "output_type": "display_data"
    }
   ],
   "source": [
    "print(\"De quelle type de disposition s'agit-il?\")\n",
    "\n",
    "user_type_9_ex6= widgets.Dropdown(\n",
    "    options=['Permutation sans répétitions', 'Permutation avec répétitions', 'Arrangement sans répétition', 'Arrangement avec répétition', 'Combinaison sans répétitions', 'Combinaison avec répétitions', 'aucune'],\n",
    "    value='aucune',\n",
    "    description='Réponse:',\n",
    "    disabled=False,\n",
    ")\n",
    "\n",
    "def on_change_9_ex6(change):\n",
    "    if change['new'] == 'Combinaison sans répétitions':\n",
    "        print(\"----------------------------------\")\n",
    "        print(\"Votre réponse '{}' est correcte!\".format(change['new']))\n",
    "    else:\n",
    "        print(\"----------------------------------\")\n",
    "        print(\"Votre réponse '{}' n'est pas correcte!! \\n \\\n",
    "         hint: est-ce que la taille de notre disposition est la même que l'ensemble d'où on tire les éléments? \\n \\\n",
    "         Est-ce que l'ensembe contient des éléments qui se répètent? \\n\\\n",
    "         Est-ce que l'ordre des éléments dans notre disposition est important?\".format(change['new']))\n",
    "        \n",
    "display(user_type_9_ex6)\n",
    "user_type_9_ex6.observe(on_change_9_ex6, names = 'value')"
   ]
  },
  {
   "cell_type": "code",
   "execution_count": 178,
   "id": "c6140f4a",
   "metadata": {
    "init_cell": true,
    "scrolled": false,
    "solution2": "hidden",
    "solution2_first": true
   },
   "outputs": [
    {
     "name": "stdout",
     "output_type": "stream",
     "text": [
      "Combien de disposition de ce type pourrons-nous former?\n"
     ]
    },
    {
     "data": {
      "application/vnd.jupyter.widget-view+json": {
       "model_id": "a01d674c16614aea800a97b40b732b6b",
       "version_major": 2,
       "version_minor": 0
      },
      "text/plain": [
       "HBox(children=(IntText(value=0, description='Réponse:'), Button(description='Soumettre', icon='check', style=B…"
      ]
     },
     "metadata": {},
     "output_type": "display_data"
    }
   ],
   "source": [
    "print(\"Combien de disposition de ce type pourrons-nous former?\")\n",
    "\n",
    "n_ex6_9= 10\n",
    "k_ex6_9 = 7\n",
    "\n",
    "\n",
    "counter_9_ex6 = 0\n",
    "\n",
    "ex6_q9_answer = widgets.IntText(\n",
    "    value= 0,\n",
    "    description='Réponse:',\n",
    "    disabled=False\n",
    ")\n",
    "\n",
    "button = widgets.Button(\n",
    "    description='Soumettre',\n",
    "    disabled=False,\n",
    "    button_style='',\n",
    "    tooltip='Click me',\n",
    "    icon='check' \n",
    ")\n",
    "\n",
    "\n",
    "def test_9_ex6(change):\n",
    "    global counter_9_ex6 \n",
    "    counter_9_ex6 = counter_9_ex6 + 1\n",
    "    value = ex6_q9_answer.value\n",
    "    correct_value = int(fn.nCr(n_ex6_9,k_ex6_9))\n",
    "    if value == correct_value:\n",
    "        print(\"----------------------------------\")\n",
    "        print(\"Tetantive {}: Bravo! votre réponse est correcte :)\".format(counter_9_ex6))\n",
    "    else:\n",
    "        print(\"----------------------------------\")\n",
    "        print(\"Tetantive {}:Malheureusement, la réponse soumise n'est pas correcte. \\n \\\n",
    "       Cliquez sur 'Show solution' pour quelques indices\".format(counter_9_ex6))\n",
    "\n",
    "\n",
    "display(widgets.HBox([ex6_q9_answer, button]))\n",
    "\n",
    "button.on_click(test_9_ex6)"
   ]
  },
  {
   "cell_type": "code",
   "execution_count": 179,
   "id": "0e99e474",
   "metadata": {
    "init_cell": true,
    "solution2": "hidden"
   },
   "outputs": [
    {
     "name": "stdout",
     "output_type": "stream",
     "text": [
      "Quelle est la taille, k, de notre disposition?\n",
      "Quelle est la taille, n, de l'ensemble depuis lequel on tire les éléments?\n"
     ]
    },
    {
     "data": {
      "application/vnd.jupyter.widget-view+json": {
       "model_id": "1e9027498c454c6d8e68d8b555130832",
       "version_major": 2,
       "version_minor": 0
      },
      "text/plain": [
       "HBox(children=(IntText(value=0, description='k:'), IntText(value=0, description='n:'), Button(description='Sou…"
      ]
     },
     "metadata": {},
     "output_type": "display_data"
    }
   ],
   "source": [
    "print(\"Quelle est la taille, k, de notre disposition?\")\n",
    "print(\"Quelle est la taille, n, de l'ensemble depuis lequel on tire les éléments?\")\n",
    "\n",
    "user_k_q9_answer = widgets.IntText(\n",
    "    value= 0,\n",
    "    description='k:',\n",
    "    disabled=False\n",
    ")\n",
    "\n",
    "user_n_q9_answer = widgets.IntText(\n",
    "    value= 0,\n",
    "    description='n:',\n",
    "    disabled=False\n",
    ")\n",
    "\n",
    "button = widgets.Button(\n",
    "    description='Soumettre',\n",
    "    disabled=False,\n",
    "    button_style='',\n",
    "    tooltip='Click me',\n",
    "    icon='check' \n",
    ")\n",
    "\n",
    "counter_9_1_ex6 = 0\n",
    "\n",
    "flag_k_9_1_ex6 = False \n",
    "flag_n_9_1_ex6 = False    \n",
    "    \n",
    "def test_9_1_ex6(change):\n",
    "    global counter_9_1_ex6 \n",
    "    global flag_k_9_1_ex6\n",
    "    global flag_n_9_1_ex6\n",
    "    counter_9_1_ex6 = counter_9_1_ex6 + 1\n",
    "    value_k = user_k_q9_answer.value\n",
    "    value_n = user_n_q9_answer.value\n",
    "\n",
    "    if value_k == k_ex6_9 : \n",
    "        flag_k = True\n",
    "    else:\n",
    "        flag_k = False\n",
    "        \n",
    "    if value_n == n_ex6_9 :\n",
    "        flag_n = True \n",
    "    else:\n",
    "        flag_n = False\n",
    "        \n",
    "    if flag_k and flag_n:\n",
    "        print(\"----------------------------------\")\n",
    "        print(\"Tetantive {}: Bravo! vos réponses sont correctes :) \\n \\\n",
    "        On voit que k est plus petit que n, donc il ne peut pas s'agir de permutations.\".format(counter_9_1_ex6))\n",
    "    else:\n",
    "        print(\"----------------------------------\")\n",
    "        print(\"Tetantive {}:Malheureusement, une ou plusieurs réponses soumises ne sont pas correctes. \\n \\\n",
    "       hint: k est la taille du groupe de questions à répondre, \\n \\\n",
    "       n est la taille de l'ensemble de toutes les questions depuis lequel on sélectionne les k questions à répondre.\".format(counter_9_1_ex6))\n",
    "\n",
    "\n",
    "display(widgets.HBox([user_k_q9_answer, user_n_q9_answer, button]))\n",
    "\n",
    "button.on_click(test_9_1_ex6)\n",
    "\n"
   ]
  },
  {
   "cell_type": "code",
   "execution_count": 180,
   "id": "e5136755",
   "metadata": {
    "init_cell": true,
    "scrolled": true,
    "solution2": "hidden"
   },
   "outputs": [
    {
     "name": "stdout",
     "output_type": "stream",
     "text": [
      "Est-ce que l'ordre avec lequel l'étudiant répond aux questions choisies est important? \n",
      "\n",
      "Est-ce que l'étudiant pourra donner plusieurs réponse à la même question? \n",
      "\n",
      "Cette question est très similaire à la question 1.4 précédente, \n",
      " en remplaçant les joueurs par les questions et l'équipe de joueurs de 5 par des groupes de 7 questions! \n",
      " Au besoin revenez à la question 1.4 pour une résolution détaillée.\n"
     ]
    }
   ],
   "source": [
    "print(\"Est-ce que l'ordre avec lequel l'étudiant répond aux questions choisies est important? \\n\")\n",
    "print(\"Est-ce que l'étudiant pourra donner plusieurs réponse à la même question? \\n\")\n",
    "print(\"Cette question est très similaire à la question 1.4 précédente, \\n \\\n",
    "en remplaçant les joueurs par les questions et l'équipe de joueurs de 5 par des groupes de 7 questions! \\n \\\n",
    "Au besoin revenez à la question 1.4 pour une résolution détaillée.\")"
   ]
  },
  {
   "cell_type": "markdown",
   "id": "d2ec0e5a",
   "metadata": {},
   "source": [
    "## Un QCM comporte 10 questions. Pour chacune des questions, 3 réponses sont proposées et une seule doit être cochée. De combien de manières peut-on remplir ce QCM ?"
   ]
  },
  {
   "cell_type": "code",
   "execution_count": 181,
   "id": "f7d15ecf",
   "metadata": {
    "init_cell": true,
    "scrolled": false
   },
   "outputs": [
    {
     "name": "stdout",
     "output_type": "stream",
     "text": [
      "De quelle type de disposition s'agit-il?\n"
     ]
    },
    {
     "data": {
      "application/vnd.jupyter.widget-view+json": {
       "model_id": "0f02669514564dfcaf74062bdca1e707",
       "version_major": 2,
       "version_minor": 0
      },
      "text/plain": [
       "Dropdown(description='Réponse:', index=6, options=('Permutation sans répétitions', 'Permutation avec répétitio…"
      ]
     },
     "metadata": {},
     "output_type": "display_data"
    }
   ],
   "source": [
    "print(\"De quelle type de disposition s'agit-il?\")\n",
    "\n",
    "user_type_10_ex6= widgets.Dropdown(\n",
    "    options=['Permutation sans répétitions', 'Permutation avec répétitions', 'Arrangement sans répétition', 'Arrangement avec répétition', 'Combinaison sans répétitions', 'Combinaison avec répétitions', 'aucune'],\n",
    "    value='aucune',\n",
    "    description='Réponse:',\n",
    "    disabled=False,\n",
    ")\n",
    "\n",
    "def on_change_10_ex6(change):\n",
    "    if change['new'] == 'Arrangement avec répétition':\n",
    "        print(\"----------------------------------\")\n",
    "        print(\"Votre réponse '{}' est correcte!\".format(change['new']))\n",
    "    else:\n",
    "        print(\"----------------------------------\")\n",
    "        print(\"Votre réponse '{}' n'est pas correcte!! \\n \\\n",
    "         hint: est-ce que la taille de notre disposition est la même que l'ensemble d'où on tire les éléments? \\n \\\n",
    "         Est-ce que l'ensembe contient des éléments qui se répètent? \\n\\\n",
    "         Est-ce que l'ordre des éléments dans notre disposition est important?\".format(change['new']))\n",
    "        \n",
    "display(user_type_10_ex6)\n",
    "user_type_10_ex6.observe(on_change_10_ex6, names = 'value')"
   ]
  },
  {
   "cell_type": "code",
   "execution_count": 182,
   "id": "7f8f2138",
   "metadata": {
    "init_cell": true,
    "scrolled": false,
    "solution2": "hidden",
    "solution2_first": true
   },
   "outputs": [
    {
     "name": "stdout",
     "output_type": "stream",
     "text": [
      "Combien de disposition de ce type pourrons-nous former?\n"
     ]
    },
    {
     "data": {
      "application/vnd.jupyter.widget-view+json": {
       "model_id": "52855e7b7326439984c0e841689793ef",
       "version_major": 2,
       "version_minor": 0
      },
      "text/plain": [
       "HBox(children=(IntText(value=0, description='Réponse:'), Button(description='Soumettre', icon='check', style=B…"
      ]
     },
     "metadata": {},
     "output_type": "display_data"
    }
   ],
   "source": [
    "print(\"Combien de disposition de ce type pourrons-nous former?\")\n",
    "\n",
    "n_ex6_10 = 3\n",
    "k_ex6_10 = 10\n",
    "\n",
    "\n",
    "counter_10_ex6 = 0\n",
    "\n",
    "ex6_q10_answer = widgets.IntText(\n",
    "    value= 0,\n",
    "    description='Réponse:',\n",
    "    disabled=False\n",
    ")\n",
    "\n",
    "button = widgets.Button(\n",
    "    description='Soumettre',\n",
    "    disabled=False,\n",
    "    button_style='',\n",
    "    tooltip='Click me',\n",
    "    icon='check' \n",
    ")\n",
    "\n",
    "\n",
    "def test_10_ex6(change):\n",
    "    global counter_10_ex6 \n",
    "    counter_10_ex6 = counter_10_ex6 + 1\n",
    "    value = ex6_q10_answer.value\n",
    "    correct_value = int(fn.arrangementRep(n_ex6_10,k_ex6_10))\n",
    "    if value == correct_value:\n",
    "        print(\"----------------------------------\")\n",
    "        print(\"Tetantive {}: Bravo! votre réponse est correcte :)\".format(counter_10_ex6))\n",
    "    else:\n",
    "        print(\"----------------------------------\")\n",
    "        print(\"Tetantive {}:Malheureusement, la réponse soumise n'est pas correcte. \\n \\\n",
    "       Cliquez sur 'Show solution' pour quelques indices\".format(counter_10_ex6))\n",
    "\n",
    "\n",
    "display(widgets.HBox([ex6_q10_answer, button]))\n",
    "\n",
    "button.on_click(test_10_ex6)"
   ]
  },
  {
   "cell_type": "code",
   "execution_count": 183,
   "id": "c4fcf16d",
   "metadata": {
    "init_cell": true,
    "solution2": "hidden"
   },
   "outputs": [
    {
     "name": "stdout",
     "output_type": "stream",
     "text": [
      "Quelle est la taille, k, de notre disposition?\n",
      "Quelle est la taille, n, de l'ensemble depuis lequel on tire les éléments?\n"
     ]
    },
    {
     "data": {
      "application/vnd.jupyter.widget-view+json": {
       "model_id": "8bfdd3b26add460b96ed7d69c13a2926",
       "version_major": 2,
       "version_minor": 0
      },
      "text/plain": [
       "HBox(children=(IntText(value=0, description='k:'), IntText(value=0, description='n:'), Button(description='Sou…"
      ]
     },
     "metadata": {},
     "output_type": "display_data"
    }
   ],
   "source": [
    "print(\"Quelle est la taille, k, de notre disposition?\")\n",
    "print(\"Quelle est la taille, n, de l'ensemble depuis lequel on tire les éléments?\")\n",
    "\n",
    "user_k_q10_answer = widgets.IntText(\n",
    "    value= 0,\n",
    "    description='k:',\n",
    "    disabled=False\n",
    ")\n",
    "\n",
    "user_n_q10_answer = widgets.IntText(\n",
    "    value= 0,\n",
    "    description='n:',\n",
    "    disabled=False\n",
    ")\n",
    "\n",
    "button = widgets.Button(\n",
    "    description='Soumettre',\n",
    "    disabled=False,\n",
    "    button_style='',\n",
    "    tooltip='Click me',\n",
    "    icon='check' \n",
    ")\n",
    "\n",
    "counter_10_1_ex6 = 0\n",
    "\n",
    "flag_k_10_1_ex6 = False \n",
    "flag_n_10_1_ex6 = False    \n",
    "    \n",
    "def test_10_1_ex6(change):\n",
    "    global counter_10_1_ex6 \n",
    "    global flag_k_10_1_ex6\n",
    "    global flag_n_10_1_ex6\n",
    "    counter_10_1_ex6 = counter_10_1_ex6 + 1\n",
    "    value_k = user_k_q10_answer.value\n",
    "    value_n = user_n_q10_answer.value\n",
    "\n",
    "    if value_k == k_ex6_10 : \n",
    "        flag_k = True\n",
    "    else:\n",
    "        flag_k = False\n",
    "        \n",
    "    if value_n == n_ex6_10 :\n",
    "        flag_n = True \n",
    "    else:\n",
    "        flag_n = False\n",
    "        \n",
    "    if flag_k and flag_n:\n",
    "        print(\"----------------------------------\")\n",
    "        print(\"Tetantive {}: Bravo! vos réponses sont correctes :) \\n \\\n",
    "        On voit que k est plus grand que n, donc il ne peut pas s'agir de permutations.\".format(counter_10_1_ex6))\n",
    "    else:\n",
    "        print(\"----------------------------------\")\n",
    "        print(\"Tetantive {}:Malheureusement, une ou plusieurs réponses soumises ne sont pas correctes. \\n \\\n",
    "       hint: k est la taille du groupe de questions à répondre, \\n \\\n",
    "       n est la taille de l'ensemble de réponses possible.\".format(counter_10_1_ex6))\n",
    "\n",
    "\n",
    "display(widgets.HBox([user_k_q10_answer, user_n_q10_answer, button]))\n",
    "\n",
    "button.on_click(test_10_1_ex6)\n",
    "\n"
   ]
  },
  {
   "cell_type": "code",
   "execution_count": 184,
   "id": "cbc46f4d",
   "metadata": {
    "init_cell": true,
    "solution2": "hidden"
   },
   "outputs": [
    {
     "name": "stdout",
     "output_type": "stream",
     "text": [
      "Ce probème peut être vu de deux manières: \n",
      "\n",
      "1. Comme un problème de compter des aragements avec répétitions possible de taille 10 et un ensemble de 3. \n",
      " Pour chaque question, c'est la réponse 1, ou 2 ou 3 qui peut être choisi et le numéro de réponse choisi dans une question \n",
      " n'empêche pas qu'elle peut être rechoisi dans les questions suivantes, donc c'est un problème avec répéition. \n",
      " L'ordre est bien évidement important.\n",
      "\n",
      "2. On peut voir ce problème comme étant une succession de 10 opérations: \n",
      " chaque opération, question, correspond à sélectionner une réponse parmi 3 pour chaque question. Chaque opération correspond \n",
      " donc à une dispositin de type combinaison avec k = 1 et n = 3. \n",
      " Avec le principe de la multiplication, on peut combiner les possibilités pour toutes les questions. n La deuxième manière nous permet aussi de généraliser plus facilement au cas où on peut choisir plusieurs réponses par question.\n"
     ]
    }
   ],
   "source": [
    "print('Ce probème peut être vu de deux manières: \\n')\n",
    "print(\"1. Comme un problème de compter des aragements avec répétitions possible de taille 10 et un ensemble de 3. \\n \\\n",
    "Pour chaque question, c'est la réponse 1, ou 2 ou 3 qui peut être choisi et le numéro de réponse choisi dans une question \\n \\\n",
    "n'empêche pas qu'elle peut être rechoisi dans les questions suivantes, donc c'est un problème avec répéition. \\n \\\n",
    "L'ordre est bien évidement important.\\n\")\n",
    "print(\"2. On peut voir ce problème comme étant une succession de 10 opérations: \\n \\\n",
    "chaque opération, question, correspond à sélectionner une réponse parmi 3 pour chaque question. Chaque opération correspond \\n \\\n",
    "donc à une dispositin de type combinaison avec k = 1 et n = 3. \\n \\\n",
    "Avec le principe de la multiplication, on peut combiner les possibilités pour toutes les questions. n \\\n",
    "La deuxième manière nous permet aussi de généraliser plus facilement au cas où on peut choisir plusieurs réponses par question.\")"
   ]
  },
  {
   "cell_type": "markdown",
   "id": "71d63c8a",
   "metadata": {},
   "source": [
    "# Exercice 7"
   ]
  },
  {
   "cell_type": "markdown",
   "id": "5cf64510",
   "metadata": {},
   "source": [
    "Combien peut-on constituer d mots de 8 lettres avec le mot AVENTURE si …"
   ]
  },
  {
   "cell_type": "markdown",
   "id": "1b3e0e75",
   "metadata": {},
   "source": [
    "## .… il n’y a aucune restriction ?"
   ]
  },
  {
   "cell_type": "code",
   "execution_count": 185,
   "id": "219179df",
   "metadata": {
    "init_cell": true
   },
   "outputs": [
    {
     "name": "stdout",
     "output_type": "stream",
     "text": [
      "De quelle type de disposition s'agit-il?\n"
     ]
    },
    {
     "data": {
      "application/vnd.jupyter.widget-view+json": {
       "model_id": "7c1734d73cf5404b956f3c9b2dc475c9",
       "version_major": 2,
       "version_minor": 0
      },
      "text/plain": [
       "Dropdown(description='Réponse:', index=6, options=('Permutation sans répétitions', 'Permutation avec répétitio…"
      ]
     },
     "metadata": {},
     "output_type": "display_data"
    }
   ],
   "source": [
    "print(\"De quelle type de disposition s'agit-il?\")\n",
    "\n",
    "user_type_1_ex7= widgets.Dropdown(\n",
    "    options=['Permutation sans répétitions', 'Permutation avec répétitions', 'Arrangement sans répétition', 'Arrangement avec répétition', 'Combinaison sans répétitions', 'Combinaison avec répétitions', 'aucune'],\n",
    "    value='aucune',\n",
    "    description='Réponse:',\n",
    "    disabled=False,\n",
    ")\n",
    "\n",
    "def on_change_1_ex7(change):\n",
    "    if change['new'] == 'Permutation avec répétitions':\n",
    "        print(\"----------------------------------\")\n",
    "        print(\"Votre réponse '{}' est correcte!\".format(change['new']))\n",
    "    else:\n",
    "        print(\"----------------------------------\")\n",
    "        print(\"Votre réponse '{}' n'est pas correcte!! \\n \\\n",
    "         hint: est-ce que la taille de notre disposition est la même que l'ensemble d'où on tire les éléments? \\n \\\n",
    "         Est-ce que l'ensembe contient des éléments qui se répètent? \\n\\\n",
    "         Est-ce que l'ordre des éléments dans notre disposition est important?\".format(change['new']))\n",
    "        \n",
    "display(user_type_1_ex7)\n",
    "user_type_1_ex7.observe(user_type_1_ex7, names = 'value')"
   ]
  },
  {
   "cell_type": "code",
   "execution_count": 186,
   "id": "60ea74a1",
   "metadata": {
    "init_cell": true,
    "scrolled": true,
    "solution2": "hidden",
    "solution2_first": true
   },
   "outputs": [
    {
     "name": "stdout",
     "output_type": "stream",
     "text": [
      "Combien de mots de ce type pourrons-nous former?\n"
     ]
    },
    {
     "data": {
      "application/vnd.jupyter.widget-view+json": {
       "model_id": "ef527fa05b574b86a9464f6219569aef",
       "version_major": 2,
       "version_minor": 0
      },
      "text/plain": [
       "HBox(children=(IntText(value=0, description='Réponse:'), Button(description='Soumettre', icon='check', style=B…"
      ]
     },
     "metadata": {},
     "output_type": "display_data"
    }
   ],
   "source": [
    "print(\"Combien de mots de ce type pourrons-nous former?\")\n",
    "\n",
    "n_ex7_1 = 8\n",
    "reps_n_ex7_1 = [2]\n",
    "counter_1_ex7 = 0\n",
    "\n",
    "ex7_q1_answer = widgets.IntText(\n",
    "    value= 0,\n",
    "    description='Réponse:',\n",
    "    disabled=False\n",
    ")\n",
    "\n",
    "button = widgets.Button(\n",
    "    description='Soumettre',\n",
    "    disabled=False,\n",
    "    button_style='',\n",
    "    tooltip='Click me',\n",
    "    icon='check' \n",
    ")\n",
    "\n",
    "\n",
    "def test_1_ex7(change):\n",
    "    global counter_1_ex7 \n",
    "    counter_1_ex7 = counter_1_ex7 + 1\n",
    "    value = ex7_q1_answer.value\n",
    "    correct_value = fn.verify_ex6_1(n_ex7_1, reps_n_ex7_1)\n",
    "    if value == correct_value:\n",
    "        print(\"----------------------------------\")\n",
    "        print(\"Tetantive {}: Bravo! votre réponse est correcte :)\".format(counter_1_ex7))\n",
    "    else:\n",
    "        print(\"----------------------------------\")\n",
    "        print(\"Tetantive {}:Malheureusement, la réponse soumise n'est pas correcte. \\n \\\n",
    "       Cette question est très similaire à la question 1.1 de l'exercice précédent. Revenez-y pour plus de détail. \\n \\\n",
    "       Cliquez sur 'Show Solution' pour une autre méthode de résolution\".format(counter_1_ex7))\n",
    "\n",
    "\n",
    "display(widgets.HBox([ex7_q1_answer, button]))\n",
    "\n",
    "button.on_click(test_1_ex7)"
   ]
  },
  {
   "cell_type": "code",
   "execution_count": 187,
   "id": "8534c0ef",
   "metadata": {
    "init_cell": true,
    "solution2": "hidden"
   },
   "outputs": [
    {
     "name": "stdout",
     "output_type": "stream",
     "text": [
      "Nous pourrons aussi résoudre cette question différement. \n",
      "\n",
      "S'il n'y avait pas de répétitions de la lettre E, le problème aurait été un problème de répétition simple.\n",
      " Mais du fait que E se répètent deux fois cela nous impose d'éviter les répétitions qui sont dues au différentes combinaisons \n",
      " possible des lettre E. Donc on essaie de diviser la problème en 2 sous-problèmes : \n",
      "\n",
      "1. De combien de manières pourrons-nous placer les 2 lettres E dans un mot de taille 8? \n",
      " Le problème de placer les 2 E dans le mot de 8 lettre est equivalent au problème de sélectionner 2 positions parmi 8. \n",
      " De quelle type de disposition s'agira-t-il? \n",
      "De quelle type de disposition s'agit-il?\n"
     ]
    },
    {
     "data": {
      "application/vnd.jupyter.widget-view+json": {
       "model_id": "ed5c0429849f43348f73a036949ed396",
       "version_major": 2,
       "version_minor": 0
      },
      "text/plain": [
       "Dropdown(description='Réponse:', index=6, options=('Permutation sans répétitions', 'Permutation avec répétitio…"
      ]
     },
     "metadata": {},
     "output_type": "display_data"
    }
   ],
   "source": [
    "print(\"Nous pourrons aussi résoudre cette question différement. \\n\")\n",
    "\n",
    "print(\"S'il n'y avait pas de répétitions de la lettre E, le problème aurait été un problème de répétition simple.\\n \\\n",
    "Mais du fait que E se répètent deux fois cela nous impose d'éviter les répétitions qui sont dues au différentes combinaisons \\n \\\n",
    "possible des lettre E. Donc on essaie de diviser la problème en 2 sous-problèmes : \\n\")\n",
    "\n",
    "print(\"1. De combien de manières pourrons-nous placer les 2 lettres E dans un mot de taille 8? \\n \\\n",
    "Le problème de placer les 2 E dans le mot de 8 lettre est equivalent au problème de sélectionner 2 positions parmi 8. \\n \\\n",
    "De quelle type de disposition s'agira-t-il? \")\n",
    "\n",
    "print(\"De quelle type de disposition s'agit-il?\")\n",
    "\n",
    "user_type_1_1_ex7= widgets.Dropdown(\n",
    "    options=['Permutation sans répétitions', 'Permutation avec répétitions', 'Arrangement sans répétition', 'Arrangement avec répétition', 'Combinaison sans répétitions', 'Combinaison avec répétitions', 'aucune'],\n",
    "    value='aucune',\n",
    "    description='Réponse:',\n",
    "    disabled=False,\n",
    ")\n",
    "\n",
    "def on_change_1_1_ex7(change):\n",
    "    if change['new'] == 'Combinaison sans répétitions':\n",
    "        print(\"----------------------------------\")\n",
    "        print(\"Votre réponse '{}' est correcte!\".format(change['new']))\n",
    "    else:\n",
    "        print(\"----------------------------------\")\n",
    "        print(\"Votre réponse '{}' n'est pas correcte!! \\n \\\n",
    "         hint: on veut choisir 2 positions parmi 8, l'ordre n'est en effet pas important.\".format(change['new']))\n",
    "        \n",
    "display(user_type_1_1_ex7)\n",
    "user_type_1_1_ex7.observe(on_change_1_1_ex7, names = 'value')\n"
   ]
  },
  {
   "cell_type": "code",
   "execution_count": 188,
   "id": "af5d22b9",
   "metadata": {
    "init_cell": true,
    "solution2": "hidden"
   },
   "outputs": [
    {
     "name": "stdout",
     "output_type": "stream",
     "text": [
      "2. On connait maintenant de combien de manière on peut placer les 2 lettres E. Il reste à savoir comment placer les \n",
      " les 6 autres lettres A V N T U R dans les 6 positions qui restent. \n",
      "\n",
      "De quelle type de disposition s'agit-il?\n"
     ]
    },
    {
     "data": {
      "application/vnd.jupyter.widget-view+json": {
       "model_id": "07ea4ad8670e498c895ffacec56c1321",
       "version_major": 2,
       "version_minor": 0
      },
      "text/plain": [
       "Dropdown(description='Réponse:', index=6, options=('Permutation sans répétitions', 'Permutation avec répétitio…"
      ]
     },
     "metadata": {},
     "output_type": "display_data"
    }
   ],
   "source": [
    "print(\"2. On connait maintenant de combien de manière on peut placer les 2 lettres E. Il reste à savoir comment placer les \\n \\\n",
    "les 6 autres lettres A V N T U R dans les 6 positions qui restent. \\n\")\n",
    "\n",
    "print(\"De quelle type de disposition s'agit-il?\")\n",
    "\n",
    "user_type_1_2_ex7= widgets.Dropdown(\n",
    "    options=['Permutation sans répétitions', 'Permutation avec répétitions', 'Arrangement sans répétition', 'Arrangement avec répétition', 'Combinaison sans répétitions', 'Combinaison avec répétitions', 'aucune'],\n",
    "    value='aucune',\n",
    "    description='Réponse:',\n",
    "    disabled=False,\n",
    ")\n",
    "\n",
    "def on_change_1_2_ex7(change):\n",
    "    if change['new'] == 'Permutation sans répétitions':\n",
    "        print(\"----------------------------------\")\n",
    "        print(\"Votre réponse '{}' est correcte!\".format(change['new']))\n",
    "    else:\n",
    "        print(\"----------------------------------\")\n",
    "        print(\"Votre réponse '{}' n'est pas correcte!! \\n \\\n",
    "         hint: on veut choisir 6 positions parmi 6 et les lettres sont toutes différentes.\".format(change['new']))\n",
    "        \n",
    "display(user_type_1_2_ex7)\n",
    "user_type_1_2_ex7.observe(on_change_1_2_ex7, names = 'value')"
   ]
  },
  {
   "cell_type": "code",
   "execution_count": 189,
   "id": "624323b4",
   "metadata": {
    "init_cell": true,
    "solution2": "hidden"
   },
   "outputs": [
    {
     "name": "stdout",
     "output_type": "stream",
     "text": [
      "3. On se rappelle aussi que nous devons combinez les résultats des points 1 et 2 précédent. On peut se dire que \n",
      " constituer un mot de 8 lettres avec les lettres A V E N T U R et E est équivalent à deux opérations: choisir les positions des \n",
      " E ET choisir les positions des 6 lettres restantes. \n",
      " \n"
     ]
    },
    {
     "data": {
      "application/vnd.jupyter.widget-view+json": {
       "model_id": "77500b70290a4167b9eb9f8b235eca8d",
       "version_major": 2,
       "version_minor": 0
      },
      "text/plain": [
       "Dropdown(description='Réponse:', index=4, options=('Soustraction', 'Division', 'Addition', 'Multiplication', '…"
      ]
     },
     "metadata": {},
     "output_type": "display_data"
    }
   ],
   "source": [
    "print(\"3. On se rappelle aussi que nous devons combinez les résultats des points 1 et 2 précédent. On peut se dire que \\n \\\n",
    "constituer un mot de 8 lettres avec les lettres A V E N T U R et E est équivalent à deux opérations: choisir les positions des \\n \\\n",
    "E ET choisir les positions des 6 lettres restantes. \\n \")\n",
    "\n",
    "user_1_1_3_ex7 = widgets.Dropdown(\n",
    "    options=['Soustraction', 'Division', 'Addition', 'Multiplication', 'aucune'],\n",
    "    value='aucune',\n",
    "    description='Réponse:',\n",
    "    disabled=False,\n",
    ")\n",
    "\n",
    "def on_change_1_1_3_ex7(change):\n",
    "    if change['new'] == 'Multiplication':\n",
    "        print(\"----------------------------------\")\n",
    "        print(\"Votre réponse '{}' est correcte!\".format(change['new']))\n",
    "    else:\n",
    "        print(\"----------------------------------\")\n",
    "        print(\"Votre réponse '{}' n'est pas correcte!! \\n \\\n",
    "         hint: les deux oprations doivent se réaliser pour constituer le mot, elles ne sont pas mutuellement exclusives!\".format(change['new']))\n",
    "    \n",
    "display(user_1_1_3_ex7)\n",
    "user_1_1_3_ex7.observe(on_change_1_1_3_ex7, names = 'value')\n"
   ]
  },
  {
   "cell_type": "code",
   "execution_count": 190,
   "id": "4aec970c",
   "metadata": {
    "init_cell": true,
    "scrolled": true,
    "solution2": "hidden"
   },
   "outputs": [
    {
     "name": "stdout",
     "output_type": "stream",
     "text": [
      "Revenez au début de la question pour resoumettre votre réponse.\n"
     ]
    }
   ],
   "source": [
    "print(\"Revenez au début de la question pour resoumettre votre réponse.\")"
   ]
  },
  {
   "cell_type": "markdown",
   "id": "80ba3c77",
   "metadata": {},
   "source": [
    "## … les 2 E ne doivent pas se toucher ?"
   ]
  },
  {
   "cell_type": "code",
   "execution_count": 191,
   "id": "e27ec24e",
   "metadata": {
    "init_cell": true,
    "scrolled": true,
    "solution2": "hidden",
    "solution2_first": true
   },
   "outputs": [
    {
     "name": "stdout",
     "output_type": "stream",
     "text": [
      "Combien de mots de ce type pourrons-nous former?\n"
     ]
    },
    {
     "data": {
      "application/vnd.jupyter.widget-view+json": {
       "model_id": "2d135df3d24b49249f4e5e630a3ec9cc",
       "version_major": 2,
       "version_minor": 0
      },
      "text/plain": [
       "HBox(children=(IntText(value=0, description='Réponse:'), Button(description='Soumettre', icon='check', style=B…"
      ]
     },
     "metadata": {},
     "output_type": "display_data"
    }
   ],
   "source": [
    "print(\"Combien de mots de ce type pourrons-nous former?\")\n",
    "\n",
    "n_ex7_2 = 8\n",
    "reps_n_ex7_2 = [2]\n",
    "\n",
    "counter_2_ex7 = 0\n",
    "\n",
    "ex7_q2_answer = widgets.IntText(\n",
    "    value= 0,\n",
    "    description='Réponse:',\n",
    "    disabled=False\n",
    ")\n",
    "\n",
    "button = widgets.Button(\n",
    "    description='Soumettre',\n",
    "    disabled=False,\n",
    "    button_style='',\n",
    "    tooltip='Click me',\n",
    "    icon='check' \n",
    ")\n",
    "\n",
    "\n",
    "def test_2_ex7(change):\n",
    "    global counter_2_ex7 \n",
    "    counter_2_ex7 = counter_2_ex7 + 1\n",
    "    value = ex7_q2_answer.value\n",
    "    correct_value = fn.verify_ex7_2(n_ex7_2, reps_n_ex7_2)\n",
    "    if value == correct_value:\n",
    "        print(\"----------------------------------\")\n",
    "        print(\"Tetantive {}: Bravo! votre réponse est correcte :)\".format(counter_2_ex7))\n",
    "    else:\n",
    "        print(\"----------------------------------\")\n",
    "        print(\"Tetantive {}:Malheureusement, la réponse soumise n'est pas correcte. \\n \\\n",
    "       Cliquez sur 'Show Solution' pour quelques indices\".format(counter_2_ex7))\n",
    "\n",
    "\n",
    "display(widgets.HBox([ex7_q2_answer, button]))\n",
    "\n",
    "button.on_click(test_2_ex7)"
   ]
  },
  {
   "cell_type": "code",
   "execution_count": 192,
   "id": "a06c0aa2",
   "metadata": {
    "init_cell": true,
    "scrolled": false,
    "solution2": "hidden"
   },
   "outputs": [
    {
     "name": "stdout",
     "output_type": "stream",
     "text": [
      "Il y a en effet 2 méthodes pour répondre à cette questions. \n",
      "\n",
      "Méthode 1: \n",
      "\n",
      "On peut procéder par élimination: on cherche le nombre total de mots possibles sans aucune restriction (question 2.1), \n",
      "de ce nombre on enlève le nombre de mots qui contiennent les lettres E qui se touchent. \n",
      "\n",
      "Encore une fois, on va compter les emplacement pour les E en premier selon la condition et ensuite on compte \n",
      " les emplacements des 6 lettres restantes. \n",
      "\n",
      "De combien de manières peut-on placer les 2 lettres E, l'une à côté de l'autre, dans un mot de 8 lettres?\n",
      "Quel sera alors le total de mots qui contiennent les deux lettres E placées l'une à côté de l'autre?\n"
     ]
    },
    {
     "data": {
      "application/vnd.jupyter.widget-view+json": {
       "model_id": "2ced7b0cf3ac4cdcaf773655adeefa86",
       "version_major": 2,
       "version_minor": 0
      },
      "text/plain": [
       "HBox(children=(IntText(value=0, description='Les E:'), IntText(value=0, description='Les mots:'), Button(descr…"
      ]
     },
     "metadata": {},
     "output_type": "display_data"
    }
   ],
   "source": [
    "print(\"Il y a en effet 2 méthodes pour répondre à cette questions. \\n\")\n",
    "\n",
    "print(\"Méthode 1: \\n\")\n",
    "\n",
    "print(\"On peut procéder par élimination: on cherche le nombre total de mots possibles sans aucune restriction (question 2.1), \\n\\\n",
    "de ce nombre on enlève le nombre de mots qui contiennent les lettres E qui se touchent. \\n\")\n",
    "\n",
    "print(\"Encore une fois, on va compter les emplacement pour les E en premier selon la condition et ensuite on compte \\n \\\n",
    "les emplacements des 6 lettres restantes. \\n\")\n",
    "\n",
    "print(\"De combien de manières peut-on placer les 2 lettres E, l'une à côté de l'autre, dans un mot de 8 lettres?\")\n",
    "print(\"Quel sera alors le total de mots qui contiennent les deux lettres E placées l'une à côté de l'autre?\")\n",
    "\n",
    "\n",
    "user_E_ex7_2_answer = widgets.IntText(\n",
    "    value= 0,\n",
    "    description='Les E:',\n",
    "    disabled=False\n",
    ")\n",
    "\n",
    "user_mot_ex7_2_answer = widgets.IntText(\n",
    "    value= 0,\n",
    "    description='Les mots:',\n",
    "    disabled=False\n",
    ")\n",
    "\n",
    "button = widgets.Button(\n",
    "    description='Soumettre',\n",
    "    disabled=False,\n",
    "    button_style='',\n",
    "    tooltip='Click me',\n",
    "    icon='check' \n",
    ")\n",
    "\n",
    "counter_2_2_ex7 = 0\n",
    "\n",
    "flag_E_2_ex7 = False \n",
    "flag_mot_2_ex7 = False    \n",
    "    \n",
    "def test_2_ex7(change):\n",
    "    global counter_2_2_ex7 \n",
    "    global flag_E_2_ex7\n",
    "    global flag_mot_2_ex7\n",
    "    counter_2_2_ex7 = counter_2_2_ex7 + 1\n",
    "    value_E = user_E_ex7_2_answer.value\n",
    "    value_mot = user_mot_ex7_2_answer.value\n",
    "\n",
    "    if value_E == (n_ex7_2 - reps_n_ex7_2[0] + 1): \n",
    "        flag_E_2_ex7 = True\n",
    "    else:\n",
    "        flag_E_2_ex7 = False\n",
    "        \n",
    "    if value_mot == ((n_ex7_2 - reps_n_ex7_2[0] + 1) * fn.permutationNoRep(n_ex7_2 - reps_n_ex7_2[0])) :\n",
    "        flag_mot_2_ex7 = True \n",
    "    else:\n",
    "        flag_mot_2_ex7 = False\n",
    "        \n",
    "    if flag_E_2_ex7 and flag_mot_2_ex7:\n",
    "        print(\"----------------------------------\")\n",
    "        print(\"Tetantive {}: Bravo! vos réponses sont correctes :)\".format(counter_2_2_ex7))\n",
    "    else:\n",
    "        print(\"----------------------------------\")\n",
    "        print(\"Tetantive {}:Malheureusement, une ou plusieurs réponses soumises ne sont pas correctes. \\n \\\n",
    "       hint: comptez les possibilités pour placer les 2 E sur l'illutration suivante! \\n \\n \\\n",
    "       _ _ _ _ _ _ _ _ \\n \\\n",
    "       e e \\n \\\n",
    "         e e \\n \\\n",
    "           e e \\n \\\n",
    "             e e \\n \\\n",
    "               e e \\n \\\n",
    "                 e e \\n \\\n",
    "                   e e \\n \\\n",
    "        \\n Placer le reste des 6 lettres dans les 6 positions restantes est un problème de permutation sans répétitions.\\n \\\n",
    "        Comme dans la question 2.1., nous devons combiner le nombre de positions possibles pour les 2 E avec le nombre \\n \\\n",
    "        de positions possibles pour le reste des lettres avec le principe de la multiplication.\".format(counter_2_2_ex7))\n",
    "\n",
    "\n",
    "display(widgets.HBox([user_E_ex7_2_answer, user_mot_ex7_2_answer, button]))\n",
    "\n",
    "button.on_click(test_2_ex7)\n",
    "\n"
   ]
  },
  {
   "cell_type": "code",
   "execution_count": 193,
   "id": "c738f33c",
   "metadata": {
    "init_cell": true,
    "solution2": "hidden"
   },
   "outputs": [
    {
     "name": "stdout",
     "output_type": "stream",
     "text": [
      "N'oublions pas qu'il faut soustraire ces mots qu'on vient de trouver du total des mots trouvés sans rstriction!\n"
     ]
    }
   ],
   "source": [
    "print(\"N'oublions pas qu'il faut soustraire ces mots qu'on vient de trouver du total des mots trouvés sans rstriction!\")"
   ]
  },
  {
   "cell_type": "code",
   "execution_count": 194,
   "id": "d0d963e6",
   "metadata": {
    "init_cell": true,
    "solution2": "hidden"
   },
   "outputs": [
    {
     "name": "stdout",
     "output_type": "stream",
     "text": [
      "Méthode 2: \n",
      "\n",
      "Avec cette méthode on procède directement à compter de combien de manières on peut placer les 2 lettres E \n",
      " dans un mot à 8 lettres, tel que les E ne se touchent pas ET on combine cela avec les possibilités de placer le reste \n",
      " des 6 lettres!\n",
      "De combien de manières peut-on placer les 2 lettres E,sans qu'elles se touchent, dans un mot de 8 lettres?\n",
      "Quel sera alors le total de mots qui contiennent les deux lettres E ne se touchant pas?\n"
     ]
    },
    {
     "data": {
      "application/vnd.jupyter.widget-view+json": {
       "model_id": "fb9aab90e4244d42830cf80dc0166b95",
       "version_major": 2,
       "version_minor": 0
      },
      "text/plain": [
       "HBox(children=(IntText(value=0, description='Les E:'), IntText(value=0, description='Les mots:'), Button(descr…"
      ]
     },
     "metadata": {},
     "output_type": "display_data"
    }
   ],
   "source": [
    "print(\"Méthode 2: \\n\")\n",
    "print(\"Avec cette méthode on procède directement à compter de combien de manières on peut placer les 2 lettres E \\n \\\n",
    "dans un mot à 8 lettres, tel que les E ne se touchent pas ET on combine cela avec les possibilités de placer le reste \\n \\\n",
    "des 6 lettres!\")\n",
    "\n",
    "print(\"De combien de manières peut-on placer les 2 lettres E,sans qu'elles se touchent, dans un mot de 8 lettres?\")\n",
    "print(\"Quel sera alors le total de mots qui contiennent les deux lettres E ne se touchant pas?\")\n",
    "\n",
    "\n",
    "user_E_ex7_2_2_answer = widgets.IntText(\n",
    "    value= 0,\n",
    "    description='Les E:',\n",
    "    disabled=False\n",
    ")\n",
    "\n",
    "user_mot_ex7_2_2_answer = widgets.IntText(\n",
    "    value= 0,\n",
    "    description='Les mots:',\n",
    "    disabled=False\n",
    ")\n",
    "\n",
    "button = widgets.Button(\n",
    "    description='Soumettre',\n",
    "    disabled=False,\n",
    "    button_style='',\n",
    "    tooltip='Click me',\n",
    "    icon='check' \n",
    ")\n",
    "\n",
    "counter_2_3_ex7 = 0\n",
    "\n",
    "flag_E_2_2_ex7 = False \n",
    "flag_mot_2_2_ex7 = False    \n",
    "    \n",
    "def test_2_2_ex7(change):\n",
    "    global counter_2_3_ex7 \n",
    "    global flag_E_2_2_ex7\n",
    "    global flag_mot_2_2_ex7\n",
    "    counter_2_3_ex7 = counter_2_3_ex7 + 1\n",
    "    value_E = user_E_ex7_2_2_answer.value\n",
    "    value_mot = user_mot_ex7_2_2_answer.value\n",
    "\n",
    "    if value_E == 21: \n",
    "        flag_E_2_ex7 = True\n",
    "    else:\n",
    "        flag_E_2_ex7 = False\n",
    "        \n",
    "    if value_mot == (21 * fn.permutationNoRep(n_ex7_2 - reps_n_ex7_2[0])) :\n",
    "        flag_mot_2_ex7 = True \n",
    "    else:\n",
    "        flag_mot_2_ex7 = False\n",
    "        \n",
    "    if flag_E_2_ex7 and flag_mot_2_ex7:\n",
    "        print(\"----------------------------------\")\n",
    "        print(\"Tetantive {}: Bravo! vos réponses sont correctes :)\".format(counter_2_3_ex7))\n",
    "    else:\n",
    "        print(\"----------------------------------\")\n",
    "        print(\"Tetantive {}:Malheureusement, une ou plusieurs réponses soumises ne sont pas correctes. \\n \\\n",
    "       hint: Comptez les possibilités, une fois vous placez la première E, le nombre de possibilités qui restent \\n \\\n",
    "       pour la 2eme! Rappelez-vous aussi que l'ordre entre les E n'est pas important! \\n \\n \\\n",
    "       _ _ _ _ _ _ _ _ \\n \\\n",
    "       e _ x x x x x x \\n \\\n",
    "         e _ x x x x x \\n \\\n",
    "           e _ x x x x \\n \\\n",
    "             e _ x x x  \\n \\\n",
    "               e _ x x  \\n \\\n",
    "                 e _ x \\n \\\n",
    "        \\n Placer le reste des 6 lettres dans les 6 positions restantes est un problème de permutation sans répétitions.\\n \\\n",
    "        Comme dans la question 2.1., nous devons combiner le nombre de positions possibles pour les 2 E avec le nombre \\n \\\n",
    "        de positions possibles pour le reste des lettres avec le principe de la multiplication.\".format(counter_2_3_ex7))\n",
    "\n",
    "\n",
    "display(widgets.HBox([user_E_ex7_2_2_answer, user_mot_ex7_2_2_answer, button]))\n",
    "\n",
    "button.on_click(test_2_2_ex7)\n",
    "\n"
   ]
  },
  {
   "cell_type": "markdown",
   "id": "ed0992cd",
   "metadata": {},
   "source": [
    "## … les 3 premières lettres doivent être des voyelles ?"
   ]
  },
  {
   "cell_type": "code",
   "execution_count": 195,
   "id": "9bb432e2",
   "metadata": {
    "init_cell": true,
    "scrolled": true,
    "solution2": "hidden",
    "solution2_first": true
   },
   "outputs": [
    {
     "name": "stdout",
     "output_type": "stream",
     "text": [
      "Combien de mots de ce type pourrons-nous former?\n"
     ]
    },
    {
     "data": {
      "application/vnd.jupyter.widget-view+json": {
       "model_id": "ba3f741b4e0a4c57abdcd06e0173c512",
       "version_major": 2,
       "version_minor": 0
      },
      "text/plain": [
       "HBox(children=(IntText(value=0, description='Réponse:'), Button(description='Soumettre', icon='check', style=B…"
      ]
     },
     "metadata": {},
     "output_type": "display_data"
    }
   ],
   "source": [
    "print(\"Combien de mots de ce type pourrons-nous former?\")\n",
    "\n",
    "n_ex7_3 = 8\n",
    "voyel_ex7_3 = len(['A', 'E', 'E', 'U'])\n",
    "reps_ex7_3 = [2]\n",
    "\n",
    "counter_3_ex7 = 0\n",
    "\n",
    "ex7_q3_answer = widgets.IntText(\n",
    "    value= 0,\n",
    "    description='Réponse:',\n",
    "    disabled=False\n",
    ")\n",
    "\n",
    "button = widgets.Button(\n",
    "    description='Soumettre',\n",
    "    disabled=False,\n",
    "    button_style='',\n",
    "    tooltip='Click me',\n",
    "    icon='check' \n",
    ")\n",
    "\n",
    "\n",
    "def test_3_ex7(change):\n",
    "    global counter_3_ex7 \n",
    "    counter_3_ex7 = counter_3_ex7 + 1\n",
    "    value = ex7_q3_answer.value\n",
    "    correct_value = fn.verify_ex7_3(n_ex7_3, voyel_ex7_3,reps_ex7_3)\n",
    "    if value == correct_value:\n",
    "        print(\"----------------------------------\")\n",
    "        print(\"Tetantive {}: Bravo! votre réponse est correcte :)\".format(counter_3_ex7))\n",
    "    else:\n",
    "        print(\"----------------------------------\")\n",
    "        print(\"Tetantive {}:Malheureusement, la réponse soumise n'est pas correcte. \\n \\\n",
    "       Cliquez sur 'Show Solution' pour quelques indices\".format(counter_3_ex7))\n",
    "\n",
    "\n",
    "display(widgets.HBox([ex7_q3_answer, button]))\n",
    "\n",
    "button.on_click(test_3_ex7)"
   ]
  },
  {
   "cell_type": "code",
   "execution_count": 196,
   "id": "79f49b55",
   "metadata": {
    "init_cell": true,
    "solution2": "hidden"
   },
   "outputs": [
    {
     "name": "stdout",
     "output_type": "stream",
     "text": [
      "Nous avons au total 4 voyelles : A , E , E et U .\n",
      "\n",
      "On veut que les 3 premières lettres du mot soient des voyelles. Mais au moins un E pourra apparaitre dans ces 3 voyelles! \n",
      "\n",
      "Encore une fois, on va procéder en deux étapes: compter les possibililités de choisir les 3 voyelles et \n",
      " compter les possibilités de choisir les 5 lettres restantes. \n",
      "\n",
      "De combien de manières différentes pourrons nous choisir les 3 voyelles? On décompose cette question encore! \n",
      "\n",
      "De combien de manières pourrons nous choisir les 3 voyelles si les deux E sont dedans? \n",
      " Dit autrement, de combien de manières pourrons nous positioner 2 E et sélectionner la 3eme voyelle? \n",
      "\n",
      "De combien de manières pourrons nous choisir les 3 voyelles si une seule E est dedans? \n",
      " Dit aturement, de combien de manières on peut positionner la E? et de combien de manières on choisit les 2 voyelles restantes?\n"
     ]
    },
    {
     "data": {
      "application/vnd.jupyter.widget-view+json": {
       "model_id": "348dda2952274c02be064603c31479e8",
       "version_major": 2,
       "version_minor": 0
      },
      "text/plain": [
       "HBox(children=(IntText(value=0, description='Deux E:'), IntText(value=0, description='Une E:'), Button(descrip…"
      ]
     },
     "metadata": {},
     "output_type": "display_data"
    }
   ],
   "source": [
    "print(\"Nous avons au total 4 voyelles : A , E , E et U .\\n\")\n",
    "print(\"On veut que les 3 premières lettres du mot soient des voyelles. Mais au moins un E pourra apparaitre dans ces 3 voyelles! \\n\")\n",
    "\n",
    "print(\"Encore une fois, on va procéder en deux étapes: compter les possibililités de choisir les 3 voyelles et \\n \\\n",
    "compter les possibilités de choisir les 5 lettres restantes. \\n\")\n",
    "\n",
    "print(\"De combien de manières différentes pourrons nous choisir les 3 voyelles? On décompose cette question encore! \\n\")\n",
    "print(\"De combien de manières pourrons nous choisir les 3 voyelles si les deux E sont dedans? \\n \\\n",
    "Dit autrement, de combien de manières pourrons nous positioner 2 E et sélectionner la 3eme voyelle? \\n\")\n",
    "print(\"De combien de manières pourrons nous choisir les 3 voyelles si une seule E est dedans? \\n \\\n",
    "Dit aturement, de combien de manières on peut positionner la E? et de combien de manières on choisit les 2 voyelles restantes?\" )\n",
    "\n",
    "user_2E_ex7_3_1_answer = widgets.IntText(\n",
    "    value= 0,\n",
    "    description='Deux E:',\n",
    "    disabled=False\n",
    ")\n",
    "\n",
    "user_1E_ex7_3_1_answer = widgets.IntText(\n",
    "    value= 0,\n",
    "    description='Une E:',\n",
    "    disabled=False\n",
    ")\n",
    "\n",
    "button = widgets.Button(\n",
    "    description='Soumettre',\n",
    "    disabled=False,\n",
    "    button_style='',\n",
    "    tooltip='Click me',\n",
    "    icon='check' \n",
    ")\n",
    "\n",
    "counter_3_1_ex7 = 0\n",
    "\n",
    "flag_2E_3_1_ex7 = False \n",
    "flag_1E_3_1_ex7 = False    \n",
    "    \n",
    "def test_3_1_ex7(change):\n",
    "    global counter_3_1_ex7 \n",
    "    global flag_2E_3_1_ex7\n",
    "    global flag_1E_3_1_ex7\n",
    "    counter_3_1_ex7 = counter_3_1_ex7 + 1\n",
    "    value_2E = user_2E_ex7_3_1_answer.value\n",
    "    value_1E = user_1E_ex7_3_1_answer.value\n",
    "\n",
    "    if value_2E == 6: \n",
    "        flag_2E_3_1_ex7 = True\n",
    "    else:\n",
    "        flag_2E_3_1_ex7 = False\n",
    "        \n",
    "    if value_1E ==  6:\n",
    "        flag_1E_3_1_ex7 = True \n",
    "    else:\n",
    "        flag_1E_3_1_ex7 = False\n",
    "        \n",
    "    if flag_2E_3_1_ex7 and flag_1E_3_1_ex7:\n",
    "        print(\"----------------------------------\")\n",
    "        print(\"Tetantive {}: Bravo! vos réponses sont correctes :)\".format(counter_3_1_ex7))\n",
    "    if not flag_2E_3_1_ex7: \n",
    "        print(\"----------------------------------\")\n",
    "        print(\"Tetantive {}: le nombre de possibilités des 3 voyelles avec 2 E n'est pas correcte. \\n \\\n",
    "        hint: faites en une illustration! il y a 3 positions, dont 2 doivent être occupées par les 2 E ET une \\n \\\n",
    "        3eme position doit être remplie par une des deux voyelles restantes, de combien de manières pourrons-nous choisir \\n \\\n",
    "        cette troisième voyelle?\".format(counter_3_1_ex7))\n",
    "    if not flag_1E_3_1_ex7: \n",
    "        print(\"----------------------------------\")\n",
    "        print(\"Tetantive {}: le nombre des possibilités des 3 voyelles contenant une E n'est pas correcte. \\n \\\n",
    "        hint: faites en une illustration! il y a 3 positions, dont 1 doit être occupée par la E ET deux \\n \\\n",
    "        autres voyelles doivent être choisies pour les 2 positions restantes! Cela ressemble aussi à une permutation \\n \\\n",
    "        sans répétitions des trois voyelles A, E et U.\".format(counter_3_1_ex7))\n",
    "\n",
    "\n",
    "display(widgets.HBox([user_2E_ex7_3_1_answer, user_1E_ex7_3_1_answer, button]))\n",
    "\n",
    "button.on_click(test_3_1_ex7)\n",
    "\n"
   ]
  },
  {
   "cell_type": "code",
   "execution_count": 197,
   "id": "8055ba8c",
   "metadata": {
    "init_cell": true,
    "solution2": "hidden"
   },
   "outputs": [
    {
     "name": "stdout",
     "output_type": "stream",
     "text": [
      "De combien de manières pourrons-nous choisir les 5 lettres restantes?\n"
     ]
    },
    {
     "data": {
      "application/vnd.jupyter.widget-view+json": {
       "model_id": "32df286ad5ac48fa8d80848f00d1d801",
       "version_major": 2,
       "version_minor": 0
      },
      "text/plain": [
       "HBox(children=(IntText(value=0, description='Réponse:'), Button(description='Soumettre', icon='check', style=B…"
      ]
     },
     "metadata": {},
     "output_type": "display_data"
    }
   ],
   "source": [
    "print(\"De combien de manières pourrons-nous choisir les 5 lettres restantes?\")\n",
    "\n",
    "n_ex7_3_3 = 5\n",
    "\n",
    "\n",
    "counter_4_ex7 = 0\n",
    "\n",
    "ex7_3_3_answer = widgets.IntText(\n",
    "    value= 0,\n",
    "    description='Réponse:',\n",
    "    disabled=False\n",
    ")\n",
    "\n",
    "button = widgets.Button(\n",
    "    description='Soumettre',\n",
    "    disabled=False,\n",
    "    button_style='',\n",
    "    tooltip='Click me',\n",
    "    icon='check' \n",
    ")\n",
    "\n",
    "\n",
    "def test_3_3_ex7(change):\n",
    "    global counter_4_ex7 \n",
    "    counter_4_ex7 = counter_4_ex7 + 1\n",
    "    value = ex7_3_3_answer.value\n",
    "    correct_value = fn.permutationNoRep(n_ex7_3_3)\n",
    "    if value == correct_value:\n",
    "        print(\"----------------------------------\")\n",
    "        print(\"Tetantive {}: Bravo! votre réponse est correcte :)\".format(counter_4_ex7))\n",
    "    else:\n",
    "        print(\"----------------------------------\")\n",
    "        print(\"Tetantive {}:Malheureusement, la réponse soumise n'est pas correcte. \\n \\\n",
    "       hint: nous devons remplir 5 positions restantes avec 5 lettres restantes, la 4eme voyelle qui n'a pas été \\n \\\n",
    "       utilisée dans l'étape précédente pourra être utilisée ici. On note aussi que à ce stade toutes les lettres restantees \\n \\\n",
    "       sont différentes!\".format(counter_4_ex7))\n",
    "\n",
    "\n",
    "display(widgets.HBox([ex7_3_3_answer, button]))\n",
    "\n",
    "button.on_click(test_3_3_ex7)"
   ]
  },
  {
   "cell_type": "code",
   "execution_count": 198,
   "id": "32b3ec13",
   "metadata": {
    "init_cell": true,
    "solution2": "hidden"
   },
   "outputs": [
    {
     "name": "stdout",
     "output_type": "stream",
     "text": [
      "N'oublions pas qu'il faut combiner les possbilités pour choisir les 3 voyelles avec les possibilités pour \n",
      "choisir les 5 lettres restantes du mot.\n"
     ]
    }
   ],
   "source": [
    "print(\"N'oublions pas qu'il faut combiner les possbilités pour choisir les 3 voyelles avec les possibilités pour \\n\\\n",
    "choisir les 5 lettres restantes du mot.\")"
   ]
  },
  {
   "cell_type": "code",
   "execution_count": null,
   "id": "c0189013",
   "metadata": {
    "solution2": "hidden"
   },
   "outputs": [],
   "source": []
  }
 ],
 "metadata": {
  "celltoolbar": "Initialization Cell",
  "hide_input": true,
  "kernelspec": {
   "display_name": "Python 3 (ipykernel)",
   "language": "python",
   "name": "python3"
  },
  "language_info": {
   "codemirror_mode": {
    "name": "ipython",
    "version": 3
   },
   "file_extension": ".py",
   "mimetype": "text/x-python",
   "name": "python",
   "nbconvert_exporter": "python",
   "pygments_lexer": "ipython3",
   "version": "3.9.6"
  },
  "toc": {
   "base_numbering": 1,
   "nav_menu": {},
   "number_sections": true,
   "sideBar": true,
   "skip_h1_title": false,
   "title_cell": "Table of Contents",
   "title_sidebar": "Contents",
   "toc_cell": false,
   "toc_position": {
    "height": "calc(100% - 180px)",
    "left": "10px",
    "top": "150px",
    "width": "220px"
   },
   "toc_section_display": true,
   "toc_window_display": true
  }
 },
 "nbformat": 4,
 "nbformat_minor": 5
}
