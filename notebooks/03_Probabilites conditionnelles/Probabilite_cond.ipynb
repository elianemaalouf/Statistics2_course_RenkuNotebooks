{
 "cells": [
  {
   "cell_type": "code",
   "execution_count": 221,
   "id": "c25d53a0-ead0-4fbd-b779-edf28743cb31",
   "metadata": {
    "hide_input": false,
    "init_cell": true
   },
   "outputs": [],
   "source": [
    "import ipywidgets as widgets\n",
    "from ipywidgets import GridspecLayout, Button, Layout, AppLayout, ToggleButtons, interact, interactive, FloatSlider\n",
    "\n",
    "import sympy\n",
    "from sympy.functions.combinatorial.numbers import nC\n",
    "\n",
    "import numpy as np\n",
    "from itertools import combinations, chain, combinations_with_replacement\n",
    "import matplotlib.pyplot as plt\n",
    "from matplotlib_venn import venn2, venn3\n",
    "from statsmodels.graphics.mosaicplot import mosaic\n",
    "\n",
    "from IPython.display import display, clear_output, Image\n",
    "\n",
    "import pandas as pd\n",
    "from exercices import Ex_frac"
   ]
  },
  {
   "cell_type": "markdown",
   "id": "cf040d1d",
   "metadata": {},
   "source": [
    "# Rappels\n",
    "\n",
    "## 1. Probabilité conditionnelle:\n",
    "\n",
    "####  Dépendance :\n",
    "\n",
    "$ p(A|B) = \\frac {p(A \\cap B)}{p(B)}$\n",
    "\n",
    "\n",
    "$ p(B|A) = \\frac {p(A \\cap B)}{p(A)}$\n",
    "\n",
    "\n",
    "$p(A \\cap B) = p(A) \\cdot p(B|A) = p(B) \\cdot p(A|B)$\n",
    "\n",
    "\n",
    "####  Indépendance :\n",
    "\n",
    "$ p(A|B) = p(A) $\n",
    "\n",
    "\n",
    "$ p(A \\cap B) = p(A) \\cdot p(B)$\n"
   ]
  },
  {
   "cell_type": "markdown",
   "id": "082a9a7c",
   "metadata": {
    "hide_input": true
   },
   "source": [
    "# Visualisation des concepts\n",
    "\n",
    "Vous trouverez ci-dessous un diagramme de Venn dynamique permettant de visualiser les concepts de probabilité conditionelle et d'indépendance.\n",
    "\n",
    "Observez comment la probabilité des différents événements varie en fonction de la valeur de n (représentant la taille de l'intersection et qu'on peut modifier avec le curseur).\n",
    "\n",
    "Que constate-t-on ?\n",
    "\n",
    "La probabilité conditionelle d'événements correspond au rapport entre la taille de l'intersection de ces événements et la taille l'un de ces deux événements. Autrement dit, la probabilité conditionnelle de A sachant que B correspond au pourcentage de B occupé par l'intersection\n",
    "\n",
    "Enfin, il existe une valeur de n pour laquelle A et B sont indépendants. Pouvez vous la trouver ?\n",
    "\n"
   ]
  },
  {
   "cell_type": "code",
   "execution_count": 222,
   "id": "0aa7db62-8ff0-4c80-9062-5e4cbcb7d7c9",
   "metadata": {
    "hide_input": false,
    "init_cell": true
   },
   "outputs": [],
   "source": [
    "layout=Layout(width='20%', height='70px')\n",
    "caption_1 = widgets.Label(value= r'$P(A)= $', layout=layout)\n",
    "caption_1.style.font_size=1\n",
    "caption_2 = widgets.Label(value= r'$P(B)= $', layout=layout)\n",
    "caption_3 = widgets.Label(value= r'$P(A\\capB)= $', layout=layout)\n",
    "caption_4 = widgets.Label(value= r'$P(A|B)= $', layout=layout)\n",
    "caption_5 = widgets.Label(value= r'$P(B|A)= $', layout=layout)\n",
    "caption_6 = widgets.Label(value= r\"$Taille de l'univers: $\", layout=layout)\n",
    "\n",
    "\n",
    "\n",
    "def intersection_size_3(n):\n",
    "    \n",
    "    plt.rcParams[\"figure.figsize\"] = [12.00, 6]\n",
    "    plt.rcParams[\"figure.autolayout\"] = True\n",
    "    \n",
    "    venn3(subsets = (80, 0, 10-n, 0, 10-n, 0, n), \n",
    "          set_labels = ('Univers','B', 'A'))\n",
    "    intersection = n/100\n",
    "    prob_a = 10/100\n",
    "    prob_b = 10/100\n",
    "    \n",
    "   \n",
    "    prob_a_given_b = intersection/prob_b\n",
    "    prob_b_given_a = intersection/prob_a\n",
    "    \n",
    "        \n",
    "    caption_1.value = r'$P(A)= $'+str(round(prob_a, 3))\n",
    "    caption_2.value = r'$P(B)= $'+str(round(prob_b, 3))\n",
    "    caption_3.value = r'$P(A\\cap B)= $'+str(round(intersection, 3))\n",
    "    caption_4.value = r'$P(A|B)= $'+str(round(prob_a_given_b, 3))\n",
    "    caption_5.value = r'$P(B|A)= $'+str(round(prob_b_given_a, 3))\n",
    "    caption_6.value = r\"$\\text{Univers:} $\"+str(100)\n",
    "    \n",
    "    #out = widgets.Output(layout={\"border\":\"1px solid green\"})\n",
    "    #with out :\n",
    "     #   display('P(A)=',round(12/124, 2)),\n",
    "      #  display('P(B)=',round(12/124, 2))\n",
    "       # display('P(AnB)=', intersection)\n",
    "        #display('P(A|B)=', prob_a_given_b)\n"
   ]
  },
  {
   "cell_type": "code",
   "execution_count": 223,
   "id": "90da421d-d4d9-442b-b116-4130245d70ca",
   "metadata": {
    "hide_input": false,
    "init_cell": true
   },
   "outputs": [
    {
     "data": {
      "application/vnd.jupyter.widget-view+json": {
       "model_id": "d15e2612b3874b9fb64d55769a2a5a0a",
       "version_major": 2,
       "version_minor": 0
      },
      "text/plain": [
       "interactive(children=(IntSlider(value=5, description='n', max=10), Output()), _dom_classes=('widget-interact',…"
      ]
     },
     "metadata": {},
     "output_type": "display_data"
    },
    {
     "data": {
      "application/vnd.jupyter.widget-view+json": {
       "model_id": "70f9eb253b5f49b39f1d655e528b2a42",
       "version_major": 2,
       "version_minor": 0
      },
      "text/plain": [
       "HBox(children=(Label(value='$P(A)= $0.1', layout=Layout(height='70px', width='20%')), Label(value='$P(B)= $0.1…"
      ]
     },
     "metadata": {},
     "output_type": "display_data"
    }
   ],
   "source": [
    "venn =interactive(intersection_size_3, n=(0,10,1))\n",
    "prob = widgets.HBox([caption_1, caption_2, caption_3, caption_4, caption_5, caption_6])\n",
    "\n",
    "display(venn,prob)\n"
   ]
  },
  {
   "cell_type": "markdown",
   "id": "4434a80f",
   "metadata": {},
   "source": [
    "### Consigne pour répondre aux exercices :\n",
    "\n",
    "Entrez vos réponses:\n",
    "1. Sous forme de décimale\n",
    "2. Avec un \".\" et non une \",\". \n",
    "3. Si votre réponse contient plus de 2 décimales, arrondissez à la seconde (i.e. 0.33333 -> 0.33 ; 0.336 -> 0.34 ; 0.335 -> 0.33):"
   ]
  },
  {
   "cell_type": "markdown",
   "id": "84c7241e",
   "metadata": {},
   "source": [
    "# Ex 24"
   ]
  },
  {
   "cell_type": "markdown",
   "id": "9c343498",
   "metadata": {},
   "source": [
    "On lance deux dés équilibrés. Quelle est la probabilité qu’au moins l’un d’entre eux montre 6, sachant que …\n",
    "<br/>a. … les deux chiffres obtenus sont différents ?"
   ]
  },
  {
   "cell_type": "code",
   "execution_count": 224,
   "id": "8350aafa",
   "metadata": {
    "hide_input": false,
    "init_cell": true
   },
   "outputs": [
    {
     "data": {
      "application/vnd.jupyter.widget-view+json": {
       "model_id": "09c4564362e74f3da2d8db6ed8b1d277",
       "version_major": 2,
       "version_minor": 0
      },
      "text/plain": [
       "HTML(value='Entrez votre réponse à la question 1 sous forme décimale')"
      ]
     },
     "metadata": {},
     "output_type": "display_data"
    },
    {
     "data": {
      "application/vnd.jupyter.widget-view+json": {
       "model_id": "0267c51bcd95446d8bb2e621fb5b2778",
       "version_major": 2,
       "version_minor": 0
      },
      "text/plain": [
       "HBox(children=(Text(value='', description='Réponse', placeholder='Tapez ici'), Button(description='Soumettre',…"
      ]
     },
     "metadata": {},
     "output_type": "display_data"
    }
   ],
   "source": [
    "ex_24_1 = Ex_frac(1,1)\n",
    "# Eliane note: we need to specify here how to round the decimal numbers: python will round up when the third decimal is >=6 \n",
    "# example: 0.336 -> 0.34 ; 0.335 -> 0.33 "
   ]
  },
  {
   "cell_type": "markdown",
   "id": "50276761",
   "metadata": {},
   "source": [
    "b. … la somme des deux est 7 ?\n"
   ]
  },
  {
   "cell_type": "code",
   "execution_count": 225,
   "id": "a1ba5315",
   "metadata": {
    "hide_input": false,
    "init_cell": true
   },
   "outputs": [
    {
     "data": {
      "application/vnd.jupyter.widget-view+json": {
       "model_id": "5ab98e3cdb684319b1716761ea0fe43d",
       "version_major": 2,
       "version_minor": 0
      },
      "text/plain": [
       "HTML(value='Entrez votre réponse à la question 2 sous forme décimale')"
      ]
     },
     "metadata": {},
     "output_type": "display_data"
    },
    {
     "data": {
      "application/vnd.jupyter.widget-view+json": {
       "model_id": "12d8835fd9224288a848e41092cb32aa",
       "version_major": 2,
       "version_minor": 0
      },
      "text/plain": [
       "HBox(children=(Text(value='', description='Réponse', placeholder='Tapez ici'), Button(description='Soumettre',…"
      ]
     },
     "metadata": {},
     "output_type": "display_data"
    }
   ],
   "source": [
    "ex_24_2 = Ex_frac(1,2)"
   ]
  },
  {
   "cell_type": "markdown",
   "id": "c2a768ba",
   "metadata": {},
   "source": [
    "c. … la somme des deux est 10 ?"
   ]
  },
  {
   "cell_type": "code",
   "execution_count": 226,
   "id": "76d1f7aa",
   "metadata": {
    "hide_input": false,
    "init_cell": true
   },
   "outputs": [
    {
     "data": {
      "application/vnd.jupyter.widget-view+json": {
       "model_id": "7f23d2933d4046a4897e1f7455553726",
       "version_major": 2,
       "version_minor": 0
      },
      "text/plain": [
       "HTML(value='Entrez votre réponse à la question 3 sous forme décimale')"
      ]
     },
     "metadata": {},
     "output_type": "display_data"
    },
    {
     "data": {
      "application/vnd.jupyter.widget-view+json": {
       "model_id": "c3e91feab0634a4d9339ab8bce276596",
       "version_major": 2,
       "version_minor": 0
      },
      "text/plain": [
       "HBox(children=(Text(value='', description='Réponse', placeholder='Tapez ici'), Button(description='Soumettre',…"
      ]
     },
     "metadata": {},
     "output_type": "display_data"
    }
   ],
   "source": [
    "ex_24_3 = Ex_frac(1,3)"
   ]
  },
  {
   "cell_type": "markdown",
   "id": "cffd46a3",
   "metadata": {},
   "source": [
    "d. … la somme des deux est 11 ?"
   ]
  },
  {
   "cell_type": "code",
   "execution_count": 227,
   "id": "8617e29f",
   "metadata": {
    "hide_input": false,
    "init_cell": true
   },
   "outputs": [
    {
     "data": {
      "application/vnd.jupyter.widget-view+json": {
       "model_id": "15c3ab37d18f443dbe935bc332c970d4",
       "version_major": 2,
       "version_minor": 0
      },
      "text/plain": [
       "HTML(value='Entrez votre réponse à la question 4 sous forme décimale')"
      ]
     },
     "metadata": {},
     "output_type": "display_data"
    },
    {
     "data": {
      "application/vnd.jupyter.widget-view+json": {
       "model_id": "77ca395295c24ca7b31e0b947ec0599a",
       "version_major": 2,
       "version_minor": 0
      },
      "text/plain": [
       "HBox(children=(Text(value='', description='Réponse', placeholder='Tapez ici'), Button(description='Soumettre',…"
      ]
     },
     "metadata": {},
     "output_type": "display_data"
    }
   ],
   "source": [
    "ex_24_4 = Ex_frac(1,4)"
   ]
  },
  {
   "cell_type": "markdown",
   "id": "2604ffc3",
   "metadata": {},
   "source": [
    "**Aide pour l'exercice 24**\n",
    "\n",
    "Pour soliciter les bonnes intutions, vous trouverez ci-dessous la représentation d'un univers consituté des tirages de deux dés à quatre faces. \n",
    "\n",
    "Rappelez vous de la procédure pour calculer la probabilité d'un événement :\n",
    "\n",
    "1. Mesurer la taille de l'univers   \n",
    "2. Mesurer celle de l'événement\n",
    "3. Calculer la taille relative de l'événement vis-à-vis de l'univers\n",
    "\n",
    "\n",
    "\n",
    "Considérons les deux événements suivants représentés ci-dessous :\n",
    "\n",
    "1. A : 'Le tirage contient au moins un 3\"\n",
    "2. B : \"La somme du tirage est égale à 5\"\n",
    "\n",
    "Quelle serait la probabilité de $P(A|B)$ ? Et celle de $P(B|A)$ ?\n",
    "<br/> Rappelez-vous ce qui a été dit à la section \"Visualisation des concepts\" concernant la mesure d'une probabilité conditionnelle.\n"
   ]
  },
  {
   "cell_type": "code",
   "execution_count": 228,
   "id": "80156064-6764-4eab-a156-6547ddc09f7c",
   "metadata": {
    "hide_input": true,
    "init_cell": true
   },
   "outputs": [],
   "source": [
    "dices = [\n",
    "    (widgets.Button(description=str(j+1), button_style='warning', layout=Layout(height='50px', width='30px')), \n",
    "    widgets.Button(description=str(i+1), button_style='success', layout=Layout(height='50px', width='30px'))) \n",
    "    for j in list(range(4)) for i in list(range(4))\n",
    "]\n",
    "\n",
    "all_elements = list(chain(*dices))\n",
    "\n",
    "\n",
    "univers = widgets.GridBox(children=all_elements,\n",
    "\n",
    "                layout=widgets.Layout(\n",
    "                                    width='100%',\n",
    "                                    grid_template_columns='30px auto 30px auto 30px auto 30px auto 30px auto 30px auto 30px auto ',\n",
    "                                    grid_template_rows='auto',\n",
    "                                    grid_gap='12px 2px')\n",
    "       )"
   ]
  },
  {
   "cell_type": "code",
   "execution_count": 229,
   "id": "7e8e8137",
   "metadata": {
    "hide_input": true,
    "init_cell": true
   },
   "outputs": [
    {
     "data": {
      "application/vnd.jupyter.widget-view+json": {
       "model_id": "f438ce03c8584631a3c90aef047c9283",
       "version_major": 2,
       "version_minor": 0
      },
      "text/plain": [
       "ToggleButtons(layout=Layout(height='auto', width='auto'), options=('Univers', 'A', 'B'), value=None)"
      ]
     },
     "metadata": {},
     "output_type": "display_data"
    },
    {
     "data": {
      "application/vnd.jupyter.widget-view+json": {
       "model_id": "0ec6289c242c43a5937344a90d9a3e96",
       "version_major": 2,
       "version_minor": 0
      },
      "text/plain": [
       "Output(layout=Layout(border='1px solid black'))"
      ]
     },
     "metadata": {},
     "output_type": "display_data"
    }
   ],
   "source": [
    "toggle_1 = widgets.ToggleButtons(options=['Univers', 'A','B'],\n",
    "                      value=None,\n",
    "                     # description=\"Cliquez pour faire apparaître l'image\",\n",
    "                      layout=widgets.Layout(width='auto', height='auto')\n",
    "                     )\n",
    "\n",
    "out_1 = widgets.Output(layout=widgets.Layout(border = '1px solid black'))\n",
    " \n",
    "\n",
    "def image_change(change):\n",
    "    \n",
    "    with out_1:\n",
    "        if change['new'] == 'Univers':\n",
    "            out_1.clear_output(wait=True)\n",
    "            display(univers)\n",
    "            \n",
    "        if change['new'] == 'A':\n",
    "            out_1.clear_output(wait=True)\n",
    "            event_children = []\n",
    "            for index, children in enumerate(univers.children) :\n",
    "                #print('ok_2')\n",
    "                if children.description == \"3\" and children.button_style == 'warning':\n",
    "                    event_children.append(children)\n",
    "                    event_children.append(univers.children[index+1])\n",
    "\n",
    "                if children.description == \"3\" and children.button_style == 'success':\n",
    "                    event_children.append(children)\n",
    "                    event_children.append(univers.children[index+1])\n",
    "\n",
    "            event = widgets.GridBox(children=event_children,\n",
    "                               layout=widgets.Layout(\n",
    "                                   width='100%',\n",
    "                                   grid_template_columns='40px auto 40px auto 40px auto 40px auto 40px auto 40px auto 40px auto ',\n",
    "                                   grid_template_rows='auto',\n",
    "                                   grid_gap='12px 2px')\n",
    "                              )\n",
    "            display(event)\n",
    "       \n",
    "        if change['new'] == 'B':\n",
    "            out_1.clear_output(wait=True)\n",
    "            event_children = []\n",
    "            for index in list(range(0,32,2)):\n",
    "                if int(univers.children[index].description) + int(univers.children[index+1].description) == 5:\n",
    "                    event_children.append(univers.children[index])\n",
    "                    event_children.append(univers.children[index+1])\n",
    "\n",
    "            event = widgets.GridBox(children=event_children,\n",
    "                               layout=widgets.Layout(\n",
    "                                   width='100%',\n",
    "                                   grid_template_columns='40px auto 40px auto 40px auto 40px auto 40px auto 40px auto 40px auto ',\n",
    "                                   grid_template_rows='auto',\n",
    "                                   grid_gap='12px 2px')\n",
    "                              )\n",
    "            display(event)\n",
    "     \n",
    "\n",
    "toggle_1.observe(image_change, 'value')\n",
    "#hbox\n",
    "display(toggle_1)\n",
    "display(out_1)"
   ]
  },
  {
   "cell_type": "markdown",
   "id": "9de9864e",
   "metadata": {},
   "source": [
    "# Ex 26 b)\n",
    "\n",
    "Une école de 500 étudiants est formée de 52% de filles. On sait que 200 filles ainsi que deux tiers des garçons font du jogging. On choisit au hasard un étudiant et on considère les événements suivants :\n",
    "<br/><br/>\n",
    "G: l’étudiant choisi est un garçon\n",
    "<br/>\n",
    "J : l’étudiant choisi fait du jogging\n",
    "<br/><br/>\n",
    "b. En utilisant le format de réponse indiqué dans la consigne 2.0.1, calculez la probabilité que l’étudiant choisi…\n",
    "1. … fasse du jogging\n"
   ]
  },
  {
   "cell_type": "code",
   "execution_count": 230,
   "id": "fea04215",
   "metadata": {
    "hide_input": false,
    "init_cell": true
   },
   "outputs": [
    {
     "data": {
      "application/vnd.jupyter.widget-view+json": {
       "model_id": "8085d4805fdd4b08b75707063ba13859",
       "version_major": 2,
       "version_minor": 0
      },
      "text/plain": [
       "HTML(value='Entrez votre réponse à la question 1 sous forme décimale')"
      ]
     },
     "metadata": {},
     "output_type": "display_data"
    },
    {
     "data": {
      "application/vnd.jupyter.widget-view+json": {
       "model_id": "3a84937c5bb249cbb78f9f460e3d9d95",
       "version_major": 2,
       "version_minor": 0
      },
      "text/plain": [
       "HBox(children=(Text(value='', description='Réponse', placeholder='Tapez ici'), Button(description='Soumettre',…"
      ]
     },
     "metadata": {},
     "output_type": "display_data"
    }
   ],
   "source": [
    "ex_26b_1 = Ex_frac(2,1)"
   ]
  },
  {
   "cell_type": "markdown",
   "id": "f2c4b000",
   "metadata": {},
   "source": [
    "2. … soit un garçon qui fait du jogging"
   ]
  },
  {
   "cell_type": "code",
   "execution_count": 231,
   "id": "f033aa38",
   "metadata": {
    "hide_input": false,
    "init_cell": true,
    "scrolled": true
   },
   "outputs": [
    {
     "data": {
      "application/vnd.jupyter.widget-view+json": {
       "model_id": "e7c15c70e5df42e7947e4028cff3f790",
       "version_major": 2,
       "version_minor": 0
      },
      "text/plain": [
       "HTML(value='Entrez votre réponse à la question 2 sous forme décimale')"
      ]
     },
     "metadata": {},
     "output_type": "display_data"
    },
    {
     "data": {
      "application/vnd.jupyter.widget-view+json": {
       "model_id": "9d5fda92e76e487882cdd075556b69c8",
       "version_major": 2,
       "version_minor": 0
      },
      "text/plain": [
       "HBox(children=(Text(value='', description='Réponse', placeholder='Tapez ici'), Button(description='Soumettre',…"
      ]
     },
     "metadata": {},
     "output_type": "display_data"
    }
   ],
   "source": [
    "ex_26b_2 = Ex_frac(2,2)"
   ]
  },
  {
   "cell_type": "markdown",
   "id": "60943417",
   "metadata": {},
   "source": [
    "3. … soit un garçon si on sait qu’il fait du jogging"
   ]
  },
  {
   "cell_type": "code",
   "execution_count": 232,
   "id": "c3a70ca3",
   "metadata": {
    "hide_input": false,
    "init_cell": true,
    "scrolled": false
   },
   "outputs": [
    {
     "data": {
      "application/vnd.jupyter.widget-view+json": {
       "model_id": "5f4c7f3016534c03849a819802fd0339",
       "version_major": 2,
       "version_minor": 0
      },
      "text/plain": [
       "HTML(value='Entrez votre réponse à la question 3 sous forme décimale')"
      ]
     },
     "metadata": {},
     "output_type": "display_data"
    },
    {
     "data": {
      "application/vnd.jupyter.widget-view+json": {
       "model_id": "80834e15aed44c83aac1ae4fe8637334",
       "version_major": 2,
       "version_minor": 0
      },
      "text/plain": [
       "HBox(children=(Text(value='', description='Réponse', placeholder='Tapez ici'), Button(description='Soumettre',…"
      ]
     },
     "metadata": {},
     "output_type": "display_data"
    }
   ],
   "source": [
    "ex_26b_3 = Ex_frac(2,3)"
   ]
  },
  {
   "cell_type": "markdown",
   "id": "96a8fd83",
   "metadata": {},
   "source": [
    "4. … fasse du jogging si on sait qu’il s’agit d’un garçon"
   ]
  },
  {
   "cell_type": "code",
   "execution_count": 233,
   "id": "30ca2ea0",
   "metadata": {
    "hide_input": false,
    "init_cell": true,
    "scrolled": true
   },
   "outputs": [
    {
     "data": {
      "application/vnd.jupyter.widget-view+json": {
       "model_id": "395245dddeee45018812322146915ed5",
       "version_major": 2,
       "version_minor": 0
      },
      "text/plain": [
       "HTML(value='Entrez votre réponse à la question 4 sous forme décimale')"
      ]
     },
     "metadata": {},
     "output_type": "display_data"
    },
    {
     "data": {
      "application/vnd.jupyter.widget-view+json": {
       "model_id": "e9fdc28e02e345f1ac07e7b1f0795922",
       "version_major": 2,
       "version_minor": 0
      },
      "text/plain": [
       "HBox(children=(Text(value='', description='Réponse', placeholder='Tapez ici'), Button(description='Soumettre',…"
      ]
     },
     "metadata": {},
     "output_type": "display_data"
    }
   ],
   "source": [
    "ex_26b_4 = Ex_frac(2,4)"
   ]
  },
  {
   "cell_type": "markdown",
   "id": "6559e532",
   "metadata": {},
   "source": [
    "# Ex 27 b)\n",
    "\n",
    "Une école compte 40% de garçons. Dans cette école, 30% des garçons fument et 25% des filles fument. On choisit un étudiant au hasard et on considère les événements suivants :\n",
    "<br/><br/>\n",
    "G : l’étudiant choisi est un garçon\n",
    "<br/>\n",
    "φ : l’étudiant choisi fume\n",
    "<br/><br/>\n",
    "b. En utilisant le format de réponse indiqué dans la consigne 2.0.1, calculez la probabilité que l’étudiant choisi…\n",
    "1. … soit une fille qui fume"
   ]
  },
  {
   "cell_type": "code",
   "execution_count": 234,
   "id": "4256bfd9",
   "metadata": {
    "hide_input": false,
    "init_cell": true
   },
   "outputs": [
    {
     "data": {
      "application/vnd.jupyter.widget-view+json": {
       "model_id": "205fb7ce62544a2c9216f54a8cb5c447",
       "version_major": 2,
       "version_minor": 0
      },
      "text/plain": [
       "HTML(value='Entrez votre réponse à la question 1 sous forme décimale')"
      ]
     },
     "metadata": {},
     "output_type": "display_data"
    },
    {
     "data": {
      "application/vnd.jupyter.widget-view+json": {
       "model_id": "11c0f7f891aa48b596e11a2b38422104",
       "version_major": 2,
       "version_minor": 0
      },
      "text/plain": [
       "HBox(children=(Text(value='', description='Réponse', placeholder='Tapez ici'), Button(description='Soumettre',…"
      ]
     },
     "metadata": {},
     "output_type": "display_data"
    }
   ],
   "source": [
    "ex_27b_1 = Ex_frac(3,1)\n"
   ]
  },
  {
   "cell_type": "markdown",
   "id": "b5454dfa",
   "metadata": {},
   "source": [
    "2. … soit une personne qui fume\n"
   ]
  },
  {
   "cell_type": "code",
   "execution_count": 235,
   "id": "4dc9d086",
   "metadata": {
    "hide_input": false,
    "init_cell": true
   },
   "outputs": [
    {
     "data": {
      "application/vnd.jupyter.widget-view+json": {
       "model_id": "caa766b9e6cc4083adde0c610a0a032d",
       "version_major": 2,
       "version_minor": 0
      },
      "text/plain": [
       "HTML(value='Entrez votre réponse à la question 2 sous forme décimale')"
      ]
     },
     "metadata": {},
     "output_type": "display_data"
    },
    {
     "data": {
      "application/vnd.jupyter.widget-view+json": {
       "model_id": "54a0c461bd324e1288226ad54e8dbe8a",
       "version_major": 2,
       "version_minor": 0
      },
      "text/plain": [
       "HBox(children=(Text(value='', description='Réponse', placeholder='Tapez ici'), Button(description='Soumettre',…"
      ]
     },
     "metadata": {},
     "output_type": "display_data"
    }
   ],
   "source": [
    "ex_27b_2 = Ex_frac(3,2)"
   ]
  },
  {
   "cell_type": "markdown",
   "id": "94fbfaeb",
   "metadata": {},
   "source": [
    "3. … soit une fille ou une personne qui fume"
   ]
  },
  {
   "cell_type": "code",
   "execution_count": 236,
   "id": "348133aa",
   "metadata": {
    "hide_input": false,
    "init_cell": true,
    "scrolled": true
   },
   "outputs": [
    {
     "data": {
      "application/vnd.jupyter.widget-view+json": {
       "model_id": "84768a6b816540db9ea19a9174b14479",
       "version_major": 2,
       "version_minor": 0
      },
      "text/plain": [
       "HTML(value='Entrez votre réponse à la question 3 sous forme décimale')"
      ]
     },
     "metadata": {},
     "output_type": "display_data"
    },
    {
     "data": {
      "application/vnd.jupyter.widget-view+json": {
       "model_id": "d7d9b8f8dd4c4a42aaa816dad6133837",
       "version_major": 2,
       "version_minor": 0
      },
      "text/plain": [
       "HBox(children=(Text(value='', description='Réponse', placeholder='Tapez ici'), Button(description='Soumettre',…"
      ]
     },
     "metadata": {},
     "output_type": "display_data"
    }
   ],
   "source": [
    "ex_27b_3 = Ex_frac(3,3)"
   ]
  },
  {
   "cell_type": "markdown",
   "id": "68a2c9ee",
   "metadata": {},
   "source": [
    "4. … soit une personne qui fume sachant qu’il s’agit d’une fille"
   ]
  },
  {
   "cell_type": "code",
   "execution_count": 237,
   "id": "e9ceaa44",
   "metadata": {
    "hide_input": false,
    "init_cell": true,
    "scrolled": true
   },
   "outputs": [
    {
     "data": {
      "application/vnd.jupyter.widget-view+json": {
       "model_id": "eb89c490dea943879193ee118d616bba",
       "version_major": 2,
       "version_minor": 0
      },
      "text/plain": [
       "HTML(value='Entrez votre réponse à la question 4 sous forme décimale')"
      ]
     },
     "metadata": {},
     "output_type": "display_data"
    },
    {
     "data": {
      "application/vnd.jupyter.widget-view+json": {
       "model_id": "8d6bdec8208346468a793eb345dc994d",
       "version_major": 2,
       "version_minor": 0
      },
      "text/plain": [
       "HBox(children=(Text(value='', description='Réponse', placeholder='Tapez ici'), Button(description='Soumettre',…"
      ]
     },
     "metadata": {},
     "output_type": "display_data"
    }
   ],
   "source": [
    "ex_27b_4 = Ex_frac(3,4)"
   ]
  },
  {
   "cell_type": "markdown",
   "id": "e9e24d26",
   "metadata": {},
   "source": [
    "5. … soit une fille sachant qu’il s’agit d’une personne qui fume"
   ]
  },
  {
   "cell_type": "code",
   "execution_count": 238,
   "id": "ccbafa4a",
   "metadata": {
    "hide_input": false,
    "init_cell": true,
    "scrolled": true
   },
   "outputs": [
    {
     "data": {
      "application/vnd.jupyter.widget-view+json": {
       "model_id": "cf5abf1661374ee58d782968df0f6ddf",
       "version_major": 2,
       "version_minor": 0
      },
      "text/plain": [
       "HTML(value='Entrez votre réponse à la question 5 sous forme décimale')"
      ]
     },
     "metadata": {},
     "output_type": "display_data"
    },
    {
     "data": {
      "application/vnd.jupyter.widget-view+json": {
       "model_id": "2e60c8b75ef04c5db0d1b84e4d8c3816",
       "version_major": 2,
       "version_minor": 0
      },
      "text/plain": [
       "HBox(children=(Text(value='', description='Réponse', placeholder='Tapez ici'), Button(description='Soumettre',…"
      ]
     },
     "metadata": {},
     "output_type": "display_data"
    }
   ],
   "source": [
    "ex_27b_5 = Ex_frac(3,5)"
   ]
  },
  {
   "cell_type": "markdown",
   "id": "80001919",
   "metadata": {},
   "source": [
    "6. … soit un garçon sachant qu’il s’agit d’une personne qui ne fume pas"
   ]
  },
  {
   "cell_type": "code",
   "execution_count": 239,
   "id": "fc33267b",
   "metadata": {
    "hide_input": false,
    "init_cell": true,
    "scrolled": true
   },
   "outputs": [
    {
     "data": {
      "application/vnd.jupyter.widget-view+json": {
       "model_id": "a2f0275cfe9845e5adbb66ac1ea1fe21",
       "version_major": 2,
       "version_minor": 0
      },
      "text/plain": [
       "HTML(value='Entrez votre réponse à la question 6 sous forme décimale')"
      ]
     },
     "metadata": {},
     "output_type": "display_data"
    },
    {
     "data": {
      "application/vnd.jupyter.widget-view+json": {
       "model_id": "800051c6b8a3455087586aa19fbf9202",
       "version_major": 2,
       "version_minor": 0
      },
      "text/plain": [
       "HBox(children=(Text(value='', description='Réponse', placeholder='Tapez ici'), Button(description='Soumettre',…"
      ]
     },
     "metadata": {},
     "output_type": "display_data"
    }
   ],
   "source": [
    "ex_27b_6 = Ex_frac(3,6)"
   ]
  },
  {
   "cell_type": "markdown",
   "id": "87e4bdb5",
   "metadata": {
    "hide_input": true
   },
   "source": [
    " **Complément pour l'exercice 27**\n",
    "\n",
    "\n",
    "Observervez comment les probabilités des intersections entre les événements G et φ changent en fonction de la probabilité de ceux-ci et de leurs conditions.\n",
    "\n",
    "L'axe horizontal représente $P(G)$ et $P( \\overline G) $ : dans l'univers de l'exercice, les éléments appartiennent nécessairement à l'événement $G$ ou $\\overline G$. La surface que $G$ ou $\\overline G$ occupent chacun sur le graphique représente donc leur probabilité.\n",
    "\n",
    "Aussi, dans cet univers, en plus d'être nécessairement $G$ ou $\\overline G$, un élément est nécessairement $\\phi$ ou $\\overline \\phi$. Ainsi, chacune des surface est subdivisée en deux parties correspondant à la \"vraissemblance\" de $\\phi$ et $\\overline \\phi$. Dans notre cas, la vraissemblance correspond à la chance d'observer que quelqu'un appartenant à $G$ ou $\\overline G$ fume.\n",
    "\n",
    "À partir de ces informations, comment calculeriez-vous $P(G|\\phi)$ ?\n",
    "\n",
    "Reprenez les données de l'exercice, puis observez comment votre résultat change en les faisant varier"
   ]
  },
  {
   "cell_type": "code",
   "execution_count": 240,
   "id": "37ddff2b",
   "metadata": {
    "hide_input": false,
    "init_cell": true
   },
   "outputs": [],
   "source": [
    "G = widgets.FloatSlider(min=0.01, max=0.99, step=0.01, value=0.5)\n",
    "G_label = widgets.Label(r\"$P(G)$\")\n",
    "w_1 = widgets.HBox([G_label, G])\n",
    "\n",
    "int_1 = widgets.FloatSlider(min=0, max=1, step=0.1, value=0.5)\n",
    "int_1_label = widgets.Label(r\"$P( \\varphi | G)$\")\n",
    "w_2 = widgets.HBox([int_1_label, int_1])\n",
    "\n",
    "int_2 = widgets.FloatSlider(min=0, max=1, step=0.1, value=0.5)\n",
    "int_2_label = widgets.Label(r\"$P( \\varphi | \\overline{\\rm G})$\")\n",
    "w_3 = widgets.HBox([int_2_label, int_2])\n",
    "\n",
    "ui = widgets.VBox([w_1, w_2, w_3])\n",
    "\n",
    "def test_cond_2(G, int_1, int_2):\n",
    "    \n",
    "    data = {\n",
    "    (r'$G$', r'$\\varphi$'): G*int_1 ,\n",
    "    (r'$G$',r'$\\overline{\\rm \\varphi}$'): G*(1-int_1) ,\n",
    "    (r'$\\overline{\\rm G}$', r'$\\varphi$') : (1-G)*int_2,\n",
    "    (r'$\\overline{\\rm G}$', r'$\\overline{\\rm \\varphi}$') : (1-G)*(1-int_2)\n",
    "    }\n",
    "\n",
    "    plt.rcParams[\"figure.figsize\"] = [12.00, 6]\n",
    "    plt.rcParams[\"figure.autolayout\"] = True\n",
    "    mosaic(data)\n",
    "    plt.show\n",
    "    "
   ]
  },
  {
   "cell_type": "code",
   "execution_count": 241,
   "id": "caca55a4",
   "metadata": {
    "hide_input": true,
    "init_cell": true
   },
   "outputs": [
    {
     "data": {
      "application/vnd.jupyter.widget-view+json": {
       "model_id": "584f038bc649435e82f0f8e93a4ba6a4",
       "version_major": 2,
       "version_minor": 0
      },
      "text/plain": [
       "VBox(children=(HBox(children=(Label(value='$P(G)$'), FloatSlider(value=0.5, max=0.99, min=0.01, step=0.01))), …"
      ]
     },
     "metadata": {},
     "output_type": "display_data"
    },
    {
     "data": {
      "application/vnd.jupyter.widget-view+json": {
       "model_id": "bd6dac4e072b4af89de32e8ddec5bb73",
       "version_major": 2,
       "version_minor": 0
      },
      "text/plain": [
       "Output()"
      ]
     },
     "metadata": {},
     "output_type": "display_data"
    }
   ],
   "source": [
    "out = widgets.interactive_output(test_cond_2, {'G': G, 'int_1': int_1, 'int_2': int_2})\n",
    "\n",
    "display(ui, out)\n"
   ]
  },
  {
   "cell_type": "markdown",
   "id": "a5f1c0fa",
   "metadata": {},
   "source": [
    "# Feedback"
   ]
  },
  {
   "cell_type": "code",
   "execution_count": 242,
   "id": "dcc631ac",
   "metadata": {
    "init_cell": true
   },
   "outputs": [
    {
     "data": {
      "text/html": [
       "\n",
       "<iframe \n",
       "\tsrc=\"https://docs.google.com/forms/d/e/1FAIpQLSfz8plc4bHC97iCSl1RMPCgj8rkMf4lcsTWBTHRlsL7NITtJA/viewform?usp=sf_link\" \n",
       "\twidth=\"100%\" \n",
       "\theight=\"1200px\" \n",
       "\tframeborder=\"0\" \n",
       "\tmarginheight=\"0\" \n",
       "\tmarginwidth=\"0\">\n",
       "\tLoading...\n",
       "</iframe>\n"
      ],
      "text/plain": [
       "<IPython.core.display.HTML object>"
      ]
     },
     "execution_count": 242,
     "metadata": {},
     "output_type": "execute_result"
    }
   ],
   "source": [
    "from IPython.display import HTML\n",
    "HTML(\n",
    "\"\"\"\n",
    "<iframe \n",
    "\tsrc=\"https://docs.google.com/forms/d/e/1FAIpQLSfz8plc4bHC97iCSl1RMPCgj8rkMf4lcsTWBTHRlsL7NITtJA/viewform?usp=sf_link\" \n",
    "\twidth=\"100%\" \n",
    "\theight=\"1200px\" \n",
    "\tframeborder=\"0\" \n",
    "\tmarginheight=\"0\" \n",
    "\tmarginwidth=\"0\">\n",
    "\tLoading...\n",
    "</iframe>\n",
    "\"\"\"\n",
    ")"
   ]
  },
  {
   "cell_type": "code",
   "execution_count": null,
   "id": "79a1cb66",
   "metadata": {},
   "outputs": [],
   "source": []
  }
 ],
 "metadata": {
  "celltoolbar": "Initialization Cell",
  "hide_input": true,
  "kernelspec": {
   "display_name": "Python 3 (ipykernel)",
   "language": "python",
   "name": "python3"
  },
  "language_info": {
   "codemirror_mode": {
    "name": "ipython",
    "version": 3
   },
   "file_extension": ".py",
   "mimetype": "text/x-python",
   "name": "python",
   "nbconvert_exporter": "python",
   "pygments_lexer": "ipython3",
   "version": "3.9.6"
  },
  "toc": {
   "base_numbering": 1,
   "nav_menu": {},
   "number_sections": true,
   "sideBar": true,
   "skip_h1_title": false,
   "title_cell": "Table of Contents",
   "title_sidebar": "Contents",
   "toc_cell": false,
   "toc_position": {},
   "toc_section_display": true,
   "toc_window_display": true
  }
 },
 "nbformat": 4,
 "nbformat_minor": 5
}
