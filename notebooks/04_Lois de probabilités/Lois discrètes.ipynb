{
 "cells": [
  {
   "cell_type": "code",
   "execution_count": 1,
   "id": "6831e469-95d4-4545-8f94-4c1cb2c2efa3",
   "metadata": {
    "init_cell": true
   },
   "outputs": [],
   "source": [
    "from scipy.stats import binom, poisson, hypergeom, geom\n",
    "import seaborn as sns\n",
    "import pandas as pd\n",
    "import ipywidgets as widgets\n",
    "from ipywidgets import interactive\n",
    "import matplotlib.pyplot as plt"
   ]
  },
  {
   "cell_type": "markdown",
   "id": "3bc73faf-a78f-421e-8684-500e8f033f7f",
   "metadata": {},
   "source": [
    "# Intuitions derrière la loi binomiale\n",
    "\n",
    "Imaginez que vous postuliez pour un stage. Combien de dossiers de postulation devriez vous envoyer pour augmenter les chances de recevoir une proposition d'entretien ?\n",
    "\n",
    "La loi binomiale permet d'obtenir la probabilité de recevoir m propositions lorsqu'on envoie n dossiers, étant donné la probabilité qu'un dossier soit accepté.\n",
    "\n",
    "Vous trouverez ci-dessous un graphique interactif représentant la loi binomiale. La barre en vert vous permet de reconnaître la variable pour laquelle pour cherchez la probabilité. Observez comment la distribution des probabilités se modifie lorsque vous faîtes varier les paramètres. (Veillez à ce que le nombre de réponses recherché soit inférieur ou égal au nombre de dossiers envoyés !).\n",
    "\n",
    "Dans notre cas on peut interpréter le paramètre \"Probabilité de succès\" comme étant déterminé par la qualité de votre dossier : plus celle-ci est élevée, plus la porbabilité de succès augmente"
   ]
  },
  {
   "cell_type": "code",
   "execution_count": 2,
   "id": "a88ca134-af94-4b08-a719-64ce582cc92f",
   "metadata": {
    "init_cell": true
   },
   "outputs": [],
   "source": [
    "def binom_viz(trials, successes, prob):\n",
    "    \n",
    "    binom_table = pd.DataFrame({'successes': list(range(0, trials+1 ))})\n",
    "    binom_table['prob'] = binom_table['successes'].apply(\n",
    "        lambda x: binom.pmf(x, trials, prob))\n",
    "    \n",
    "    colors = (trials+1)*['b']\n",
    "    colors[successes] = 'g'\n",
    "    binom_table['prob'].plot.bar(x='successes', y='prob', color=colors, figsize=(20,10))\n",
    "    #plt.rcParams['figure.figsize'] = (15, 9)\n",
    "    #plt.figure(figsize=(20,10))\n",
    "    plt.ylim(0, 1)\n",
    "    plt.xlim(0, 50)\n",
    "    plt.xlabel('Nombre de succès parmis les essais', fontsize=20)\n",
    "    plt.ylabel('Probabilités', fontsize=20)\n",
    "    plt.xticks(list(range(0,51)), labels=list(range(0,51)))\n",
    "    \n",
    "    caption_1.value = \"La probabilité d'être accepté exactement {} fois est de\".format(str(successes))+\" {}\".format(str(round(binom_table['prob'].iloc[successes],4)))\n",
    "   \n",
    "    \n",
    "    "
   ]
  },
  {
   "cell_type": "code",
   "execution_count": 3,
   "id": "59f0aa2e-d3c9-4f47-bc31-e6eaa276cee0",
   "metadata": {
    "init_cell": true
   },
   "outputs": [],
   "source": [
    "prob = widgets.FloatSlider(min=0.01, max=1, step=0.01, value=0.5, continuous_update=False)\n",
    "prob_label = widgets.Label('Probabilité de succès')\n",
    "w_1 = widgets.HBox([prob, prob_label])\n",
    "\n",
    "trials = widgets.IntSlider(min=0, max=50, step = 1, value= 10, continuous_update=False)\n",
    "trials_label = widgets.Label('Essais')\n",
    "w_2 = widgets.HBox([trials, trials_label])\n",
    "\n",
    "successes = widgets.IntSlider(min=0, max=50, step = 1, value= 2, continuous_update=False)\n",
    "trials_label = widgets.Label('Succès')\n",
    "w_3 = widgets.HBox([successes, trials_label])\n",
    "\n",
    "caption_1 = widgets.Label(value= \"La probabilité d'être accepté exactement {} fois est de\".format(str(successes)))\n",
    "\n",
    "ui_1 = widgets.VBox([w_1, w_2, w_3])\n"
   ]
  },
  {
   "cell_type": "code",
   "execution_count": 4,
   "id": "fbeb4c0f-fe4c-4382-8c30-d836f6da93a5",
   "metadata": {
    "init_cell": true
   },
   "outputs": [
    {
     "data": {
      "application/vnd.jupyter.widget-view+json": {
       "model_id": "f9dd9485abdf4bae8217fff855be1aa3",
       "version_major": 2,
       "version_minor": 0
      },
      "text/plain": [
       "VBox(children=(HBox(children=(FloatSlider(value=0.5, continuous_update=False, max=1.0, min=0.01, step=0.01), L…"
      ]
     },
     "metadata": {},
     "output_type": "display_data"
    },
    {
     "data": {
      "application/vnd.jupyter.widget-view+json": {
       "model_id": "e298fc5a846043ec80e2fd9436c24be6",
       "version_major": 2,
       "version_minor": 0
      },
      "text/plain": [
       "Output()"
      ]
     },
     "metadata": {},
     "output_type": "display_data"
    },
    {
     "data": {
      "application/vnd.jupyter.widget-view+json": {
       "model_id": "6a8dac71a7c540e1bcf16f01fffa5b93",
       "version_major": 2,
       "version_minor": 0
      },
      "text/plain": [
       "Label(value=\"La probabilité d'être accepté exactement 2 fois est de 0.0439\")"
      ]
     },
     "metadata": {},
     "output_type": "display_data"
    }
   ],
   "source": [
    "out_1 = widgets.interactive_output(binom_viz, {'trials': trials, 'successes': successes, 'prob': prob})\n",
    "\n",
    "\n",
    "display(ui_1, out_1, caption_1)"
   ]
  },
  {
   "cell_type": "markdown",
   "id": "de8b0215-46a7-4946-b58f-7c8cbad6d14b",
   "metadata": {},
   "source": [
    "# Intuitions derrière la loi géométrique\n",
    "\n",
    "Imaginez désormais que vous cherchiez à connaître la probabilité de recevoir une proposition d'entretien après un certain nombre de réponses négatives, étant donné une certaine probabilité de succès.\n",
    "\n",
    "\n",
    "La loi gémotrique permet d'obtenir la probabilité de recevoir 1 propositions après n réponses négatives.\n",
    "\n",
    "Vous trouverez ci-dessous un graphique interactif représentant la loi gémotriques. Observez comment la distribution des probabilités se modifie lorsque vous faîtes varier les paramètres."
   ]
  },
  {
   "cell_type": "code",
   "execution_count": 5,
   "id": "8c27ba21-cf5b-4f64-95ed-e64b227e9af3",
   "metadata": {
    "init_cell": true
   },
   "outputs": [],
   "source": [
    "def geom_viz(k, p):\n",
    "    \n",
    "    geom_table = pd.DataFrame({'k': list(range(0, k+1))})\n",
    "    geom_table['prob'] = geom_table['k'].apply(\n",
    "        lambda x: geom.pmf(x, p) if p>0 else 0)\n",
    "    \n",
    "    colors = (k+1)*['b']\n",
    "    colors[k] = 'g'\n",
    "    geom_table['prob'].plot.bar(x='k', y='prob', color=colors, figsize=(20,10))\n",
    "    plt.rcParams['figure.figsize'] = (15, 9)\n",
    "    plt.ylim(0, 1)\n",
    "    plt.xlim(0, 50)\n",
    "    plt.xlabel(\"Nombre de succès après n essais\", fontsize=20)\n",
    "    plt.ylabel('Probabilités', fontsize=20)\n",
    "    plt.xticks(list(range(0,51)), labels=list(range(0,51)))\n",
    "    \n",
    "    caption_2.value =  \"La probabilité de réussir à l'essai {} \".format(str(k)) + \"est de {}\".format(str(round(geom_table['prob'].iloc[k],4)))\n",
    "    \n",
    "    print(geom_table)"
   ]
  },
  {
   "cell_type": "code",
   "execution_count": 6,
   "id": "39f18630-c784-4c07-b082-cb355a3024e6",
   "metadata": {
    "init_cell": true
   },
   "outputs": [],
   "source": [
    "k = widgets.IntSlider(min=0, max=10, step=1, value=2, continuous_update=False)\n",
    "k_label = widgets.Label(\"Nombre d'essais\")\n",
    "w_4 = widgets.HBox([k, k_label])\n",
    "\n",
    "p = widgets.FloatSlider(min=0, max=1, step=0.01, value=0.5, continuous_update=False)\n",
    "p_label = widgets.Label('Probabilité de succès')\n",
    "w_5 = widgets.HBox([p, p_label])\n",
    "\n",
    "\n",
    "\n",
    "caption_2 = widgets.Label(value= \"\")\n",
    "\n",
    "ui_2 = widgets.VBox([w_4, w_5])\n"
   ]
  },
  {
   "cell_type": "code",
   "execution_count": 7,
   "id": "82f1a397-609d-4ecf-95a7-00b39e42caa5",
   "metadata": {
    "init_cell": true
   },
   "outputs": [
    {
     "data": {
      "application/vnd.jupyter.widget-view+json": {
       "model_id": "0cf25406cfbf4055bc2e9f1c2eaea629",
       "version_major": 2,
       "version_minor": 0
      },
      "text/plain": [
       "VBox(children=(HBox(children=(IntSlider(value=2, continuous_update=False, max=10), Label(value=\"Nombre d'essai…"
      ]
     },
     "metadata": {},
     "output_type": "display_data"
    },
    {
     "data": {
      "application/vnd.jupyter.widget-view+json": {
       "model_id": "16190b3cb90747b4af7efb3d6d05e0a0",
       "version_major": 2,
       "version_minor": 0
      },
      "text/plain": [
       "Output()"
      ]
     },
     "metadata": {},
     "output_type": "display_data"
    },
    {
     "data": {
      "application/vnd.jupyter.widget-view+json": {
       "model_id": "0cc59dc03a59407cb0deec372a685f26",
       "version_major": 2,
       "version_minor": 0
      },
      "text/plain": [
       "Label(value=\"La probabilité de réussir à l'essai 2 est de 0.25\")"
      ]
     },
     "metadata": {},
     "output_type": "display_data"
    }
   ],
   "source": [
    "out_2 = widgets.interactive_output(geom_viz, {'k': k, 'p' : p})\n",
    "\n",
    "display(ui_2, out_2, caption_2)"
   ]
  },
  {
   "cell_type": "markdown",
   "id": "fbd2b184-a42b-4b1d-81df-ced7dd5e3b36",
   "metadata": {},
   "source": [
    "# Intuitions derrière la loi hypergéométrique\n",
    "\n",
    "Imaginez maintenant que votre dossier ait été retenu par l'une des entreprises auprès desquelles vous avez postulez.\n",
    "\n",
    "La loi hypergeométrique vous permet d'obtenir la probabilité que vous soyez reçu pour un second entretien étant donné :\n",
    "1. Le nombre total de candidats reçus au premier entretien (ici, 50)\n",
    "2. Le nombre de candidats à qui on proposera un second entretien (5)\n",
    "3. Le nombre candidats aillant une certaine caractéristique parmi tous les autres. (Par exemple, \"candidats appartenant à la même volée que vous qui ont postulé pour le même stage\". Si vous cherchez à savoir si vous serez sélectionné, i.e. avoir la caractéristique d'être vous, le nombre se réduit à 1)\n",
    "4. Le nombre de candidats aillant cette caractéristique qu'on souhaite voire apparaître dans le tirage \n",
    "\n",
    "Vous trouverez ci-dessous un graphique interactif représentant la loi hypergéométrique. Observez comment la distribution des probabilités se modifie lorsque vous faîtes varier les paramètres. \n",
    "\n",
    "(Si cela fait plus de sens, on peut imaginer une autre caractéristique, comme \"candidats appartenant à la même volée que vous qui ont postulé pour le même stage\")"
   ]
  },
  {
   "cell_type": "code",
   "execution_count": 8,
   "id": "c3993b3d-5b00-415d-ae63-ddc72f4781c3",
   "metadata": {
    "init_cell": true
   },
   "outputs": [],
   "source": [
    "def hypergeom_viz(k_2, N, R, n):\n",
    "    \n",
    "    h_table = pd.DataFrame({'k_2': list(range(0, 31 ))})\n",
    "    h_table['prob'] = h_table['k_2'].apply(\n",
    "        lambda x: hypergeom.pmf(x, N, R, n))\n",
    "    \n",
    "    colors = 31*['b']\n",
    "    colors[k_2] = 'g'\n",
    "    h_table['prob'].plot.bar(x='k_2', y='prob', color=colors, figsize=(20,10))\n",
    "    plt.rcParams['figure.figsize'] = (15, 9)\n",
    "    plt.ylim(0, 1)\n",
    "    plt.xlim(0, 20)\n",
    "    plt.ylabel('Probabilités', fontsize=20)\n",
    "    plt.xlabel(\"Nombre d'invidus tirés ayant une certaine caractéristique\", fontsize=20)\n",
    "    plt.xticks(list(range(0,51)), labels=list(range(0,51)))\n",
    "    \n",
    "    caption_3.value =  \"La probabilité de tirer {} individus parmi le groupe d'intérêt de quand on tire {} indvidus parmi {} \".format(str(k_2), str(n), str(N)) + \"est de {}\".format(str(round(h_table['prob'].iloc[k_2],4)))\n",
    "    \n",
    "    "
   ]
  },
  {
   "cell_type": "code",
   "execution_count": 9,
   "id": "e194dd3b-16cc-4c2a-b1a9-615d36f0950e",
   "metadata": {
    "init_cell": true
   },
   "outputs": [],
   "source": [
    "k_2 = widgets.IntSlider(min=0, max=20, step=1, value=1, continuous_update=False)\n",
    "k_2_label = widgets.Label(\"Nombre d'invidus qui nous intéressent dans ce groupe\")\n",
    "w_6 = widgets.HBox([k_2, k_2_label])\n",
    "\n",
    "N = widgets.IntSlider(min=0, max=100, step = 1, value= 50, continuous_update=False)\n",
    "N_label = widgets.Label(\"Nombre total d'individus dans le pool\")\n",
    "w_7 = widgets.HBox([N, N_label])\n",
    "\n",
    "R = widgets.IntSlider(min=0, max=50, step = 1, value= 1, continuous_update=False)\n",
    "R_label = widgets.Label(\"Nombre total d'invidus du groupe qui nous intéresse\")\n",
    "w_8 = widgets.HBox([R, R_label])\n",
    "\n",
    "n = widgets.IntSlider(min=0, max=30, step = 1, value= 5, continuous_update=False)\n",
    "n_label = widgets.Label(\"Nombre d'individus qui seront sélectionnés\")\n",
    "w_9 = widgets.HBox([n, n_label])\n",
    "\n",
    "caption_3 = widgets.Label(value= \"La probabilité de tirer {} individu parmi le groupe d'intérêt de quand on tire {} indvidus parmi {} est de \".format(str(k), str(n), str(N)))\n",
    "\n",
    "ui_3 = widgets.VBox([w_7, w_9,w_8, w_6])\n"
   ]
  },
  {
   "cell_type": "code",
   "execution_count": 10,
   "id": "c27197ed-09ff-4ad2-8388-f45b806fabd1",
   "metadata": {
    "init_cell": true
   },
   "outputs": [
    {
     "data": {
      "application/vnd.jupyter.widget-view+json": {
       "model_id": "58aac68c68864fb6a20fdab01744e692",
       "version_major": 2,
       "version_minor": 0
      },
      "text/plain": [
       "VBox(children=(HBox(children=(IntSlider(value=50, continuous_update=False), Label(value=\"Nombre total d'indivi…"
      ]
     },
     "metadata": {},
     "output_type": "display_data"
    },
    {
     "data": {
      "application/vnd.jupyter.widget-view+json": {
       "model_id": "74b9e3f9345a4f28aeaa49fcfffb6c73",
       "version_major": 2,
       "version_minor": 0
      },
      "text/plain": [
       "Output()"
      ]
     },
     "metadata": {},
     "output_type": "display_data"
    },
    {
     "data": {
      "application/vnd.jupyter.widget-view+json": {
       "model_id": "b4b891303a1c4f49a63a1ffb0940f5ae",
       "version_major": 2,
       "version_minor": 0
      },
      "text/plain": [
       "Label(value=\"La probabilité de tirer 1 individus parmi le groupe d'intérêt de quand on tire 5 indvidus parmi 5…"
      ]
     },
     "metadata": {},
     "output_type": "display_data"
    }
   ],
   "source": [
    "out_3 = widgets.interactive_output(hypergeom_viz, {'k_2': k_2, 'N': N, 'R': R, 'n' : n})\n",
    "\n",
    "display(ui_3, out_3, caption_3)"
   ]
  },
  {
   "cell_type": "markdown",
   "id": "5df11dd5-0649-4e4d-b7f5-7f92f672e389",
   "metadata": {},
   "source": [
    "# Intuitions derrière la loi poisson\n",
    "\n",
    "Imaginez que vous en êtes au mois de janvier de votre dernier semestre et qu'il vous faut trouver un stage pour le mois de juillet. Combien de propositions d'entretien pouvez vous esprérer recevoir d'ici là ?\n",
    "\n",
    "La loi poisson permet d'obtenir la probabilité de recevoir m propositions dans un intervalle de temps donné étant donné le nombre de propositions moyen envoyées sur cette période.\n",
    "\n",
    "Vous trouverez ci-dessous un graphique interactif représentant la loi poisson. Observez comment la distribution des probabilités se modifie lorsque vous faîtes varier les paramètres.\n",
    "\n",
    "Notez que la distribution \"continue\" hors du cadre du graphique quand le nombre moyen de réponses tend vers le maximum du slider."
   ]
  },
  {
   "cell_type": "code",
   "execution_count": 11,
   "id": "4ed5a0b7-e5ce-492b-a76a-7ca70648eb42",
   "metadata": {
    "init_cell": true
   },
   "outputs": [],
   "source": [
    "def poisson_viz(k_3, mu):\n",
    "    \n",
    "    poisson_table = pd.DataFrame({'k_3': list(range(0, 51 ))})\n",
    "    poisson_table['prob'] = poisson_table['k_3'].apply(\n",
    "        lambda x: poisson.pmf(x, mu))\n",
    "    \n",
    "    colors = 51*['b']\n",
    "    colors[k_3] = 'g'\n",
    "    poisson_table['prob'].plot.bar(x='k_3', y='prob', color=colors, figsize=(20,10))\n",
    "    plt.rcParams['figure.figsize'] = (15, 9)\n",
    "    plt.ylim(0, 1)\n",
    "    plt.xlim(0, 50)\n",
    "    plt.ylabel('Probabilités', fontsize=20)\n",
    "    plt.xlabel(\"Nombre de réponses dans l'interval\", fontsize=20)\n",
    "\n",
    "\n",
    "    plt.xticks(list(range(0,51)), labels=list(range(0,51)))\n",
    "    \n",
    "    caption_4.value = \"La probabilité de recevoir exactement {} réponses sur la période est\".format(str(k_3))+\" {}\".format(str(round(poisson_table['prob'].iloc[k_3],4)))\n",
    "    \n",
    "    "
   ]
  },
  {
   "cell_type": "code",
   "execution_count": 12,
   "id": "9963f871-a5b6-46a1-8baa-2696ed8a6f46",
   "metadata": {
    "init_cell": true
   },
   "outputs": [],
   "source": [
    "k_3 = widgets.IntSlider(min=0, max=50, step=1, value=1, continuous_update=False)\n",
    "k_3_label = widgets.Label('Nombre de réponses')\n",
    "w_10 = widgets.HBox([k_3, k_3_label])\n",
    "\n",
    "mu = widgets.IntSlider(min=0, max=50, step = 1, value=5, continuous_update=False)\n",
    "mu_label = widgets.Label('Nombre moyen de réponses sur la période')\n",
    "w_11 = widgets.HBox([mu, mu_label])\n",
    "\n",
    "\n",
    "\n",
    "caption_4 = widgets.Label(value= \"La probabilité d'être accepté exactement {} fois est de\".format(str(successes)))\n",
    "\n",
    "ui_4 = widgets.VBox([w_10, w_11])\n"
   ]
  },
  {
   "cell_type": "code",
   "execution_count": 13,
   "id": "b4519999-03dd-4138-9554-8b3b6546b8b9",
   "metadata": {
    "init_cell": true
   },
   "outputs": [
    {
     "data": {
      "application/vnd.jupyter.widget-view+json": {
       "model_id": "be4d75a99d674a04af7bed3b04870afd",
       "version_major": 2,
       "version_minor": 0
      },
      "text/plain": [
       "VBox(children=(HBox(children=(IntSlider(value=1, continuous_update=False, max=50), Label(value='Nombre de répo…"
      ]
     },
     "metadata": {},
     "output_type": "display_data"
    },
    {
     "data": {
      "application/vnd.jupyter.widget-view+json": {
       "model_id": "7836e03e25e6428eaf67f01ee6a8088b",
       "version_major": 2,
       "version_minor": 0
      },
      "text/plain": [
       "Output()"
      ]
     },
     "metadata": {},
     "output_type": "display_data"
    },
    {
     "data": {
      "application/vnd.jupyter.widget-view+json": {
       "model_id": "eaeaf867703740ab93a8d4e602ef94a8",
       "version_major": 2,
       "version_minor": 0
      },
      "text/plain": [
       "Label(value='La probabilité de recevoir exactement 1 réponses sur la période est 0.0337')"
      ]
     },
     "metadata": {},
     "output_type": "display_data"
    }
   ],
   "source": [
    "out_4 = widgets.interactive_output(poisson_viz, {'k_3': k_3, 'mu': mu})\n",
    "\n",
    "display(ui_4, out_4, caption_4)"
   ]
  }
 ],
 "metadata": {
  "celltoolbar": "Initialization Cell",
  "hide_input": true,
  "kernelspec": {
   "display_name": "Python 3 (ipykernel)",
   "language": "python",
   "name": "python3"
  },
  "language_info": {
   "codemirror_mode": {
    "name": "ipython",
    "version": 3
   },
   "file_extension": ".py",
   "mimetype": "text/x-python",
   "name": "python",
   "nbconvert_exporter": "python",
   "pygments_lexer": "ipython3",
   "version": "3.9.6"
  },
  "toc": {
   "base_numbering": 1,
   "nav_menu": {},
   "number_sections": true,
   "sideBar": true,
   "skip_h1_title": false,
   "title_cell": "Table of Contents",
   "title_sidebar": "Contents",
   "toc_cell": false,
   "toc_position": {},
   "toc_section_display": true,
   "toc_window_display": true
  }
 },
 "nbformat": 4,
 "nbformat_minor": 5
}
