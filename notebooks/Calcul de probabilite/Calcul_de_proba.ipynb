{
 "cells": [
  {
   "cell_type": "code",
   "execution_count": 1,
   "id": "f8c1e7f0",
   "metadata": {
    "hide_input": true,
    "init_cell": true
   },
   "outputs": [],
   "source": [
    "# comment on ajout initialiation cell ?\n",
    "import ipywidgets as widgets\n",
    "from ipywidgets import GridspecLayout, Button, Layout, AppLayout\n",
    "\n",
    "import sympy\n",
    "from sympy.functions.combinatorial.numbers import nC\n",
    "\n",
    "import numpy as np\n",
    "from itertools import combinations, chain\n",
    "import matplotlib.pyplot as plt\n",
    "import matplotlib_venn as vplt\n",
    "\n",
    "from IPython.display import display, clear_output, Image\n",
    "\n",
    "import fn as s\n",
    "from exercices import Ex\n",
    "from images import ImageButton, file_names\n"
   ]
  },
  {
   "cell_type": "markdown",
   "id": "0270bde7",
   "metadata": {},
   "source": [
    "# Rappels\n",
    "\n",
    "## 3 définitions de la probabilité:\n",
    "\n",
    "#### 1. Empirique :\n",
    "\n",
    "\n",
    "$p(A)\\cong{\\text {fréquence relative associée à l’événement A}}$\n",
    "\n",
    "$p(A) \\cong \\frac{\\text{nombre de fois que le résultat A est apparu dans les épeuves}}{\\text{nombre total d'épreuves}}$\n",
    "\n",
    "Ici, on observe la probabilité d'un événement en réalisant des épreuves et en comptabilisant leur résultat.\n",
    "\n",
    "#### 2. Classique :\n",
    "\n",
    "$p(A) = \\frac{\\text{nombre d'issues favorables à A}}{\\text{nombre d'issues possibles}}$\n",
    "\n",
    "Ici, \n",
    "1. On définit un univers (représenté par le symbole $\\Omega$) comportant tous les événements possibles par lesquels on est intéressé. Le nombre de ces événements correspond à la \"taille\" de notre univers\n",
    "2. On définit un événement (A) et on compte ses occurences dans l'univers.\n",
    "3. On calcule la proportion de l'événement A par rapport à tous les autres événements que contient l'univers. La probabilité de A correspond ainsi en quelque sorte à l'espace relatif occupé par A dans son univers.\n",
    "\n",
    "#### 3. Par une mesure :\n",
    "\n",
    "$p(A) = \\frac{\\text{mesure de A}}{\\text{mesure de }\\Omega}$\n",
    "\n",
    "Ici, \n",
    "\n",
    "1. On mesure un événement dans une certaine dimension (taille, volume, surface).\n",
    "2. On fait de même avec l'univers.\n",
    "3. On mesure la proportion relative occupée par l'événement dans l'univers.\n",
    "\n",
    "## Axiomes:\n",
    "\n",
    "1. La probabilité de A  est comprise entre 0 et 1 :<br/><br/>$0 \\leqslant p(A) \\leqslant 1$<br/><br/>\n",
    "2. La probabilité de l'événement certain est égale à 1 :<br/><br/>$p(\\Omega)=1$<br/><br/>\n",
    "3. La probabilité de deux événements incompatibles est égale à la somme de leur probabilité:<br/><br/>$\\text{si } A\\cap B = \\emptyset \\text{ , alors } p(A \\cup B) = p(A) + p(B)$<br/><br/>\n",
    "\n",
    "## Propriétés:\n",
    "\n",
    "Soit A et B deux événement d'un univers $\\Omega$:\n",
    "\n",
    "1. La probabilité du complémentaire d'un événement vaut 1 moins la probailité de l'événement : <br/><br/>$p(\\overline{A}) = 1 - p(A)$<br/><br/>\n",
    "2. La probabilité de l'événement impossible est nulle<br/><br/>$p(\\emptyset) = 0$<br/><br/>\n",
    "3. La probabilité de la différence entre B et A est égale à la différence entre la probabilité de B et de l'interesection entre A et B: <br/><br/>$p(B \\backslash A) = p(B) - p(A \\cap B)$<br/><br/>\n",
    "4. La probabilité d'une réunion est égale à la somme des probabilités des événements moins la probabilité de leur intersection:<br/><br/>$p(A \\cup B) = p(A)+p(B)-p(A\\cap B)$<br/><br/>\n"
   ]
  },
  {
   "cell_type": "markdown",
   "id": "061ee9de",
   "metadata": {},
   "source": [
    "# Exercices\n"
   ]
  },
  {
   "cell_type": "markdown",
   "id": "20bcb333",
   "metadata": {},
   "source": [
    "## Ex 17\n",
    "\n",
    "Dans  un  canton,  il  y  a  40'000  voitures  dotées  de  plaques  numérotées  de  1  à  40'000.  En observant  les  voitures  de  ce  canton,  quelle  probabilité  a-t-on  de  voir  une  voiture  dont  le numéro de plaque commence par 1?"
   ]
  },
  {
   "cell_type": "code",
   "execution_count": 2,
   "id": "83fe531f",
   "metadata": {
    "init_cell": true,
    "scrolled": false,
    "solution2": "hidden",
    "solution2_first": true
   },
   "outputs": [
    {
     "data": {
      "application/vnd.jupyter.widget-view+json": {
       "model_id": "00863d64593e4415980bafb6c29f9a5f",
       "version_major": 2,
       "version_minor": 0
      },
      "text/plain": [
       "HTML(value='Entrez votre réponse à la question 1 sous forme de fraction (i.e. x/y):')"
      ]
     },
     "metadata": {},
     "output_type": "display_data"
    },
    {
     "data": {
      "application/vnd.jupyter.widget-view+json": {
       "model_id": "fdc50c42336e4f5aaed79c966ac50161",
       "version_major": 2,
       "version_minor": 0
      },
      "text/plain": [
       "HBox(children=(Text(value='', description='Réponse', placeholder='Tapez ici'), Button(description='Soumettre',…"
      ]
     },
     "metadata": {},
     "output_type": "display_data"
    }
   ],
   "source": [
    "ex_11 = Ex(1,1)"
   ]
  },
  {
   "cell_type": "markdown",
   "id": "cda6c658",
   "metadata": {
    "solution2": "hidden"
   },
   "source": [
    "**Aide pour l'exercice 1**\n",
    "\n",
    "Prenons un exemple plus facile pour soliciter des intuitions :\n",
    "Imaginez qu'il y a seulement 100 plaques (numérotées de 1 à 100).\n",
    "\n",
    "Nous devons décomposer le problème en sous parties :\n",
    "\n",
    "1. On commence par se demander quelle est la taille de l'univers, c'est-à-dire combien d'éléments il contient. \n",
    "3. L'événements qui nous intéresse correspond à l'ensemble des éléments de l'univers qui commencent par le chiffre 1. \n",
    "4. On peut considérer la probabilité de cet événement comme correspondant à la taille relative qu'il occupe dans son univers. <br/><br/>C'est-à-dire, au rapport suivant : $\\frac{\\text{nombre d'éléments contenus dans l'événement}}{\\text{nombre d'éléments contenus dans l'univers}}$ \n",
    "\n"
   ]
  },
  {
   "cell_type": "code",
   "execution_count": 3,
   "id": "786d6dd8",
   "metadata": {
    "hide_input": false,
    "init_cell": true,
    "scrolled": true,
    "solution2": "hidden"
   },
   "outputs": [
    {
     "data": {
      "application/vnd.jupyter.widget-view+json": {
       "model_id": "e84d9239bf4b4045b65667d2eb4cb3e4",
       "version_major": 2,
       "version_minor": 0
      },
      "text/plain": [
       "GridspecLayout(children=(Button(button_style='warning', description='1', layout=Layout(grid_area='widget001', …"
      ]
     },
     "metadata": {},
     "output_type": "display_data"
    }
   ],
   "source": [
    "# Aide pour l'exercice 1\n",
    "def create_expanded_button(description, button_style):\n",
    "    return Button(description=description, button_style=button_style, layout=Layout(height='auto', width='auto'))\n",
    "\n",
    "grid = GridspecLayout(10, 10, height='300px')\n",
    "\n",
    "plaque = 1\n",
    "for i in list(range(10)):\n",
    "    for j in list(range(10)):\n",
    "        \n",
    "        if str(plaque)[0] == '1':\n",
    "            grid[i,j] = create_expanded_button(str(plaque), 'warning')\n",
    "        \n",
    "        else:\n",
    "            grid[i,j] = create_expanded_button(str(plaque), 'success')\n",
    "            \n",
    "        plaque += 1\n",
    "                                           \n",
    "#grid[:,:] = create_expanded_button('One', 'success')\n",
    "#grid[:, 0] = create_expanded_button('Two', 'info')\n",
    "#grid[3, 1] = create_expanded_button('Three', 'warning')\n",
    "#grid[3, 2] = create_expanded_button('Four', 'danger')\n",
    "grid"
   ]
  },
  {
   "cell_type": "markdown",
   "id": "1197581f",
   "metadata": {},
   "source": [
    "## Ex 18\n",
    "\n",
    "Dans cet exercice, les questions sont présentées à la suite. Cependant à n'importe quel moment vous pouvez consulter l'aide en cliquant sur \"Show Solution\" en ba de l'exercice. \n",
    "\n",
    "On tire deux cartes d’un jeu de jass de 36 cartes rouges et noires. \n",
    "\n",
    "Quelle est la probabilité d’obtenir...\n",
    "1. ... deux rois?\n"
   ]
  },
  {
   "cell_type": "code",
   "execution_count": 4,
   "id": "ef90ef97",
   "metadata": {
    "init_cell": true,
    "scrolled": true
   },
   "outputs": [
    {
     "data": {
      "application/vnd.jupyter.widget-view+json": {
       "model_id": "b32f45bd3ffc48bea15fc71f868574ab",
       "version_major": 2,
       "version_minor": 0
      },
      "text/plain": [
       "HTML(value='Entrez votre réponse à la question 1 sous forme de fraction (i.e. x/y):')"
      ]
     },
     "metadata": {},
     "output_type": "display_data"
    },
    {
     "data": {
      "application/vnd.jupyter.widget-view+json": {
       "model_id": "722cf78f8b0a44b088290e7b286a7caa",
       "version_major": 2,
       "version_minor": 0
      },
      "text/plain": [
       "HBox(children=(Text(value='', description='Réponse', placeholder='Tapez ici'), Button(description='Soumettre',…"
      ]
     },
     "metadata": {},
     "output_type": "display_data"
    }
   ],
   "source": [
    "ex_1 = Ex(2,1)"
   ]
  },
  {
   "cell_type": "markdown",
   "id": "21e31582",
   "metadata": {},
   "source": [
    "2. ... deux cœurs?\n"
   ]
  },
  {
   "cell_type": "code",
   "execution_count": 5,
   "id": "7a0a01ec",
   "metadata": {
    "init_cell": true,
    "scrolled": true
   },
   "outputs": [
    {
     "data": {
      "application/vnd.jupyter.widget-view+json": {
       "model_id": "317ae8bc8e2b4093bf10b15a31b69ba0",
       "version_major": 2,
       "version_minor": 0
      },
      "text/plain": [
       "HTML(value='Entrez votre réponse à la question 2 sous forme de fraction (i.e. x/y):')"
      ]
     },
     "metadata": {},
     "output_type": "display_data"
    },
    {
     "data": {
      "application/vnd.jupyter.widget-view+json": {
       "model_id": "cc3d73522f5c4d13b1af55378daad202",
       "version_major": 2,
       "version_minor": 0
      },
      "text/plain": [
       "HBox(children=(Text(value='', description='Réponse', placeholder='Tapez ici'), Button(description='Soumettre',…"
      ]
     },
     "metadata": {},
     "output_type": "display_data"
    }
   ],
   "source": [
    "ex_2 = Ex(2,2)"
   ]
  },
  {
   "cell_type": "markdown",
   "id": "acb9ef46",
   "metadata": {},
   "source": [
    "3. ... le 10 de trèfle et l’as de pique?\n"
   ]
  },
  {
   "cell_type": "code",
   "execution_count": 6,
   "id": "216a16c8",
   "metadata": {
    "init_cell": true
   },
   "outputs": [
    {
     "data": {
      "application/vnd.jupyter.widget-view+json": {
       "model_id": "4a22a2d52362416c9824395b5ee5e18b",
       "version_major": 2,
       "version_minor": 0
      },
      "text/plain": [
       "HTML(value='Entrez votre réponse à la question 3 sous forme de fraction (i.e. x/y):')"
      ]
     },
     "metadata": {},
     "output_type": "display_data"
    },
    {
     "data": {
      "application/vnd.jupyter.widget-view+json": {
       "model_id": "c73da37a11b84f928d9df94297fc044e",
       "version_major": 2,
       "version_minor": 0
      },
      "text/plain": [
       "HBox(children=(Text(value='', description='Réponse', placeholder='Tapez ici'), Button(description='Soumettre',…"
      ]
     },
     "metadata": {},
     "output_type": "display_data"
    }
   ],
   "source": [
    "ex_3 = Ex(2,3)"
   ]
  },
  {
   "cell_type": "markdown",
   "id": "3ef0c877",
   "metadata": {},
   "source": [
    "4. ... au moins un 6?\n"
   ]
  },
  {
   "cell_type": "code",
   "execution_count": 7,
   "id": "64c4151d",
   "metadata": {
    "init_cell": true
   },
   "outputs": [
    {
     "data": {
      "application/vnd.jupyter.widget-view+json": {
       "model_id": "e2383aa27ff449a2b7616fa7063e58c1",
       "version_major": 2,
       "version_minor": 0
      },
      "text/plain": [
       "HTML(value='Entrez votre réponse à la question 4 sous forme de fraction (i.e. x/y):')"
      ]
     },
     "metadata": {},
     "output_type": "display_data"
    },
    {
     "data": {
      "application/vnd.jupyter.widget-view+json": {
       "model_id": "7b5a41f606ee4cd9979b84b11a254ab5",
       "version_major": 2,
       "version_minor": 0
      },
      "text/plain": [
       "HBox(children=(Text(value='', description='Réponse', placeholder='Tapez ici'), Button(description='Soumettre',…"
      ]
     },
     "metadata": {},
     "output_type": "display_data"
    }
   ],
   "source": [
    "ex_4 = Ex(2,4)"
   ]
  },
  {
   "cell_type": "markdown",
   "id": "02ec0967",
   "metadata": {},
   "source": [
    "5. ... deux cartes noires?\n"
   ]
  },
  {
   "cell_type": "code",
   "execution_count": 8,
   "id": "887b3502",
   "metadata": {
    "init_cell": true,
    "scrolled": false
   },
   "outputs": [
    {
     "data": {
      "application/vnd.jupyter.widget-view+json": {
       "model_id": "faa6c7e9aef14ca7993c8bdc7728ec6c",
       "version_major": 2,
       "version_minor": 0
      },
      "text/plain": [
       "HTML(value='Entrez votre réponse à la question 5 sous forme de fraction (i.e. x/y):')"
      ]
     },
     "metadata": {},
     "output_type": "display_data"
    },
    {
     "data": {
      "application/vnd.jupyter.widget-view+json": {
       "model_id": "ffcedc7d6ea649399a4367f6ec04646c",
       "version_major": 2,
       "version_minor": 0
      },
      "text/plain": [
       "HBox(children=(Text(value='', description='Réponse', placeholder='Tapez ici'), Button(description='Soumettre',…"
      ]
     },
     "metadata": {},
     "output_type": "display_data"
    }
   ],
   "source": [
    "ex_5 = Ex(2,5)"
   ]
  },
  {
   "cell_type": "markdown",
   "id": "7811d352",
   "metadata": {},
   "source": [
    "6. ... une carte de chaque couleur?"
   ]
  },
  {
   "cell_type": "code",
   "execution_count": 9,
   "id": "fa90967d",
   "metadata": {
    "init_cell": true
   },
   "outputs": [
    {
     "data": {
      "application/vnd.jupyter.widget-view+json": {
       "model_id": "d3ed7b9776cb45718ba82243e533e97f",
       "version_major": 2,
       "version_minor": 0
      },
      "text/plain": [
       "HTML(value='Entrez votre réponse à la question 6 sous forme de fraction (i.e. x/y):')"
      ]
     },
     "metadata": {},
     "output_type": "display_data"
    },
    {
     "data": {
      "application/vnd.jupyter.widget-view+json": {
       "model_id": "a62fe5d14eb448119486a7a2abddc659",
       "version_major": 2,
       "version_minor": 0
      },
      "text/plain": [
       "HBox(children=(Text(value='', description='Réponse', placeholder='Tapez ici'), Button(description='Soumettre',…"
      ]
     },
     "metadata": {},
     "output_type": "display_data"
    }
   ],
   "source": [
    "ex_6 = Ex(2,6)"
   ]
  },
  {
   "cell_type": "code",
   "execution_count": null,
   "id": "e8c6b770",
   "metadata": {},
   "outputs": [],
   "source": [
    "## add button to show solution"
   ]
  },
  {
   "cell_type": "markdown",
   "id": "0e34e290",
   "metadata": {
    "solution2": "hidden",
    "solution2_first": true
   },
   "source": [
    "Cliquez le bouton \"Show Solution\" pour accéder à un exemple détaillé"
   ]
  },
  {
   "cell_type": "markdown",
   "id": "9f0a9ffd",
   "metadata": {
    "hide_input": true,
    "solution2": "hidden"
   },
   "source": [
    "**Aide pour l'exercice 2**\n",
    "\n",
    "Prenons un exemple plus facile pour soliciter des intuitions. \n",
    "\n",
    "Imaginez un autre jeu de cartes:\n",
    "\n",
    "Il y a 3 couleurs. Pour chaque couleur, il y a 5 cartes (numérotées de 1 à 5).\n",
    "\n",
    "Cela représente l' \"inventaire\" des éléments individuels qui permettent de construire notre univers.\n"
   ]
  },
  {
   "cell_type": "code",
   "execution_count": 10,
   "id": "60959c02",
   "metadata": {
    "hide_input": true,
    "init_cell": true,
    "solution2": "hidden"
   },
   "outputs": [
    {
     "name": "stdout",
     "output_type": "stream",
     "text": [
      "Voici notre inventaire\n"
     ]
    },
    {
     "data": {
      "application/vnd.jupyter.widget-view+json": {
       "model_id": "3563522ebca64a989c0df52f1a13922e",
       "version_major": 2,
       "version_minor": 0
      },
      "text/plain": [
       "GridspecLayout(children=(Button(button_style='info', description='1', layout=Layout(grid_area='widget001', hei…"
      ]
     },
     "metadata": {},
     "output_type": "display_data"
    }
   ],
   "source": [
    "def create_expanded_button(description, button_style):\n",
    "    return Button(description=description, button_style=button_style, layout=Layout(height='auto', width='auto'))\n",
    "\n",
    "grid = GridspecLayout(3, 5, height='300px', width= '300px')\n",
    "\n",
    "number = 1\n",
    "colors = ['warning', 'success', 'info']\n",
    "\n",
    "for i in list(range(3)):\n",
    "    color = colors[i-1]\n",
    "    for j in list(range(5)):       \n",
    "        grid[i,j] = create_expanded_button(str(j+1),color)\n",
    "        \n",
    "print('Voici notre inventaire')\n",
    "grid"
   ]
  },
  {
   "cell_type": "markdown",
   "id": "b7d1fa30",
   "metadata": {
    "solution2": "hidden"
   },
   "source": [
    "Il faut distinguer entre cet inventaire et l'univers : avec un même inventaire on peut constituer différents univers.\n",
    "\n",
    "Comment ? En fonction de l'usage qu'on fait de l'inventaire, c'est à dire selon la manière dont on assemble ou combine ses éléments. La manière avec laquelle on combine les éléments correspond à la définition de l'expérience aléatoire qu'on est en train de faire. \n",
    "\n",
    "La taille de l'univers correspond ainsi au nombre de combinaisons des éléments de l'inventaire, étant donné une manière de les combiner.\n",
    "\n",
    "Voici une manière d'assembler un univers (une expérience aléatoire) à partir des éléments de l'inventaire : \"On tire une carte parmi celles numérotées de 1 à 4\""
   ]
  },
  {
   "cell_type": "code",
   "execution_count": 11,
   "id": "e2f4c083",
   "metadata": {
    "hide_input": false,
    "init_cell": true,
    "scrolled": true,
    "solution2": "hidden"
   },
   "outputs": [
    {
     "name": "stdout",
     "output_type": "stream",
     "text": [
      "Voici un univers\n"
     ]
    },
    {
     "data": {
      "application/vnd.jupyter.widget-view+json": {
       "model_id": "b8690b3c8a1a496987aec8d3d53dc55f",
       "version_major": 2,
       "version_minor": 0
      },
      "text/plain": [
       "GridspecLayout(children=(Button(button_style='info', description='1', layout=Layout(grid_area='widget001', hei…"
      ]
     },
     "metadata": {},
     "output_type": "display_data"
    }
   ],
   "source": [
    "grid = GridspecLayout(3, 4, height='300px', width= '250px')\n",
    "\n",
    "number = 1\n",
    "colors = ['warning', 'success', 'info']\n",
    "\n",
    "for i in list(range(3)):\n",
    "    color = colors[i-1]\n",
    "    for j in list(range(4)):       \n",
    "        grid[i,j] = create_expanded_button(str(j+1),color)\n",
    "        \n",
    "print('Voici un univers')\n",
    "grid"
   ]
  },
  {
   "cell_type": "markdown",
   "id": "e694477b",
   "metadata": {
    "solution2": "hidden"
   },
   "source": [
    "Voici une autre manière d'assembler un univers (une autre expérience aléatoire) à partir des éléments de l'inventaire : \"On tire 2 cartes parmi celles numérotées de 1 à 5\""
   ]
  },
  {
   "cell_type": "code",
   "execution_count": 12,
   "id": "d5be6ea3",
   "metadata": {
    "hide_input": true,
    "init_cell": true,
    "scrolled": false,
    "solution2": "hidden",
    "tags": []
   },
   "outputs": [
    {
     "name": "stdout",
     "output_type": "stream",
     "text": [
      "Voici un second univers :\n"
     ]
    },
    {
     "data": {
      "application/vnd.jupyter.widget-view+json": {
       "model_id": "06cc4444b59541cf96acee0be0ab9ffd",
       "version_major": 2,
       "version_minor": 0
      },
      "text/plain": [
       "GridBox(children=(Button(button_style='info', description='1', layout=Layout(height='50px', width='30px'), sty…"
      ]
     },
     "metadata": {},
     "output_type": "display_data"
    }
   ],
   "source": [
    "cards = [\n",
    "    widgets.Button(description=str(j+1), button_style=colors[i-1], layout=Layout(height='50px', width='30px'))\n",
    "    for i in list(range(3)) for j in list(range(5))\n",
    "]\n",
    "\n",
    "all_elements = list(chain(*combinations(cards,2)))\n",
    "\n",
    "print('Voici un second univers :')\n",
    "widgets.GridBox(children=all_elements,\n",
    "\n",
    "                layout=widgets.Layout(\n",
    "                                    width='100%',\n",
    "                                    grid_template_columns='30px auto 30px auto 30px auto 30px auto 30px auto 30px auto 30px auto ',\n",
    "                                    grid_template_rows='auto',\n",
    "                                    grid_gap='12px 2px')\n",
    "       )"
   ]
  },
  {
   "cell_type": "markdown",
   "id": "0cecd897",
   "metadata": {
    "solution2": "hidden"
   },
   "source": [
    "Pour résoudre le problème, nous devons le décomposer  en sous parties :\n",
    "\n",
    "1. On commence par se demander quelle est la taille de l'univers, c'est-à-dire combien d'éléments il contient. Pour ce faire, il faut identifier les éléments à combiner et la manière de le faire (donc identifier l'expérience aléatoire).\n",
    "\n",
    "3. Ensuite, on cherche à connaître la taille de l'événement qui nous intéresse. Cela correpond à compter le nombre d'éléments combinés dans notre univers qui satisfont à la définition ou description de l'événement.<br/> On peut aussi voir un événement comme un sous ensemble de l'univers. <br/>Pour l'exemple: considérons l'événement suivant : \"Comporte une carte numérotée 1 et une autre numérotée 2\".<br/>Quels éléments de notre univers doit-on séléctionner pour constituer notre événement ?"
   ]
  },
  {
   "cell_type": "code",
   "execution_count": null,
   "id": "b1d8a8bd-04db-4993-a8c9-e5ce83b776bd",
   "metadata": {
    "hide_input": true,
    "scrolled": true,
    "solution2": "hidden"
   },
   "outputs": [],
   "source": [
    "'''\n",
    "grid = GridspecLayout(3, 2, height='300px', width= '100px')\n",
    "\n",
    "number = 1\n",
    "colors = ['warning', 'success', 'info']\n",
    "\n",
    "for i in list(range(3)):\n",
    "    color = colors[i-1]\n",
    "    for j in list(range(2)):       \n",
    "        grid[i,j] = create_expanded_button(str(j+1),color)\n",
    "        \n",
    "print('Voici le sous ensemble de notre inventaire:')\n",
    "grid\n",
    "'''"
   ]
  },
  {
   "cell_type": "code",
   "execution_count": 13,
   "id": "5ca86b5f-8364-4c8f-9f40-b0ed6545ae1a",
   "metadata": {
    "hide_input": true,
    "init_cell": true,
    "scrolled": true,
    "solution2": "hidden"
   },
   "outputs": [
    {
     "name": "stdout",
     "output_type": "stream",
     "text": [
      "Voici notre événement \"Comporte une carte numérotée 1 et une autre numérotée 2\" :\n"
     ]
    },
    {
     "data": {
      "application/vnd.jupyter.widget-view+json": {
       "model_id": "d3382c0539da41d5b7210aa3f066851b",
       "version_major": 2,
       "version_minor": 0
      },
      "text/plain": [
       "GridBox(children=(Button(button_style='info', description='1', layout=Layout(height='50px', width='30px'), sty…"
      ]
     },
     "metadata": {},
     "output_type": "display_data"
    }
   ],
   "source": [
    "cards = [\n",
    "    widgets.Button(description=str(j+1), button_style=colors[i-1], layout=Layout(height='50px', width='30px'))\n",
    "    for i in list(range(3)) for j in list(range(2))\n",
    "]\n",
    "\n",
    "all_elements = list(chain(*combinations(cards,2)))\n",
    "\n",
    "print('Voici notre événement \"Comporte une carte numérotée 1 et une autre numérotée 2\" :')\n",
    "widgets.GridBox(children=all_elements,\n",
    "\n",
    "                layout=widgets.Layout(\n",
    "                                    width='100%',\n",
    "                                    grid_template_columns='30px auto 30px auto 30px auto 30px auto 30px auto 30px auto 30px auto ',\n",
    "                                    grid_template_rows='auto',\n",
    "                                    grid_gap='12px 2px')\n",
    "       )"
   ]
  },
  {
   "cell_type": "markdown",
   "id": "fc98c4cd-3cef-4df3-b8cd-362757ee0276",
   "metadata": {
    "solution2": "hidden"
   },
   "source": [
    "3. On peut enfin calculer la probabilité de cet événement comme correspondant à la taille relative qu'il occupe dans son univers. <br/><br/>C'est-à-dire, au rapport suivant : $\\frac{\\text{nombre d'éléments combinés contenus dans l'événement}}{\\text{nombre d'éléments combinés contenus dans l'univers}}$ "
   ]
  },
  {
   "cell_type": "markdown",
   "id": "1c7e480d",
   "metadata": {},
   "source": [
    "## Ex 20\n",
    "\n",
    "On fait tourner librement l’aiguille d’une horloge et on note sa position d’arrêt. Quelle est la probabilité que l’aiguille s’arrête entre 7 et 9?\n"
   ]
  },
  {
   "cell_type": "code",
   "execution_count": 14,
   "id": "db9156b3",
   "metadata": {
    "init_cell": true,
    "scrolled": true,
    "solution2": "hidden",
    "solution2_first": true
   },
   "outputs": [
    {
     "data": {
      "application/vnd.jupyter.widget-view+json": {
       "model_id": "cc7c1928631e4cb4b58c6c7498682ac7",
       "version_major": 2,
       "version_minor": 0
      },
      "text/plain": [
       "HTML(value='Entrez votre réponse à la question 1 sous forme de fraction (i.e. x/y):')"
      ]
     },
     "metadata": {},
     "output_type": "display_data"
    },
    {
     "data": {
      "application/vnd.jupyter.widget-view+json": {
       "model_id": "9f5a798844cc4bdebf8f99f6c8ad3aea",
       "version_major": 2,
       "version_minor": 0
      },
      "text/plain": [
       "HBox(children=(Text(value='', description='Réponse', placeholder='Tapez ici'), Button(description='Soumettre',…"
      ]
     },
     "metadata": {},
     "output_type": "display_data"
    }
   ],
   "source": [
    "ex_31 = Ex(3,1)"
   ]
  },
  {
   "cell_type": "markdown",
   "id": "90685421",
   "metadata": {
    "solution2": "hidden"
   },
   "source": [
    "**Aide pour l'exercice 3**\n",
    "\n",
    "1. Quelle est la taille de notre univers ?\n",
    "2. Quelle est la taille de notre événement ?\n",
    "3. Quelle est la taille relative de notre événement vis-à-vis de l'univers ?\n"
   ]
  },
  {
   "cell_type": "code",
   "execution_count": 15,
   "id": "21ea688a",
   "metadata": {
    "init_cell": true,
    "scrolled": true,
    "solution2": "hidden"
   },
   "outputs": [
    {
     "data": {
      "image/png": "[encoded data removed]",
      "text/plain": [
       "<Figure size 432x288 with 1 Axes>"
      ]
     },
     "metadata": {},
     "output_type": "display_data"
    }
   ],
   "source": [
    "# c'est un peu pauvre, je ne vois pas ce que je pourrais faire de mieux,\n",
    "#je n'ai pas trouver comment animer un cercle dans ipywidgets\n",
    "hours = 12*[1/12]\n",
    "labels = list(range(1,13))\n",
    "plt.pie(x=hours, startangle=90, counterclock=False, labels=labels, colors=['blue', 'green'])\n",
    "plt.style.use('ggplot')\n",
    "plt.axis('equal')\n",
    "circle = plt.Circle(xy=(0,0), radius =.75, facecolor='white')\n",
    "plt.gca().add_artist(circle)\n",
    "plt.show()\n"
   ]
  },
  {
   "cell_type": "markdown",
   "id": "b5a311bf",
   "metadata": {},
   "source": [
    "## Ex 22\n",
    "\n",
    "En décembre, la probabilité qu’il neige et qu’il vente un jour donné vaut $\\frac{1}{6}$ et celle qu’il ne fasse ni l’un ni l’autre est de $\\frac{1}{8}$. De plus, nous savons qu’il y a du vent un jour sur quatre. Sous ces conditions, quelle est la probabilité qu’il neige le jour de Noël?"
   ]
  },
  {
   "cell_type": "code",
   "execution_count": 16,
   "id": "0aa6f749",
   "metadata": {
    "init_cell": true,
    "scrolled": true,
    "solution2": "hidden",
    "solution2_first": true
   },
   "outputs": [
    {
     "data": {
      "application/vnd.jupyter.widget-view+json": {
       "model_id": "ee95ce90d7aa481b81ffb971deef54ae",
       "version_major": 2,
       "version_minor": 0
      },
      "text/plain": [
       "HTML(value='Entrez votre réponse à la question 1 sous forme de fraction (i.e. x/y):')"
      ]
     },
     "metadata": {},
     "output_type": "display_data"
    },
    {
     "data": {
      "application/vnd.jupyter.widget-view+json": {
       "model_id": "4b3871d5b7f54dbb83577f79ffe83702",
       "version_major": 2,
       "version_minor": 0
      },
      "text/plain": [
       "HBox(children=(Text(value='', description='Réponse', placeholder='Tapez ici'), Button(description='Soumettre',…"
      ]
     },
     "metadata": {},
     "output_type": "display_data"
    }
   ],
   "source": [
    "ex_41 = Ex(4,1)"
   ]
  },
  {
   "cell_type": "markdown",
   "id": "48433b81",
   "metadata": {},
   "source": [
    "# Feedback"
   ]
  },
  {
   "cell_type": "code",
   "execution_count": 19,
   "id": "62f73e51",
   "metadata": {
    "init_cell": true
   },
   "outputs": [
    {
     "data": {
      "text/html": [
       "\n",
       "<iframe \n",
       "\tsrc=\"https://forms.gle/gXshgNruRPcaSgSW6\" \n",
       "\twidth=\"100%\" \n",
       "\theight=\"1200px\" \n",
       "\tframeborder=\"0\" \n",
       "\tmarginheight=\"0\" \n",
       "\tmarginwidth=\"0\">\n",
       "\tLoading...\n",
       "</iframe>\n"
      ],
      "text/plain": [
       "<IPython.core.display.HTML object>"
      ]
     },
     "execution_count": 19,
     "metadata": {},
     "output_type": "execute_result"
    }
   ],
   "source": [
    "from IPython.display import HTML\n",
    "HTML(\n",
    "\"\"\"\n",
    "<iframe \n",
    "\tsrc=\"https://forms.gle/gXshgNruRPcaSgSW6\" \n",
    "\twidth=\"100%\" \n",
    "\theight=\"1200px\" \n",
    "\tframeborder=\"0\" \n",
    "\tmarginheight=\"0\" \n",
    "\tmarginwidth=\"0\">\n",
    "\tLoading...\n",
    "</iframe>\n",
    "\"\"\"\n",
    ")"
   ]
  },
  {
   "cell_type": "markdown",
   "id": "3748d158",
   "metadata": {
    "hide_input": false,
    "solution2": "hidden"
   },
   "source": [
    "**Aide pour l'exercice 4**\n",
    "\n",
    "Dans cet exercice, notre expérience aléatoire est d'observer la météo un jour de décembre et dire si ce jour il vente ou il neige. Nous n'allons pas pouvoir énumérez toutes les issues possibles dans l'univers. Mais nous avons déjà quelques pobabilités de quelques événements utiles pour nous. \n",
    "\n",
    "Définissons les évenements suivants: </br>\n",
    "A: il vente </br>\n",
    "B: il neige \n",
    "\n",
    "L'énoncé nous donne les probabilités suivantes : </br>\n",
    "$P(A \\cap B) = 1/6$ </br>\n",
    "$P(\\overline{A} \\cap \\overline{B}) = 1/8$ </br>\n",
    "$P(A)  = 1/4$ </br>\n",
    "\n",
    "Le but de l'exercice est de trouver $P(B)$.\n",
    "\n",
    "6 visualisations sont à votre disposition ci-dessous pour vous aider à procéder à la résolution. Notez que les opérations de sommes et de soustraction arithmétiques illustrées se réfèrent aux tailles des ensembles. Quand il s'agit d'opèrations sur les ensembles ceux-là sont illustrés par les symboles standards d'intersection, union, etc. \n"
   ]
  },
  {
   "cell_type": "code",
   "execution_count": 17,
   "id": "c7cc2a7a",
   "metadata": {
    "init_cell": true,
    "scrolled": true,
    "solution2": "hidden"
   },
   "outputs": [],
   "source": [
    "# il faut encore que je trouve comment afficher mieux le boutton et comment effacer les images quand on clique sur un autre boutton\n",
    "for index in range(1,7):\n",
    "    ImageButton(index)"
   ]
  },
  {
   "cell_type": "code",
   "execution_count": 18,
   "id": "25ae2fea",
   "metadata": {
    "hide_input": true,
    "init_cell": true,
    "solution2": "hidden"
   },
   "outputs": [
    {
     "data": {
      "application/vnd.jupyter.widget-view+json": {
       "model_id": "51358514b8e84457a0ed0447b92a3933",
       "version_major": 2,
       "version_minor": 0
      },
      "text/plain": [
       "HBox(children=(Button(description='Image 1', layout=Layout(width='15%'), style=ButtonStyle()), Button(descript…"
      ]
     },
     "metadata": {},
     "output_type": "display_data"
    }
   ],
   "source": [
    "widgets.HBox(children=[ImageButton(index).button for index in range(1,7)]) "
   ]
  }
 ],
 "metadata": {
  "celltoolbar": "Initialization Cell",
  "hide_input": true,
  "kernelspec": {
   "display_name": "Python 3 (ipykernel)",
   "language": "python",
   "name": "python3"
  },
  "language_info": {
   "codemirror_mode": {
    "name": "ipython",
    "version": 3
   },
   "file_extension": ".py",
   "mimetype": "text/x-python",
   "name": "python",
   "nbconvert_exporter": "python",
   "pygments_lexer": "ipython3",
   "version": "3.9.6"
  },
  "toc": {
   "base_numbering": 1,
   "nav_menu": {},
   "number_sections": true,
   "sideBar": true,
   "skip_h1_title": false,
   "title_cell": "Table of Contents",
   "title_sidebar": "Contents",
   "toc_cell": false,
   "toc_position": {},
   "toc_section_display": true,
   "toc_window_display": true
  }
 },
 "nbformat": 4,
 "nbformat_minor": 5
}
