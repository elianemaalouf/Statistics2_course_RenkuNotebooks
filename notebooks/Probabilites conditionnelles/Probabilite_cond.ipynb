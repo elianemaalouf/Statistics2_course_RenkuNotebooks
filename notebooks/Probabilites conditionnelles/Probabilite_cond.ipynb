{
 "cells": [
  {
   "cell_type": "code",
   "execution_count": 45,
   "id": "c25d53a0-ead0-4fbd-b779-edf28743cb31",
   "metadata": {
    "hide_input": false,
    "init_cell": true
   },
   "outputs": [],
   "source": [
    "import ipywidgets as widgets\n",
    "from ipywidgets import GridspecLayout, Button, Layout, AppLayout, ToggleButtons, interact, interactive, FloatSlider\n",
    "\n",
    "import sympy\n",
    "from sympy.functions.combinatorial.numbers import nC\n",
    "\n",
    "import numpy as np\n",
    "from itertools import combinations, chain, combinations_with_replacement\n",
    "import matplotlib.pyplot as plt\n",
    "from matplotlib_venn import venn2, venn3\n",
    "from statsmodels.graphics.mosaicplot import mosaic\n",
    "\n",
    "from IPython.display import display, clear_output, Image\n",
    "\n",
    "import pandas as pd\n",
    "from exercices import Ex_frac"
   ]
  },
  {
   "cell_type": "markdown",
   "id": "cf040d1d",
   "metadata": {},
   "source": [
    "# Rappels\n",
    "\n",
    "## 1. Probabilité conditionnelle:\n",
    "\n",
    "####  Dépendance :\n",
    "\n",
    "$ p(A|B) = \\frac {p(A \\cap B)}{p(B)}$\n",
    "\n",
    "\n",
    "$ p(B|A) = \\frac {p(A \\cap B)}{p(A)}$\n",
    "\n",
    "\n",
    "$p(A \\cap B) = p(A) \\cdot p(B|A) = p(B) \\cdot p(A|B)$\n",
    "\n",
    "\n",
    "####  Indépendance :\n",
    "\n",
    "$ p(A|B) = p(A) $\n",
    "\n",
    "\n",
    "$ p(A \\cap B) = p(A) \\cdot p(B)$\n"
   ]
  },
  {
   "cell_type": "markdown",
   "id": "082a9a7c",
   "metadata": {
    "hide_input": true
   },
   "source": [
    "# Visualisation des concepts\n",
    "\n",
    "Vous trouverez ci-dessous un diagramme de Venn dynamique permettant de visualiser les concepts de probabilité conditionelle et d'indépendance.\n",
    "\n",
    "Observez comment la probabilité des différents événements varie en fonction de la valeur de n (représentant la taille de l'intersection et qu'on peut modifier avec le curseur).\n",
    "\n",
    "Que constate-t-on ?\n",
    "\n",
    "La probabilité conditionelle d'événements correspond au rapport entre la taille de l'intersection de ces événements et la taille l'un de ces deux événements. Autrement dit, la probabilité conditionnelle de A sachant que B correspond au pourcentage de B occupé par l'intersection\n",
    "\n",
    "Enfin, il existe une valeur de n pour laquelle A et B sont indépendants. Pouvez vous la trouver ?\n",
    "\n"
   ]
  },
  {
   "cell_type": "code",
   "execution_count": 46,
   "id": "0aa7db62-8ff0-4c80-9062-5e4cbcb7d7c9",
   "metadata": {
    "hide_input": false,
    "init_cell": true
   },
   "outputs": [],
   "source": [
    "layout=Layout(width='20%', height='70px')\n",
    "caption_1 = widgets.Label(value= r'$P(A)= $', layout=layout)\n",
    "caption_1.style.font_size=1\n",
    "caption_2 = widgets.Label(value= r'$P(B)= $', layout=layout)\n",
    "caption_3 = widgets.Label(value= r'$P(A\\capB)= $', layout=layout)\n",
    "caption_4 = widgets.Label(value= r'$P(A|B)= $', layout=layout)\n",
    "caption_5 = widgets.Label(value= r'$P(B|A)= $', layout=layout)\n",
    "caption_6 = widgets.Label(value= r\"$Taille de l'univers: $\", layout=layout)\n",
    "\n",
    "\n",
    "\n",
    "def intersection_size_3(n):\n",
    "    \n",
    "    plt.rcParams[\"figure.figsize\"] = [12.00, 6]\n",
    "    plt.rcParams[\"figure.autolayout\"] = True\n",
    "    \n",
    "    venn3(subsets = (80, 0, 10-n, 0, 10-n, 0, n), \n",
    "          set_labels = ('Univers','B', 'A'))\n",
    "    intersection = n/100\n",
    "    prob_a = 10/100\n",
    "    prob_b = 10/100\n",
    "    \n",
    "   \n",
    "    prob_a_given_b = intersection/prob_b\n",
    "    prob_b_given_a = intersection/prob_a\n",
    "    \n",
    "        \n",
    "    caption_1.value = r'$P(A)= $'+str(round(prob_a, 3))\n",
    "    caption_2.value = r'$P(B)= $'+str(round(prob_b, 3))\n",
    "    caption_3.value = r'$P(A\\cap B)= $'+str(round(intersection, 3))\n",
    "    caption_4.value = r'$P(A|B)= $'+str(round(prob_a_given_b, 3))\n",
    "    caption_5.value = r'$P(B|A)= $'+str(round(prob_b_given_a, 3))\n",
    "    caption_6.value = r\"$\\text{Univers:} $\"+str(100)\n",
    "    \n",
    "    #out = widgets.Output(layout={\"border\":\"1px solid green\"})\n",
    "    #with out :\n",
    "     #   display('P(A)=',round(12/124, 2)),\n",
    "      #  display('P(B)=',round(12/124, 2))\n",
    "       # display('P(AnB)=', intersection)\n",
    "        #display('P(A|B)=', prob_a_given_b)\n"
   ]
  },
  {
   "cell_type": "code",
   "execution_count": 47,
   "id": "90da421d-d4d9-442b-b116-4130245d70ca",
   "metadata": {
    "hide_input": false,
    "init_cell": true
   },
   "outputs": [
    {
     "data": {
      "application/vnd.jupyter.widget-view+json": {
       "model_id": "279f6ba18a61420191367ad30a071cba",
       "version_major": 2,
       "version_minor": 0
      },
      "text/plain": [
       "interactive(children=(IntSlider(value=5, description='n', max=10), Output()), _dom_classes=('widget-interact',…"
      ]
     },
     "metadata": {},
     "output_type": "display_data"
    },
    {
     "data": {
      "application/vnd.jupyter.widget-view+json": {
       "model_id": "e781b85aec574880932c796dc66e8d1d",
       "version_major": 2,
       "version_minor": 0
      },
      "text/plain": [
       "HBox(children=(Label(value='$P(A)= $0.1', layout=Layout(height='70px', width='20%')), Label(value='$P(B)= $0.1…"
      ]
     },
     "metadata": {},
     "output_type": "display_data"
    }
   ],
   "source": [
    "venn =interactive(intersection_size_3, n=(0,10,1))\n",
    "prob = widgets.HBox([caption_1, caption_2, caption_3, caption_4, caption_5, caption_6])\n",
    "\n",
    "display(venn,prob)\n"
   ]
  },
  {
   "cell_type": "markdown",
   "id": "4434a80f",
   "metadata": {},
   "source": [
    "### Consigne pour répondre aux exercices :\n",
    "\n",
    "Entrez vos réponses:\n",
    "1. Sous forme de décimale\n",
    "2. Avec un \".\" et non une \",\". \n",
    "3. Si votre réponse contient plus de 2 décimales, arrondissez à la seconde (i.e. 0.33333 -> 0.33 ; 0.336 -> 0.34 ; 0.335 -> 0.33):"
   ]
  },
  {
   "cell_type": "markdown",
   "id": "84c7241e",
   "metadata": {},
   "source": [
    "# Ex 24"
   ]
  },
  {
   "cell_type": "markdown",
   "id": "9c343498",
   "metadata": {},
   "source": [
    "On lance deux dés équilibrés. Quelle est la probabilité qu’au moins l’un d’entre eux montre 6, sachant que …\n",
    "<br/>a. … les deux chiffres obtenus sont différents ?"
   ]
  },
  {
   "cell_type": "code",
   "execution_count": 48,
   "id": "8350aafa",
   "metadata": {
    "hide_input": false,
    "init_cell": true
   },
   "outputs": [
    {
     "data": {
      "application/vnd.jupyter.widget-view+json": {
       "model_id": "84c19f58d9d946baa1495cec31e98511",
       "version_major": 2,
       "version_minor": 0
      },
      "text/plain": [
       "HTML(value='Entrez votre réponse à la question 1 sous forme décimale')"
      ]
     },
     "metadata": {},
     "output_type": "display_data"
    },
    {
     "data": {
      "application/vnd.jupyter.widget-view+json": {
       "model_id": "50ace129a1b04683b458e42f09bc7aa4",
       "version_major": 2,
       "version_minor": 0
      },
      "text/plain": [
       "HBox(children=(Text(value='', description='Réponse', placeholder='Tapez ici'), Button(description='Soumettre',…"
      ]
     },
     "metadata": {},
     "output_type": "display_data"
    }
   ],
   "source": [
    "ex_24_1 = Ex_frac(1,1)\n",
    "# Eliane note: we need to specify here how to round the decimal numbers: python will round up when the third decimal is >=6 \n",
    "# example: 0.336 -> 0.34 ; 0.335 -> 0.33 "
   ]
  },
  {
   "cell_type": "markdown",
   "id": "50276761",
   "metadata": {},
   "source": [
    "b. … la somme des deux est 7 ?\n"
   ]
  },
  {
   "cell_type": "code",
   "execution_count": 49,
   "id": "a1ba5315",
   "metadata": {
    "hide_input": false,
    "init_cell": true
   },
   "outputs": [
    {
     "data": {
      "application/vnd.jupyter.widget-view+json": {
       "model_id": "452dc28532854f8cb946bf5438fba90f",
       "version_major": 2,
       "version_minor": 0
      },
      "text/plain": [
       "HTML(value='Entrez votre réponse à la question 2 sous forme décimale')"
      ]
     },
     "metadata": {},
     "output_type": "display_data"
    },
    {
     "data": {
      "application/vnd.jupyter.widget-view+json": {
       "model_id": "f02184cde54f45fbbacd50ee03b837ef",
       "version_major": 2,
       "version_minor": 0
      },
      "text/plain": [
       "HBox(children=(Text(value='', description='Réponse', placeholder='Tapez ici'), Button(description='Soumettre',…"
      ]
     },
     "metadata": {},
     "output_type": "display_data"
    }
   ],
   "source": [
    "ex_24_2 = Ex_frac(1,2)"
   ]
  },
  {
   "cell_type": "markdown",
   "id": "c2a768ba",
   "metadata": {},
   "source": [
    "c. … la somme des deux est 10 ?"
   ]
  },
  {
   "cell_type": "code",
   "execution_count": 50,
   "id": "76d1f7aa",
   "metadata": {
    "hide_input": false,
    "init_cell": true
   },
   "outputs": [
    {
     "data": {
      "application/vnd.jupyter.widget-view+json": {
       "model_id": "64215a63754d4105b0ff77b31076bbb0",
       "version_major": 2,
       "version_minor": 0
      },
      "text/plain": [
       "HTML(value='Entrez votre réponse à la question 3 sous forme décimale')"
      ]
     },
     "metadata": {},
     "output_type": "display_data"
    },
    {
     "data": {
      "application/vnd.jupyter.widget-view+json": {
       "model_id": "8fd312c9fd684d20a30fa2a2727cda77",
       "version_major": 2,
       "version_minor": 0
      },
      "text/plain": [
       "HBox(children=(Text(value='', description='Réponse', placeholder='Tapez ici'), Button(description='Soumettre',…"
      ]
     },
     "metadata": {},
     "output_type": "display_data"
    }
   ],
   "source": [
    "ex_24_3 = Ex_frac(1,3)"
   ]
  },
  {
   "cell_type": "markdown",
   "id": "cffd46a3",
   "metadata": {},
   "source": [
    "d. … la somme des deux est 11 ?"
   ]
  },
  {
   "cell_type": "code",
   "execution_count": 51,
   "id": "8617e29f",
   "metadata": {
    "hide_input": false,
    "init_cell": true
   },
   "outputs": [
    {
     "data": {
      "application/vnd.jupyter.widget-view+json": {
       "model_id": "0bed1bf006c443bc8901e4d385d3eb72",
       "version_major": 2,
       "version_minor": 0
      },
      "text/plain": [
       "HTML(value='Entrez votre réponse à la question 4 sous forme décimale')"
      ]
     },
     "metadata": {},
     "output_type": "display_data"
    },
    {
     "data": {
      "application/vnd.jupyter.widget-view+json": {
       "model_id": "ec00896b0fc9470fa89a7480de751e52",
       "version_major": 2,
       "version_minor": 0
      },
      "text/plain": [
       "HBox(children=(Text(value='', description='Réponse', placeholder='Tapez ici'), Button(description='Soumettre',…"
      ]
     },
     "metadata": {},
     "output_type": "display_data"
    }
   ],
   "source": [
    "ex_24_4 = Ex_frac(1,4)"
   ]
  },
  {
   "cell_type": "markdown",
   "id": "2604ffc3",
   "metadata": {},
   "source": [
    "**Aide pour l'exercice 24**\n",
    "\n",
    "Pour soliciter les bonnes intutions, vous trouverez ci-dessous la représentation d'un univers consituté des tirages de deux dés à quatre faces. \n",
    "\n",
    "Rappelez vous de la procédure pour calculer la probabilité d'un événement :\n",
    "\n",
    "1. Mesurer la taille de l'univers   \n",
    "2. Mesurer celle de l'événement\n",
    "3. Calculer la taille relative de l'événement vis-à-vis de l'univers\n",
    "\n",
    "\n",
    "\n",
    "Considérons les deux événements suivants représentés ci-dessous :\n",
    "\n",
    "1. A : 'Le tirage contient au moins un 3\"\n",
    "2. B : \"La somme du tirage est égale à 5\"\n",
    "\n",
    "Quelle serait la probabilité de $P(A|B)$ ? Et celle de $P(B|A)$ ?\n",
    "<br/> Rappelez-vous ce qui a été dit à la section \"Visualisation des concepts\" concernant la mesure d'une probabilité conditionnelle.\n"
   ]
  },
  {
   "cell_type": "code",
   "execution_count": 52,
   "id": "80156064-6764-4eab-a156-6547ddc09f7c",
   "metadata": {
    "hide_input": true,
    "init_cell": true
   },
   "outputs": [],
   "source": [
    "dices = [\n",
    "    (widgets.Button(description=str(j+1), button_style='warning', layout=Layout(height='50px', width='30px')), \n",
    "    widgets.Button(description=str(i+1), button_style='success', layout=Layout(height='50px', width='30px'))) \n",
    "    for j in list(range(4)) for i in list(range(4))\n",
    "]\n",
    "\n",
    "all_elements = list(chain(*dices))\n",
    "\n",
    "\n",
    "univers = widgets.GridBox(children=all_elements,\n",
    "\n",
    "                layout=widgets.Layout(\n",
    "                                    width='100%',\n",
    "                                    grid_template_columns='30px auto 30px auto 30px auto 30px auto 30px auto 30px auto 30px auto ',\n",
    "                                    grid_template_rows='auto',\n",
    "                                    grid_gap='12px 2px')\n",
    "       )"
   ]
  },
  {
   "cell_type": "code",
   "execution_count": 53,
   "id": "7e8e8137",
   "metadata": {
    "hide_input": true,
    "init_cell": true
   },
   "outputs": [
    {
     "data": {
      "application/vnd.jupyter.widget-view+json": {
       "model_id": "5d8e5a905b9447d180187729b57f3834",
       "version_major": 2,
       "version_minor": 0
      },
      "text/plain": [
       "ToggleButtons(layout=Layout(height='auto', width='auto'), options=('Univers', 'A', 'B'), value=None)"
      ]
     },
     "metadata": {},
     "output_type": "display_data"
    },
    {
     "data": {
      "application/vnd.jupyter.widget-view+json": {
       "model_id": "00d62df79bc84743ab44f829026bfc8d",
       "version_major": 2,
       "version_minor": 0
      },
      "text/plain": [
       "Output(layout=Layout(border='1px solid black'))"
      ]
     },
     "metadata": {},
     "output_type": "display_data"
    }
   ],
   "source": [
    "toggle_1 = widgets.ToggleButtons(options=['Univers', 'A','B'],\n",
    "                      value=None,\n",
    "                     # description=\"Cliquez pour faire apparaître l'image\",\n",
    "                      layout=widgets.Layout(width='auto', height='auto')\n",
    "                     )\n",
    "\n",
    "out_1 = widgets.Output(layout=widgets.Layout(border = '1px solid black'))\n",
    " \n",
    "\n",
    "def image_change(change):\n",
    "    \n",
    "    with out_1:\n",
    "        if change['new'] == 'Univers':\n",
    "            out_1.clear_output(wait=True)\n",
    "            display(univers)\n",
    "            \n",
    "        if change['new'] == 'A':\n",
    "            out_1.clear_output(wait=True)\n",
    "            event_children = []\n",
    "            for index, children in enumerate(univers.children) :\n",
    "                #print('ok_2')\n",
    "                if children.description == \"3\" and children.button_style == 'warning':\n",
    "                    event_children.append(children)\n",
    "                    event_children.append(univers.children[index+1])\n",
    "\n",
    "                if children.description == \"3\" and children.button_style == 'success':\n",
    "                    event_children.append(children)\n",
    "                    event_children.append(univers.children[index+1])\n",
    "\n",
    "            event = widgets.GridBox(children=event_children,\n",
    "                               layout=widgets.Layout(\n",
    "                                   width='100%',\n",
    "                                   grid_template_columns='40px auto 40px auto 40px auto 40px auto 40px auto 40px auto 40px auto ',\n",
    "                                   grid_template_rows='auto',\n",
    "                                   grid_gap='12px 2px')\n",
    "                              )\n",
    "            display(event)\n",
    "       \n",
    "        if change['new'] == 'B':\n",
    "            out_1.clear_output(wait=True)\n",
    "            event_children = []\n",
    "            for index in list(range(0,32,2)):\n",
    "                if int(univers.children[index].description) + int(univers.children[index+1].description) == 5:\n",
    "                    event_children.append(univers.children[index])\n",
    "                    event_children.append(univers.children[index+1])\n",
    "\n",
    "            event = widgets.GridBox(children=event_children,\n",
    "                               layout=widgets.Layout(\n",
    "                                   width='100%',\n",
    "                                   grid_template_columns='40px auto 40px auto 40px auto 40px auto 40px auto 40px auto 40px auto ',\n",
    "                                   grid_template_rows='auto',\n",
    "                                   grid_gap='12px 2px')\n",
    "                              )\n",
    "            display(event)\n",
    "     \n",
    "\n",
    "toggle_1.observe(image_change, 'value')\n",
    "#hbox\n",
    "display(toggle_1)\n",
    "display(out_1)"
   ]
  },
  {
   "cell_type": "markdown",
   "id": "9de9864e",
   "metadata": {},
   "source": [
    "# Ex 26 b)\n",
    "\n",
    "Une école de 500 étudiants est formée de 52% de filles. On sait que 200 filles ainsi que deux tiers des garçons font du jogging. On choisit au hasard un étudiant et on considère les événements suivants :\n",
    "<br/><br/>\n",
    "G: l’étudiant choisi est un garçon\n",
    "<br/>\n",
    "J : l’étudiant choisi fait du jogging\n",
    "<br/><br/>\n",
    "b. En utilisant le format de réponse indiqué dans la consigne 2.0.1, calculez la probabilité que l’étudiant choisi…\n",
    "1. … fasse du jogging\n"
   ]
  },
  {
   "cell_type": "code",
   "execution_count": 54,
   "id": "fea04215",
   "metadata": {
    "hide_input": false,
    "init_cell": true
   },
   "outputs": [
    {
     "data": {
      "application/vnd.jupyter.widget-view+json": {
       "model_id": "bf248d2b3cea4e6f9213c1120f00d5bb",
       "version_major": 2,
       "version_minor": 0
      },
      "text/plain": [
       "HTML(value='Entrez votre réponse à la question 1 sous forme décimale')"
      ]
     },
     "metadata": {},
     "output_type": "display_data"
    },
    {
     "data": {
      "application/vnd.jupyter.widget-view+json": {
       "model_id": "c4b0149a4a4a458f86a286326976b418",
       "version_major": 2,
       "version_minor": 0
      },
      "text/plain": [
       "HBox(children=(Text(value='', description='Réponse', placeholder='Tapez ici'), Button(description='Soumettre',…"
      ]
     },
     "metadata": {},
     "output_type": "display_data"
    }
   ],
   "source": [
    "ex_26b_1 = Ex_frac(2,1)"
   ]
  },
  {
   "cell_type": "markdown",
   "id": "f2c4b000",
   "metadata": {},
   "source": [
    "2. … soit un garçon qui fait du jogging"
   ]
  },
  {
   "cell_type": "code",
   "execution_count": 55,
   "id": "f033aa38",
   "metadata": {
    "hide_input": false,
    "init_cell": true,
    "scrolled": true
   },
   "outputs": [
    {
     "data": {
      "application/vnd.jupyter.widget-view+json": {
       "model_id": "ba5a482c8eae4129b3ed8d432e75c605",
       "version_major": 2,
       "version_minor": 0
      },
      "text/plain": [
       "HTML(value='Entrez votre réponse à la question 2 sous forme décimale')"
      ]
     },
     "metadata": {},
     "output_type": "display_data"
    },
    {
     "data": {
      "application/vnd.jupyter.widget-view+json": {
       "model_id": "6d10d6d2749145c895571e930e8b2032",
       "version_major": 2,
       "version_minor": 0
      },
      "text/plain": [
       "HBox(children=(Text(value='', description='Réponse', placeholder='Tapez ici'), Button(description='Soumettre',…"
      ]
     },
     "metadata": {},
     "output_type": "display_data"
    }
   ],
   "source": [
    "ex_26b_2 = Ex_frac(2,2)"
   ]
  },
  {
   "cell_type": "markdown",
   "id": "60943417",
   "metadata": {},
   "source": [
    "3. … soit un garçon si on sait qu’il fait du jogging"
   ]
  },
  {
   "cell_type": "code",
   "execution_count": 56,
   "id": "c3a70ca3",
   "metadata": {
    "hide_input": false,
    "init_cell": true,
    "scrolled": false
   },
   "outputs": [
    {
     "data": {
      "application/vnd.jupyter.widget-view+json": {
       "model_id": "85d6ab88a5fc4c7d82f7984b6f526b79",
       "version_major": 2,
       "version_minor": 0
      },
      "text/plain": [
       "HTML(value='Entrez votre réponse à la question 3 sous forme décimale')"
      ]
     },
     "metadata": {},
     "output_type": "display_data"
    },
    {
     "data": {
      "application/vnd.jupyter.widget-view+json": {
       "model_id": "25f97d04bc3449499b0fa3d84535878f",
       "version_major": 2,
       "version_minor": 0
      },
      "text/plain": [
       "HBox(children=(Text(value='', description='Réponse', placeholder='Tapez ici'), Button(description='Soumettre',…"
      ]
     },
     "metadata": {},
     "output_type": "display_data"
    }
   ],
   "source": [
    "ex_26b_3 = Ex_frac(2,3)"
   ]
  },
  {
   "cell_type": "markdown",
   "id": "96a8fd83",
   "metadata": {},
   "source": [
    "4. … fasse du jogging si on sait qu’il s’agit d’un garçon"
   ]
  },
  {
   "cell_type": "code",
   "execution_count": 57,
   "id": "30ca2ea0",
   "metadata": {
    "hide_input": false,
    "init_cell": true,
    "scrolled": true
   },
   "outputs": [
    {
     "data": {
      "application/vnd.jupyter.widget-view+json": {
       "model_id": "8aa3b91475e8491c82791605d6937c3f",
       "version_major": 2,
       "version_minor": 0
      },
      "text/plain": [
       "HTML(value='Entrez votre réponse à la question 4 sous forme décimale')"
      ]
     },
     "metadata": {},
     "output_type": "display_data"
    },
    {
     "data": {
      "application/vnd.jupyter.widget-view+json": {
       "model_id": "f8da4badf1c542509e763d759dd4cdb2",
       "version_major": 2,
       "version_minor": 0
      },
      "text/plain": [
       "HBox(children=(Text(value='', description='Réponse', placeholder='Tapez ici'), Button(description='Soumettre',…"
      ]
     },
     "metadata": {},
     "output_type": "display_data"
    }
   ],
   "source": [
    "ex_26b_4 = Ex_frac(2,4)"
   ]
  },
  {
   "cell_type": "markdown",
   "id": "6559e532",
   "metadata": {},
   "source": [
    "# Ex 27 b)\n",
    "\n",
    "Une école compte 40% de garçons. Dans cette école, 30% des garçons fument et 25% des filles fument. On choisit un étudiant au hasard et on considère les événements suivants :\n",
    "<br/><br/>\n",
    "G : l’étudiant choisi est un garçon\n",
    "<br/>\n",
    "φ : l’étudiant choisi fume\n",
    "<br/><br/>\n",
    "b. En utilisant le format de réponse indiqué dans la consigne 2.0.1, calculez la probabilité que l’étudiant choisi…\n",
    "1. … soit une fille qui fume"
   ]
  },
  {
   "cell_type": "code",
   "execution_count": 58,
   "id": "4256bfd9",
   "metadata": {
    "hide_input": false,
    "init_cell": true
   },
   "outputs": [
    {
     "data": {
      "application/vnd.jupyter.widget-view+json": {
       "model_id": "c7b9ffda24dd477a929b5590ab73997d",
       "version_major": 2,
       "version_minor": 0
      },
      "text/plain": [
       "HTML(value='Entrez votre réponse à la question 1 sous forme décimale')"
      ]
     },
     "metadata": {},
     "output_type": "display_data"
    },
    {
     "data": {
      "application/vnd.jupyter.widget-view+json": {
       "model_id": "d3986e2cb2244455ae40621be09d125e",
       "version_major": 2,
       "version_minor": 0
      },
      "text/plain": [
       "HBox(children=(Text(value='', description='Réponse', placeholder='Tapez ici'), Button(description='Soumettre',…"
      ]
     },
     "metadata": {},
     "output_type": "display_data"
    }
   ],
   "source": [
    "ex_27b_1 = Ex_frac(3,1)\n"
   ]
  },
  {
   "cell_type": "markdown",
   "id": "b5454dfa",
   "metadata": {},
   "source": [
    "2. … soit une personne qui fume\n"
   ]
  },
  {
   "cell_type": "code",
   "execution_count": 59,
   "id": "4dc9d086",
   "metadata": {
    "hide_input": false,
    "init_cell": true
   },
   "outputs": [
    {
     "data": {
      "application/vnd.jupyter.widget-view+json": {
       "model_id": "5c99ba3363e94582b497142d719a3ede",
       "version_major": 2,
       "version_minor": 0
      },
      "text/plain": [
       "HTML(value='Entrez votre réponse à la question 2 sous forme décimale')"
      ]
     },
     "metadata": {},
     "output_type": "display_data"
    },
    {
     "data": {
      "application/vnd.jupyter.widget-view+json": {
       "model_id": "8955d79a17bc459780d7de7089f0643e",
       "version_major": 2,
       "version_minor": 0
      },
      "text/plain": [
       "HBox(children=(Text(value='', description='Réponse', placeholder='Tapez ici'), Button(description='Soumettre',…"
      ]
     },
     "metadata": {},
     "output_type": "display_data"
    }
   ],
   "source": [
    "ex_27b_2 = Ex_frac(3,2)"
   ]
  },
  {
   "cell_type": "markdown",
   "id": "94fbfaeb",
   "metadata": {},
   "source": [
    "3. … soit une fille ou une personne qui fume"
   ]
  },
  {
   "cell_type": "code",
   "execution_count": 60,
   "id": "348133aa",
   "metadata": {
    "hide_input": false,
    "init_cell": true,
    "scrolled": true
   },
   "outputs": [
    {
     "data": {
      "application/vnd.jupyter.widget-view+json": {
       "model_id": "26a3581d882040d1b2537976328bd9fe",
       "version_major": 2,
       "version_minor": 0
      },
      "text/plain": [
       "HTML(value='Entrez votre réponse à la question 3 sous forme décimale')"
      ]
     },
     "metadata": {},
     "output_type": "display_data"
    },
    {
     "data": {
      "application/vnd.jupyter.widget-view+json": {
       "model_id": "0c71d2c1871e474b9c6aeddf6b0dffff",
       "version_major": 2,
       "version_minor": 0
      },
      "text/plain": [
       "HBox(children=(Text(value='', description='Réponse', placeholder='Tapez ici'), Button(description='Soumettre',…"
      ]
     },
     "metadata": {},
     "output_type": "display_data"
    }
   ],
   "source": [
    "ex_27b_3 = Ex_frac(3,3)"
   ]
  },
  {
   "cell_type": "markdown",
   "id": "68a2c9ee",
   "metadata": {},
   "source": [
    "4. … soit une personne qui fume sachant qu’il s’agit d’une fille"
   ]
  },
  {
   "cell_type": "code",
   "execution_count": 61,
   "id": "e9ceaa44",
   "metadata": {
    "hide_input": false,
    "init_cell": true,
    "scrolled": true
   },
   "outputs": [
    {
     "data": {
      "application/vnd.jupyter.widget-view+json": {
       "model_id": "a4c258315c4a49408a774707f2dd227f",
       "version_major": 2,
       "version_minor": 0
      },
      "text/plain": [
       "HTML(value='Entrez votre réponse à la question 4 sous forme décimale')"
      ]
     },
     "metadata": {},
     "output_type": "display_data"
    },
    {
     "data": {
      "application/vnd.jupyter.widget-view+json": {
       "model_id": "e31dc535b71e4963a35d4b9ffa88e53c",
       "version_major": 2,
       "version_minor": 0
      },
      "text/plain": [
       "HBox(children=(Text(value='', description='Réponse', placeholder='Tapez ici'), Button(description='Soumettre',…"
      ]
     },
     "metadata": {},
     "output_type": "display_data"
    }
   ],
   "source": [
    "ex_27b_4 = Ex_frac(3,4)"
   ]
  },
  {
   "cell_type": "markdown",
   "id": "e9e24d26",
   "metadata": {},
   "source": [
    "5. … soit une fille sachant qu’il s’agit d’une personne qui fume"
   ]
  },
  {
   "cell_type": "code",
   "execution_count": 62,
   "id": "ccbafa4a",
   "metadata": {
    "hide_input": false,
    "init_cell": true,
    "scrolled": true
   },
   "outputs": [
    {
     "data": {
      "application/vnd.jupyter.widget-view+json": {
       "model_id": "fe66e0c972324532ba01a32986c7b7e4",
       "version_major": 2,
       "version_minor": 0
      },
      "text/plain": [
       "HTML(value='Entrez votre réponse à la question 5 sous forme décimale')"
      ]
     },
     "metadata": {},
     "output_type": "display_data"
    },
    {
     "data": {
      "application/vnd.jupyter.widget-view+json": {
       "model_id": "f9e8092f8b814463ad83b249cc80523e",
       "version_major": 2,
       "version_minor": 0
      },
      "text/plain": [
       "HBox(children=(Text(value='', description='Réponse', placeholder='Tapez ici'), Button(description='Soumettre',…"
      ]
     },
     "metadata": {},
     "output_type": "display_data"
    }
   ],
   "source": [
    "ex_27b_5 = Ex_frac(3,5)"
   ]
  },
  {
   "cell_type": "markdown",
   "id": "80001919",
   "metadata": {},
   "source": [
    "6. … soit un garçon sachant qu’il s’agit d’une personne qui ne fume pas"
   ]
  },
  {
   "cell_type": "code",
   "execution_count": 63,
   "id": "fc33267b",
   "metadata": {
    "hide_input": false,
    "init_cell": true,
    "scrolled": true
   },
   "outputs": [
    {
     "data": {
      "application/vnd.jupyter.widget-view+json": {
       "model_id": "c5c886dbf1814a92aafa9cb6d59a95a7",
       "version_major": 2,
       "version_minor": 0
      },
      "text/plain": [
       "HTML(value='Entrez votre réponse à la question 6 sous forme décimale')"
      ]
     },
     "metadata": {},
     "output_type": "display_data"
    },
    {
     "data": {
      "application/vnd.jupyter.widget-view+json": {
       "model_id": "411d980a35424ed1b9f3640b613a2ee9",
       "version_major": 2,
       "version_minor": 0
      },
      "text/plain": [
       "HBox(children=(Text(value='', description='Réponse', placeholder='Tapez ici'), Button(description='Soumettre',…"
      ]
     },
     "metadata": {},
     "output_type": "display_data"
    }
   ],
   "source": [
    "ex_27b_6 = Ex_frac(3,6)"
   ]
  },
  {
   "cell_type": "markdown",
   "id": "87e4bdb5",
   "metadata": {
    "hide_input": true
   },
   "source": [
    " **Complément pour l'exercice 27**\n",
    "\n",
    "\n",
    "Observervez comment les probabilités des intersections entre les événements G et φ changent en fonction de la probabilité de ceux-ci et de leurs conditions.\n",
    "\n",
    "L'axe horizontal représente $P(G)$ et $P( \\overline G) $ : dans l'univers de l'exercice, les éléments appartiennent nécessairement à l'événement $G$ ou $\\overline G$. La surface que $G$ ou $\\overline G$ occupent chacun sur le graphique représente donc leur probabilité.\n",
    "\n",
    "Aussi, dans cet univers, en plus d'être nécessairement $G$ ou $\\overline G$, un élément est nécessairement $\\phi$ ou $\\overline \\phi$. Ainsi, chacune des surface est subdivisée en deux parties correspondant à la \"vraissemblance\" de $\\phi$ et $\\overline \\phi$. Dans notre cas, la vraissemblance correspond à la chance d'observer que quelqu'un appartenant à $G$ ou $\\overline G$ fume.\n",
    "\n",
    "À partir de ces informations, comment calculeriez-vous $P(G|\\phi)$ ?\n",
    "\n",
    "Reprenez les données de l'exercice, puis observez comment votre résultat change en les faisant varier"
   ]
  },
  {
   "cell_type": "code",
   "execution_count": 64,
   "id": "37ddff2b",
   "metadata": {
    "hide_input": false,
    "init_cell": true
   },
   "outputs": [],
   "source": [
    "G = widgets.FloatSlider(min=0.01, max=0.99, step=0.01, value=0.5)\n",
    "G_label = widgets.Label(r\"$P(G)$\")\n",
    "w_1 = widgets.HBox([G_label, G])\n",
    "\n",
    "int_1 = widgets.FloatSlider(min=0, max=1, step=0.1, value=0.5)\n",
    "int_1_label = widgets.Label(r\"$P( \\varphi | G)$\")\n",
    "w_2 = widgets.HBox([int_1_label, int_1])\n",
    "\n",
    "int_2 = widgets.FloatSlider(min=0, max=1, step=0.1, value=0.5)\n",
    "int_2_label = widgets.Label(r\"$P( \\varphi | \\overline{\\rm G})$\")\n",
    "w_3 = widgets.HBox([int_2_label, int_2])\n",
    "\n",
    "ui = widgets.VBox([w_1, w_2, w_3])\n",
    "\n",
    "def test_cond_2(G, int_1, int_2):\n",
    "    \n",
    "    data = {\n",
    "    (r'$G$', r'$\\varphi$'): G*int_1 ,\n",
    "    (r'$G$',r'$\\overline{\\rm \\varphi}$'): G*(1-int_1) ,\n",
    "    (r'$\\overline{\\rm G}$', r'$\\varphi$') : (1-G)*int_2,\n",
    "    (r'$\\overline{\\rm G}$', r'$\\overline{\\rm \\varphi}$') : (1-G)*(1-int_2)\n",
    "    }\n",
    "\n",
    "    plt.rcParams[\"figure.figsize\"] = [12.00, 6]\n",
    "    plt.rcParams[\"figure.autolayout\"] = True\n",
    "    mosaic(data)\n",
    "    plt.show\n",
    "    "
   ]
  },
  {
   "cell_type": "code",
   "execution_count": 65,
   "id": "caca55a4",
   "metadata": {
    "hide_input": true,
    "init_cell": true
   },
   "outputs": [
    {
     "data": {
      "application/vnd.jupyter.widget-view+json": {
       "model_id": "f43ccf40eb244ed89db2b1b6cf095a09",
       "version_major": 2,
       "version_minor": 0
      },
      "text/plain": [
       "VBox(children=(HBox(children=(Label(value='$P(G)$'), FloatSlider(value=0.5, max=0.99, min=0.01, step=0.01))), …"
      ]
     },
     "metadata": {},
     "output_type": "display_data"
    },
    {
     "data": {
      "application/vnd.jupyter.widget-view+json": {
       "model_id": "7d44eee88ff2431ca72e5cdfb74706bb",
       "version_major": 2,
       "version_minor": 0
      },
      "text/plain": [
       "Output()"
      ]
     },
     "metadata": {},
     "output_type": "display_data"
    }
   ],
   "source": [
    "out = widgets.interactive_output(test_cond_2, {'G': G, 'int_1': int_1, 'int_2': int_2})\n",
    "\n",
    "display(ui, out)\n"
   ]
  },
  {
   "cell_type": "markdown",
   "id": "a5f1c0fa",
   "metadata": {},
   "source": [
    "# Feedback"
   ]
  },
  {
   "cell_type": "code",
   "execution_count": 66,
   "id": "dcc631ac",
   "metadata": {
    "init_cell": true
   },
   "outputs": [
    {
     "data": {
      "text/html": [
       "\n",
       "<iframe \n",
       "\tsrc=\"https://docs.google.com/forms/d/e/1FAIpQLSfz8plc4bHC97iCSl1RMPCgj8rkMf4lcsTWBTHRlsL7NITtJA/viewform?usp=sf_link\" \n",
       "\twidth=\"100%\" \n",
       "\theight=\"1200px\" \n",
       "\tframeborder=\"0\" \n",
       "\tmarginheight=\"0\" \n",
       "\tmarginwidth=\"0\">\n",
       "\tLoading...\n",
       "</iframe>\n"
      ],
      "text/plain": [
       "<IPython.core.display.HTML object>"
      ]
     },
     "execution_count": 66,
     "metadata": {},
     "output_type": "execute_result"
    }
   ],
   "source": [
    "from IPython.display import HTML\n",
    "HTML(\n",
    "\"\"\"\n",
    "<iframe \n",
    "\tsrc=\"https://docs.google.com/forms/d/e/1FAIpQLSfz8plc4bHC97iCSl1RMPCgj8rkMf4lcsTWBTHRlsL7NITtJA/viewform?usp=sf_link\" \n",
    "\twidth=\"100%\" \n",
    "\theight=\"1200px\" \n",
    "\tframeborder=\"0\" \n",
    "\tmarginheight=\"0\" \n",
    "\tmarginwidth=\"0\">\n",
    "\tLoading...\n",
    "</iframe>\n",
    "\"\"\"\n",
    ")"
   ]
  },
  {
   "cell_type": "code",
   "execution_count": null,
   "id": "79a1cb66",
   "metadata": {},
   "outputs": [],
   "source": []
  }
 ],
 "metadata": {
  "celltoolbar": "Initialization Cell",
  "hide_input": true,
  "kernelspec": {
   "display_name": "Python 3 (ipykernel)",
   "language": "python",
   "name": "python3"
  },
  "language_info": {
   "codemirror_mode": {
    "name": "ipython",
    "version": 3
   },
   "file_extension": ".py",
   "mimetype": "text/x-python",
   "name": "python",
   "nbconvert_exporter": "python",
   "pygments_lexer": "ipython3",
   "version": "3.9.6"
  },
  "toc": {
   "base_numbering": 1,
   "nav_menu": {},
   "number_sections": true,
   "sideBar": true,
   "skip_h1_title": false,
   "title_cell": "Table of Contents",
   "title_sidebar": "Contents",
   "toc_cell": false,
   "toc_position": {},
   "toc_section_display": true,
   "toc_window_display": true
  }
 },
 "nbformat": 4,
 "nbformat_minor": 5
}
