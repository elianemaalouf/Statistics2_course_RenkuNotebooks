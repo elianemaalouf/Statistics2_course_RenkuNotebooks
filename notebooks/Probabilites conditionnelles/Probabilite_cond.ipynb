{
 "cells": [
  {
   "cell_type": "code",
   "execution_count": 1,
   "id": "c25d53a0-ead0-4fbd-b779-edf28743cb31",
   "metadata": {
    "hide_input": false,
    "init_cell": true
   },
   "outputs": [],
   "source": [
    "import ipywidgets as widgets\n",
    "from ipywidgets import GridspecLayout, Button, Layout, AppLayout, ToggleButtons, interact, interactive, FloatSlider\n",
    "\n",
    "import sympy\n",
    "from sympy.functions.combinatorial.numbers import nC\n",
    "\n",
    "import numpy as np\n",
    "from itertools import combinations, chain, combinations_with_replacement\n",
    "import matplotlib.pyplot as plt\n",
    "from matplotlib_venn import venn2, venn3\n",
    "from statsmodels.graphics.mosaicplot import mosaic\n",
    "\n",
    "from IPython.display import display, clear_output, Image\n",
    "\n",
    "import pandas as pd\n",
    "from exercices import Ex_frac"
   ]
  },
  {
   "cell_type": "markdown",
   "id": "cf040d1d",
   "metadata": {},
   "source": [
    "# Rappels\n",
    "\n",
    "## 1. Probabilité conditionnelle:\n",
    "\n",
    "####  Dépendance :\n",
    "\n",
    "$ p(A|B) = \\frac {p(A \\cap B)}{p(B)}$\n",
    "\n",
    "\n",
    "$ p(B|A) = \\frac {p(A \\cap B)}{p(A)}$\n",
    "\n",
    "\n",
    "$p(A \\cap B) = p(A) \\cdot p(B|A) = p(B) \\cdot p(A|B)$\n",
    "\n",
    "\n",
    "####  Indépendance :\n",
    "\n",
    "$ p(A|B) = p(A) $\n",
    "\n",
    "\n",
    "$ p(A \\cap B) = p(A) \\cdot p(B)$\n"
   ]
  },
  {
   "cell_type": "markdown",
   "id": "082a9a7c",
   "metadata": {
    "hide_input": true
   },
   "source": [
    "# Visualisation des concepts\n",
    "\n",
    "Vous trouverez ci-dessous un diagramme de Venn dynamique permettant de visualiser les concepts de probabilité conditionelle et d'indépendance.\n",
    "\n",
    "Observez comment la probabilité des différents événements varie en fonction de la valeur de n (représentant la taille de l'intersection et qu'on peut modifier avec le curseur).\n",
    "\n",
    "Que constate-t-on ?\n",
    "\n",
    "La probabilité conditionelle d'événements correspond au rapport entre la taille de l'intersection de ces événements et la taille l'un de ces deux événements. Autrement dit, la probabilité conditionnelle de A sachant que B correspond au pourcentage de B occupé par l'intersection\n",
    "\n",
    "Enfin, il existe une valeur de n pour laquelle A et B sont indépendants. Pouvez vous la trouver ?\n",
    "\n"
   ]
  },
  {
   "cell_type": "code",
   "execution_count": 2,
   "id": "0aa7db62-8ff0-4c80-9062-5e4cbcb7d7c9",
   "metadata": {
    "hide_input": false,
    "init_cell": true
   },
   "outputs": [],
   "source": [
    "layout=Layout(width='20%', height='70px')\n",
    "caption_1 = widgets.Label(value= r'$P(A)= $', layout=layout)\n",
    "caption_1.style.font_size=1\n",
    "caption_2 = widgets.Label(value= r'$P(B)= $', layout=layout)\n",
    "caption_3 = widgets.Label(value= r'$P(A\\capB)= $', layout=layout)\n",
    "caption_4 = widgets.Label(value= r'$P(A|B)= $', layout=layout)\n",
    "caption_5 = widgets.Label(value= r'$P(B|A)= $', layout=layout)\n",
    "caption_6 = widgets.Label(value= r\"$Taille de l'univers: $\", layout=layout)\n",
    "\n",
    "\n",
    "\n",
    "def intersection_size_3(n):\n",
    "    \n",
    "    plt.rcParams[\"figure.figsize\"] = [12.00, 6]\n",
    "    plt.rcParams[\"figure.autolayout\"] = True\n",
    "    \n",
    "    venn3(subsets = (80, 0, 10-n, 0, 10-n, 0, n), \n",
    "          set_labels = ('Univers','B', 'A'))\n",
    "    intersection = n/100\n",
    "    prob_a = 10/100\n",
    "    prob_b = 10/100\n",
    "    \n",
    "   \n",
    "    prob_a_given_b = intersection/prob_b\n",
    "    prob_b_given_a = intersection/prob_a\n",
    "    \n",
    "        \n",
    "    caption_1.value = r'$P(A)= $'+str(round(prob_a, 3))\n",
    "    caption_2.value = r'$P(B)= $'+str(round(prob_b, 3))\n",
    "    caption_3.value = r'$P(A\\cap B)= $'+str(round(intersection, 3))\n",
    "    caption_4.value = r'$P(A|B)= $'+str(round(prob_a_given_b, 3))\n",
    "    caption_5.value = r'$P(B|A)= $'+str(round(prob_b_given_a, 3))\n",
    "    caption_6.value = r\"$\\text{Univers:} $\"+str(100)\n",
    "    \n",
    "    #out = widgets.Output(layout={\"border\":\"1px solid green\"})\n",
    "    #with out :\n",
    "     #   display('P(A)=',round(12/124, 2)),\n",
    "      #  display('P(B)=',round(12/124, 2))\n",
    "       # display('P(AnB)=', intersection)\n",
    "        #display('P(A|B)=', prob_a_given_b)\n"
   ]
  },
  {
   "cell_type": "code",
   "execution_count": 3,
   "id": "90da421d-d4d9-442b-b116-4130245d70ca",
   "metadata": {
    "hide_input": false,
    "init_cell": true
   },
   "outputs": [
    {
     "data": {
      "application/vnd.jupyter.widget-view+json": {
       "model_id": "13ffe24d8a0a447e837318aa699c245a",
       "version_major": 2,
       "version_minor": 0
      },
      "text/plain": [
       "interactive(children=(IntSlider(value=5, description='n', max=10), Output()), _dom_classes=('widget-interact',…"
      ]
     },
     "metadata": {},
     "output_type": "display_data"
    },
    {
     "data": {
      "application/vnd.jupyter.widget-view+json": {
       "model_id": "e88fb3ad7e364f69a5c03b924879ff69",
       "version_major": 2,
       "version_minor": 0
      },
      "text/plain": [
       "HBox(children=(Label(value='$P(A)= $0.1', layout=Layout(height='70px', width='20%')), Label(value='$P(B)= $0.1…"
      ]
     },
     "metadata": {},
     "output_type": "display_data"
    }
   ],
   "source": [
    "venn =interactive(intersection_size_3, n=(0,10,1))\n",
    "prob = widgets.HBox([caption_1, caption_2, caption_3, caption_4, caption_5, caption_6])\n",
    "\n",
    "display(venn,prob)\n"
   ]
  },
  {
   "cell_type": "markdown",
   "id": "4434a80f",
   "metadata": {},
   "source": [
    "### Consigne pour répondre aux exercices :\n",
    "\n",
    "Entrez vos réponses:\n",
    "1. Sous forme de décimale\n",
    "2. Avec un \".\" et non une \",\". \n",
    "3. Si votre réponse contient plus de 2 décimales, arrondissez à la seconde (i.e. 0.33333 -> 0.33 ; 0.336 -> 0.34 ; 0.335 -> 0.33):"
   ]
  },
  {
   "cell_type": "markdown",
   "id": "84c7241e",
   "metadata": {},
   "source": [
    "# Ex 24"
   ]
  },
  {
   "cell_type": "markdown",
   "id": "9c343498",
   "metadata": {},
   "source": [
    "On lance deux dés équilibrés. Quelle est la probabilité qu’au moins l’un d’entre eux montre 6, sachant que …\n",
    "<br/>a. … les deux chiffres obtenus sont différents ?"
   ]
  },
  {
   "cell_type": "code",
   "execution_count": 4,
   "id": "8350aafa",
   "metadata": {
    "hide_input": false,
    "init_cell": true
   },
   "outputs": [
    {
     "data": {
      "application/vnd.jupyter.widget-view+json": {
       "model_id": "b855f89c50f3437fb182381e2ab7ea7d",
       "version_major": 2,
       "version_minor": 0
      },
      "text/plain": [
       "HTML(value='Entrez votre réponse à la question 1 sous forme décimale')"
      ]
     },
     "metadata": {},
     "output_type": "display_data"
    },
    {
     "data": {
      "application/vnd.jupyter.widget-view+json": {
       "model_id": "2fb0912e654e46e2a4df21922a27378b",
       "version_major": 2,
       "version_minor": 0
      },
      "text/plain": [
       "HBox(children=(Text(value='', description='Réponse', placeholder='Tapez ici'), Button(description='Soumettre',…"
      ]
     },
     "metadata": {},
     "output_type": "display_data"
    }
   ],
   "source": [
    "ex_24_1 = Ex_frac(1,1)\n",
    "# Eliane note: we need to specify here how to round the decimal numbers: python will round up when the third decimal is >=6 \n",
    "# example: 0.336 -> 0.34 ; 0.335 -> 0.33 "
   ]
  },
  {
   "cell_type": "markdown",
   "id": "50276761",
   "metadata": {},
   "source": [
    "b. … la somme des deux est 7 ?\n"
   ]
  },
  {
   "cell_type": "code",
   "execution_count": 5,
   "id": "a1ba5315",
   "metadata": {
    "hide_input": false,
    "init_cell": true
   },
   "outputs": [
    {
     "data": {
      "application/vnd.jupyter.widget-view+json": {
       "model_id": "26706a638e40433d8e00d3ae7621c612",
       "version_major": 2,
       "version_minor": 0
      },
      "text/plain": [
       "HTML(value='Entrez votre réponse à la question 2 sous forme décimale')"
      ]
     },
     "metadata": {},
     "output_type": "display_data"
    },
    {
     "data": {
      "application/vnd.jupyter.widget-view+json": {
       "model_id": "fdc851bcb3674e21beacb0a6f893a5e9",
       "version_major": 2,
       "version_minor": 0
      },
      "text/plain": [
       "HBox(children=(Text(value='', description='Réponse', placeholder='Tapez ici'), Button(description='Soumettre',…"
      ]
     },
     "metadata": {},
     "output_type": "display_data"
    }
   ],
   "source": [
    "ex_24_2 = Ex_frac(1,2)"
   ]
  },
  {
   "cell_type": "markdown",
   "id": "c2a768ba",
   "metadata": {},
   "source": [
    "c. … la somme des deux est 10 ?"
   ]
  },
  {
   "cell_type": "code",
   "execution_count": 6,
   "id": "76d1f7aa",
   "metadata": {
    "hide_input": false,
    "init_cell": true
   },
   "outputs": [
    {
     "data": {
      "application/vnd.jupyter.widget-view+json": {
       "model_id": "a6d36fa9280c4e7c8c08656efe802508",
       "version_major": 2,
       "version_minor": 0
      },
      "text/plain": [
       "HTML(value='Entrez votre réponse à la question 3 sous forme décimale')"
      ]
     },
     "metadata": {},
     "output_type": "display_data"
    },
    {
     "data": {
      "application/vnd.jupyter.widget-view+json": {
       "model_id": "6f083a9fc4fc4daf8ea8b02df7549afa",
       "version_major": 2,
       "version_minor": 0
      },
      "text/plain": [
       "HBox(children=(Text(value='', description='Réponse', placeholder='Tapez ici'), Button(description='Soumettre',…"
      ]
     },
     "metadata": {},
     "output_type": "display_data"
    }
   ],
   "source": [
    "ex_24_3 = Ex_frac(1,3)"
   ]
  },
  {
   "cell_type": "markdown",
   "id": "cffd46a3",
   "metadata": {},
   "source": [
    "d. … la somme des deux est 11 ?"
   ]
  },
  {
   "cell_type": "code",
   "execution_count": 7,
   "id": "8617e29f",
   "metadata": {
    "hide_input": false,
    "init_cell": true
   },
   "outputs": [
    {
     "data": {
      "application/vnd.jupyter.widget-view+json": {
       "model_id": "6295f44d720943629604058b53d87dee",
       "version_major": 2,
       "version_minor": 0
      },
      "text/plain": [
       "HTML(value='Entrez votre réponse à la question 4 sous forme décimale')"
      ]
     },
     "metadata": {},
     "output_type": "display_data"
    },
    {
     "data": {
      "application/vnd.jupyter.widget-view+json": {
       "model_id": "bf985b30b0c041a992eaddd3eaff3723",
       "version_major": 2,
       "version_minor": 0
      },
      "text/plain": [
       "HBox(children=(Text(value='', description='Réponse', placeholder='Tapez ici'), Button(description='Soumettre',…"
      ]
     },
     "metadata": {},
     "output_type": "display_data"
    }
   ],
   "source": [
    "ex_24_4 = Ex_frac(1,4)"
   ]
  },
  {
   "cell_type": "markdown",
   "id": "2604ffc3",
   "metadata": {},
   "source": [
    "**Aide pour l'exercice 24**\n",
    "\n",
    "Pour soliciter les bonnes intutions, vous trouverez ci-dessous la représentation d'un univers consituté des tirages de deux dés à quatre faces. \n",
    "\n",
    "Rappelez vous de la procédure pour calculer la probabilité d'un événement :\n",
    "\n",
    "1. Mesurer la taille de l'univers   \n",
    "2. Mesurer celle de l'événement\n",
    "3. Calculer la taille relative de l'événement vis-à-vis de l'univers\n",
    "\n",
    "\n",
    "\n",
    "Considérons les deux événements suivants représentés ci-dessous :\n",
    "\n",
    "1. A : 'Le tirage contient au moins un 3\"\n",
    "2. B : \"La somme du tirage est égale à 5\"\n",
    "\n",
    "Quelle serait la probabilité de $P(A|B)$ ? Et celle de $P(B|A)$ ?\n",
    "<br/> Rappelez-vous ce qui a été dit à la section \"Visualisation des concepts\" concernant la mesure d'une probabilité conditionnelle.\n"
   ]
  },
  {
   "cell_type": "code",
   "execution_count": 8,
   "id": "80156064-6764-4eab-a156-6547ddc09f7c",
   "metadata": {
    "hide_input": true,
    "init_cell": true
   },
   "outputs": [],
   "source": [
    "dices = [\n",
    "    (widgets.Button(description=str(j+1), button_style='warning', layout=Layout(height='50px', width='30px')), \n",
    "    widgets.Button(description=str(i+1), button_style='success', layout=Layout(height='50px', width='30px'))) \n",
    "    for j in list(range(4)) for i in list(range(4))\n",
    "]\n",
    "\n",
    "all_elements = list(chain(*dices))\n",
    "\n",
    "\n",
    "univers = widgets.GridBox(children=all_elements,\n",
    "\n",
    "                layout=widgets.Layout(\n",
    "                                    width='100%',\n",
    "                                    grid_template_columns='30px auto 30px auto 30px auto 30px auto 30px auto 30px auto 30px auto ',\n",
    "                                    grid_template_rows='auto',\n",
    "                                    grid_gap='12px 2px')\n",
    "       )"
   ]
  },
  {
   "cell_type": "code",
   "execution_count": 9,
   "id": "7e8e8137",
   "metadata": {
    "hide_input": true,
    "init_cell": true
   },
   "outputs": [
    {
     "data": {
      "application/vnd.jupyter.widget-view+json": {
       "model_id": "ce29096e1ed5406ca7275bc0277d41f5",
       "version_major": 2,
       "version_minor": 0
      },
      "text/plain": [
       "ToggleButtons(layout=Layout(height='auto', width='auto'), options=('Univers', 'A', 'B'), value=None)"
      ]
     },
     "metadata": {},
     "output_type": "display_data"
    },
    {
     "data": {
      "application/vnd.jupyter.widget-view+json": {
       "model_id": "f5b9a6d2c7bf42dca003740182a1e049",
       "version_major": 2,
       "version_minor": 0
      },
      "text/plain": [
       "Output(layout=Layout(border='1px solid black'))"
      ]
     },
     "metadata": {},
     "output_type": "display_data"
    }
   ],
   "source": [
    "toggle_1 = widgets.ToggleButtons(options=['Univers', 'A','B'],\n",
    "                      value=None,\n",
    "                     # description=\"Cliquez pour faire apparaître l'image\",\n",
    "                      layout=widgets.Layout(width='auto', height='auto')\n",
    "                     )\n",
    "\n",
    "out_1 = widgets.Output(layout=widgets.Layout(border = '1px solid black'))\n",
    " \n",
    "\n",
    "def image_change(change):\n",
    "    \n",
    "    with out_1:\n",
    "        if change['new'] == 'Univers':\n",
    "            out_1.clear_output(wait=True)\n",
    "            display(univers)\n",
    "            \n",
    "        if change['new'] == 'A':\n",
    "            out_1.clear_output(wait=True)\n",
    "            event_children = []\n",
    "            for index, children in enumerate(univers.children) :\n",
    "                #print('ok_2')\n",
    "                if children.description == \"3\" and children.button_style == 'warning':\n",
    "                    event_children.append(children)\n",
    "                    event_children.append(univers.children[index+1])\n",
    "\n",
    "                if children.description == \"3\" and children.button_style == 'success':\n",
    "                    event_children.append(children)\n",
    "                    event_children.append(univers.children[index+1])\n",
    "\n",
    "            event = widgets.GridBox(children=event_children,\n",
    "                               layout=widgets.Layout(\n",
    "                                   width='100%',\n",
    "                                   grid_template_columns='40px auto 40px auto 40px auto 40px auto 40px auto 40px auto 40px auto ',\n",
    "                                   grid_template_rows='auto',\n",
    "                                   grid_gap='12px 2px')\n",
    "                              )\n",
    "            display(event)\n",
    "       \n",
    "        if change['new'] == 'B':\n",
    "            out_1.clear_output(wait=True)\n",
    "            event_children = []\n",
    "            for index in list(range(0,32,2)):\n",
    "                if int(univers.children[index].description) + int(univers.children[index+1].description) == 5:\n",
    "                    event_children.append(univers.children[index])\n",
    "                    event_children.append(univers.children[index+1])\n",
    "\n",
    "            event = widgets.GridBox(children=event_children,\n",
    "                               layout=widgets.Layout(\n",
    "                                   width='100%',\n",
    "                                   grid_template_columns='40px auto 40px auto 40px auto 40px auto 40px auto 40px auto 40px auto ',\n",
    "                                   grid_template_rows='auto',\n",
    "                                   grid_gap='12px 2px')\n",
    "                              )\n",
    "            display(event)\n",
    "     \n",
    "\n",
    "toggle_1.observe(image_change, 'value')\n",
    "#hbox\n",
    "display(toggle_1)\n",
    "display(out_1)"
   ]
  },
  {
   "cell_type": "markdown",
   "id": "9de9864e",
   "metadata": {},
   "source": [
    "# Ex 26 b)\n",
    "\n",
    "Une école de 500 étudiants est formée de 52% de filles. On sait que 200 filles ainsi que deux tiers des garçons font du jogging. On choisit au hasard un étudiant et on considère les événements suivants :\n",
    "<br/><br/>\n",
    "G: l’étudiant choisi est un garçon\n",
    "<br/>\n",
    "J : l’étudiant choisi fait du jogging\n",
    "<br/><br/>\n",
    "b. En utilisant le format de réponse indiqué dans la consigne 2.0.1, calculez la probabilité que l’étudiant choisi…\n",
    "1. … fasse du jogging\n"
   ]
  },
  {
   "cell_type": "code",
   "execution_count": 10,
   "id": "fea04215",
   "metadata": {
    "hide_input": false,
    "init_cell": true
   },
   "outputs": [
    {
     "data": {
      "application/vnd.jupyter.widget-view+json": {
       "model_id": "fcd0adc74ea542c9a3e2ee0a1a0ad33a",
       "version_major": 2,
       "version_minor": 0
      },
      "text/plain": [
       "HTML(value='Entrez votre réponse à la question 1 sous forme décimale')"
      ]
     },
     "metadata": {},
     "output_type": "display_data"
    },
    {
     "data": {
      "application/vnd.jupyter.widget-view+json": {
       "model_id": "641d383c7745405689c68f220d2b0f6b",
       "version_major": 2,
       "version_minor": 0
      },
      "text/plain": [
       "HBox(children=(Text(value='', description='Réponse', placeholder='Tapez ici'), Button(description='Soumettre',…"
      ]
     },
     "metadata": {},
     "output_type": "display_data"
    }
   ],
   "source": [
    "ex_26b_1 = Ex_frac(2,1)"
   ]
  },
  {
   "cell_type": "markdown",
   "id": "f2c4b000",
   "metadata": {},
   "source": [
    "2. … soit un garçon qui fait du jogging"
   ]
  },
  {
   "cell_type": "code",
   "execution_count": 11,
   "id": "f033aa38",
   "metadata": {
    "hide_input": false,
    "init_cell": true,
    "scrolled": true
   },
   "outputs": [
    {
     "data": {
      "application/vnd.jupyter.widget-view+json": {
       "model_id": "3e3e4ab6b13f4cefa74a389045b3cc87",
       "version_major": 2,
       "version_minor": 0
      },
      "text/plain": [
       "HTML(value='Entrez votre réponse à la question 2 sous forme décimale')"
      ]
     },
     "metadata": {},
     "output_type": "display_data"
    },
    {
     "data": {
      "application/vnd.jupyter.widget-view+json": {
       "model_id": "77f6830e464949afbd6401ba566e28d9",
       "version_major": 2,
       "version_minor": 0
      },
      "text/plain": [
       "HBox(children=(Text(value='', description='Réponse', placeholder='Tapez ici'), Button(description='Soumettre',…"
      ]
     },
     "metadata": {},
     "output_type": "display_data"
    }
   ],
   "source": [
    "ex_26b_2 = Ex_frac(2,2)"
   ]
  },
  {
   "cell_type": "markdown",
   "id": "60943417",
   "metadata": {},
   "source": [
    "3. … soit un garçon si on sait qu’il fait du jogging"
   ]
  },
  {
   "cell_type": "code",
   "execution_count": 12,
   "id": "c3a70ca3",
   "metadata": {
    "hide_input": false,
    "init_cell": true,
    "scrolled": false
   },
   "outputs": [
    {
     "data": {
      "application/vnd.jupyter.widget-view+json": {
       "model_id": "e5912ff166f34c689ce5a70e5b7144d6",
       "version_major": 2,
       "version_minor": 0
      },
      "text/plain": [
       "HTML(value='Entrez votre réponse à la question 3 sous forme décimale')"
      ]
     },
     "metadata": {},
     "output_type": "display_data"
    },
    {
     "data": {
      "application/vnd.jupyter.widget-view+json": {
       "model_id": "aea977dc81a548c19e074a8b060c6dec",
       "version_major": 2,
       "version_minor": 0
      },
      "text/plain": [
       "HBox(children=(Text(value='', description='Réponse', placeholder='Tapez ici'), Button(description='Soumettre',…"
      ]
     },
     "metadata": {},
     "output_type": "display_data"
    }
   ],
   "source": [
    "ex_26b_3 = Ex_frac(2,3)"
   ]
  },
  {
   "cell_type": "markdown",
   "id": "96a8fd83",
   "metadata": {},
   "source": [
    "4. … fasse du jogging si on sait qu’il s’agit d’un garçon"
   ]
  },
  {
   "cell_type": "code",
   "execution_count": 13,
   "id": "30ca2ea0",
   "metadata": {
    "hide_input": false,
    "init_cell": true,
    "scrolled": true
   },
   "outputs": [
    {
     "data": {
      "application/vnd.jupyter.widget-view+json": {
       "model_id": "9dc7c9b58fa048e094cf90d02f516001",
       "version_major": 2,
       "version_minor": 0
      },
      "text/plain": [
       "HTML(value='Entrez votre réponse à la question 4 sous forme décimale')"
      ]
     },
     "metadata": {},
     "output_type": "display_data"
    },
    {
     "data": {
      "application/vnd.jupyter.widget-view+json": {
       "model_id": "5e54c97a9c1446a88cf2e5a3af3fcbd5",
       "version_major": 2,
       "version_minor": 0
      },
      "text/plain": [
       "HBox(children=(Text(value='', description='Réponse', placeholder='Tapez ici'), Button(description='Soumettre',…"
      ]
     },
     "metadata": {},
     "output_type": "display_data"
    }
   ],
   "source": [
    "ex_26b_4 = Ex_frac(2,4)"
   ]
  },
  {
   "cell_type": "markdown",
   "id": "6559e532",
   "metadata": {},
   "source": [
    "# Ex 27 b)\n",
    "\n",
    "Une école compte 40% de garçons. Dans cette école, 30% des garçons fument et 25% des filles fument. On choisit un étudiant au hasard et on considère les événements suivants :\n",
    "<br/><br/>\n",
    "G : l’étudiant choisi est un garçon\n",
    "<br/>\n",
    "φ : l’étudiant choisi fume\n",
    "<br/><br/>\n",
    "b. En utilisant le format de réponse indiqué dans la consigne 2.0.1, calculez la probabilité que l’étudiant choisi…\n",
    "1. … soit une fille qui fume"
   ]
  },
  {
   "cell_type": "code",
   "execution_count": 14,
   "id": "4256bfd9",
   "metadata": {
    "hide_input": false,
    "init_cell": true
   },
   "outputs": [
    {
     "data": {
      "application/vnd.jupyter.widget-view+json": {
       "model_id": "8099197824dd4e90b65806adf622d671",
       "version_major": 2,
       "version_minor": 0
      },
      "text/plain": [
       "HTML(value='Entrez votre réponse à la question 1 sous forme décimale')"
      ]
     },
     "metadata": {},
     "output_type": "display_data"
    },
    {
     "data": {
      "application/vnd.jupyter.widget-view+json": {
       "model_id": "7a8d97afa8bc4b9eb008e7cd70db60ed",
       "version_major": 2,
       "version_minor": 0
      },
      "text/plain": [
       "HBox(children=(Text(value='', description='Réponse', placeholder='Tapez ici'), Button(description='Soumettre',…"
      ]
     },
     "metadata": {},
     "output_type": "display_data"
    }
   ],
   "source": [
    "ex_27b_1 = Ex_frac(3,1)\n"
   ]
  },
  {
   "cell_type": "markdown",
   "id": "b5454dfa",
   "metadata": {},
   "source": [
    "2. … soit une personne qui fume\n"
   ]
  },
  {
   "cell_type": "code",
   "execution_count": 15,
   "id": "4dc9d086",
   "metadata": {
    "hide_input": false,
    "init_cell": true
   },
   "outputs": [
    {
     "data": {
      "application/vnd.jupyter.widget-view+json": {
       "model_id": "d09bc3263dc342649cd0381a67f304e3",
       "version_major": 2,
       "version_minor": 0
      },
      "text/plain": [
       "HTML(value='Entrez votre réponse à la question 2 sous forme décimale')"
      ]
     },
     "metadata": {},
     "output_type": "display_data"
    },
    {
     "data": {
      "application/vnd.jupyter.widget-view+json": {
       "model_id": "b70d14367c364859a44fa19e331cbc3d",
       "version_major": 2,
       "version_minor": 0
      },
      "text/plain": [
       "HBox(children=(Text(value='', description='Réponse', placeholder='Tapez ici'), Button(description='Soumettre',…"
      ]
     },
     "metadata": {},
     "output_type": "display_data"
    }
   ],
   "source": [
    "ex_27b_2 = Ex_frac(3,2)"
   ]
  },
  {
   "cell_type": "markdown",
   "id": "94fbfaeb",
   "metadata": {},
   "source": [
    "3. … soit une fille ou une personne qui fume"
   ]
  },
  {
   "cell_type": "code",
   "execution_count": 16,
   "id": "348133aa",
   "metadata": {
    "hide_input": false,
    "init_cell": true,
    "scrolled": true
   },
   "outputs": [
    {
     "data": {
      "application/vnd.jupyter.widget-view+json": {
       "model_id": "e93689053b154044924cc4fe20c3a464",
       "version_major": 2,
       "version_minor": 0
      },
      "text/plain": [
       "HTML(value='Entrez votre réponse à la question 3 sous forme décimale')"
      ]
     },
     "metadata": {},
     "output_type": "display_data"
    },
    {
     "data": {
      "application/vnd.jupyter.widget-view+json": {
       "model_id": "5d5c3e8652604bba967dc3621c139dc9",
       "version_major": 2,
       "version_minor": 0
      },
      "text/plain": [
       "HBox(children=(Text(value='', description='Réponse', placeholder='Tapez ici'), Button(description='Soumettre',…"
      ]
     },
     "metadata": {},
     "output_type": "display_data"
    }
   ],
   "source": [
    "ex_27b_3 = Ex_frac(3,3)"
   ]
  },
  {
   "cell_type": "markdown",
   "id": "68a2c9ee",
   "metadata": {},
   "source": [
    "4. … soit une personne qui fume sachant qu’il s’agit d’une fille"
   ]
  },
  {
   "cell_type": "code",
   "execution_count": 17,
   "id": "e9ceaa44",
   "metadata": {
    "hide_input": false,
    "init_cell": true,
    "scrolled": true
   },
   "outputs": [
    {
     "data": {
      "application/vnd.jupyter.widget-view+json": {
       "model_id": "bde1dd03a9eb45c9b09278a41ecfdbba",
       "version_major": 2,
       "version_minor": 0
      },
      "text/plain": [
       "HTML(value='Entrez votre réponse à la question 4 sous forme décimale')"
      ]
     },
     "metadata": {},
     "output_type": "display_data"
    },
    {
     "data": {
      "application/vnd.jupyter.widget-view+json": {
       "model_id": "739668e8db0f441f9490c0cfd67fd004",
       "version_major": 2,
       "version_minor": 0
      },
      "text/plain": [
       "HBox(children=(Text(value='', description='Réponse', placeholder='Tapez ici'), Button(description='Soumettre',…"
      ]
     },
     "metadata": {},
     "output_type": "display_data"
    }
   ],
   "source": [
    "ex_27b_4 = Ex_frac(3,4)"
   ]
  },
  {
   "cell_type": "markdown",
   "id": "e9e24d26",
   "metadata": {},
   "source": [
    "5. … soit une fille sachant qu’il s’agit d’une personne qui fume"
   ]
  },
  {
   "cell_type": "code",
   "execution_count": 18,
   "id": "ccbafa4a",
   "metadata": {
    "hide_input": false,
    "init_cell": true,
    "scrolled": true
   },
   "outputs": [
    {
     "data": {
      "application/vnd.jupyter.widget-view+json": {
       "model_id": "1e7f9b672e0a4271be4e661c34def85d",
       "version_major": 2,
       "version_minor": 0
      },
      "text/plain": [
       "HTML(value='Entrez votre réponse à la question 5 sous forme décimale')"
      ]
     },
     "metadata": {},
     "output_type": "display_data"
    },
    {
     "data": {
      "application/vnd.jupyter.widget-view+json": {
       "model_id": "ed199c8e9e1b47ca8ae9fd1127e6a7d3",
       "version_major": 2,
       "version_minor": 0
      },
      "text/plain": [
       "HBox(children=(Text(value='', description='Réponse', placeholder='Tapez ici'), Button(description='Soumettre',…"
      ]
     },
     "metadata": {},
     "output_type": "display_data"
    }
   ],
   "source": [
    "ex_27b_5 = Ex_frac(3,5)"
   ]
  },
  {
   "cell_type": "markdown",
   "id": "80001919",
   "metadata": {},
   "source": [
    "6. … soit un garçon sachant qu’il s’agit d’une personne qui ne fume pas"
   ]
  },
  {
   "cell_type": "code",
   "execution_count": 19,
   "id": "fc33267b",
   "metadata": {
    "hide_input": false,
    "init_cell": true,
    "scrolled": true
   },
   "outputs": [
    {
     "data": {
      "application/vnd.jupyter.widget-view+json": {
       "model_id": "24a68f3ea6ee4baa8e4887ffa9aafa70",
       "version_major": 2,
       "version_minor": 0
      },
      "text/plain": [
       "HTML(value='Entrez votre réponse à la question 6 sous forme décimale')"
      ]
     },
     "metadata": {},
     "output_type": "display_data"
    },
    {
     "data": {
      "application/vnd.jupyter.widget-view+json": {
       "model_id": "75dc37fb512c481db1ca51e2c5784cca",
       "version_major": 2,
       "version_minor": 0
      },
      "text/plain": [
       "HBox(children=(Text(value='', description='Réponse', placeholder='Tapez ici'), Button(description='Soumettre',…"
      ]
     },
     "metadata": {},
     "output_type": "display_data"
    }
   ],
   "source": [
    "ex_27b_6 = Ex_frac(3,6)"
   ]
  },
  {
   "cell_type": "markdown",
   "id": "87e4bdb5",
   "metadata": {
    "hide_input": true
   },
   "source": [
    " **Complément pour l'exercice 27**\n",
    "\n",
    "\n",
    "Observervez comment les probabilités des intersections entre les événements G et φ changent en fonction de la probabilité de ceux-ci et de leurs conditions.\n",
    "\n",
    "L'axe horizontal représente $P(G)$ et $P( \\overline G) $ : dans l'univers de l'exercice, les éléments appartiennent nécessairement à l'événement $G$ ou $\\overline G$. La surface que $G$ ou $\\overline G$ occupent chacun sur le graphique représente donc leur probabilité.\n",
    "\n",
    "Aussi, dans cet univers, en plus d'être nécessairement $G$ ou $\\overline G$, un élément est nécessairement $\\phi$ ou $\\overline \\phi$. Ainsi, chacune des surface est subdivisée en deux parties correspondant à la \"vraissemblance\" de $\\phi$ et $\\overline \\phi$. Dans notre cas, la vraissemblance correspond à la chance d'observer que quelqu'un appartenant à $G$ ou $\\overline G$ fume.\n",
    "\n",
    "À partir de ces informations, comment calculeriez-vous $P(G|\\phi)$ ?\n",
    "\n",
    "Reprenez les données de l'exercice, puis observez comment votre résultat change en les faisant varier"
   ]
  },
  {
   "cell_type": "code",
   "execution_count": 20,
   "id": "37ddff2b",
   "metadata": {
    "hide_input": false,
    "init_cell": true
   },
   "outputs": [],
   "source": [
    "G = widgets.FloatSlider(min=0.01, max=0.99, step=0.01, value=0.5)\n",
    "G_label = widgets.Label(r\"$P(G)$\")\n",
    "w_1 = widgets.HBox([G_label, G])\n",
    "\n",
    "int_1 = widgets.FloatSlider(min=0, max=1, step=0.1, value=0.5)\n",
    "int_1_label = widgets.Label(r\"$P( \\varphi | G)$\")\n",
    "w_2 = widgets.HBox([int_1_label, int_1])\n",
    "\n",
    "int_2 = widgets.FloatSlider(min=0, max=1, step=0.1, value=0.5)\n",
    "int_2_label = widgets.Label(r\"$P( \\varphi | \\overline{\\rm G})$\")\n",
    "w_3 = widgets.HBox([int_2_label, int_2])\n",
    "\n",
    "ui = widgets.VBox([w_1, w_2, w_3])\n",
    "\n",
    "def test_cond_2(G, int_1, int_2):\n",
    "    \n",
    "    data = {\n",
    "    (r'$G$', r'$\\varphi$'): G*int_1 ,\n",
    "    (r'$G$',r'$\\overline{\\rm \\varphi}$'): G*(1-int_1) ,\n",
    "    (r'$\\overline{\\rm G}$', r'$\\varphi$') : (1-G)*int_2,\n",
    "    (r'$\\overline{\\rm G}$', r'$\\overline{\\rm \\varphi}$') : (1-G)*(1-int_2)\n",
    "    }\n",
    "\n",
    "    plt.rcParams[\"figure.figsize\"] = [12.00, 6]\n",
    "    plt.rcParams[\"figure.autolayout\"] = True\n",
    "    mosaic(data)\n",
    "    plt.show\n",
    "    "
   ]
  },
  {
   "cell_type": "code",
   "execution_count": 21,
   "id": "caca55a4",
   "metadata": {
    "hide_input": true,
    "init_cell": true
   },
   "outputs": [
    {
     "data": {
      "application/vnd.jupyter.widget-view+json": {
       "model_id": "f206afc028d84e89b32736fac2a840ba",
       "version_major": 2,
       "version_minor": 0
      },
      "text/plain": [
       "VBox(children=(HBox(children=(Label(value='$P(G)$'), FloatSlider(value=0.5, max=0.99, min=0.01, step=0.01))), …"
      ]
     },
     "metadata": {},
     "output_type": "display_data"
    },
    {
     "data": {
      "application/vnd.jupyter.widget-view+json": {
       "model_id": "60d9eb4675d8483d97e6a97a0b1e1a16",
       "version_major": 2,
       "version_minor": 0
      },
      "text/plain": [
       "Output()"
      ]
     },
     "metadata": {},
     "output_type": "display_data"
    }
   ],
   "source": [
    "out = widgets.interactive_output(test_cond_2, {'G': G, 'int_1': int_1, 'int_2': int_2})\n",
    "\n",
    "display(ui, out)\n"
   ]
  }
 ],
 "metadata": {
  "celltoolbar": "Initialization Cell",
  "hide_input": true,
  "kernelspec": {
   "display_name": "Python 3 (ipykernel)",
   "language": "python",
   "name": "python3"
  },
  "language_info": {
   "codemirror_mode": {
    "name": "ipython",
    "version": 3
   },
   "file_extension": ".py",
   "mimetype": "text/x-python",
   "name": "python",
   "nbconvert_exporter": "python",
   "pygments_lexer": "ipython3",
   "version": "3.9.6"
  },
  "toc": {
   "base_numbering": 1,
   "nav_menu": {},
   "number_sections": true,
   "sideBar": true,
   "skip_h1_title": false,
   "title_cell": "Table of Contents",
   "title_sidebar": "Contents",
   "toc_cell": false,
   "toc_position": {},
   "toc_section_display": true,
   "toc_window_display": true
  }
 },
 "nbformat": 4,
 "nbformat_minor": 5
}
